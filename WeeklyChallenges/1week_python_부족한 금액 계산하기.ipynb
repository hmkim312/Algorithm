{
 "cells": [
  {
   "cell_type": "markdown",
   "metadata": {},
   "source": [
    "## 부족한 금액 계산하기\n",
    "\n",
    "URL : <https://programmers.co.kr/learn/courses/30/lessons/82612>{:target=\"_blank\"}\n",
    "\n",
    "### 문제 설명\n",
    "- 새로 생긴 놀이기구는 인기가 매우 많아 줄이 끊이질 않습니다. 이 놀이기구의 원래 이용료는 price원 인데, 놀이기구를 N 번 째 이용한다면 원래 이용료의 N배를 받기로 하였습니다. 즉, 처음 이용료가 100이었다면 2번째에는 200, 3번째에는 300으로 요금이 인상됩니다.\n",
    "- 놀이기구를 count번 타게 되면 현재 자신이 가지고 있는 금액에서 얼마가 모자라는지를 return 하도록 solution 함수를 완성하세요.\n",
    "- 단, 금액이 부족하지 않으면 0을 return 하세요.\n",
    "\n",
    "### 제한사항\n",
    "- 놀이기구의 이용료 price : 1 ≤ price ≤ 2,500, price는 자연수\n",
    "- 처음 가지고 있던 금액 money : 1 ≤ money ≤ 1,000,000,000, money는 자연수\n",
    "- 놀이기구의 이용 횟수 count : 1 ≤ count ≤ 2,500, count는 자연수\n",
    "\n",
    "### 입출력 예\n",
    "|price|money|count|result|\n",
    "|---|---|---|---|\n",
    "|3|20|4|10|\n",
    "\n",
    "### 입출력 예 설명\n",
    "- 입출력 예 #1\n",
    "- 이용금액이 3인 놀이기구를 4번 타고 싶은 고객이 현재 가진 금액이 20이라면, 총 필요한 놀이기구의 이용 금액은 30 (= 3+6+9+12) 이 되어 10만큼 부족하므로 10을 return 합니다.\n",
    "\n",
    "### 문제풀이\n",
    "- conunt만큼 for문을 돌면서 total price를 더하고, 이를 money에서 뺴게 만들었다.\n",
    "- 만약 total price가 money보다 작으면 0을 return하게 하고, 아니라면 total price에서 money를 뺀 값을 return하게 하였다."
   ]
  },
  {
   "cell_type": "code",
   "execution_count": 10,
   "metadata": {
    "execution": {
     "iopub.execute_input": "2021-09-03T02:34:08.998068Z",
     "iopub.status.busy": "2021-09-03T02:34:08.997848Z",
     "iopub.status.idle": "2021-09-03T02:34:09.001829Z",
     "shell.execute_reply": "2021-09-03T02:34:09.001032Z",
     "shell.execute_reply.started": "2021-09-03T02:34:08.998045Z"
    }
   },
   "outputs": [],
   "source": [
    "def solution(price, money, count):\n",
    "    answer = 0\n",
    "    total_price = 0\n",
    "    \n",
    "    for i in range(0,count):\n",
    "        total_price += price * (i+1)\n",
    "        \n",
    "    if total_price <= money:\n",
    "        return answer\n",
    "    else:\n",
    "        answer = total_price - money   \n",
    "        return answer"
   ]
  },
  {
   "cell_type": "code",
   "execution_count": 11,
   "metadata": {
    "execution": {
     "iopub.execute_input": "2021-09-03T02:36:58.162548Z",
     "iopub.status.busy": "2021-09-03T02:36:58.162318Z",
     "iopub.status.idle": "2021-09-03T02:36:58.166912Z",
     "shell.execute_reply": "2021-09-03T02:36:58.166274Z",
     "shell.execute_reply.started": "2021-09-03T02:36:58.162524Z"
    }
   },
   "outputs": [
    {
     "data": {
      "text/plain": [
       "10"
      ]
     },
     "execution_count": 11,
     "metadata": {},
     "output_type": "execute_result"
    }
   ],
   "source": [
    "price = 3\n",
    "money = 20\n",
    "count = 4\n",
    "solution(price, money, count)"
   ]
  }
 ],
 "metadata": {
  "kernelspec": {
   "display_name": "Python 3",
   "language": "python",
   "name": "python3"
  },
  "language_info": {
   "codemirror_mode": {
    "name": "ipython",
    "version": 3
   },
   "file_extension": ".py",
   "mimetype": "text/x-python",
   "name": "python",
   "nbconvert_exporter": "python",
   "pygments_lexer": "ipython3",
   "version": "3.8.3"
  }
 },
 "nbformat": 4,
 "nbformat_minor": 4
}
