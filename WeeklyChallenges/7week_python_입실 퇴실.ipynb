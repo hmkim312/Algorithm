{
 "cells": [
  {
   "cell_type": "markdown",
   "metadata": {},
   "source": [
    "URL : <https://programmers.co.kr/learn/courses/30/lessons/86048>{:target=\"_blank\"}\n",
    "\n",
    "#### 문제 설명\n",
    "- 사회적 거리두기를 위해 회의실에 출입할 때 명부에 이름을 적어야 합니다. 입실과 퇴실이 동시에 이뤄지는 경우는 없으며, 입실 시각과 퇴실 시각은 따로 기록하지 않습니다.\n",
    "- 오늘 회의실에는 총 n명이 입실 후 퇴실했습니다. 편의상 사람들은 1부터 n까지 번호가 하나씩 붙어있으며, 두 번 이상 회의실에 들어온 사람은 없습니다. 이때, 각 사람별로 반드시 만난 사람은 몇 명인지 구하려 합니다.\n",
    "- 예를 들어 입실 명부에 기재된 순서가 [1, 3, 2], 퇴실 명부에 기재된 순서가 [1, 2, 3]인 경우,\n",
    "    - 1번과 2번은 만났는지 알 수 없습니다.\n",
    "    - 1번과 3번은 만났는지 알 수 없습니다.\n",
    "    - 2번과 3번은 반드시 만났습니다.\n",
    "- 또 다른 예로 입실 순서가 [1, 4, 2, 3], 퇴실 순서가 [2, 1, 3, 4]인 경우,\n",
    "    - 1번과 2번은 반드시 만났습니다.\n",
    "    - 1번과 3번은 만났는지 알 수 없습니다.\n",
    "    - 1번과 4번은 반드시 만났습니다.\n",
    "    - 2번과 3번은 만났는지 알 수 없습니다.\n",
    "    - 2번과 4번은 반드시 만났습니다.\n",
    "    - 3번과 4번은 반드시 만났습니다.\n",
    "- 회의실에 입실한 순서가 담긴 정수 배열 enter, 퇴실한 순서가 담긴 정수 배열 leave가 매개변수로 주어질 때, 각 사람별로 반드시 만난 사람은 몇 명인지 번호 순서대로 배열에 담아 return 하도록 solution 함수를 완성해주세요.\n",
    "\n",
    "#### 제한사항\n",
    "- 1 ≤ enter의 길이 ≤ 1,000\n",
    "- 1 ≤ enter의 원소 ≤ enter의 길이\n",
    "- 모든 사람의 번호가 중복없이 하나씩 들어있습니다.\n",
    "- leave의 길이 = enter의 길이\n",
    "- 1 ≤ leave의 원소 ≤ leave의 길이\n",
    "- 모든 사람의 번호가 중복없이 하나씩 들어있습니다.\n",
    "\n",
    "#### 문제풀이\n",
    "- enter의 key를 가지는 dict를 생성\n",
    "- 출입을 확인할 room이라는 빈 리스트를 생성\n",
    "- 떠난 사람 목록을 for문을 돌면서 들어온 사람을 room리스트에 넣는다.\n",
    "- 이후 떠난 사람이 room에 들어오면 room에서 사람을 내보낸뒤(remove), answer의 key값에 +1을 해준다\n",
    "- 마지막으로 떠난 사람도 남아있는 모든 사람과 만난것이므로, room에 남아있는 사람만큼 값을 더해준다.\n",
    "- dict 형태로 되어있기 때문에 sorted를 활용해서 번호 순으로 정렬하며, 해당 번호의 사람이 만난 사람수를 result로 출력해준다.\n",
    "- 사실 answer를 dict로 생각해서 마지막에 sorted를 하는데, 이것보다 answer를 그냥 list로 만들고, 해당 인원순서를 idx로 하는 방식이 더 나을것 같다."
   ]
  },
  {
   "cell_type": "code",
   "execution_count": 271,
   "metadata": {
    "execution": {
     "iopub.execute_input": "2021-09-27T03:43:04.198254Z",
     "iopub.status.busy": "2021-09-27T03:43:04.198040Z",
     "iopub.status.idle": "2021-09-27T03:43:04.203406Z",
     "shell.execute_reply": "2021-09-27T03:43:04.202768Z",
     "shell.execute_reply.started": "2021-09-27T03:43:04.198231Z"
    }
   },
   "outputs": [],
   "source": [
    "def solution(enter, leave):\n",
    "    answer = dict.fromkeys(enter,0)\n",
    "    room = []\n",
    "    enter_idx = 0\n",
    "\n",
    "\n",
    "    for l in leave:\n",
    "\n",
    "        while l not in room:\n",
    "            room.append(enter[enter_idx])\n",
    "            enter_idx += 1\n",
    "\n",
    "        room.remove(l)\n",
    "        for p in room:\n",
    "            answer[p] +=1\n",
    "        answer[l] += len(room)\n",
    "\n",
    "    temp = sorted(answer.items(), key= lambda items : items[0])\n",
    "    results = list(map(lambda x : x[1], temp))\n",
    "    return results"
   ]
  },
  {
   "cell_type": "code",
   "execution_count": 273,
   "metadata": {
    "execution": {
     "iopub.execute_input": "2021-09-27T03:43:06.397597Z",
     "iopub.status.busy": "2021-09-27T03:43:06.397378Z",
     "iopub.status.idle": "2021-09-27T03:43:06.401647Z",
     "shell.execute_reply": "2021-09-27T03:43:06.401107Z",
     "shell.execute_reply.started": "2021-09-27T03:43:06.397574Z"
    }
   },
   "outputs": [
    {
     "data": {
      "text/plain": [
       "[0, 1, 1]"
      ]
     },
     "execution_count": 273,
     "metadata": {},
     "output_type": "execute_result"
    }
   ],
   "source": [
    "enter = [1, 3, 2]\n",
    "leave = [1, 2, 3]\n",
    "solution(enter, leave)"
   ]
  },
  {
   "cell_type": "code",
   "execution_count": 274,
   "metadata": {
    "execution": {
     "iopub.execute_input": "2021-09-27T03:43:15.804924Z",
     "iopub.status.busy": "2021-09-27T03:43:15.804709Z",
     "iopub.status.idle": "2021-09-27T03:43:15.809539Z",
     "shell.execute_reply": "2021-09-27T03:43:15.808797Z",
     "shell.execute_reply.started": "2021-09-27T03:43:15.804901Z"
    }
   },
   "outputs": [
    {
     "data": {
      "text/plain": [
       "[2, 2, 1, 3]"
      ]
     },
     "execution_count": 274,
     "metadata": {},
     "output_type": "execute_result"
    }
   ],
   "source": [
    "enter = [1, 4, 2, 3]\n",
    "leave = [2, 1, 3, 4]\n",
    "solution(enter, leave)"
   ]
  },
  {
   "cell_type": "code",
   "execution_count": 275,
   "metadata": {
    "execution": {
     "iopub.execute_input": "2021-09-27T03:43:27.583515Z",
     "iopub.status.busy": "2021-09-27T03:43:27.583298Z",
     "iopub.status.idle": "2021-09-27T03:43:27.587994Z",
     "shell.execute_reply": "2021-09-27T03:43:27.587387Z",
     "shell.execute_reply.started": "2021-09-27T03:43:27.583492Z"
    }
   },
   "outputs": [
    {
     "data": {
      "text/plain": [
       "[1, 1, 2]"
      ]
     },
     "execution_count": 275,
     "metadata": {},
     "output_type": "execute_result"
    }
   ],
   "source": [
    "enter = [3, 2, 1]\n",
    "leave = [2, 1, 3]\n",
    "solution(enter, leave)"
   ]
  },
  {
   "cell_type": "code",
   "execution_count": 276,
   "metadata": {
    "execution": {
     "iopub.execute_input": "2021-09-27T03:43:43.055371Z",
     "iopub.status.busy": "2021-09-27T03:43:43.055156Z",
     "iopub.status.idle": "2021-09-27T03:43:43.060150Z",
     "shell.execute_reply": "2021-09-27T03:43:43.059328Z",
     "shell.execute_reply.started": "2021-09-27T03:43:43.055348Z"
    }
   },
   "outputs": [
    {
     "data": {
      "text/plain": [
       "[2, 2, 2]"
      ]
     },
     "execution_count": 276,
     "metadata": {},
     "output_type": "execute_result"
    }
   ],
   "source": [
    "enter = [3, 2, 1]\n",
    "leave = [1, 3, 2]\n",
    "solution(enter, leave)"
   ]
  },
  {
   "cell_type": "code",
   "execution_count": 277,
   "metadata": {
    "execution": {
     "iopub.execute_input": "2021-09-27T03:43:50.536597Z",
     "iopub.status.busy": "2021-09-27T03:43:50.536373Z",
     "iopub.status.idle": "2021-09-27T03:43:50.541140Z",
     "shell.execute_reply": "2021-09-27T03:43:50.540540Z",
     "shell.execute_reply.started": "2021-09-27T03:43:50.536574Z"
    }
   },
   "outputs": [
    {
     "data": {
      "text/plain": [
       "[2, 2, 0, 2]"
      ]
     },
     "execution_count": 277,
     "metadata": {},
     "output_type": "execute_result"
    }
   ],
   "source": [
    "enter = [1, 4, 2, 3]\n",
    "leave = [2, 1, 4, 3]\n",
    "solution(enter, leave)"
   ]
  }
 ],
 "metadata": {
  "kernelspec": {
   "display_name": "Python 3",
   "language": "python",
   "name": "python3"
  },
  "language_info": {
   "codemirror_mode": {
    "name": "ipython",
    "version": 3
   },
   "file_extension": ".py",
   "mimetype": "text/x-python",
   "name": "python",
   "nbconvert_exporter": "python",
   "pygments_lexer": "ipython3",
   "version": "3.8.3"
  }
 },
 "nbformat": 4,
 "nbformat_minor": 4
}
