{
 "cells": [
  {
   "cell_type": "markdown",
   "metadata": {},
   "source": [
    "### 문제 설명\n",
    "- 대학 교수인 당신은, 상호평가를 통하여 학생들이 제출한 과제물에 학점을 부여하려고 합니다. 아래는 0번부터 4번까지 번호가 매겨진 5명의 학생들이 자신과 다른 학생의 과제를 평가한 점수표입니다.\n",
    "\n",
    "|No.|0|1|2|3|4|\n",
    "|---|---|---|---|---|---|\n",
    "|0|100|90|98|88|65|\n",
    "|1|50|45|99|85|77|\n",
    "|2|47|88|95|80|67|\n",
    "|3|61|57|100|80|65|\n",
    "|4|24|90|94|75|65|\n",
    "|평균|45.5|81.25|97.2|81.6|67.8|\n",
    "|학점|F|B|A|B|D|\n",
    "\n",
    "- 위의 점수표에서, i행 j열의 값은 i번 학생이 평가한 j번 학생의 과제 점수입니다.\n",
    "- 0번 학생이 평가한 점수는 0번 행에담긴 [100, 90, 98, 88, 65]입니다.\n",
    "- 0번 학생은 자기 자신에게 100점, 1번 학생에게 90점, 2번 학생에게 98점, 3번 학생에게 88점, 4번 학생에게 65점을 부여했습니다.\n",
    "- 2번 학생이 평가한 점수는 2번 행에담긴 [47, 88, 95, 80, 67]입니다.\n",
    "- 2번 학생은 0번 학생에게 47점, 1번 학생에게 88점, 자기 자신에게 95점, 3번 학생에게 80점, 4번 학생에게 67점을 부여했습니다.\n",
    "- 당신은 각 학생들이 받은 점수의 평균을 구하여, 기준에 따라 학점을 부여하려고 합니다.\n",
    "- 만약, 학생들이 자기 자신을 평가한 점수가 유일한 최고점 또는 유일한 최저점이라면 그 점수는 제외하고 평균을 구합니다.\n",
    "\n",
    "- 0번 학생이 받은 점수는 0번 열에 담긴 [100, 50, 47, 61, 24]입니다. 자기 자신을 평가한 100점은 자신이 받은 점수 중에서 유일한 최고점이므로, 평균을 구할 때 제외합니다.\n",
    "- 0번 학생의 평균 점수는 (50+47+61+24) / 4 = 45.5입니다.\n",
    "- 4번 학생이 받은 점수는 4번 열에 담긴 [65, 77, 67, 65, 65]입니다. 자기 자신을 평가한 65점은 자신이 받은 점수 중에서 최저점이지만 같은 점수가 2개 더 있으므로, 유일한 최저점이 아닙니다. 따라서, 평균을 구할 때 제외하지 않습니다.\n",
    "- 4번 학생의 평균 점수는 (65+77+67+65+65) / 5 = 67.8입니다.\n",
    "- 제외할 점수는 제외하고 평균을 구한 후, 아래 기준에 따라 학점을 부여합니다.\n",
    "\n",
    "|평균|학점|\n",
    "|---|---|\n",
    "|90점 이상|\tA\n",
    "|80점 이상 90점 미만|\tB\n",
    "|70점 이상 80점 미만|\tC\n",
    "|50점 이상 70점 미만|\tD\n",
    "|50점 미만|\tF\n",
    "\n",
    "- 학생들의 점수가 담긴 정수형 2차원 배열 scores가 매개변수로 주어집니다. 이때, 학생들의 학점을 구하여 하나의 문자열로 만들어서 return 하도록 solution 함수를 완성해주세요.\n",
    "\n",
    "### 제한사항\n",
    "- 2 ≤ scores의 행의 길이(학생 수) ≤ 10\n",
    "- scores의 열의 길이 = scores의 행의 길이\n",
    "- 즉, scores는 행과 열의 길이가 같은 2차원 배열입니다.\n",
    "- 0 ≤ scores의 원소 ≤ 100\n",
    "- return 값 형식\n",
    "- 0번 학생의 학점부터 차례대로 이어 붙인 하나의 문자열을 return 합니다.\n",
    "\n",
    "### 문제풀이\n",
    "- make_new_scores : 주어진 score를 자신의 score로 변환 (매트릭스로 치면 transform함)\n",
    "- make_means : 나의 점수의 평균을 구함, 여기서 내가 나에게 준 점수가 중복으로 있다면 그대로 평균을내고, 최고점수이거나 최저점수이면 제외하고 평균을 계산\n",
    "- make_grades : 평균점수에 따른 ABCDF 학점을 만듬\n",
    "- solution : 위의 함수들을 실행하는 함수"
   ]
  },
  {
   "cell_type": "code",
   "execution_count": 145,
   "metadata": {
    "execution": {
     "iopub.execute_input": "2021-09-03T05:56:49.384546Z",
     "iopub.status.busy": "2021-09-03T05:56:49.384363Z",
     "iopub.status.idle": "2021-09-03T05:56:49.391926Z",
     "shell.execute_reply": "2021-09-03T05:56:49.391426Z",
     "shell.execute_reply.started": "2021-09-03T05:56:49.384527Z"
    }
   },
   "outputs": [],
   "source": [
    "def make_new_scores(scores):\n",
    "    return [[score[i] for score in scores] for i in range(0,len(scores))]\n",
    "\n",
    "def make_means(new_scores):\n",
    "    score_means = []\n",
    "    for idx, score in enumerate(new_scores):\n",
    "\n",
    "        my_score = score[idx]\n",
    "        score_counts = score.count(my_score)\n",
    "\n",
    "        if score_counts != 1:\n",
    "            score_mean = sum(score) / len(score)\n",
    "            score_means.append(score_mean)\n",
    "\n",
    "        else:\n",
    "            max_score = max(score)\n",
    "            min_score = min(score)\n",
    "\n",
    "            if min_score == my_score or max_score == my_score:\n",
    "                score.remove(my_score)\n",
    "                score_mean = sum(score) / len(score)\n",
    "                score_means.append(score_mean)\n",
    "\n",
    "            else:\n",
    "                score_mean = sum(score) / len(score)\n",
    "                score_means.append(score_mean)\n",
    "    return score_means\n",
    "\n",
    "def make_grades(scores):\n",
    "    answer = ''\n",
    "    for i in scores:\n",
    "        if i >= 90:\n",
    "            answer += 'A'\n",
    "        elif 80 <= i < 90:\n",
    "            answer += 'B'\n",
    "        elif 70 <= i < 80:\n",
    "            answer += 'C'\n",
    "        elif 50 <= i < 70:\n",
    "            answer += 'D'\n",
    "        else:\n",
    "            answer += 'F'\n",
    "    return answer\n",
    "\n",
    "def solution(scores):\n",
    "    new_scores = make_new_scores(scores)\n",
    "    score_means = make_means(new_scores)\n",
    "    return make_grades(score_means)"
   ]
  },
  {
   "cell_type": "code",
   "execution_count": 146,
   "metadata": {
    "execution": {
     "iopub.execute_input": "2021-09-03T05:56:50.338643Z",
     "iopub.status.busy": "2021-09-03T05:56:50.338433Z",
     "iopub.status.idle": "2021-09-03T05:56:50.343430Z",
     "shell.execute_reply": "2021-09-03T05:56:50.342856Z",
     "shell.execute_reply.started": "2021-09-03T05:56:50.338621Z"
    }
   },
   "outputs": [
    {
     "data": {
      "text/plain": [
       "'FBABD'"
      ]
     },
     "execution_count": 146,
     "metadata": {},
     "output_type": "execute_result"
    }
   ],
   "source": [
    "scores = [[100,90,98,88,65],[50,45,99,85,77],[47,88,95,80,67],[61,57,100,80,65],[24,90,94,75,65]]\n",
    "solution(scores)"
   ]
  },
  {
   "cell_type": "code",
   "execution_count": 147,
   "metadata": {
    "execution": {
     "iopub.execute_input": "2021-09-03T05:56:50.518687Z",
     "iopub.status.busy": "2021-09-03T05:56:50.518473Z",
     "iopub.status.idle": "2021-09-03T05:56:50.522570Z",
     "shell.execute_reply": "2021-09-03T05:56:50.522058Z",
     "shell.execute_reply.started": "2021-09-03T05:56:50.518663Z"
    }
   },
   "outputs": [
    {
     "data": {
      "text/plain": [
       "'DA'"
      ]
     },
     "execution_count": 147,
     "metadata": {},
     "output_type": "execute_result"
    }
   ],
   "source": [
    "scores = [[50,90],[50,87]]\n",
    "solution(scores)"
   ]
  },
  {
   "cell_type": "code",
   "execution_count": 148,
   "metadata": {
    "execution": {
     "iopub.execute_input": "2021-09-03T05:56:50.690824Z",
     "iopub.status.busy": "2021-09-03T05:56:50.690611Z",
     "iopub.status.idle": "2021-09-03T05:56:50.695314Z",
     "shell.execute_reply": "2021-09-03T05:56:50.694659Z",
     "shell.execute_reply.started": "2021-09-03T05:56:50.690799Z"
    }
   },
   "outputs": [
    {
     "data": {
      "text/plain": [
       "'CFD'"
      ]
     },
     "execution_count": 148,
     "metadata": {},
     "output_type": "execute_result"
    }
   ],
   "source": [
    "scores = [[70,49,90],[68,50,38],[73,31,100]]\n",
    "solution(scores)"
   ]
  }
 ],
 "metadata": {
  "kernelspec": {
   "display_name": "Python 3",
   "language": "python",
   "name": "python3"
  },
  "language_info": {
   "codemirror_mode": {
    "name": "ipython",
    "version": 3
   },
   "file_extension": ".py",
   "mimetype": "text/x-python",
   "name": "python",
   "nbconvert_exporter": "python",
   "pygments_lexer": "ipython3",
   "version": "3.8.3"
  }
 },
 "nbformat": 4,
 "nbformat_minor": 4
}
