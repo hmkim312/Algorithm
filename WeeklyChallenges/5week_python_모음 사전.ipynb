{
 "cells": [
  {
   "cell_type": "markdown",
   "metadata": {},
   "source": [
    "URL <https://programmers.co.kr/learn/courses/30/lessons/84512>{:target=\"_blank\"}\n",
    "\n",
    "### 문제 설명\n",
    "- 사전에 알파벳 모음 'A', 'E', 'I', 'O', 'U'만을 사용하여 만들 수 있는, 길이 5 이하의 모든 단어가 수록되어 있습니다. 사전에서 첫 번째 단어는 \"A\"이고, 그다음은 \"AA\"이며, 마지막 단어는 \"UUUUU\"입니다.\n",
    "- 단어 하나 word가 매개변수로 주어질 때, 이 단어가 사전에서 몇 번째 단어인지 return 하도록 solution 함수를 완성해주세요.\n",
    "\n",
    "### 제한사항\n",
    "- word의 길이는 1 이상 5 이하입니다.\n",
    "- word는 알파벳 대문자 'A', 'E', 'I', 'O', 'U'로만 이루어져 있습니다.\n",
    "\n",
    "### 문제풀이\n",
    "- 일단 product 함수를 통해 AEIOU로 만들수 있는 모든 단어의 경우의 수를 조합(1~5까지)한다\n",
    "- AEIOU는 모음의 순서대로 이기 때문에 sort를 해주면 원하는 순서대로 나온다.\n",
    "- 이후 입력받은 word의 index를 찾아주고 +1(index는 0부터 시작)해주면 끝\n",
    "- 단어의 종류가 3905개 밖에 안되기 때문에 가능했다. 만약에 단어의 경우의 수가 더 많아지면 해당 방식으론 불가능하다.\n",
    "- 아무래도 문제 출제의도는 패턴을 찾아서 하는것인듯..하다. (구글링 해보니 781, 156, 31, 6, 1의 패턴이 있다고 한다.)"
   ]
  },
  {
   "cell_type": "code",
   "execution_count": 63,
   "metadata": {
    "execution": {
     "iopub.execute_input": "2021-09-06T00:07:11.616831Z",
     "iopub.status.busy": "2021-09-06T00:07:11.616615Z",
     "iopub.status.idle": "2021-09-06T00:07:11.621119Z",
     "shell.execute_reply": "2021-09-06T00:07:11.620409Z",
     "shell.execute_reply.started": "2021-09-06T00:07:11.616807Z"
    }
   },
   "outputs": [],
   "source": [
    "from itertools import product\n",
    "def solution(word):\n",
    "    word_dict = []\n",
    "    for i in range(1,6):\n",
    "        word_dict.extend(list(map(''.join, product(['A','E','I','O','U'], repeat=i))))\n",
    "    return sorted(word_dict).index(word) + 1"
   ]
  },
  {
   "cell_type": "code",
   "execution_count": 64,
   "metadata": {
    "execution": {
     "iopub.execute_input": "2021-09-06T00:07:55.306807Z",
     "iopub.status.busy": "2021-09-06T00:07:55.306590Z",
     "iopub.status.idle": "2021-09-06T00:07:55.311488Z",
     "shell.execute_reply": "2021-09-06T00:07:55.310864Z",
     "shell.execute_reply.started": "2021-09-06T00:07:55.306784Z"
    }
   },
   "outputs": [
    {
     "data": {
      "text/plain": [
       "6"
      ]
     },
     "execution_count": 64,
     "metadata": {},
     "output_type": "execute_result"
    }
   ],
   "source": [
    "word = 'AAAAE'\n",
    "solution(word)"
   ]
  },
  {
   "cell_type": "code",
   "execution_count": 65,
   "metadata": {
    "execution": {
     "iopub.execute_input": "2021-09-06T00:08:00.040440Z",
     "iopub.status.busy": "2021-09-06T00:08:00.040234Z",
     "iopub.status.idle": "2021-09-06T00:08:00.044650Z",
     "shell.execute_reply": "2021-09-06T00:08:00.044056Z",
     "shell.execute_reply.started": "2021-09-06T00:08:00.040419Z"
    }
   },
   "outputs": [
    {
     "data": {
      "text/plain": [
       "10"
      ]
     },
     "execution_count": 65,
     "metadata": {},
     "output_type": "execute_result"
    }
   ],
   "source": [
    "word = 'AAAE'\n",
    "solution(word)"
   ]
  },
  {
   "cell_type": "code",
   "execution_count": 66,
   "metadata": {
    "execution": {
     "iopub.execute_input": "2021-09-06T00:08:06.410471Z",
     "iopub.status.busy": "2021-09-06T00:08:06.410254Z",
     "iopub.status.idle": "2021-09-06T00:08:06.415114Z",
     "shell.execute_reply": "2021-09-06T00:08:06.414449Z",
     "shell.execute_reply.started": "2021-09-06T00:08:06.410449Z"
    }
   },
   "outputs": [
    {
     "data": {
      "text/plain": [
       "1563"
      ]
     },
     "execution_count": 66,
     "metadata": {},
     "output_type": "execute_result"
    }
   ],
   "source": [
    "word = 'I'\n",
    "solution(word)"
   ]
  },
  {
   "cell_type": "code",
   "execution_count": 67,
   "metadata": {
    "execution": {
     "iopub.execute_input": "2021-09-06T00:08:11.744920Z",
     "iopub.status.busy": "2021-09-06T00:08:11.744707Z",
     "iopub.status.idle": "2021-09-06T00:08:11.749397Z",
     "shell.execute_reply": "2021-09-06T00:08:11.748867Z",
     "shell.execute_reply.started": "2021-09-06T00:08:11.744898Z"
    }
   },
   "outputs": [
    {
     "data": {
      "text/plain": [
       "1189"
      ]
     },
     "execution_count": 67,
     "metadata": {},
     "output_type": "execute_result"
    }
   ],
   "source": [
    "word = 'EIO'\n",
    "solution(word)"
   ]
  }
 ],
 "metadata": {
  "kernelspec": {
   "display_name": "Python 3",
   "language": "python",
   "name": "python3"
  },
  "language_info": {
   "codemirror_mode": {
    "name": "ipython",
    "version": 3
   },
   "file_extension": ".py",
   "mimetype": "text/x-python",
   "name": "python",
   "nbconvert_exporter": "python",
   "pygments_lexer": "ipython3",
   "version": "3.8.3"
  }
 },
 "nbformat": 4,
 "nbformat_minor": 4
}
