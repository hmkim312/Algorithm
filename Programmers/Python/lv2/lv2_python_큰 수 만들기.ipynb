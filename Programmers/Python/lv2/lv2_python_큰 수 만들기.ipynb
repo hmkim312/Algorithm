{
 "cells": [
  {
   "cell_type": "markdown",
   "metadata": {},
   "source": [
    "URL : <https://programmers.co.kr/learn/courses/30/lessons/42883>{:target=\"_blank\"}\n",
    "\n",
    "#### 문제 설명\n",
    "- 어떤 숫자에서 k개의 수를 제거했을 때 얻을 수 있는 가장 큰 숫자를 구하려 합니다.\n",
    "- 예를 들어, 숫자 1924에서 수 두 개를 제거하면 [19, 12, 14, 92, 94, 24] 를 만들 수 있습니다. 이 중 가장 큰 숫자는 94 입니다.\n",
    "- 문자열 형식으로 숫자 number와 제거할 수의 개수 k가 solution 함수의 매개변수로 주어집니다. number에서 k 개의 수를 제거했을 때 만들 수 있는 수 중 가장 큰 숫자를 문자열 형태로 return 하도록 solution 함수를 완성하세요.\n",
    "\n",
    "#### 제한 조건\n",
    "- number는 1자리 이상, 1,000,000자리 이하인 숫자입니다.\n",
    "- k는 1 이상 number의 자릿수 미만인 자연수입니다.\n",
    "\n",
    "#### 문제 풀이\n",
    "- 완전 탐색으로하기엔 시간이 오래걸릴것이 이미 문제에 적혀있었다\n",
    "- 그래서 number의 원소를 하나씩 리스트에 넣고, 그 뒤에 원소와 비교하여 작으면 해당 원소를 지우는 방식으로 풀었음\n",
    "- 일단 빈 리스트를 만들고, 그 뒤에 number의 원소를 하나씩 넣음\n",
    "- 하나씩 넣은 원소가 뒤에것보다 작으면 해당 원소를 지우고 리스트에 뒤에 온 원소를 넣고 k를 1씩 줄여나가면 k가 0이 될떄는 해당 while문이 끝남\n",
    "- 하지만 문제는 처음부터 while문이 False여서 실행되지 않는것. 그렇다면 ls = number가 될것\n",
    "- 그래서 만약 k가 0보다 크다면 ls = ls[:-k]\n",
    "- ls[:-k] 는 맨뒤에 k를 뺀 리스트라는 의미"
   ]
  },
  {
   "cell_type": "code",
   "execution_count": 77,
   "metadata": {
    "execution": {
     "iopub.execute_input": "2021-01-31T06:12:22.606934Z",
     "iopub.status.busy": "2021-01-31T06:12:22.606725Z",
     "iopub.status.idle": "2021-01-31T06:12:22.611125Z",
     "shell.execute_reply": "2021-01-31T06:12:22.610551Z",
     "shell.execute_reply.started": "2021-01-31T06:12:22.606912Z"
    }
   },
   "outputs": [],
   "source": [
    "def solution(number, k):\n",
    "    ls = []\n",
    "    for i, num in enumerate(number):\n",
    "        while len(ls) > 0 and ls[-1] < num and k > 0:\n",
    "            ls.pop()\n",
    "            k -=1\n",
    "        \n",
    "        ls.append(num)\n",
    "        \n",
    "    ls = ls[:-k] if k > 0 else ls\n",
    "    return ''.join(ls)"
   ]
  },
  {
   "cell_type": "code",
   "execution_count": 78,
   "metadata": {
    "execution": {
     "iopub.execute_input": "2021-01-31T06:12:23.090449Z",
     "iopub.status.busy": "2021-01-31T06:12:23.090239Z",
     "iopub.status.idle": "2021-01-31T06:12:23.094399Z",
     "shell.execute_reply": "2021-01-31T06:12:23.093668Z",
     "shell.execute_reply.started": "2021-01-31T06:12:23.090427Z"
    }
   },
   "outputs": [
    {
     "data": {
      "text/plain": [
       "'99'"
      ]
     },
     "execution_count": 78,
     "metadata": {},
     "output_type": "execute_result"
    }
   ],
   "source": [
    "number = '99991'\n",
    "k = 3\n",
    "solution(number,k)"
   ]
  },
  {
   "cell_type": "code",
   "execution_count": 80,
   "metadata": {
    "execution": {
     "iopub.execute_input": "2021-01-31T06:13:04.278089Z",
     "iopub.status.busy": "2021-01-31T06:13:04.277893Z",
     "iopub.status.idle": "2021-01-31T06:13:04.281631Z",
     "shell.execute_reply": "2021-01-31T06:13:04.281042Z",
     "shell.execute_reply.started": "2021-01-31T06:13:04.278068Z"
    }
   },
   "outputs": [
    {
     "data": {
      "text/plain": [
       "'119'"
      ]
     },
     "execution_count": 80,
     "metadata": {},
     "output_type": "execute_result"
    }
   ],
   "source": [
    "number = '111119'\n",
    "k = 3\n",
    "solution(number,k)"
   ]
  },
  {
   "cell_type": "code",
   "execution_count": 94,
   "metadata": {
    "execution": {
     "iopub.execute_input": "2021-01-31T06:14:52.840839Z",
     "iopub.status.busy": "2021-01-31T06:14:52.840644Z",
     "iopub.status.idle": "2021-01-31T06:14:52.843997Z",
     "shell.execute_reply": "2021-01-31T06:14:52.843291Z",
     "shell.execute_reply.started": "2021-01-31T06:14:52.840818Z"
    }
   },
   "outputs": [],
   "source": [
    "number = '123456'\n",
    "ls = [i for i in number]"
   ]
  }
 ],
 "metadata": {
  "kernelspec": {
   "display_name": "Python 3",
   "language": "python",
   "name": "python3"
  },
  "language_info": {
   "codemirror_mode": {
    "name": "ipython",
    "version": 3
   },
   "file_extension": ".py",
   "mimetype": "text/x-python",
   "name": "python",
   "nbconvert_exporter": "python",
   "pygments_lexer": "ipython3",
   "version": "3.8.3"
  }
 },
 "nbformat": 4,
 "nbformat_minor": 4
}
