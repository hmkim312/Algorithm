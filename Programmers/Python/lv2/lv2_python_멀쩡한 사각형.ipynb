{
 "cells": [
  {
   "cell_type": "markdown",
   "metadata": {},
   "source": [
    "URL : <https://programmers.co.kr/learn/courses/30/lessons/62048>{:target=\"_blank\"}\n",
    "\n",
    "#### 문제 설명\n",
    " - 가로 길이가 Wcm, 세로 길이가 Hcm인 직사각형 종이가 있습니다. 종이에는 가로, 세로 방향과 평행하게 격자 형태로 선이 그어져 있으며, 모든 격자칸은 1cm x 1cm 크기입니다. 이 종이를 격자 선을 따라 1cm × 1cm의 정사각형으로 잘라 사용할 예정이었는데, 누군가가 이 종이를 대각선 꼭지점 2개를 잇는 방향으로 잘라 놓았습니다. 그러므로 현재 직사각형 종이는 크기가 같은 직각삼각형 2개로 나누어진 상태입니다. 새로운 종이를 구할 수 없는 상태이기 때문에, 이 종이에서 원래 종이의 가로, 세로 방향과 평행하게 1cm × 1cm로 잘라 사용할 수 있는 만큼만 사용하기로 하였습니다.\n",
    "- 가로의 길이 W와 세로의 길이 H가 주어질 때, 사용할 수 있는 정사각형의 개수를 구하는 solution 함수를 완성해 주세요.\n",
    "\n",
    "#### 제한사항\n",
    "- W, H : 1억 이하의 자연수\n",
    "\n",
    "#### 문제 풀이\n",
    "- W, H의 최대공약수의 갯수가 같은 패턴으로 반복해서 사라지고있다. \n",
    "- 8, 12의 최대 공약수 = 4\n",
    "- 4개의 사각형이 같은 패턴으로 사라지고 있고, 이는 ((W/최대공약수) + (H/최대공약수) - 1) * 최대공약수로 만들수 있다\n",
    "- 위의 공식은 W + H - 최대공약수로 전개할수 있고, 이는 아래의 return값과 같다.\n",
    "- <https://taesan94.tistory.com/55>{:target=\"_blank\"} 의 블로그를 참조하였다."
   ]
  },
  {
   "cell_type": "code",
   "execution_count": 10,
   "metadata": {
    "execution": {
     "iopub.execute_input": "2021-02-03T00:37:22.527079Z",
     "iopub.status.busy": "2021-02-03T00:37:22.526853Z",
     "iopub.status.idle": "2021-02-03T00:37:22.530301Z",
     "shell.execute_reply": "2021-02-03T00:37:22.529654Z",
     "shell.execute_reply.started": "2021-02-03T00:37:22.527054Z"
    }
   },
   "outputs": [],
   "source": [
    "import math\n",
    "def solution(w, h):\n",
    "    return w * h - (w+h - (math.gcd(w, h)))"
   ]
  },
  {
   "cell_type": "code",
   "execution_count": 11,
   "metadata": {
    "execution": {
     "iopub.execute_input": "2021-02-03T00:37:26.215361Z",
     "iopub.status.busy": "2021-02-03T00:37:26.215147Z",
     "iopub.status.idle": "2021-02-03T00:37:26.218966Z",
     "shell.execute_reply": "2021-02-03T00:37:26.218451Z",
     "shell.execute_reply.started": "2021-02-03T00:37:26.215337Z"
    }
   },
   "outputs": [
    {
     "data": {
      "text/plain": [
       "80"
      ]
     },
     "execution_count": 11,
     "metadata": {},
     "output_type": "execute_result"
    }
   ],
   "source": [
    "w = 8\n",
    "h = 12\n",
    "solution(w, h)"
   ]
  },
  {
   "cell_type": "code",
   "execution_count": 12,
   "metadata": {
    "execution": {
     "iopub.execute_input": "2021-02-03T00:37:40.260732Z",
     "iopub.status.busy": "2021-02-03T00:37:40.260464Z",
     "iopub.status.idle": "2021-02-03T00:37:40.264599Z",
     "shell.execute_reply": "2021-02-03T00:37:40.263906Z",
     "shell.execute_reply.started": "2021-02-03T00:37:40.260678Z"
    }
   },
   "outputs": [
    {
     "data": {
      "text/plain": [
       "4"
      ]
     },
     "execution_count": 12,
     "metadata": {},
     "output_type": "execute_result"
    }
   ],
   "source": [
    "math.gcd(w, h)"
   ]
  },
  {
   "cell_type": "code",
   "execution_count": null,
   "metadata": {},
   "outputs": [],
   "source": []
  }
 ],
 "metadata": {
  "kernelspec": {
   "display_name": "Python 3",
   "language": "python",
   "name": "python3"
  },
  "language_info": {
   "codemirror_mode": {
    "name": "ipython",
    "version": 3
   },
   "file_extension": ".py",
   "mimetype": "text/x-python",
   "name": "python",
   "nbconvert_exporter": "python",
   "pygments_lexer": "ipython3",
   "version": "3.8.3"
  }
 },
 "nbformat": 4,
 "nbformat_minor": 4
}
