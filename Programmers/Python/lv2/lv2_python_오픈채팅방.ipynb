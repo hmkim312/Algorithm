{
 "cells": [
  {
   "cell_type": "markdown",
   "metadata": {},
   "source": [
    "#### 문제 설명\n",
    "- 오픈채팅방\n",
    "- 카카오톡 오픈채팅방에서는 친구가 아닌 사람들과 대화를 할 수 있는데, 본래 닉네임이 아닌 가상의 닉네임을 사용하여 채팅방에 들어갈 수 있다.\n",
    "- 신입사원인 김크루는 카카오톡 오픈 채팅방을 개설한 사람을 위해, 다양한 사람들이 들어오고, 나가는 것을 지켜볼 수 있는 관리자창을 만들기로 했다. 채팅방에 누군가 들어오면 다음 메시지가 출력된다.\n",
    "- \"[닉네임]님이 들어왔습니다.\"\n",
    "- 채팅방에서 누군가 나가면 다음 메시지가 출력된다.\n",
    "- \"[닉네임]님이 나갔습니다.\"\n",
    "- 채팅방에서 닉네임을 변경하는 방법은 다음과 같이 두 가지이다.\n",
    "    - 채팅방을 나간 후, 새로운 닉네임으로 다시 들어간다.\n",
    "    - 채팅방에서 닉네임을 변경한다.\n",
    "    - 닉네임을 변경할 때는 기존에 채팅방에 출력되어 있던 메시지의 닉네임도 전부 변경된다.\n",
    "- 예를 들어, 채팅방에 \"Muzi\"와 \"Prodo\"라는 닉네임을 사용하는 사람이 순서대로 들어오면 채팅방에는 다음과 같이 메시지가 출력된다.\n",
    "- \"Muzi님이 들어왔습니다.\"\n",
    "- \"Prodo님이 들어왔습니다.\"\n",
    "- 채팅방에 있던 사람이 나가면 채팅방에는 다음과 같이 메시지가 남는다.\n",
    "    - \"Muzi님이 들어왔습니다.\"\n",
    "    - \"Prodo님이 들어왔습니다.\"\n",
    "    - \"Muzi님이 나갔습니다.\"\n",
    "\n",
    "- Muzi가 나간후 다시 들어올 때, Prodo 라는 닉네임으로 들어올 경우 기존에 채팅방에 남아있던 Muzi도 Prodo로 다음과 같이 변경된다.\n",
    "\n",
    "    - \"Prodo님이 들어왔습니다.\"\n",
    "    - \"Prodo님이 들어왔습니다.\"\n",
    "    - \"Prodo님이 나갔습니다.\"\n",
    "    - \"Prodo님이 들어왔습니다.\"\n",
    "\n",
    "- 채팅방은 중복 닉네임을 허용하기 때문에, 현재 채팅방에는 Prodo라는 닉네임을 사용하는 사람이 두 명이 있다. 이제, 채팅방에 두 번째로 들어왔던 Prodo가 Ryan으로 닉네임을 변경하면 채팅방 메시지는 다음과 같이 변경된다.\n",
    "\n",
    "    - \"Prodo님이 들어왔습니다.\"\n",
    "    - \"Ryan님이 들어왔습니다.\"\n",
    "    - \"Prodo님이 나갔습니다.\"\n",
    "    - \"Prodo님이 들어왔습니다.\"\n",
    "\n",
    "- 채팅방에 들어오고 나가거나, 닉네임을 변경한 기록이 담긴 문자열 배열 record가 매개변수로 주어질 때, 모든 기록이 처리된 후, 최종적으로 방을 개설한 사람이 보게 되는 메시지를 문자열 배열 형태로 return 하도록 solution 함수를 완성하라.\n",
    "\n",
    "#### 제한 사항\n",
    "- record는 다음과 같은 문자열이 담긴 배열이며, 길이는 1 이상 100,000 이하이다.\n",
    "- 다음은 record에 담긴 문자열에 대한 설명이다.\n",
    "- 모든 유저는 [유저 아이디]로 구분한다.\n",
    "- [유저 아이디] 사용자가 [닉네임]으로 채팅방에 입장 - \"Enter [유저 아이디] [닉네임]\" (ex. \"Enter uid1234 Muzi\")\n",
    "- [유저 아이디] 사용자가 채팅방에서 퇴장 - \"Leave [유저 아이디]\" (ex. \"Leave uid1234\")\n",
    "- [유저 아이디] 사용자가 닉네임을 [닉네임]으로 변경 - \"Change [유저 아이디] [닉네임]\" (ex. \"Change uid1234 Muzi\")\n",
    "- 첫 단어는 Enter, Leave, Change 중 하나이다.\n",
    "- 각 단어는 공백으로 구분되어 있으며, 알파벳 대문자, 소문자, 숫자로만 이루어져있다.\n",
    "- 유저 아이디와 닉네임은 알파벳 대문자, 소문자를 구별한다.\n",
    "- 유저 아이디와 닉네임의 길이는 1 이상 10 이하이다.\n",
    "- 채팅방에서 나간 유저가 닉네임을 변경하는 등 잘못 된 입력은 주어지지 않는다.\n",
    "\n",
    "#### 문제 풀이\n",
    "- 일단 주어진 recode를 보면 공백으로 구분되어있고, 'action uid name' 으로 이루어져있다.\n",
    "- action이 Leave인 경우에는 name이 없다.\n",
    "- 일단 주어진 recode를 split하여 recodes로 새로 만들어 주고\n",
    "- 이후 names의 dict에 uid : name형식으로 저장한다.\n",
    "- 이렇게 하면 change를 한것도 저장이 되어 바뀌게 된다.\n",
    "- 이후 action이 Enter면 answer에 'name님이 들어왔습니다', Leave면 'name님이 나갔습니다.'를 저장하여주고 return한다."
   ]
  },
  {
   "cell_type": "code",
   "execution_count": 28,
   "metadata": {
    "execution": {
     "iopub.execute_input": "2021-03-19T00:50:14.289265Z",
     "iopub.status.busy": "2021-03-19T00:50:14.289044Z",
     "iopub.status.idle": "2021-03-19T00:50:14.294695Z",
     "shell.execute_reply": "2021-03-19T00:50:14.293991Z",
     "shell.execute_reply.started": "2021-03-19T00:50:14.289242Z"
    }
   },
   "outputs": [],
   "source": [
    "def solution(recode):\n",
    "    recodes = [r.split() for r in recode]\n",
    "    names = {}\n",
    "    answer = []\n",
    "    for recode in recodes:\n",
    "        if recode[0] != 'Leave':\n",
    "            names[recode[1]] = recode[2]\n",
    "\n",
    "    for recode in recodes:\n",
    "        if recode[0] == 'Enter':\n",
    "            answer.append(names[recode[1]]+'님이 들어왔습니다.')\n",
    "\n",
    "        if recode[0] == 'Leave':\n",
    "            answer.append(names[recode[1]]+'님이 나갔습니다.')\n",
    "    return answer"
   ]
  },
  {
   "cell_type": "code",
   "execution_count": 30,
   "metadata": {
    "execution": {
     "iopub.execute_input": "2021-03-19T00:50:27.391340Z",
     "iopub.status.busy": "2021-03-19T00:50:27.391123Z",
     "iopub.status.idle": "2021-03-19T00:50:27.395456Z",
     "shell.execute_reply": "2021-03-19T00:50:27.394690Z",
     "shell.execute_reply.started": "2021-03-19T00:50:27.391317Z"
    }
   },
   "outputs": [
    {
     "data": {
      "text/plain": [
       "['Prodo님이 들어왔습니다.', 'Ryan님이 들어왔습니다.', 'Prodo님이 나갔습니다.', 'Prodo님이 들어왔습니다.']"
      ]
     },
     "execution_count": 30,
     "metadata": {},
     "output_type": "execute_result"
    }
   ],
   "source": [
    "recode = [\"Enter uid1234 Muzi\", \"Enter uid4567 Prodo\",\"Leave uid1234\",\"Enter uid1234 Prodo\",\"Change uid4567 Ryan\"]\n",
    "solution(recode)"
   ]
  }
 ],
 "metadata": {
  "kernelspec": {
   "display_name": "Python 3",
   "language": "python",
   "name": "python3"
  },
  "language_info": {
   "codemirror_mode": {
    "name": "ipython",
    "version": 3
   },
   "file_extension": ".py",
   "mimetype": "text/x-python",
   "name": "python",
   "nbconvert_exporter": "python",
   "pygments_lexer": "ipython3",
   "version": "3.8.3"
  }
 },
 "nbformat": 4,
 "nbformat_minor": 4
}
