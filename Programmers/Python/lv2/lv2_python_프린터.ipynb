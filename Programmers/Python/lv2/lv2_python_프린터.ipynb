{
 "cells": [
  {
   "cell_type": "markdown",
   "metadata": {},
   "source": [
    "#### 문제 설명\n",
    "- 일반적인 프린터는 인쇄 요청이 들어온 순서대로 인쇄합니다. 그렇기 때문에 중요한 문서가 나중에 인쇄될 수 있습니다. 이런 문제를 보완하기 위해 중요도가 높은 문서를 먼저 인쇄하는 프린터를 개발했습니다. 이 새롭게 개발한 프린터는 아래와 같은 방식으로 인쇄 작업을 수행합니다.\n",
    "    - 1. 인쇄 대기목록의 가장 앞에 있는 문서(J)를 대기목록에서 꺼냅니다.\n",
    "    - 2. 나머지 인쇄 대기목록에서 J보다 중요도가 높은 문서가 한 개라도 존재하면 J를 대기목록의 가장 마지막에 넣습니다.\n",
    "    - 3. 그렇지 않으면 J를 인쇄합니다.\n",
    "- 예를 들어, 4개의 문서(A, B, C, D)가 순서대로 인쇄 대기목록에 있고 중요도가 2 1 3 2 라면 C D A B 순으로 인쇄하게 됩니다.\n",
    "- 내가 인쇄를 요청한 문서가 몇 번째로 인쇄되는지 알고 싶습니다. 위의 예에서 C는 1번째로, A는 3번째로 인쇄됩니다.\n",
    "- 현재 대기목록에 있는 문서의 중요도가 순서대로 담긴 배열 priorities와 내가 인쇄를 요청한 문서가 현재 대기목록의 어떤 위치에 있는지를 알려주는 location이 매개변수로 주어질 때, 내가 인쇄를 요청한 문서가 몇 번째로 인쇄되는지 return 하도록 solution 함수를 작성해주세요.\n",
    "\n",
    "#### 제한 사항\n",
    "- 현재 대기목록에는 1개 이상 100개 이하의 문서가 있습니다.\n",
    "- 인쇄 작업의 중요도는 1~9로 표현하며 숫자가 클수록 중요하다는 뜻입니다.\n",
    "- location은 0 이상 (현재 대기목록에 있는 작업 수 - 1) 이하의 값을 가지며 대기목록의 가장 앞에 있으면 0, 두 번째에 있으면 1로 표현합니다.\n",
    "\n",
    "#### 문제 풀이\n",
    "- 일단 처음에는 sort로 풀어보았는데, 생각해보니 동일한 원소가 있을때는 문제가 풀리지 않았음\n",
    "- 그래서 위치값을 저장, 변경이 필요하다고 생각하여 문제에 접근함\n",
    "- 총 4가지의 경우의 수가 있는데 \n",
    "    - 1) 맨앞의 원소가 원하는 타겟이 아닐때 \n",
    "        - 1-1) 맨앞의 원소가 출력되지 않았을때\n",
    "        - 1-2) 맨앞의 원소가 출력되었을때\n",
    "    - 2) 맨앞의 원소가 원하는 타겟일때\n",
    "        - 2-1) 맨앞의 원소가 출력되지 않았을때\n",
    "        - 2-2) 맨앞의 원소가 출력되었을떄 <- 이때 answer값이 필요함\n",
    "- 1-1인 경우 나의 위치값만 변경이 필요함, 그중에서 맨앞의 원소가 출력되지 않으면 맨 뒤로가고 위치값은 -1이 됨\n",
    "- 1-2인 경우 똑같이 위치값만 변경을 해주면서 answer에 +1을 하면됨(출력된 프린터)\n",
    "- 2-1인 경우 나의 위치값이 0에서 제일 마지막으로 변경됨\n",
    "- 2-2인 경우 여태까지 출력된 answer를 +1하여 리턴해줌 (+1은 내가 출력되는것을 카운트 하는것)"
   ]
  },
  {
   "cell_type": "code",
   "execution_count": 99,
   "metadata": {
    "execution": {
     "iopub.execute_input": "2021-04-06T00:54:47.056782Z",
     "iopub.status.busy": "2021-04-06T00:54:47.056565Z",
     "iopub.status.idle": "2021-04-06T00:54:47.062229Z",
     "shell.execute_reply": "2021-04-06T00:54:47.061597Z",
     "shell.execute_reply.started": "2021-04-06T00:54:47.056758Z"
    }
   },
   "outputs": [],
   "source": [
    "def solution(priorities, location):\n",
    "    \n",
    "    answer = 0\n",
    "    while len(priorities):\n",
    "        # location이 0이 아닌 경우\n",
    "        if location != 0:\n",
    "            # 맨 앞의 원소가 출력되지 않고 뒤로가서 location의 위치가 변함\n",
    "            if priorities[0] < max(priorities):\n",
    "                temp = priorities.pop(0)\n",
    "                priorities.append(temp)\n",
    "                location -= 1\n",
    "                \n",
    "            else:\n",
    "                # 맨앞의 원소가 출력되고 location의 값이 변함\n",
    "                priorities.pop(0)\n",
    "                location -= 1\n",
    "                answer += 1\n",
    "        # location이 0인 경우\n",
    "        else :\n",
    "            # 맨앞 원소가 출력되지 않고 뒤로가서 location의 위치가 제일 마지막에 있게 됨\n",
    "            if priorities[0] < max(priorities):\n",
    "                temp = priorities.pop(0)\n",
    "                priorities.append(temp)\n",
    "                location = len(priorities) - 1\n",
    "                \n",
    "            # location이 0이고 출력되는 경우\n",
    "            else:\n",
    "                return answer + 1\n",
    "                break"
   ]
  },
  {
   "cell_type": "code",
   "execution_count": 100,
   "metadata": {
    "execution": {
     "iopub.execute_input": "2021-04-06T00:54:47.437553Z",
     "iopub.status.busy": "2021-04-06T00:54:47.437338Z",
     "iopub.status.idle": "2021-04-06T00:54:47.441772Z",
     "shell.execute_reply": "2021-04-06T00:54:47.441156Z",
     "shell.execute_reply.started": "2021-04-06T00:54:47.437530Z"
    }
   },
   "outputs": [
    {
     "data": {
      "text/plain": [
       "1"
      ]
     },
     "execution_count": 100,
     "metadata": {},
     "output_type": "execute_result"
    }
   ],
   "source": [
    "priorities = [2, 1, 3, 2]\n",
    "location = 2\n",
    "solution(priorities, location)"
   ]
  },
  {
   "cell_type": "code",
   "execution_count": 101,
   "metadata": {
    "execution": {
     "iopub.execute_input": "2021-04-06T00:54:47.770655Z",
     "iopub.status.busy": "2021-04-06T00:54:47.770440Z",
     "iopub.status.idle": "2021-04-06T00:54:47.775153Z",
     "shell.execute_reply": "2021-04-06T00:54:47.774542Z",
     "shell.execute_reply.started": "2021-04-06T00:54:47.770631Z"
    }
   },
   "outputs": [
    {
     "data": {
      "text/plain": [
       "5"
      ]
     },
     "execution_count": 101,
     "metadata": {},
     "output_type": "execute_result"
    }
   ],
   "source": [
    "priorities = [1, 1, 9, 1, 1, 1]\n",
    "location = 0\n",
    "solution(priorities, location)"
   ]
  },
  {
   "cell_type": "code",
   "execution_count": null,
   "metadata": {},
   "outputs": [],
   "source": []
  }
 ],
 "metadata": {
  "kernelspec": {
   "display_name": "Python 3",
   "language": "python",
   "name": "python3"
  },
  "language_info": {
   "codemirror_mode": {
    "name": "ipython",
    "version": 3
   },
   "file_extension": ".py",
   "mimetype": "text/x-python",
   "name": "python",
   "nbconvert_exporter": "python",
   "pygments_lexer": "ipython3",
   "version": "3.8.3"
  }
 },
 "nbformat": 4,
 "nbformat_minor": 4
}
