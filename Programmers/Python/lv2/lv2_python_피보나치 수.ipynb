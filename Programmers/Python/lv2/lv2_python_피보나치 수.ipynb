{
 "cells": [
  {
   "cell_type": "markdown",
   "metadata": {},
   "source": [
    "URL : <https://programmers.co.kr/learn/courses/30/lessons/12945>{:target=\"_blank\"}\n",
    "\n",
    "#### 문제 설명\n",
    "- 피보나치 수는 F(0) = 0, F(1) = 1일 때, 1 이상의 n에 대하여 F(n) = F(n-1) + F(n-2) 가 적용되는 수 입니다.\n",
    "```\n",
    "F(2) = F(0) + F(1) = 0 + 1 = 1\n",
    "F(3) = F(1) + F(2) = 1 + 1 = 2\n",
    "F(4) = F(2) + F(3) = 1 + 2 = 3\n",
    "F(5) = F(3) + F(4) = 2 + 3 = 5\n",
    "```\n",
    "- 와 같이 이어집니다.\n",
    "\n",
    "- 2 이상의 n이 입력되었을 때, n번째 피보나치 수를 1234567으로 나눈 나머지를 리턴하는 함수, solution을 완성해 주세요.\n",
    "\n",
    "#### 제한 사항\n",
    "- n은 1이상, 100000이하인 자연수입니다.\n",
    "\n"
   ]
  },
  {
   "cell_type": "markdown",
   "metadata": {},
   "source": [
    "#### 문제풀이\n",
    "- 처음 생각한대로 재귀 함수를 사용하려 했으나, 이는 메모리 관리측면에서 효율적이지 않음 (1번 런타임에러)\n",
    "- list에 fibo로 계산된 수를 넣고 n번째전과 그 이전 (b과 a)를 더하는 방식으로 만듬 (2번 list로 만든 솔루션)\n",
    "- 하지만 for문으로 a, b를  생성하여 계속 a, b = b, b +a 로 피보나치 수를 업데이트하여 list를 만들지 않음. (3번 다른사람의 풀이)"
   ]
  },
  {
   "cell_type": "markdown",
   "metadata": {},
   "source": [
    "#### (1) 재귀함수를 사용함. 런타임 에러"
   ]
  },
  {
   "cell_type": "code",
   "execution_count": 11,
   "metadata": {
    "execution": {
     "iopub.execute_input": "2021-01-27T02:35:07.932854Z",
     "iopub.status.busy": "2021-01-27T02:35:07.932629Z",
     "iopub.status.idle": "2021-01-27T02:35:07.936151Z",
     "shell.execute_reply": "2021-01-27T02:35:07.935570Z",
     "shell.execute_reply.started": "2021-01-27T02:35:07.932831Z"
    }
   },
   "outputs": [],
   "source": [
    "def solution(n):\n",
    "    if n <= 1:\n",
    "        return n\n",
    "    else:\n",
    "        return (solution(n-1) + solution(n-2)) % 1234567"
   ]
  },
  {
   "cell_type": "code",
   "execution_count": 25,
   "metadata": {
    "execution": {
     "iopub.execute_input": "2021-01-27T02:43:58.430189Z",
     "iopub.status.busy": "2021-01-27T02:43:58.429978Z",
     "iopub.status.idle": "2021-01-27T02:43:58.433905Z",
     "shell.execute_reply": "2021-01-27T02:43:58.433314Z",
     "shell.execute_reply.started": "2021-01-27T02:43:58.430167Z"
    }
   },
   "outputs": [
    {
     "data": {
      "text/plain": [
       "5"
      ]
     },
     "execution_count": 25,
     "metadata": {},
     "output_type": "execute_result"
    }
   ],
   "source": [
    "n = 5\n",
    "solution(n)"
   ]
  },
  {
   "cell_type": "markdown",
   "metadata": {},
   "source": [
    "- 재귀 함수를 사용한 피보나치 수, 런타임 에러가 뜸\n",
    "- 재귀 함수를 쓰지 말라는 뜻인듯"
   ]
  },
  {
   "cell_type": "markdown",
   "metadata": {},
   "source": [
    "#### (2) list를 활용"
   ]
  },
  {
   "cell_type": "code",
   "execution_count": 23,
   "metadata": {
    "execution": {
     "iopub.execute_input": "2021-01-27T02:43:46.473134Z",
     "iopub.status.busy": "2021-01-27T02:43:46.472912Z",
     "iopub.status.idle": "2021-01-27T02:43:46.477258Z",
     "shell.execute_reply": "2021-01-27T02:43:46.476441Z",
     "shell.execute_reply.started": "2021-01-27T02:43:46.473111Z"
    }
   },
   "outputs": [],
   "source": [
    "def solution(n):\n",
    "    fibo = [0, 1]\n",
    "    for i in range(2, n+1):\n",
    "        fibo.append(fibo[i-1] + fibo[i-2])\n",
    "    return fibo[n] % 1234567"
   ]
  },
  {
   "cell_type": "code",
   "execution_count": 26,
   "metadata": {
    "execution": {
     "iopub.execute_input": "2021-01-27T02:44:04.454228Z",
     "iopub.status.busy": "2021-01-27T02:44:04.454000Z",
     "iopub.status.idle": "2021-01-27T02:44:04.458944Z",
     "shell.execute_reply": "2021-01-27T02:44:04.457805Z",
     "shell.execute_reply.started": "2021-01-27T02:44:04.454205Z"
    }
   },
   "outputs": [
    {
     "data": {
      "text/plain": [
       "5"
      ]
     },
     "execution_count": 26,
     "metadata": {},
     "output_type": "execute_result"
    }
   ],
   "source": [
    "n = 5\n",
    "solution(n)"
   ]
  },
  {
   "cell_type": "markdown",
   "metadata": {},
   "source": [
    "- 재귀를 하지않고 fibo의 값을 리스트에 저장하는 방법으로 풀면 런타임 에러가 나지않고 해결"
   ]
  },
  {
   "cell_type": "markdown",
   "metadata": {},
   "source": [
    "#### (3) a, b값을 update 하며 해결(다른 사람의 풀이)"
   ]
  },
  {
   "cell_type": "code",
   "execution_count": 28,
   "metadata": {
    "execution": {
     "iopub.execute_input": "2021-01-27T02:46:20.157670Z",
     "iopub.status.busy": "2021-01-27T02:46:20.157487Z",
     "iopub.status.idle": "2021-01-27T02:46:20.160986Z",
     "shell.execute_reply": "2021-01-27T02:46:20.160398Z",
     "shell.execute_reply.started": "2021-01-27T02:46:20.157651Z"
    }
   },
   "outputs": [],
   "source": [
    "def solution(n):\n",
    "    a, b = 0, 1\n",
    "    for i in range(n):\n",
    "    # 앞의 2개의 숫자의 합이 뒷 숫자의 값이 됨, n번 만큼 for문으로 반복\n",
    "        a, b = b, a+b\n",
    "    # 123456로 나눈 나머지를 정답으로 리턴\n",
    "    answer = a % 1234567\n",
    "    return answer"
   ]
  },
  {
   "cell_type": "code",
   "execution_count": 29,
   "metadata": {
    "execution": {
     "iopub.execute_input": "2021-01-27T02:46:28.981569Z",
     "iopub.status.busy": "2021-01-27T02:46:28.981351Z",
     "iopub.status.idle": "2021-01-27T02:46:28.985442Z",
     "shell.execute_reply": "2021-01-27T02:46:28.984672Z",
     "shell.execute_reply.started": "2021-01-27T02:46:28.981546Z"
    }
   },
   "outputs": [
    {
     "data": {
      "text/plain": [
       "5"
      ]
     },
     "execution_count": 29,
     "metadata": {},
     "output_type": "execute_result"
    }
   ],
   "source": [
    "n = 5\n",
    "solution(n)"
   ]
  },
  {
   "cell_type": "markdown",
   "metadata": {},
   "source": [
    "- 다른사람의 풀이로 a, b = b, a + b가 핵심\n",
    "- a = b, \n",
    "- b = a + b로 두줄을 하게 되면 윗줄부터 실행되어 a가 b로 바뀌어 다른 값이 나오게 됨.\n",
    "- a, b = b, a + b는 한번에 실행되므로, a가 변경되지 않음"
   ]
  }
 ],
 "metadata": {
  "kernelspec": {
   "display_name": "Python 3",
   "language": "python",
   "name": "python3"
  },
  "language_info": {
   "codemirror_mode": {
    "name": "ipython",
    "version": 3
   },
   "file_extension": ".py",
   "mimetype": "text/x-python",
   "name": "python",
   "nbconvert_exporter": "python",
   "pygments_lexer": "ipython3",
   "version": "3.8.3"
  }
 },
 "nbformat": 4,
 "nbformat_minor": 4
}
