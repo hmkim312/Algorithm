{
 "cells": [
  {
   "cell_type": "markdown",
   "metadata": {},
   "source": [
    "URL <https://programmers.co.kr/learn/courses/30/lessons/60057>{:target=\"_blank\"}\n",
    "\n",
    "### 문제 설명\n",
    "- 데이터 처리 전문가가 되고 싶은 \"어피치\"는 문자열을 압축하는 방법에 대해 공부를 하고 있습니다. 최근에 대량의 데이터 처리를 위한 간단한 비손실 압축 방법에 대해 공부를 하고 있는데, 문자열에서 같은 값이 연속해서 나타나는 것을 그 문자의 개수와 반복되는 값으로 표현하여 더 짧은 문자열로 줄여서 표현하는 알고리즘을 공부하고 있습니다.\n",
    "- 간단한 예로 \"aabbaccc\"의 경우 \"2a2ba3c\"(문자가 반복되지 않아 한번만 나타난 경우 1은 생략함)와 같이 표현할 수 있는데, 이러한 방식은 반복되는 문자가 적은 경우 압축률이 낮다는 단점이 있습니다. 예를 들면, \"abcabcdede\"와 같은 문자열은 전혀 압축되지 않습니다. \"어피치\"는 이러한 단점을 해결하기 위해 문자열을 1개 이상의 단위로 잘라서 압축하여 더 짧은 문자열로 표현할 수 있는지 방법을 찾아보려고 합니다.\n",
    "\n",
    "- 예를 들어, \"ababcdcdababcdcd\"의 경우 문자를 1개 단위로 자르면 전혀 압축되지 않지만, 2개 단위로 잘라서 압축한다면 \"2ab2cd2ab2cd\"로 표현할 수 있습니다. 다른 방법으로 8개 단위로 잘라서 압축한다면 \"2ababcdcd\"로 표현할 수 있으며, 이때가 가장 짧게 압축하여 표현할 수 있는 방법입니다.\n",
    "\n",
    "- 다른 예로, \"abcabcdede\"와 같은 경우, 문자를 2개 단위로 잘라서 압축하면 \"abcabc2de\"가 되지만, 3개 단위로 자른다면 \"2abcdede\"가 되어 3개 단위가 가장 짧은 압축 방법이 됩니다. 이때 3개 단위로 자르고 마지막에 남는 문자열은 그대로 붙여주면 됩니다.\n",
    "\n",
    "- 압축할 문자열 s가 매개변수로 주어질 때, 위에 설명한 방법으로 1개 이상 단위로 문자열을 잘라 압축하여 표현한 문자열 중 가장 짧은 것의 길이를 return 하도록 solution 함수를 완성해주세요.\n",
    "\n",
    "#### 제한 사항\n",
    "- s의 길이는 1 이상 1,000 이하입니다.\n",
    "- s는 알파벳 소문자로만 이루어져 있습니다.\n",
    "\n",
    "\n",
    "#### 문제 풀이"
   ]
  },
  {
   "cell_type": "code",
   "execution_count": 61,
   "metadata": {
    "execution": {
     "iopub.execute_input": "2021-04-27T01:07:35.175903Z",
     "iopub.status.busy": "2021-04-27T01:07:35.175696Z",
     "iopub.status.idle": "2021-04-27T01:07:35.182674Z",
     "shell.execute_reply": "2021-04-27T01:07:35.182047Z",
     "shell.execute_reply.started": "2021-04-27T01:07:35.175881Z"
    }
   },
   "outputs": [],
   "source": [
    "def solution(s):\n",
    "    length = []\n",
    "    result = ''\n",
    "    \n",
    "    if len(s) == 1:\n",
    "        return 1\n",
    "    \n",
    "    for box in range(1, len(s) // 2 + 1): # 처음비교될 문자를 만듬\n",
    "        compare = s[:box] #처음 비교할 값\n",
    "        num = 1\n",
    "\n",
    "        for idx in range(box, len(s), box): # box는 정해진 길이, ex) 2, 3, 4\n",
    "            if s[idx:idx+box] == compare: #만일 비교되는것이 앞에것과 같다만\n",
    "                num += 1 # 숫자에 +1을 해줌\n",
    "            else:\n",
    "                if num == 1: # num이 1이라면 같은게 하나도 없다는 이야기이므로 1을 지워줌(2부터 카운트해야 갯수가 맞기때문)\n",
    "                    num = ''\n",
    "                result += str(num) + compare # 중복된 갯수(num)에 비교한 문자열 저장\n",
    "                compare = s[idx:idx+box] # compare를 변경\n",
    "                num = 1 # 처음부터 시작\n",
    "        \n",
    "        # 제일 마지막 비교한 문자열 넣기\n",
    "        if num == 1:\n",
    "            num = ''\n",
    "\n",
    "        result += str(num) + compare\n",
    "        length.append(len(result))\n",
    "        result = ''\n",
    "    return min(length)"
   ]
  },
  {
   "cell_type": "code",
   "execution_count": 63,
   "metadata": {
    "execution": {
     "iopub.execute_input": "2021-04-27T01:07:36.138158Z",
     "iopub.status.busy": "2021-04-27T01:07:36.137952Z",
     "iopub.status.idle": "2021-04-27T01:07:36.141795Z",
     "shell.execute_reply": "2021-04-27T01:07:36.141201Z",
     "shell.execute_reply.started": "2021-04-27T01:07:36.138136Z"
    }
   },
   "outputs": [
    {
     "data": {
      "text/plain": [
       "7"
      ]
     },
     "execution_count": 63,
     "metadata": {},
     "output_type": "execute_result"
    }
   ],
   "source": [
    "s = \"aabbaccc\"\n",
    "solution(s)"
   ]
  },
  {
   "cell_type": "code",
   "execution_count": 65,
   "metadata": {
    "execution": {
     "iopub.execute_input": "2021-04-27T01:08:06.894717Z",
     "iopub.status.busy": "2021-04-27T01:08:06.894510Z",
     "iopub.status.idle": "2021-04-27T01:08:06.898545Z",
     "shell.execute_reply": "2021-04-27T01:08:06.897749Z",
     "shell.execute_reply.started": "2021-04-27T01:08:06.894694Z"
    }
   },
   "outputs": [
    {
     "data": {
      "text/plain": [
       "9"
      ]
     },
     "execution_count": 65,
     "metadata": {},
     "output_type": "execute_result"
    }
   ],
   "source": [
    "s = 'ababcdcdababcdcd'\n",
    "solution(s)"
   ]
  },
  {
   "cell_type": "code",
   "execution_count": 66,
   "metadata": {
    "execution": {
     "iopub.execute_input": "2021-04-27T01:08:16.418787Z",
     "iopub.status.busy": "2021-04-27T01:08:16.418574Z",
     "iopub.status.idle": "2021-04-27T01:08:16.423028Z",
     "shell.execute_reply": "2021-04-27T01:08:16.422309Z",
     "shell.execute_reply.started": "2021-04-27T01:08:16.418765Z"
    }
   },
   "outputs": [
    {
     "data": {
      "text/plain": [
       "8"
      ]
     },
     "execution_count": 66,
     "metadata": {},
     "output_type": "execute_result"
    }
   ],
   "source": [
    "s = 'abcabcdede'\n",
    "solution(s)"
   ]
  },
  {
   "cell_type": "code",
   "execution_count": 67,
   "metadata": {
    "execution": {
     "iopub.execute_input": "2021-04-27T01:08:16.555599Z",
     "iopub.status.busy": "2021-04-27T01:08:16.555379Z",
     "iopub.status.idle": "2021-04-27T01:08:16.559183Z",
     "shell.execute_reply": "2021-04-27T01:08:16.558638Z",
     "shell.execute_reply.started": "2021-04-27T01:08:16.555575Z"
    }
   },
   "outputs": [
    {
     "data": {
      "text/plain": [
       "14"
      ]
     },
     "execution_count": 67,
     "metadata": {},
     "output_type": "execute_result"
    }
   ],
   "source": [
    "s = \"abcabcabcabcdededededede\"\n",
    "solution(s)"
   ]
  },
  {
   "cell_type": "code",
   "execution_count": 68,
   "metadata": {
    "execution": {
     "iopub.execute_input": "2021-04-27T01:08:22.201051Z",
     "iopub.status.busy": "2021-04-27T01:08:22.200836Z",
     "iopub.status.idle": "2021-04-27T01:08:22.205117Z",
     "shell.execute_reply": "2021-04-27T01:08:22.204377Z",
     "shell.execute_reply.started": "2021-04-27T01:08:22.201028Z"
    }
   },
   "outputs": [
    {
     "data": {
      "text/plain": [
       "17"
      ]
     },
     "execution_count": 68,
     "metadata": {},
     "output_type": "execute_result"
    }
   ],
   "source": [
    "s = \"xababcdcdababcdcd\"\n",
    "solution(s)"
   ]
  }
 ],
 "metadata": {
  "kernelspec": {
   "display_name": "Python 3",
   "language": "python",
   "name": "python3"
  },
  "language_info": {
   "codemirror_mode": {
    "name": "ipython",
    "version": 3
   },
   "file_extension": ".py",
   "mimetype": "text/x-python",
   "name": "python",
   "nbconvert_exporter": "python",
   "pygments_lexer": "ipython3",
   "version": "3.8.3"
  }
 },
 "nbformat": 4,
 "nbformat_minor": 4
}
