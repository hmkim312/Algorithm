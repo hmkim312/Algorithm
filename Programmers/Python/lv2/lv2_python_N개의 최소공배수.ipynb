{
 "cells": [
  {
   "cell_type": "markdown",
   "metadata": {},
   "source": [
    "URL <https://programmers.co.kr/learn/courses/30/lessons/12953>{:target=\"_blank\"}\n",
    "\n",
    "#### 문제 설명\n",
    " - 두 수의 최소공배수(Least Common Multiple)란 입력된 두 수의 배수 중 공통이 되는 가장 작은 숫자를 의미합니다. 예를 들어 2와 7의 최소공배수는 14가 됩니다. 정의를 확장해서, n개의 수의 최소공배수는 n 개의 수들의 배수 중 공통이 되는 가장 작은 숫자가 됩니다. n개의 숫자를 담은 배열 arr이 입력되었을 때 이 수들의 최소공배수를 반환하는 함수, solution을 완성해 주세요.\n",
    "\n",
    "#### 제한 사항\n",
    "- arr은 길이 1이상, 15이하인 배열입니다.\n",
    "- arr의 원소는 100 이하인 자연수입니다.\n",
    "\n",
    "#### 문제 풀이\n",
    "- 최대 공약수 (gcd) : 두 수의 공통된 약수 중 공통이 되는 가장 큰 숫자\n",
    "- 최소 공배수 (lcm) : 두 수의 배수 중 공통이 되는 가장 작은 숫자로 ```두 수의 곱을 최대 공약수로 나눈 값과 같음```\n",
    "- arr의 2수의 최대 공약수를 활용하여 최소 공배수를 구함\n",
    "- 위의 방법을 arr의 배열에 1개가 남을때까지 하면 해당 숫자가 최소 공배수임"
   ]
  },
  {
   "cell_type": "code",
   "execution_count": 59,
   "metadata": {
    "execution": {
     "iopub.execute_input": "2021-02-18T02:53:15.280453Z",
     "iopub.status.busy": "2021-02-18T02:53:15.280241Z",
     "iopub.status.idle": "2021-02-18T02:53:15.284878Z",
     "shell.execute_reply": "2021-02-18T02:53:15.284175Z",
     "shell.execute_reply.started": "2021-02-18T02:53:15.280430Z"
    }
   },
   "outputs": [],
   "source": [
    "import math\n",
    "\n",
    "# 최소 공약수를 활용한 최대 공배수\n",
    "def lcm(a, b):\n",
    "    l  = int(math.gcd(a, b))\n",
    "    return int(a * b / l)\n",
    "\n",
    "def solution(arr):\n",
    "    while len(arr) != 1:\n",
    "        a = arr.pop()\n",
    "        b = arr.pop()\n",
    "\n",
    "        c = lcm(a,b)\n",
    "        arr.append(c)\n",
    "    return arr[0]"
   ]
  },
  {
   "cell_type": "code",
   "execution_count": 60,
   "metadata": {
    "execution": {
     "iopub.execute_input": "2021-02-18T02:53:15.463500Z",
     "iopub.status.busy": "2021-02-18T02:53:15.463217Z",
     "iopub.status.idle": "2021-02-18T02:53:15.467636Z",
     "shell.execute_reply": "2021-02-18T02:53:15.466895Z",
     "shell.execute_reply.started": "2021-02-18T02:53:15.463475Z"
    }
   },
   "outputs": [
    {
     "data": {
      "text/plain": [
       "168"
      ]
     },
     "execution_count": 60,
     "metadata": {},
     "output_type": "execute_result"
    }
   ],
   "source": [
    "arr = [2,6,8,14]\n",
    "solution(arr)"
   ]
  },
  {
   "cell_type": "code",
   "execution_count": 61,
   "metadata": {
    "execution": {
     "iopub.execute_input": "2021-02-18T02:53:15.627055Z",
     "iopub.status.busy": "2021-02-18T02:53:15.626855Z",
     "iopub.status.idle": "2021-02-18T02:53:15.630672Z",
     "shell.execute_reply": "2021-02-18T02:53:15.630015Z",
     "shell.execute_reply.started": "2021-02-18T02:53:15.627034Z"
    }
   },
   "outputs": [
    {
     "data": {
      "text/plain": [
       "6"
      ]
     },
     "execution_count": 61,
     "metadata": {},
     "output_type": "execute_result"
    }
   ],
   "source": [
    "arr = [1,2,3]\n",
    "solution(arr)"
   ]
  }
 ],
 "metadata": {
  "kernelspec": {
   "display_name": "Python 3",
   "language": "python",
   "name": "python3"
  },
  "language_info": {
   "codemirror_mode": {
    "name": "ipython",
    "version": 3
   },
   "file_extension": ".py",
   "mimetype": "text/x-python",
   "name": "python",
   "nbconvert_exporter": "python",
   "pygments_lexer": "ipython3",
   "version": "3.8.3"
  }
 },
 "nbformat": 4,
 "nbformat_minor": 4
}
