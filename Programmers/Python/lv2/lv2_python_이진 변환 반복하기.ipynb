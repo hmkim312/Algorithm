{
 "cells": [
  {
   "cell_type": "markdown",
   "metadata": {},
   "source": [
    "URL <https://programmers.co.kr/learn/courses/30/lessons/70129>{:target=\"_blank\"}\n",
    "\n",
    "#### 문제 설명\n",
    "- 0과 1로 이루어진 어떤 문자열 x에 대한 이진 변환을 다음과 같이 정의합니다.\n",
    "    - x의 모든 0을 제거합니다.\n",
    "    - x의 길이를 c라고 하면, x를 c를 2진법으로 표현한 문자열로 바꿉니다.\n",
    "    - 예를 들어, x = \"0111010\"이라면, x에 이진 변환을 가하면 x = \"0111010\" -> \"1111\" -> \"100\" 이 됩니다.\n",
    "\n",
    "- 0과 1로 이루어진 문자열 s가 매개변수로 주어집니다. s가 1이 될 때까지 계속해서 s에 이진 변환을 가했을 때, 이진 변환의 횟수와 변환 과정에서 제거된 모든 0의 개수를 각각 배열에 담아 return 하도록 solution 함수를 완성해주세요.\n",
    "\n",
    "#### 제한 사항\n",
    "- s의 길이는 1 이상 150,000 이하입니다.\n",
    "- s에는 '1'이 최소 하나 이상 포함되어 있습니다.\n",
    "\n",
    "#### 문제 설명\n",
    "- 위에서 설명하는 내용을 그대로 코드로 옴긴것\n",
    "- count('0')을 사용하여 0의 갯수를 zeros에 넣고 replace로 0을 없애줌\n",
    "- 이후 새로 만든 new_s의 길이를 format에 넣어 새로운 s를 만들어고 answer에 +1을 시킴\n",
    "- s의 길이가 1이 될때까지 while문 반복"
   ]
  },
  {
   "cell_type": "code",
   "execution_count": 20,
   "metadata": {
    "execution": {
     "iopub.execute_input": "2021-02-19T00:40:56.644992Z",
     "iopub.status.busy": "2021-02-19T00:40:56.644780Z",
     "iopub.status.idle": "2021-02-19T00:40:56.649626Z",
     "shell.execute_reply": "2021-02-19T00:40:56.648955Z",
     "shell.execute_reply.started": "2021-02-19T00:40:56.644969Z"
    }
   },
   "outputs": [],
   "source": [
    "def solution(s):\n",
    "    zeros = 0\n",
    "    answer = 0 \n",
    "    while True:\n",
    "\n",
    "        zeros += s.count('0')\n",
    "        new_s = s.replace('0', '')\n",
    "        len_new_s = len(new_s)\n",
    "        s = format(len_new_s, 'b')\n",
    "        answer +=1\n",
    "        if len(s) == 1:\n",
    "            break\n",
    "            \n",
    "    return [answer, zeros]"
   ]
  },
  {
   "cell_type": "code",
   "execution_count": 21,
   "metadata": {
    "execution": {
     "iopub.execute_input": "2021-02-19T00:41:05.597421Z",
     "iopub.status.busy": "2021-02-19T00:41:05.597197Z",
     "iopub.status.idle": "2021-02-19T00:41:05.601991Z",
     "shell.execute_reply": "2021-02-19T00:41:05.601123Z",
     "shell.execute_reply.started": "2021-02-19T00:41:05.597397Z"
    }
   },
   "outputs": [
    {
     "data": {
      "text/plain": [
       "[3, 8]"
      ]
     },
     "execution_count": 21,
     "metadata": {},
     "output_type": "execute_result"
    }
   ],
   "source": [
    "s = '110010101001'\n",
    "solution(s)"
   ]
  },
  {
   "cell_type": "code",
   "execution_count": 22,
   "metadata": {
    "execution": {
     "iopub.execute_input": "2021-02-19T00:41:20.803342Z",
     "iopub.status.busy": "2021-02-19T00:41:20.803127Z",
     "iopub.status.idle": "2021-02-19T00:41:20.807282Z",
     "shell.execute_reply": "2021-02-19T00:41:20.806691Z",
     "shell.execute_reply.started": "2021-02-19T00:41:20.803318Z"
    }
   },
   "outputs": [
    {
     "data": {
      "text/plain": [
       "[3, 3]"
      ]
     },
     "execution_count": 22,
     "metadata": {},
     "output_type": "execute_result"
    }
   ],
   "source": [
    "s = '01110'\n",
    "solution(s)"
   ]
  },
  {
   "cell_type": "code",
   "execution_count": 23,
   "metadata": {
    "execution": {
     "iopub.execute_input": "2021-02-19T00:41:34.707422Z",
     "iopub.status.busy": "2021-02-19T00:41:34.707173Z",
     "iopub.status.idle": "2021-02-19T00:41:34.711754Z",
     "shell.execute_reply": "2021-02-19T00:41:34.711124Z",
     "shell.execute_reply.started": "2021-02-19T00:41:34.707393Z"
    }
   },
   "outputs": [
    {
     "data": {
      "text/plain": [
       "[4, 1]"
      ]
     },
     "execution_count": 23,
     "metadata": {},
     "output_type": "execute_result"
    }
   ],
   "source": [
    "s = '1111111'\n",
    "solution(s)"
   ]
  },
  {
   "cell_type": "code",
   "execution_count": 24,
   "metadata": {
    "execution": {
     "iopub.execute_input": "2021-02-19T00:47:43.505294Z",
     "iopub.status.busy": "2021-02-19T00:47:43.505044Z",
     "iopub.status.idle": "2021-02-19T00:47:43.509769Z",
     "shell.execute_reply": "2021-02-19T00:47:43.508886Z",
     "shell.execute_reply.started": "2021-02-19T00:47:43.505269Z"
    }
   },
   "outputs": [],
   "source": [
    "# 더 간략하게 만듬\n",
    "# 어차피 1의 갯수로 가지고 하기때문에 0을 replace할 필요가없음.\n",
    "# if len(s) == 1: break는 while문의 조건으로 걸어서 더 간략히 함\n",
    "\n",
    "def solution(s):\n",
    "    zeros = 0\n",
    "    answer = 0 \n",
    "    while len(s) != 1:\n",
    "\n",
    "        zeros += len(s) - s.count('1')\n",
    "        len_new = s.count('1')\n",
    "        s = format(len_new, 'b')\n",
    "        answer +=1\n",
    " \n",
    "    return [answer, zeros]"
   ]
  },
  {
   "cell_type": "code",
   "execution_count": 25,
   "metadata": {
    "execution": {
     "iopub.execute_input": "2021-02-19T00:47:49.320408Z",
     "iopub.status.busy": "2021-02-19T00:47:49.320198Z",
     "iopub.status.idle": "2021-02-19T00:47:49.324181Z",
     "shell.execute_reply": "2021-02-19T00:47:49.323537Z",
     "shell.execute_reply.started": "2021-02-19T00:47:49.320385Z"
    }
   },
   "outputs": [
    {
     "data": {
      "text/plain": [
       "[3, 8]"
      ]
     },
     "execution_count": 25,
     "metadata": {},
     "output_type": "execute_result"
    }
   ],
   "source": [
    "s = '110010101001'\n",
    "solution(s)"
   ]
  },
  {
   "cell_type": "code",
   "execution_count": 26,
   "metadata": {
    "execution": {
     "iopub.execute_input": "2021-02-19T00:47:56.568183Z",
     "iopub.status.busy": "2021-02-19T00:47:56.567963Z",
     "iopub.status.idle": "2021-02-19T00:47:56.571931Z",
     "shell.execute_reply": "2021-02-19T00:47:56.571263Z",
     "shell.execute_reply.started": "2021-02-19T00:47:56.568160Z"
    }
   },
   "outputs": [
    {
     "data": {
      "text/plain": [
       "[3, 3]"
      ]
     },
     "execution_count": 26,
     "metadata": {},
     "output_type": "execute_result"
    }
   ],
   "source": [
    "s = '01110'\n",
    "solution(s)"
   ]
  },
  {
   "cell_type": "code",
   "execution_count": 27,
   "metadata": {
    "execution": {
     "iopub.execute_input": "2021-02-19T00:47:57.474069Z",
     "iopub.status.busy": "2021-02-19T00:47:57.473840Z",
     "iopub.status.idle": "2021-02-19T00:47:57.477606Z",
     "shell.execute_reply": "2021-02-19T00:47:57.477100Z",
     "shell.execute_reply.started": "2021-02-19T00:47:57.474042Z"
    }
   },
   "outputs": [
    {
     "data": {
      "text/plain": [
       "[4, 1]"
      ]
     },
     "execution_count": 27,
     "metadata": {},
     "output_type": "execute_result"
    }
   ],
   "source": [
    "s = '1111111'\n",
    "solution(s)"
   ]
  },
  {
   "cell_type": "code",
   "execution_count": null,
   "metadata": {},
   "outputs": [],
   "source": []
  }
 ],
 "metadata": {
  "kernelspec": {
   "display_name": "Python 3",
   "language": "python",
   "name": "python3"
  },
  "language_info": {
   "codemirror_mode": {
    "name": "ipython",
    "version": 3
   },
   "file_extension": ".py",
   "mimetype": "text/x-python",
   "name": "python",
   "nbconvert_exporter": "python",
   "pygments_lexer": "ipython3",
   "version": "3.8.3"
  }
 },
 "nbformat": 4,
 "nbformat_minor": 4
}
