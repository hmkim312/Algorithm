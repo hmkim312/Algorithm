{
 "cells": [
  {
   "cell_type": "markdown",
   "metadata": {},
   "source": [
    "URL : <https://programmers.co.kr/learn/courses/30/lessons/12978>{:target=\"_blank\"}\n",
    "\n",
    "### 문제\n",
    "- N개의 마을로 이루어진 나라가 있습니다. 이 나라의 각 마을에는 1부터 N까지의 번호가 각각 하나씩 부여되어 있습니다. 각 마을은 양방향으로 통행할 수 있는 도로로 연결되어 있는데, 서로 다른 마을 간에 이동할 때는 이 도로를 지나야 합니다. 도로를 지날 때 걸리는 시간은 도로별로 다릅니다. 현재 1번 마을에 있는 음식점에서 각 마을로 음식 배달을 하려고 합니다. 각 마을로부터 음식 주문을 받으려고 하는데, N개의 마을 중에서 K 시간 이하로 배달이 가능한 마을에서만 주문을 받으려고 합니다. 다음은 N = 5, K = 3인 경우의 예시입니다.\n",
    "\n",
    "- 위 그림에서 1번 마을에 있는 음식점은 [1, 2, 4, 5] 번 마을까지는 3 이하의 시간에 배달할 수 있습니다. 그러나 3번 마을까지는 3시간 이내로 배달할 수 있는 경로가 없으므로 3번 마을에서는 주문을 받지 않습니다. 따라서 1번 마을에 있는 음식점이 배달 주문을 받을 수 있는 마을은 4개가 됩니다.\n",
    "- 마을의 개수 N, 각 마을을 연결하는 도로의 정보 road, 음식 배달이 가능한 시간 K가 매개변수로 주어질 때, 음식 주문을 받을 수 있는 마을의 개수를 return 하도록 solution 함수를 완성해주세요.\n",
    "\n",
    "### 제한사항\n",
    "- 마을의 개수 N은 1 이상 50 이하의 자연수입니다.\n",
    "- road의 길이(도로 정보의 개수)는 1 이상 2,000 이하입니다.\n",
    "- road의 각 원소는 마을을 연결하고 있는 각 도로의 정보를 나타냅니다.\n",
    "- road는 길이가 3인 배열이며, 순서대로 (a, b, c)를 나타냅니다.\n",
    "- a, b(1 ≤ a, b ≤ N, a != b)는 도로가 연결하는 두 마을의 번호이며, c(1 ≤ c ≤ 10,000, c는 자연수)는 도로를 지나는데 걸리는 시간입니다.\n",
    "- 두 마을 a, b를 연결하는 도로는 여러 개가 있을 수 있습니다.\n",
    "- 한 도로의 정보가 여러 번 중복해서 주어지지 않습니다.\n",
    "- K는 음식 배달이 가능한 시간을 나타내며, 1 이상 500,000 이하입니다.\n",
    "- 임의의 두 마을간에 항상 이동 가능한 경로가 존재합니다.\n",
    "- 1번 마을에 있는 음식점이 K 이하의 시간에 배달이 가능한 마을의 개수를 return 하면 됩니다\n",
    "\n",
    "### 문제풀이\n",
    "- 다익스트라를 사용해 풀어야함\n",
    "- visted라는 방문 노드를 생성 -> 처음 시작인 0번 마을(시작 루트)는 주어지지 않으므로 N + 1을 해줘야함\n",
    "- road는 [마을1, 마을2, 거리]순으로 마을1에서 마을2로 가는 방식으로 주어져 있음\n",
    "    - 이를 [거리, 마을]로 바꿔야주어야함\n",
    "    - 시작 마을은 visited의 index임\n",
    "- 전체 마을에 대한 거리 초기 설정 distance 생성, 거리는 모두 inf로 기본값 셋팅\n",
    "- heap 생성, 처음 0번 마을에서 1번 마을로 가는 거리는 0임\n",
    "- 이후 heap에 heappush와 heappop을 이용하여 마을의 거리와 노드를 출력\n",
    "    - 만일 마을의 거리가 기존 방문한 거리보다 짧으면 갱신, 아니면 넘어감\n",
    "- 모두 완료후 주어진 k보다 작거나 같은 distance를 출력"
   ]
  },
  {
   "cell_type": "code",
   "execution_count": 95,
   "metadata": {
    "execution": {
     "iopub.execute_input": "2022-01-11T00:33:55.747522Z",
     "iopub.status.busy": "2022-01-11T00:33:55.747304Z",
     "iopub.status.idle": "2022-01-11T00:33:55.754977Z",
     "shell.execute_reply": "2022-01-11T00:33:55.754349Z",
     "shell.execute_reply.started": "2022-01-11T00:33:55.747498Z"
    }
   },
   "outputs": [],
   "source": [
    "import heapq\n",
    "\n",
    "def solution(N, road, k):\n",
    "    \n",
    "    # 각 마을의 연결 노드 생성, 처음 시작인 0번 마을은 없기 떄문에 +1을 해줌\n",
    "    visited = [[] for i in range(N + 1)]\n",
    "    # [[], [], [], [], [], []]\n",
    "\n",
    "    # road = [마을1, 마을2, 거리]로 되어있는것을 -> [거리, 마을]로 변경, 시작 마을은 visited의 index임\n",
    "    for r in road:\n",
    "        # 마을1 정보에 대한 거리를 (거리, 도착 마을)로 설정\n",
    "        visited[r[0]].append([r[2], r[1]])\n",
    "        # 마을2 정보에 대한 거리를 (거리, 도착 마을)로 설정\n",
    "        visited[r[1]].append([r[2], r[0]])\n",
    "    \n",
    "    # [[], 0번 마을\n",
    "    # [[1, 2], [2, 4]], 1번 마을, 2번 마을로가는데 1의 거리, 4번 마을로 가는데 2의 거리 \n",
    "    # [[1, 1], [3, 3], [2, 5]],\n",
    "    # [[3, 2], [1, 5]],\n",
    "    # [[2, 1], [2, 5]],\n",
    "    # [[2, 2], [1, 3], [2, 4]]]\n",
    "    \n",
    "    \n",
    "    # 전체 마을에 대한 거리 초기 설정 (모두 inf), 처음 시작인 0번 마을은 없기 떄문에 +1을 해줌\n",
    "    distance = [float('inf')] * (N + 1)\n",
    "\n",
    "    # heap 시작 설정 \n",
    "    heap = []\n",
    "    \n",
    "    # 처음 0번 마을에서 1번 마을로 가는 거리는 0임\n",
    "    heapq.heappush(heap, [0, 1])\n",
    "\n",
    "    # 1번 마을의 거리 설정 -> 0\n",
    "    distance[1] = 0\n",
    "\n",
    "    # heap이 비기 전까지\n",
    "    while heap:\n",
    "        # heap에서 맨 앞에(루트)\n",
    "        cost, node = heapq.heappop(heap)\n",
    "        # 방문지의 cost, node\n",
    "        for c, n in visited[node]:\n",
    "            # 방문지의 cost와 현재 cost를 더 한게 거리의 합보다 낮으면 갱신\n",
    "            if cost + c < distance[n]:\n",
    "                distance[n] = cost + c\n",
    "                heapq.heappush(heap, [cost + c, n])\n",
    "                \n",
    "    # 주어진 k보다 distance가 작은것을 출력\n",
    "    return len([dis for dis in distance if k >= dis])"
   ]
  },
  {
   "cell_type": "code",
   "execution_count": 96,
   "metadata": {
    "execution": {
     "iopub.execute_input": "2022-01-11T00:33:56.115887Z",
     "iopub.status.busy": "2022-01-11T00:33:56.115676Z",
     "iopub.status.idle": "2022-01-11T00:33:56.121273Z",
     "shell.execute_reply": "2022-01-11T00:33:56.120670Z",
     "shell.execute_reply.started": "2022-01-11T00:33:56.115864Z"
    }
   },
   "outputs": [
    {
     "data": {
      "text/plain": [
       "4"
      ]
     },
     "execution_count": 96,
     "metadata": {},
     "output_type": "execute_result"
    }
   ],
   "source": [
    "N = 5\n",
    "road = [[1,2,1],[2,3,3],[5,2,2],[1,4,2],[5,3,1],[5,4,2]]\n",
    "k = 3\n",
    "\n",
    "solution(N, road, k)"
   ]
  },
  {
   "cell_type": "code",
   "execution_count": 97,
   "metadata": {
    "execution": {
     "iopub.execute_input": "2022-01-11T00:33:56.579956Z",
     "iopub.status.busy": "2022-01-11T00:33:56.579745Z",
     "iopub.status.idle": "2022-01-11T00:33:56.585167Z",
     "shell.execute_reply": "2022-01-11T00:33:56.584646Z",
     "shell.execute_reply.started": "2022-01-11T00:33:56.579933Z"
    }
   },
   "outputs": [
    {
     "data": {
      "text/plain": [
       "4"
      ]
     },
     "execution_count": 97,
     "metadata": {},
     "output_type": "execute_result"
    }
   ],
   "source": [
    "N = 6\n",
    "road = [[1,2,1],[1,3,2],[2,3,2],[3,4,3],[3,5,3],[3,5,2],[5,6,1]]\n",
    "k = 4\n",
    "\n",
    "solution(N, road, k)"
   ]
  },
  {
   "cell_type": "code",
   "execution_count": 100,
   "metadata": {
    "execution": {
     "iopub.execute_input": "2022-01-11T00:43:42.258424Z",
     "iopub.status.busy": "2022-01-11T00:43:42.258215Z",
     "iopub.status.idle": "2022-01-11T00:43:42.262453Z",
     "shell.execute_reply": "2022-01-11T00:43:42.261874Z",
     "shell.execute_reply.started": "2022-01-11T00:43:42.258401Z"
    }
   },
   "outputs": [
    {
     "name": "stdout",
     "output_type": "stream",
     "text": [
      "[14]\n",
      "[10, 14]\n",
      "[5, 14, 10]\n"
     ]
    }
   ],
   "source": [
    "# heapq heappush\n",
    "\n",
    "heap = [] # 사실 그냥 리스트\n",
    "heapq.heappush(heap, 14)\n",
    "print(heap)\n",
    "\n",
    "heapq.heappush(heap, 10)\n",
    "print(heap)\n",
    "\n",
    "heapq.heappush(heap, 5)\n",
    "print(heap)"
   ]
  },
  {
   "cell_type": "code",
   "execution_count": 101,
   "metadata": {
    "execution": {
     "iopub.execute_input": "2022-01-11T00:43:51.881157Z",
     "iopub.status.busy": "2022-01-11T00:43:51.880931Z",
     "iopub.status.idle": "2022-01-11T00:43:51.885141Z",
     "shell.execute_reply": "2022-01-11T00:43:51.884329Z",
     "shell.execute_reply.started": "2022-01-11T00:43:51.881133Z"
    }
   },
   "outputs": [
    {
     "name": "stdout",
     "output_type": "stream",
     "text": [
      "[10, 14]\n",
      "[14]\n"
     ]
    }
   ],
   "source": [
    "# heapq pop\n",
    "\n",
    "heapq.heappop(heap)\n",
    "print(heap)\n",
    "\n",
    "heapq.heappop(heap)\n",
    "print(heap)"
   ]
  },
  {
   "cell_type": "code",
   "execution_count": 98,
   "metadata": {
    "execution": {
     "iopub.execute_input": "2022-01-11T00:43:27.889577Z",
     "iopub.status.busy": "2022-01-11T00:43:27.889356Z",
     "iopub.status.idle": "2022-01-11T00:43:27.893730Z",
     "shell.execute_reply": "2022-01-11T00:43:27.892987Z",
     "shell.execute_reply.started": "2022-01-11T00:43:27.889554Z"
    }
   },
   "outputs": [
    {
     "data": {
      "text/plain": [
       "[inf, inf, inf, inf, inf, inf]"
      ]
     },
     "execution_count": 98,
     "metadata": {},
     "output_type": "execute_result"
    }
   ],
   "source": [
    "N = 5\n",
    "distance = [float('inf')] * (N + 1)\n",
    "distance"
   ]
  },
  {
   "cell_type": "code",
   "execution_count": 99,
   "metadata": {
    "execution": {
     "iopub.execute_input": "2022-01-11T00:43:32.990297Z",
     "iopub.status.busy": "2022-01-11T00:43:32.990085Z",
     "iopub.status.idle": "2022-01-11T00:43:32.994823Z",
     "shell.execute_reply": "2022-01-11T00:43:32.994028Z",
     "shell.execute_reply.started": "2022-01-11T00:43:32.990275Z"
    }
   },
   "outputs": [
    {
     "data": {
      "text/plain": [
       "[[], [], [], [], [], []]"
      ]
     },
     "execution_count": 99,
     "metadata": {},
     "output_type": "execute_result"
    }
   ],
   "source": [
    "visted = [[] for _ in range(N + 1)]\n",
    "visted"
   ]
  },
  {
   "cell_type": "code",
   "execution_count": 102,
   "metadata": {
    "execution": {
     "iopub.execute_input": "2022-01-11T00:44:06.406573Z",
     "iopub.status.busy": "2022-01-11T00:44:06.406355Z",
     "iopub.status.idle": "2022-01-11T00:44:06.410677Z",
     "shell.execute_reply": "2022-01-11T00:44:06.410027Z",
     "shell.execute_reply.started": "2022-01-11T00:44:06.406550Z"
    }
   },
   "outputs": [
    {
     "data": {
      "text/plain": [
       "[[0, 1]]"
      ]
     },
     "execution_count": 102,
     "metadata": {},
     "output_type": "execute_result"
    }
   ],
   "source": [
    "heap = []\n",
    "heapq.heappush(heap, [0, 1])\n",
    "heap"
   ]
  },
  {
   "cell_type": "code",
   "execution_count": 103,
   "metadata": {
    "execution": {
     "iopub.execute_input": "2022-01-11T00:44:19.735363Z",
     "iopub.status.busy": "2022-01-11T00:44:19.735153Z",
     "iopub.status.idle": "2022-01-11T00:44:19.739444Z",
     "shell.execute_reply": "2022-01-11T00:44:19.738636Z",
     "shell.execute_reply.started": "2022-01-11T00:44:19.735340Z"
    }
   },
   "outputs": [],
   "source": [
    "distance[1] = 0\n",
    "while heap:\n",
    "    cost, node = heapq.heappop(heap)\n",
    "    for c, n in visted[node]:\n",
    "        if cost + c < distance[n]:\n",
    "            distance[n] = cost + c\n",
    "            heapq.heappush(heap, [cost + c, n])"
   ]
  },
  {
   "cell_type": "code",
   "execution_count": 104,
   "metadata": {
    "execution": {
     "iopub.execute_input": "2022-01-11T00:44:20.243983Z",
     "iopub.status.busy": "2022-01-11T00:44:20.243776Z",
     "iopub.status.idle": "2022-01-11T00:44:20.247568Z",
     "shell.execute_reply": "2022-01-11T00:44:20.247009Z",
     "shell.execute_reply.started": "2022-01-11T00:44:20.243960Z"
    }
   },
   "outputs": [
    {
     "data": {
      "text/plain": [
       "[inf, 0, inf, inf, inf, inf]"
      ]
     },
     "execution_count": 104,
     "metadata": {},
     "output_type": "execute_result"
    }
   ],
   "source": [
    "dis"
   ]
  },
  {
   "cell_type": "code",
   "execution_count": 26,
   "metadata": {
    "execution": {
     "iopub.execute_input": "2022-01-11T00:03:49.296587Z",
     "iopub.status.busy": "2022-01-11T00:03:49.296370Z",
     "iopub.status.idle": "2022-01-11T00:03:49.300906Z",
     "shell.execute_reply": "2022-01-11T00:03:49.300138Z",
     "shell.execute_reply.started": "2022-01-11T00:03:49.296564Z"
    }
   },
   "outputs": [],
   "source": [
    "# 2개의 마을에 대한 거리정보가 2개 이므로, 정리가 필요함\n",
    "# ex) [마을, 마을, 거리] -> [거리, 마을]\n",
    "\n",
    "# 방문 정보를 넣을 리스트 생성\n",
    "\n",
    "# 아래 처럼 만들면, 안쪽 리스트가 모두 같은 id값을 가지게 되어, 하나만 변경해도 모두가 변경되게 됨\n",
    "# visited = [[]] * (N + 1)\n",
    "\n",
    "# list를 comprehension으로 생성해야, 리스트안의 리스트가 각기 다른 id를 가지게됨\n",
    "visited = [[] for i in range(N + 1)]\n",
    "# [[], [], [], [], [], []]\n",
    "\n",
    "# road = [마을1, 마을2, 거리]\n",
    "for r in road:\n",
    "    # 마을1 정보에 대한 거리를 (거리, 도착 마을)로 설정\n",
    "    visited[r[0]].append([r[2], r[1]])\n",
    "    # 마을2 정보에 대한 거리를 (거리, 도착 마을)로 설정\n",
    "    visited[r[1]].append([r[2], r[0]])\n",
    "    \n",
    "    # [[], 0번 마을\n",
    "    # [[1, 2], [2, 4]], 1번 마을, 2번 마을로가는데 1의 거리, 4번 마을로 가는데 2의 거리 \n",
    "    # [[1, 1], [3, 3], [2, 5]],\n",
    "    # [[3, 2], [1, 5]],\n",
    "    # [[2, 1], [2, 5]],\n",
    "    # [[2, 2], [1, 3], [2, 4]]]"
   ]
  },
  {
   "cell_type": "code",
   "execution_count": 27,
   "metadata": {
    "execution": {
     "iopub.execute_input": "2022-01-11T00:03:49.802168Z",
     "iopub.status.busy": "2022-01-11T00:03:49.801952Z",
     "iopub.status.idle": "2022-01-11T00:03:49.806662Z",
     "shell.execute_reply": "2022-01-11T00:03:49.806080Z",
     "shell.execute_reply.started": "2022-01-11T00:03:49.802144Z"
    }
   },
   "outputs": [
    {
     "data": {
      "text/plain": [
       "[[],\n",
       " [[1, 2], [2, 4]],\n",
       " [[1, 1], [3, 3], [2, 5]],\n",
       " [[3, 2], [1, 5]],\n",
       " [[2, 1], [2, 5]],\n",
       " [[2, 2], [1, 3], [2, 4]]]"
      ]
     },
     "execution_count": 27,
     "metadata": {},
     "output_type": "execute_result"
    }
   ],
   "source": [
    "visited"
   ]
  },
  {
   "cell_type": "code",
   "execution_count": 32,
   "metadata": {
    "execution": {
     "iopub.execute_input": "2022-01-11T00:04:01.097537Z",
     "iopub.status.busy": "2022-01-11T00:04:01.097316Z",
     "iopub.status.idle": "2022-01-11T00:04:01.102711Z",
     "shell.execute_reply": "2022-01-11T00:04:01.101948Z",
     "shell.execute_reply.started": "2022-01-11T00:04:01.097515Z"
    }
   },
   "outputs": [],
   "source": [
    "# 전체 마을에 대한 거리 초기 설정 (모두 inf), 처음 시작인 0번 마을은 없기 떄문에 +1을 해줌\n",
    "distance = [float('inf')] * (N + 1)\n",
    "\n",
    "# heap 시작 설정 1번 마을로 가는 거리는 0\n",
    "heap = []\n",
    "\n",
    "heapq.heappush(heap, [0, 1])\n",
    "\n",
    "# 1번 마을의 거리 설정 -> 0\n",
    "distance[1] = 0\n",
    "\n",
    "# heap이 비기 전까지\n",
    "while heap:\n",
    "    # heap에서 맨 앞에(루트)\n",
    "    cost, node = heapq.heappop(heap)\n",
    "    # 방문지의 cost, node\n",
    "    for c, n in visited[node]:\n",
    "        # 방문지의 cost와 현재 cost를 더 한게 거리의 합보다 낮으면 갱신\n",
    "        if cost + c < distance[n]:\n",
    "            distance[n] = cost + c\n",
    "            heapq.heappush(heap, [cost + c, n])"
   ]
  },
  {
   "cell_type": "code",
   "execution_count": 106,
   "metadata": {
    "execution": {
     "iopub.execute_input": "2022-01-11T00:44:43.812248Z",
     "iopub.status.busy": "2022-01-11T00:44:43.812026Z",
     "iopub.status.idle": "2022-01-11T00:44:43.815408Z",
     "shell.execute_reply": "2022-01-11T00:44:43.814724Z",
     "shell.execute_reply.started": "2022-01-11T00:44:43.812224Z"
    }
   },
   "outputs": [],
   "source": [
    "for c, n in visited[1]:\n",
    "    print(c, n)"
   ]
  },
  {
   "cell_type": "code",
   "execution_count": 105,
   "metadata": {
    "execution": {
     "iopub.execute_input": "2022-01-11T00:44:32.269860Z",
     "iopub.status.busy": "2022-01-11T00:44:32.269639Z",
     "iopub.status.idle": "2022-01-11T00:44:32.274323Z",
     "shell.execute_reply": "2022-01-11T00:44:32.273509Z",
     "shell.execute_reply.started": "2022-01-11T00:44:32.269837Z"
    }
   },
   "outputs": [
    {
     "data": {
      "text/plain": [
       "1"
      ]
     },
     "execution_count": 105,
     "metadata": {},
     "output_type": "execute_result"
    }
   ],
   "source": [
    "len([dis for dis in distance if k >= dis])"
   ]
  },
  {
   "cell_type": "code",
   "execution_count": 29,
   "metadata": {
    "execution": {
     "iopub.execute_input": "2022-01-11T00:03:50.800364Z",
     "iopub.status.busy": "2022-01-11T00:03:50.800153Z",
     "iopub.status.idle": "2022-01-11T00:03:50.803542Z",
     "shell.execute_reply": "2022-01-11T00:03:50.802968Z",
     "shell.execute_reply.started": "2022-01-11T00:03:50.800342Z"
    }
   },
   "outputs": [
    {
     "name": "stdout",
     "output_type": "stream",
     "text": [
      "1 2\n",
      "2 4\n"
     ]
    }
   ],
   "source": [
    "for c, n in visited[1]:\n",
    "    print(c, n)"
   ]
  }
 ],
 "metadata": {
  "kernelspec": {
   "display_name": "Python 3",
   "language": "python",
   "name": "python3"
  },
  "language_info": {
   "codemirror_mode": {
    "name": "ipython",
    "version": 3
   },
   "file_extension": ".py",
   "mimetype": "text/x-python",
   "name": "python",
   "nbconvert_exporter": "python",
   "pygments_lexer": "ipython3",
   "version": "3.8.3"
  }
 },
 "nbformat": 4,
 "nbformat_minor": 4
}
