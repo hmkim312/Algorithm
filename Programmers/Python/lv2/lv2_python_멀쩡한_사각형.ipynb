{
 "cells": [
  {
   "cell_type": "markdown",
   "metadata": {},
   "source": [
    "URL : <https://programmers.co.kr/learn/courses/30/lessons/62048>{:target=\"_blank\"}\n",
    "\n",
    "### 문제 설명\n",
    "- 가로 길이가 Wcm, 세로 길이가 Hcm인 직사각형 종이가 있습니다. 종이에는 가로, 세로 방향과 평행하게 격자 형태로 선이 그어져 있으며, 모든 격자칸은 1cm x 1cm 크기입니다. 이 종이를 격자 선을 따라 1cm × 1cm의 정사각형으로 잘라 사용할 예정이었는데, 누군가가 이 종이를 대각선 꼭지점 2개를 잇는 방향으로 잘라 놓았습니다. 그러므로 현재 직사각형 종이는 크기가 같은 직각삼각형 2개로 나누어진 상태입니다. 새로운 종이를 구할 수 없는 상태이기 때문에, 이 종이에서 원래 종이의 가로, 세로 방향과 평행하게 1cm × 1cm로 잘라 사용할 수 있는 만큼만 사용하기로 하였습니다.\n",
    "- 가로의 길이 W와 세로의 길이 H가 주어질 때, 사용할 수 있는 정사각형의 개수를 구하는 solution 함수를 완성해 주세요.\n",
    "\n",
    "### 제한 사항\n",
    "- W, H : 1억 이하의 자연수\n",
    "\n",
    "### 문제 풀이\n",
    "\n",
    "- <img src = \"https://user-images.githubusercontent.com/77366857/151084147-58eee112-2ae1-4d57-8d9f-8cb1200acb97.png\">\n",
    "- 전체 그림은 아래의 패턴의 연속임을 알수 있다.\n",
    "- <img src = \"https://user-images.githubusercontent.com/77366857/151084206-4fd3d40b-4d69-4b7e-b8ac-c34bc110531e.png\">\n",
    "- 패턴의 사각형은 2,3으로 이루어져 있다. 이는 8과 12를 기준으로 어떻게 2,3이 나오는지 고민해 보아야 한다.\n",
    "- 8과 12를 4로 나우면 2,3이며, 두 수의 공통수를 생각해보면 최대 공약수, 최소공 배수를 유추해볼수 있다.\n",
    "- 4는 8과 12의 최소공배수이고 이는 python의 math 패키지의 gcd를 이용해서 구할수 있다.\n",
    "- 그렇다면 2 x 3의 사각형일떄, 못쓰는 네모를 고민해보면 4개이다.\n",
    "- <img src = 'https://user-images.githubusercontent.com/77366857/151085533-7cb8a168-9de1-4364-80e8-9447e66d7392.png'>\n",
    "- 5 x 2의 사각형일떄는 6개, 1 x 2는 2개, 1 x 3은 3개로, 공식을 보면 w + h -1이 못쓰는 사각형의 갯수이다.\n",
    "- 공식으로 보면 (w / 최대 공약수) + (h / 최대 공약수) -1 은 패턴에서 못쓰는 사각형이다.\n",
    "- 그럼 전체 사각형에서 보면 ( (w / 최대 공약수) + (h / 최대 공약수 ) -1 ) * 최대 공약수를 해주면 전체 못쓰는 사각형의 갯수가 나오고 이걸 전체 사각형에서 빼주면된다."
   ]
  },
  {
   "cell_type": "code",
   "execution_count": 27,
   "metadata": {
    "execution": {
     "iopub.execute_input": "2022-01-26T01:12:00.416411Z",
     "iopub.status.busy": "2022-01-26T01:12:00.416188Z",
     "iopub.status.idle": "2022-01-26T01:12:00.419839Z",
     "shell.execute_reply": "2022-01-26T01:12:00.419194Z",
     "shell.execute_reply.started": "2022-01-26T01:12:00.416391Z"
    }
   },
   "outputs": [],
   "source": [
    "import math\n",
    "def solution(w, h):\n",
    "    gcd = math.gcd(w, h)\n",
    "    unusable_rectangle = ( (w / gcd ) + (h / gcd ) -1) * gcd\n",
    "    total = w * h\n",
    "    return int(total - unusable_rectangle)"
   ]
  },
  {
   "cell_type": "code",
   "execution_count": 26,
   "metadata": {
    "execution": {
     "iopub.execute_input": "2022-01-26T01:11:52.046171Z",
     "iopub.status.busy": "2022-01-26T01:11:52.045988Z",
     "iopub.status.idle": "2022-01-26T01:11:52.049348Z",
     "shell.execute_reply": "2022-01-26T01:11:52.048931Z",
     "shell.execute_reply.started": "2022-01-26T01:11:52.046153Z"
    }
   },
   "outputs": [
    {
     "data": {
      "text/plain": [
       "80.0"
      ]
     },
     "execution_count": 26,
     "metadata": {},
     "output_type": "execute_result"
    }
   ],
   "source": [
    "w = 8\n",
    "h = 12\n",
    "solution(w, h)"
   ]
  },
  {
   "cell_type": "code",
   "execution_count": 28,
   "metadata": {
    "execution": {
     "iopub.execute_input": "2022-01-26T01:12:28.795670Z",
     "iopub.status.busy": "2022-01-26T01:12:28.795482Z",
     "iopub.status.idle": "2022-01-26T01:12:28.799005Z",
     "shell.execute_reply": "2022-01-26T01:12:28.798448Z",
     "shell.execute_reply.started": "2022-01-26T01:12:28.795651Z"
    }
   },
   "outputs": [
    {
     "data": {
      "text/plain": [
       "4"
      ]
     },
     "execution_count": 28,
     "metadata": {},
     "output_type": "execute_result"
    }
   ],
   "source": [
    "w = 5\n",
    "h = 2\n",
    "solution(w, h)"
   ]
  },
  {
   "cell_type": "code",
   "execution_count": 29,
   "metadata": {
    "execution": {
     "iopub.execute_input": "2022-01-26T01:12:45.310739Z",
     "iopub.status.busy": "2022-01-26T01:12:45.310562Z",
     "iopub.status.idle": "2022-01-26T01:12:45.314328Z",
     "shell.execute_reply": "2022-01-26T01:12:45.313579Z",
     "shell.execute_reply.started": "2022-01-26T01:12:45.310720Z"
    }
   },
   "outputs": [
    {
     "data": {
      "text/plain": [
       "0"
      ]
     },
     "execution_count": 29,
     "metadata": {},
     "output_type": "execute_result"
    }
   ],
   "source": [
    "w = 1\n",
    "h = 2\n",
    "solution(w, h)"
   ]
  },
  {
   "cell_type": "code",
   "execution_count": 30,
   "metadata": {
    "execution": {
     "iopub.execute_input": "2022-01-26T01:12:52.343724Z",
     "iopub.status.busy": "2022-01-26T01:12:52.343447Z",
     "iopub.status.idle": "2022-01-26T01:12:52.348001Z",
     "shell.execute_reply": "2022-01-26T01:12:52.347279Z",
     "shell.execute_reply.started": "2022-01-26T01:12:52.343706Z"
    }
   },
   "outputs": [
    {
     "data": {
      "text/plain": [
       "0"
      ]
     },
     "execution_count": 30,
     "metadata": {},
     "output_type": "execute_result"
    }
   ],
   "source": [
    "w = 1\n",
    "h = 3\n",
    "solution(w, h)"
   ]
  }
 ],
 "metadata": {
  "kernelspec": {
   "display_name": "Python 3",
   "language": "python",
   "name": "python3"
  },
  "language_info": {
   "codemirror_mode": {
    "name": "ipython",
    "version": 3
   },
   "file_extension": ".py",
   "mimetype": "text/x-python",
   "name": "python",
   "nbconvert_exporter": "python",
   "pygments_lexer": "ipython3",
   "version": "3.8.3"
  }
 },
 "nbformat": 4,
 "nbformat_minor": 4
}
