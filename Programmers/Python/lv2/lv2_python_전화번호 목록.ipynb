{
 "cells": [
  {
   "cell_type": "markdown",
   "metadata": {},
   "source": [
    "#### 전화번호 목록\n",
    "- 문제 설명\n",
    "    - 전화번호부에 적힌 전화번호 중, 한 번호가 다른 번호의 접두어인 경우가 있는지 확인하려 합니다.\n",
    "    - 전화번호가 다음과 같을 경우, 구조대 전화번호는 영석이의 전화번호의 접두사입니다.\n",
    "\n",
    "        - 구조대 : 119\n",
    "        - 박준영 : 97 674 223\n",
    "        - 지영석 : 11 9552 4421\n",
    "- 전화번호부에 적힌 전화번호를 담은 배열 phone_book 이 solution 함수의 매개변수로 주어질 때, 어떤 번호가 다른 번호의 접두어인 경우가 있으면 false를 그렇지 않으면 true를 return 하도록 solution 함수를 작성해주세요.\n",
    "\n",
    "- 제한 사항\n",
    "    - phone_book의 길이는 1 이상 1,000,000 이하입니다.\n",
    "    - 각 전화번호의 길이는 1 이상 20 이하입니다."
   ]
  },
  {
   "cell_type": "code",
   "execution_count": 70,
   "metadata": {
    "execution": {
     "iopub.execute_input": "2020-06-26T06:50:56.869991Z",
     "iopub.status.busy": "2020-06-26T06:50:56.869991Z",
     "iopub.status.idle": "2020-06-26T06:50:56.874979Z",
     "shell.execute_reply": "2020-06-26T06:50:56.874979Z",
     "shell.execute_reply.started": "2020-06-26T06:50:56.869991Z"
    }
   },
   "outputs": [
    {
     "name": "stdout",
     "output_type": "stream",
     "text": [
      "True\n",
      "True\n",
      "False\n",
      "True\n"
     ]
    }
   ],
   "source": [
    "phone_book = ['97674223', '1195524421','119']\n",
    "for i in phone_book:\n",
    "    phone_book_remove = phone_book.copy()\n",
    "    phone_book_remove.remove(i)\n",
    "    for k in phone_book_remove:\n",
    "        if i in k[:len(i)]:\n",
    "            print (False)\n",
    "    print (True)"
   ]
  },
  {
   "cell_type": "code",
   "execution_count": 71,
   "metadata": {
    "execution": {
     "iopub.execute_input": "2020-06-26T06:50:59.261864Z",
     "iopub.status.busy": "2020-06-26T06:50:59.260865Z",
     "iopub.status.idle": "2020-06-26T06:50:59.265852Z",
     "shell.execute_reply": "2020-06-26T06:50:59.265852Z",
     "shell.execute_reply.started": "2020-06-26T06:50:59.261864Z"
    }
   },
   "outputs": [],
   "source": [
    "def solution(phone_book):\n",
    "    for i in phone_book:\n",
    "        phone_book_remove = phone_book.copy()\n",
    "        phone_book_remove.remove(i)\n",
    "        for k in phone_book_remove:\n",
    "            if i in k[:len(i)]:\n",
    "                return False\n",
    "    return True"
   ]
  },
  {
   "cell_type": "code",
   "execution_count": 72,
   "metadata": {
    "execution": {
     "iopub.execute_input": "2020-06-26T06:50:59.416627Z",
     "iopub.status.busy": "2020-06-26T06:50:59.416627Z",
     "iopub.status.idle": "2020-06-26T06:50:59.420656Z",
     "shell.execute_reply": "2020-06-26T06:50:59.420656Z",
     "shell.execute_reply.started": "2020-06-26T06:50:59.416627Z"
    }
   },
   "outputs": [
    {
     "data": {
      "text/plain": [
       "False"
      ]
     },
     "execution_count": 72,
     "metadata": {},
     "output_type": "execute_result"
    }
   ],
   "source": [
    "phone_book = ['97674223', '1195524421','119']\n",
    "solution(phone_book)"
   ]
  },
  {
   "cell_type": "code",
   "execution_count": 73,
   "metadata": {
    "execution": {
     "iopub.execute_input": "2020-06-26T06:50:59.636762Z",
     "iopub.status.busy": "2020-06-26T06:50:59.635792Z",
     "iopub.status.idle": "2020-06-26T06:50:59.641748Z",
     "shell.execute_reply": "2020-06-26T06:50:59.641748Z",
     "shell.execute_reply.started": "2020-06-26T06:50:59.636762Z"
    }
   },
   "outputs": [
    {
     "data": {
      "text/plain": [
       "True"
      ]
     },
     "execution_count": 73,
     "metadata": {},
     "output_type": "execute_result"
    }
   ],
   "source": [
    "phone_book = ['123','456','789']\n",
    "solution(phone_book)"
   ]
  },
  {
   "cell_type": "code",
   "execution_count": null,
   "metadata": {},
   "outputs": [],
   "source": []
  }
 ],
 "metadata": {
  "kernelspec": {
   "display_name": "Python 3",
   "language": "python",
   "name": "python3"
  },
  "language_info": {
   "codemirror_mode": {
    "name": "ipython",
    "version": 3
   },
   "file_extension": ".py",
   "mimetype": "text/x-python",
   "name": "python",
   "nbconvert_exporter": "python",
   "pygments_lexer": "ipython3",
   "version": "3.8.3"
  }
 },
 "nbformat": 4,
 "nbformat_minor": 4
}
