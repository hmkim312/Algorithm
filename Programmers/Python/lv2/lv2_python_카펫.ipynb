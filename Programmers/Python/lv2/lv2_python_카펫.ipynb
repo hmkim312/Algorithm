{
 "cells": [
  {
   "cell_type": "markdown",
   "metadata": {},
   "source": [
    "URL : <https://programmers.co.kr/learn/courses/30/lessons/42842>{:target=\"_blank\"}\n",
    "\n",
    "#### 문제설명\n",
    "- Leo는 카펫을 사러 갔다가 아래 그림과 같이 중앙에는 노란색으로 칠해져 있고 테두리 1줄은 갈색으로 칠해져 있는 격자 모양 카펫을 봤습니다.\n",
    "- Leo는 집으로 돌아와서 아까 본 카펫의 노란색과 갈색으로 색칠된 격자의 개수는 기억했지만, 전체 카펫의 크기는 기억하지 못했습니다.\n",
    "- Leo가 본 카펫에서 갈색 격자의 수 brown, 노란색 격자의 수 yellow가 매개변수로 주어질 때 카펫의 가로, 세로 크기를 순서대로 배열에 담아 return 하도록 solution 함수를 작성해주세요.\n",
    "\n",
    "#### 제한사항\n",
    "- 갈색 격자의 수 brown은 8 이상 5,000 이하인 자연수입니다.\n",
    "- 노란색 격자의 수 yellow는 1 이상 2,000,000 이하인 자연수입니다.\n",
    "- 카펫의 가로 길이는 세로 길이와 같거나, 세로 길이보다 깁니다."
   ]
  },
  {
   "cell_type": "markdown",
   "metadata": {},
   "source": [
    "#### 문제풀이\n",
    "- yellow의 사각형의 **둘레**는 brown - 4 입니다.\n",
    "- brown 사각형의 가로(x), 세로(y)는 yellow의 가로(a), 세로(b)에서 +2를 해야 합니다. 즉 x = a + 2, y = b + 2 입니다.\n",
    "- #1 : yellow의 약수를 찾아 yellow 사각형의 가로(a) 세로(b)를 찾습니다.\n",
    "- #2 : yellow 사각형의 둘레 (a + b) * 2가 brown - 4와 같은 수를 찾습니다.\n",
    "- #3 : x = a + 2, y = b + 2를 합니다.\n",
    "- #4 : x,y를 리턴하는데, 가로가 세로보다 크다 했으니 max로 가로, min으로 세로를 출력합니다."
   ]
  },
  {
   "cell_type": "code",
   "execution_count": 108,
   "metadata": {
    "execution": {
     "iopub.execute_input": "2021-01-11T01:20:48.947713Z",
     "iopub.status.busy": "2021-01-11T01:20:48.947500Z",
     "iopub.status.idle": "2021-01-11T01:20:48.952457Z",
     "shell.execute_reply": "2021-01-11T01:20:48.951732Z",
     "shell.execute_reply.started": "2021-01-11T01:20:48.947688Z"
    }
   },
   "outputs": [],
   "source": [
    "def solution(brown, yellow):\n",
    "    # 1\n",
    "    divisors = [i for i in (range(1, (yellow + 1))) if yellow % i ==0]\n",
    "    \n",
    "    #2\n",
    "    for a in divisors:\n",
    "        b = (yellow / a)\n",
    "        if (a + b) * 2 == brown - 4:\n",
    "            # 3\n",
    "            x = a + 2\n",
    "            y = b + 2\n",
    "    # 4\n",
    "    return [int(max(x, y)), int(min(x, y))]"
   ]
  },
  {
   "cell_type": "code",
   "execution_count": 109,
   "metadata": {
    "execution": {
     "iopub.execute_input": "2021-01-11T01:20:49.140069Z",
     "iopub.status.busy": "2021-01-11T01:20:49.139861Z",
     "iopub.status.idle": "2021-01-11T01:20:49.143749Z",
     "shell.execute_reply": "2021-01-11T01:20:49.143239Z",
     "shell.execute_reply.started": "2021-01-11T01:20:49.140046Z"
    }
   },
   "outputs": [
    {
     "data": {
      "text/plain": [
       "[8, 6]"
      ]
     },
     "execution_count": 109,
     "metadata": {},
     "output_type": "execute_result"
    }
   ],
   "source": [
    "brown = 24\n",
    "yellow = 24\n",
    "solution(brown, yellow)"
   ]
  },
  {
   "cell_type": "code",
   "execution_count": 110,
   "metadata": {
    "execution": {
     "iopub.execute_input": "2021-01-11T01:20:49.479867Z",
     "iopub.status.busy": "2021-01-11T01:20:49.479648Z",
     "iopub.status.idle": "2021-01-11T01:20:49.484012Z",
     "shell.execute_reply": "2021-01-11T01:20:49.483490Z",
     "shell.execute_reply.started": "2021-01-11T01:20:49.479843Z"
    }
   },
   "outputs": [
    {
     "data": {
      "text/plain": [
       "[3, 3]"
      ]
     },
     "execution_count": 110,
     "metadata": {},
     "output_type": "execute_result"
    }
   ],
   "source": [
    "brown = 8\n",
    "yellow = 1\n",
    "solution(brown, yellow)"
   ]
  }
 ],
 "metadata": {
  "kernelspec": {
   "display_name": "Python 3",
   "language": "python",
   "name": "python3"
  },
  "language_info": {
   "codemirror_mode": {
    "name": "ipython",
    "version": 3
   },
   "file_extension": ".py",
   "mimetype": "text/x-python",
   "name": "python",
   "nbconvert_exporter": "python",
   "pygments_lexer": "ipython3",
   "version": "3.8.3"
  }
 },
 "nbformat": 4,
 "nbformat_minor": 4
}
