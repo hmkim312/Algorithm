{
 "cells": [
  {
   "cell_type": "markdown",
   "metadata": {},
   "source": [
    "URL <https://programmers.co.kr/learn/courses/30/lessons/12905>{:target=\"_blank\"}\n",
    "\n",
    "#### 문제 설명\n",
    "- 1와 0로 채워진 표(board)가 있습니다. 표 1칸은 1 x 1 의 정사각형으로 이루어져 있습니다. 표에서 1로 이루어진 가장 큰 정사각형을 찾아 넓이를 return 하는 solution 함수를 완성해 주세요. (단, 정사각형이란 축에 평행한 정사각형을 말합니다.)\n",
    "\n",
    "- 예를 들어\n",
    "\n",
    "```\n",
    "1\t2\t3\t4\n",
    "0\t1\t1\t1\n",
    "1\t1\t1\t1\n",
    "1\t1\t1\t1\n",
    "0\t0\t1\t0\n",
    "```\n",
    "- 가 있다면 가장 큰 정사각형은\n",
    "\n",
    "```\n",
    "1\t2\t3\t4\n",
    "0\t1\t1\t1\n",
    "1\t1\t1\t1\n",
    "1\t1\t1\t1\n",
    "0\t0\t1\t0\n",
    "```\n",
    "- 가 되며 넓이는 9가 되므로 9를 반환해 주면 됩니다.\n",
    "\n",
    "#### 제한 사항\n",
    "- 표(board)는 2차원 배열로 주어집니다.\n",
    "- 표(board)의 행(row)의 크기 : 1,000 이하의 자연수\n",
    "- 표(board)의 열(column)의 크기 : 1,000 이하의 자연수\n",
    "- 표(board)의 값은 1또는 0으로만 이루어져 있습니다.\n",
    "\n",
    "#### 문제 풀이\n",
    "- 전체 탐색으로 가면 시간효율성 때문에 안됨\n",
    "- board의 2 x 2를 계속 탐색하면서 가장 마지막 board의 (1,1)에 최소값 +1을 해줌\n",
    "- 위의 내용을 반복하면 아래 처럼된다.\n",
    "\n",
    "```\n",
    "1 1  -> 1 1\n",
    "1 1     1 2\n",
    "```\n",
    "\n",
    "```\n",
    "1 1 1    1 1 1    1 1 1    1 1 1    1 1 1    1 1 1\n",
    "1 1 1 -> 1 2 1 -> 1 2 2 -> 1 2 2 -> 1 2 2 -> 1 2 2\n",
    "1 1 1    1 1 1    1 1 1    1 2 1    1 2 2    1 2 3\n",
    "\n",
    "```\n",
    "\n",
    "- 결국 answer는 마지막 board의 (1,1)이 가장 큰 값을 곱해주면 됨\n",
    "\n",
    "- 하지만 아래의 케이스는 answer가 1일 경우인데 0을 리턴하게 된다\n",
    "```\n",
    "1 0 -> 1 0\n",
    "0 0    0 0\n",
    "```\n",
    "\n",
    "- 따라서 answer가 1인 경우 (1 * 1) = 1을 따로 만들어 주어야 하며\n",
    "- 그냥 board를 for문돌면서 행의 sum이 1이상이면 일단 answer = 1로, 아니면 0으로 하였다.\n",
    "\n",
    "- 참고 URL <https://velog.io/@djagmlrhks3/Algorithm-Programmers-%EA%B0%80%EC%9E%A5-%ED%81%B0-%EC%A0%95%EC%82%AC%EA%B0%81%ED%98%95-%EC%B0%BE%EA%B8%B0-by-Python>"
   ]
  },
  {
   "cell_type": "code",
   "execution_count": 96,
   "metadata": {
    "execution": {
     "iopub.execute_input": "2021-03-02T01:44:53.384224Z",
     "iopub.status.busy": "2021-03-02T01:44:53.384036Z",
     "iopub.status.idle": "2021-03-02T01:44:53.389452Z",
     "shell.execute_reply": "2021-03-02T01:44:53.388858Z",
     "shell.execute_reply.started": "2021-03-02T01:44:53.384203Z"
    }
   },
   "outputs": [],
   "source": [
    "def solution(board):\n",
    "    for row in board:\n",
    "        if sum(row):\n",
    "            answer = 1\n",
    "            break\n",
    "        else:    \n",
    "            answer = 0\n",
    "    for i in range(1, len(board)): #행\n",
    "        for j in range(1, len(board[0])): #열\n",
    "            if board[i-1][j-1] and board[i-1][j] and board[i][j-1] and board[i][j]:\n",
    "                board[i][j] = min(board[i-1][j-1], board[i-1][j], board[i][j-1]) + 1\n",
    "                answer = max(answer, board[i][j])\n",
    "    return answer * answer"
   ]
  },
  {
   "cell_type": "code",
   "execution_count": 97,
   "metadata": {
    "execution": {
     "iopub.execute_input": "2021-03-02T01:44:53.406485Z",
     "iopub.status.busy": "2021-03-02T01:44:53.406291Z",
     "iopub.status.idle": "2021-03-02T01:44:53.410775Z",
     "shell.execute_reply": "2021-03-02T01:44:53.410093Z",
     "shell.execute_reply.started": "2021-03-02T01:44:53.406463Z"
    }
   },
   "outputs": [
    {
     "data": {
      "text/plain": [
       "9"
      ]
     },
     "execution_count": 97,
     "metadata": {},
     "output_type": "execute_result"
    }
   ],
   "source": [
    "board = [[0,1,1,1],[1,1,1,1],[1,1,1,1],[0,0,1,0]]\n",
    "solution(board)"
   ]
  },
  {
   "cell_type": "code",
   "execution_count": 98,
   "metadata": {
    "execution": {
     "iopub.execute_input": "2021-03-02T01:44:53.617613Z",
     "iopub.status.busy": "2021-03-02T01:44:53.617305Z",
     "iopub.status.idle": "2021-03-02T01:44:53.622315Z",
     "shell.execute_reply": "2021-03-02T01:44:53.621752Z",
     "shell.execute_reply.started": "2021-03-02T01:44:53.617561Z"
    }
   },
   "outputs": [
    {
     "data": {
      "text/plain": [
       "4"
      ]
     },
     "execution_count": 98,
     "metadata": {},
     "output_type": "execute_result"
    }
   ],
   "source": [
    "board = [[0,0,1,1],[1,1,1,1]]\n",
    "solution(board)"
   ]
  },
  {
   "cell_type": "code",
   "execution_count": 99,
   "metadata": {
    "execution": {
     "iopub.execute_input": "2021-03-02T01:44:53.893627Z",
     "iopub.status.busy": "2021-03-02T01:44:53.893415Z",
     "iopub.status.idle": "2021-03-02T01:44:53.897746Z",
     "shell.execute_reply": "2021-03-02T01:44:53.896988Z",
     "shell.execute_reply.started": "2021-03-02T01:44:53.893603Z"
    }
   },
   "outputs": [
    {
     "data": {
      "text/plain": [
       "1"
      ]
     },
     "execution_count": 99,
     "metadata": {},
     "output_type": "execute_result"
    }
   ],
   "source": [
    "board = [[1, 0], [0, 0]]\n",
    "solution(board)"
   ]
  },
  {
   "cell_type": "code",
   "execution_count": null,
   "metadata": {},
   "outputs": [],
   "source": []
  }
 ],
 "metadata": {
  "kernelspec": {
   "display_name": "Python 3",
   "language": "python",
   "name": "python3"
  },
  "language_info": {
   "codemirror_mode": {
    "name": "ipython",
    "version": 3
   },
   "file_extension": ".py",
   "mimetype": "text/x-python",
   "name": "python",
   "nbconvert_exporter": "python",
   "pygments_lexer": "ipython3",
   "version": "3.8.3"
  }
 },
 "nbformat": 4,
 "nbformat_minor": 4
}
