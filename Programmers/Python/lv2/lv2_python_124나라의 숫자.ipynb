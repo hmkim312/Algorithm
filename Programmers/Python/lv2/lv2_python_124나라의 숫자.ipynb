{
 "cells": [
  {
   "cell_type": "markdown",
   "metadata": {},
   "source": [
    "URL : <https://programmers.co.kr/learn/courses/30/lessons/12899>{:target=\"_blank\"}\n",
    "\n",
    "#### 문제설명\n",
    "- 124 나라가 있습니다. 124 나라에서는 10진법이 아닌 다음과 같은 자신들만의 규칙으로 수를 표현합니다.\n",
    "- 124 나라에는 자연수만 존재합니다.\n",
    "- 124 나라에는 모든 수를 표현할 때 1, 2, 4만 사용합니다.\n",
    "\n",
    "- 자연수 n이 매개변수로 주어질 때, n을 124 나라에서 사용하는 숫자로 바꾼 값을 return 하도록 solution 함수를 완성해 주세요.\n",
    "\n",
    "#### 제한사항\n",
    "- n은 500,000,000이하의 자연수 입니다.\n"
   ]
  },
  {
   "cell_type": "markdown",
   "metadata": {},
   "source": [
    "#### 문제풀이\n",
    "- 1,2,4밖에 없으니 3진법으로 문제를 풀면됨\n",
    "- divmod를 사용하면 몫과 나머지를 주는데, na를 answer의 앞에 넣어주면 됨.\n",
    "- 하지만 0이 없으니 0은 4로 치환을 해줌\n",
    "- 나머지가 0일때는(3의 배수) 잘못된 결과를 도출함 (e.g 3 -> 24, 실제로는 14)\n",
    "- 이를 해결하기 위해 몫에서 1을 빼주는 방식을 사용함"
   ]
  },
  {
   "cell_type": "code",
   "execution_count": 37,
   "metadata": {
    "execution": {
     "iopub.execute_input": "2021-01-07T07:43:53.717654Z",
     "iopub.status.busy": "2021-01-07T07:43:53.717403Z",
     "iopub.status.idle": "2021-01-07T07:43:53.721496Z",
     "shell.execute_reply": "2021-01-07T07:43:53.720813Z",
     "shell.execute_reply.started": "2021-01-07T07:43:53.717626Z"
    }
   },
   "outputs": [],
   "source": [
    "def solution(n):\n",
    "    answer = ''\n",
    "    while n:\n",
    "        n, na = divmod(n, 3)\n",
    "        answer = str([4,1,2][na]) + answer\n",
    "        if na == 0:\n",
    "            n -= 1\n",
    "    return answer"
   ]
  },
  {
   "cell_type": "code",
   "execution_count": 39,
   "metadata": {
    "execution": {
     "iopub.execute_input": "2021-01-07T07:44:04.106760Z",
     "iopub.status.busy": "2021-01-07T07:44:04.106551Z",
     "iopub.status.idle": "2021-01-07T07:44:04.110996Z",
     "shell.execute_reply": "2021-01-07T07:44:04.110344Z",
     "shell.execute_reply.started": "2021-01-07T07:44:04.106738Z"
    }
   },
   "outputs": [
    {
     "data": {
      "text/plain": [
       "'4'"
      ]
     },
     "execution_count": 39,
     "metadata": {},
     "output_type": "execute_result"
    }
   ],
   "source": [
    "n = 3\n",
    "solution(n)"
   ]
  }
 ],
 "metadata": {
  "kernelspec": {
   "display_name": "Python 3",
   "language": "python",
   "name": "python3"
  },
  "language_info": {
   "codemirror_mode": {
    "name": "ipython",
    "version": 3
   },
   "file_extension": ".py",
   "mimetype": "text/x-python",
   "name": "python",
   "nbconvert_exporter": "python",
   "pygments_lexer": "ipython3",
   "version": "3.8.3"
  }
 },
 "nbformat": 4,
 "nbformat_minor": 4
}
