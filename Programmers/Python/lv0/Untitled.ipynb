{
 "cells": [
  {
   "cell_type": "markdown",
   "id": "6a902bfa-31cd-4794-8955-9227b85857e4",
   "metadata": {},
   "source": [
    "## 각도기\n",
    "[링크](https://school.programmers.co.kr/learn/courses/30/lessons/120829)\n",
    "#### 문제 설명\n",
    "- 각에서 0도 초과 90도 미만은 예각, 90도는 직각, 90도 초과 180도 미만은 둔각 180도는 평각으로 분류합니다. 각 angle이 매개변수로 주어질 때 예각일 때 1, 직각일 때 2, 둔각일 때 3, 평각일 때 4를 return하도록 solution 함수를 완성해주세요.\n",
    "- 예각 : 0 < angle < 90\n",
    "- 직각 : angle = 90\n",
    "- 둔각 : 90 < angle < 180\n",
    "- 평각 : angle = 180\n",
    "\n",
    "#### 제한사항\n",
    "- 0 < angle ≤ 180\n",
    "- angle은 정수입니다.\n",
    "\n",
    "#### 문제 풀이\n",
    "- angle에 따라 if문을 사용하여 return값을 설정"
   ]
  },
  {
   "cell_type": "code",
   "execution_count": 22,
   "id": "7720cb28-b5ef-4368-a902-dc41600185c3",
   "metadata": {
    "execution": {
     "iopub.execute_input": "2022-10-12T00:29:45.060007Z",
     "iopub.status.busy": "2022-10-12T00:29:45.059712Z",
     "iopub.status.idle": "2022-10-12T00:29:45.064384Z",
     "shell.execute_reply": "2022-10-12T00:29:45.063231Z",
     "shell.execute_reply.started": "2022-10-12T00:29:45.059983Z"
    },
    "tags": []
   },
   "outputs": [],
   "source": [
    "def solution(angle):\n",
    "    if angle < 90:\n",
    "        return 1\n",
    "    elif angle == 90:\n",
    "        return 2\n",
    "    elif angle == 180:\n",
    "        return 4\n",
    "    else :\n",
    "        return 3"
   ]
  },
  {
   "cell_type": "code",
   "execution_count": 25,
   "id": "16162707-5942-4d2a-876f-7f6572e3dd59",
   "metadata": {
    "execution": {
     "iopub.execute_input": "2022-10-12T00:30:41.348003Z",
     "iopub.status.busy": "2022-10-12T00:30:41.346535Z",
     "iopub.status.idle": "2022-10-12T00:30:41.355607Z",
     "shell.execute_reply": "2022-10-12T00:30:41.354829Z",
     "shell.execute_reply.started": "2022-10-12T00:30:41.347801Z"
    }
   },
   "outputs": [
    {
     "data": {
      "text/plain": [
       "3"
      ]
     },
     "execution_count": 25,
     "metadata": {},
     "output_type": "execute_result"
    }
   ],
   "source": [
    "angle = 179\n",
    "solution(angle)"
   ]
  }
 ],
 "metadata": {
  "kernelspec": {
   "display_name": "Python 3 (ipykernel)",
   "language": "python",
   "name": "python3"
  },
  "language_info": {
   "codemirror_mode": {
    "name": "ipython",
    "version": 3
   },
   "file_extension": ".py",
   "mimetype": "text/x-python",
   "name": "python",
   "nbconvert_exporter": "python",
   "pygments_lexer": "ipython3",
   "version": "3.9.12"
  }
 },
 "nbformat": 4,
 "nbformat_minor": 5
}
