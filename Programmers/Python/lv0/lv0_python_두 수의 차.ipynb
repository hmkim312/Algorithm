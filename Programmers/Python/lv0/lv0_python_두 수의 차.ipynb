{
 "cells": [
  {
   "cell_type": "markdown",
   "id": "3687d8df-8c81-43da-bf39-bee35922ed09",
   "metadata": {},
   "source": [
    "## 두 수의 차\n",
    "[링크](https://school.programmers.co.kr/learn/courses/30/lessons/120803)\n",
    "#### 문제 설명\n",
    "- 정수 num1과 num2가 주어질 때, num1에서 num2를 뺀 값을 return하도록 soltuion 함수를 완성해주세요.\n",
    "\n",
    "#### 제한사항\n",
    "- 50000 ≤ num1 ≤ 50000\n",
    "- 50000 ≤ num2 ≤ 50000\n",
    "\n",
    "#### 문제 풀이\n",
    "- `-`를 사용하여 두 수의 차를 구한다."
   ]
  },
  {
   "cell_type": "code",
   "execution_count": 1,
   "id": "b9e37e22-ec1e-429f-8a68-fd93bb9a2a7e",
   "metadata": {
    "execution": {
     "iopub.execute_input": "2022-10-12T00:23:15.334180Z",
     "iopub.status.busy": "2022-10-12T00:23:15.333559Z",
     "iopub.status.idle": "2022-10-12T00:23:15.345184Z",
     "shell.execute_reply": "2022-10-12T00:23:15.344626Z",
     "shell.execute_reply.started": "2022-10-12T00:23:15.334028Z"
    }
   },
   "outputs": [],
   "source": [
    "def solution(num1, num2):\n",
    "    return num1 - num2"
   ]
  },
  {
   "cell_type": "code",
   "execution_count": 2,
   "id": "f33e84b1-9164-4b0f-b95d-c8242bfa60e8",
   "metadata": {
    "execution": {
     "iopub.execute_input": "2022-10-12T00:23:28.465288Z",
     "iopub.status.busy": "2022-10-12T00:23:28.464982Z",
     "iopub.status.idle": "2022-10-12T00:23:28.481995Z",
     "shell.execute_reply": "2022-10-12T00:23:28.481305Z",
     "shell.execute_reply.started": "2022-10-12T00:23:28.465262Z"
    }
   },
   "outputs": [
    {
     "data": {
      "text/plain": [
       "-1"
      ]
     },
     "execution_count": 2,
     "metadata": {},
     "output_type": "execute_result"
    }
   ],
   "source": [
    "num1 = 2\n",
    "num2 = 3\n",
    "solution(num1, num2)"
   ]
  },
  {
   "cell_type": "code",
   "execution_count": null,
   "id": "1dc4ba23-048d-4c0a-8dbd-9073b9381f1c",
   "metadata": {},
   "outputs": [],
   "source": []
  }
 ],
 "metadata": {
  "kernelspec": {
   "display_name": "Python 3 (ipykernel)",
   "language": "python",
   "name": "python3"
  },
  "language_info": {
   "codemirror_mode": {
    "name": "ipython",
    "version": 3
   },
   "file_extension": ".py",
   "mimetype": "text/x-python",
   "name": "python",
   "nbconvert_exporter": "python",
   "pygments_lexer": "ipython3",
   "version": "3.9.12"
  }
 },
 "nbformat": 4,
 "nbformat_minor": 5
}
