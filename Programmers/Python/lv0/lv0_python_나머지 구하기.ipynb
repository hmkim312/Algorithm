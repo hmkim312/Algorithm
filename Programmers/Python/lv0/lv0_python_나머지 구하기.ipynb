{
 "cells": [
  {
   "cell_type": "markdown",
   "id": "4cf046af-03ea-4b53-83c1-182a1e793f83",
   "metadata": {},
   "source": [
    "## 나머지 구하기\n",
    "[링크](https://school.programmers.co.kr/learn/courses/30/lessons/120810)\n",
    "#### 문제 설명\n",
    "- 정수 num1, num2가 매개변수로 주어질 때, num1를 num2로 나눈 나머지를 return 하도록 solution 함수를 완성해주세요.\n",
    "\n",
    "#### 제한 사항\n",
    "- 0 < num1 ≤ 100\n",
    "- 0 < num2 ≤ 100\n",
    "\n",
    "#### 문제 풀이\n",
    "- python의 내장함수 `%`를 사용하면 나머지를 구할 수 있다."
   ]
  },
  {
   "cell_type": "code",
   "execution_count": 5,
   "id": "1f5b36d4-80ae-4a3f-9274-96910dabd73c",
   "metadata": {
    "execution": {
     "iopub.execute_input": "2022-10-12T00:12:06.970923Z",
     "iopub.status.busy": "2022-10-12T00:12:06.970616Z",
     "iopub.status.idle": "2022-10-12T00:12:06.974635Z",
     "shell.execute_reply": "2022-10-12T00:12:06.974053Z",
     "shell.execute_reply.started": "2022-10-12T00:12:06.970894Z"
    },
    "tags": []
   },
   "outputs": [],
   "source": [
    "def solution(num1, num2):\n",
    "    answer = num1 % num2\n",
    "    return answer"
   ]
  },
  {
   "cell_type": "code",
   "execution_count": 6,
   "id": "715bd807-c6c6-4329-a082-5f6fa90d1f0e",
   "metadata": {
    "execution": {
     "iopub.execute_input": "2022-10-12T00:12:07.328833Z",
     "iopub.status.busy": "2022-10-12T00:12:07.328534Z",
     "iopub.status.idle": "2022-10-12T00:12:07.332941Z",
     "shell.execute_reply": "2022-10-12T00:12:07.332123Z",
     "shell.execute_reply.started": "2022-10-12T00:12:07.328809Z"
    },
    "tags": []
   },
   "outputs": [],
   "source": [
    "num1 = 10\n",
    "num2 = 3"
   ]
  },
  {
   "cell_type": "code",
   "execution_count": 7,
   "id": "9730d3d2-2b1f-445b-b81b-5298feba0eaf",
   "metadata": {
    "execution": {
     "iopub.execute_input": "2022-10-12T00:12:07.543496Z",
     "iopub.status.busy": "2022-10-12T00:12:07.542985Z",
     "iopub.status.idle": "2022-10-12T00:12:07.551527Z",
     "shell.execute_reply": "2022-10-12T00:12:07.550113Z",
     "shell.execute_reply.started": "2022-10-12T00:12:07.543449Z"
    },
    "tags": []
   },
   "outputs": [
    {
     "data": {
      "text/plain": [
       "1"
      ]
     },
     "execution_count": 7,
     "metadata": {},
     "output_type": "execute_result"
    }
   ],
   "source": [
    "solution(num1, num2)"
   ]
  }
 ],
 "metadata": {
  "kernelspec": {
   "display_name": "Python 3 (ipykernel)",
   "language": "python",
   "name": "python3"
  },
  "language_info": {
   "codemirror_mode": {
    "name": "ipython",
    "version": 3
   },
   "file_extension": ".py",
   "mimetype": "text/x-python",
   "name": "python",
   "nbconvert_exporter": "python",
   "pygments_lexer": "ipython3",
   "version": "3.9.12"
  }
 },
 "nbformat": 4,
 "nbformat_minor": 5
}
