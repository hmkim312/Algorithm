{
 "cells": [
  {
   "cell_type": "markdown",
   "id": "4eb4f9ae-d7df-4bda-abc6-199ef3bfdcd4",
   "metadata": {},
   "source": [
    "## 숫자 비교하기\n",
    "[링크](https://school.programmers.co.kr/learn/courses/30/lessons/120807)\n",
    "#### 문제 설명\n",
    "- 정수 num1과 num2가 매개변수로 주어집니다. 두 수가 같으면 1 다르면 -1을 retrun하도록 solution 함수를 완성해주세요.\n",
    "\n",
    "#### 제한 사항\n",
    "- 0 ≤ num1 ≤ 10,000\n",
    "- 0 ≤ num2 ≤ 10,000\n",
    "\n",
    "#### 문제 풀이\n",
    "- 삼항 연산 if ~ else 구문을 사용하여 풀이\n",
    "- [True일때] if a > 5 else [False일때]"
   ]
  },
  {
   "cell_type": "code",
   "execution_count": 5,
   "id": "890b63c3-7fcd-4630-befc-5ef7c16ebbc2",
   "metadata": {
    "execution": {
     "iopub.execute_input": "2022-10-12T00:15:56.285484Z",
     "iopub.status.busy": "2022-10-12T00:15:56.284977Z",
     "iopub.status.idle": "2022-10-12T00:15:56.291518Z",
     "shell.execute_reply": "2022-10-12T00:15:56.290133Z",
     "shell.execute_reply.started": "2022-10-12T00:15:56.285437Z"
    },
    "tags": []
   },
   "outputs": [],
   "source": [
    "def solution(num1, num2):\n",
    "    return 1 if num1 == num2 else -1"
   ]
  },
  {
   "cell_type": "code",
   "execution_count": 6,
   "id": "e5dcea77-98cb-4e0d-8b2b-9b9b7069db1d",
   "metadata": {
    "execution": {
     "iopub.execute_input": "2022-10-12T00:15:56.464166Z",
     "iopub.status.busy": "2022-10-12T00:15:56.463802Z",
     "iopub.status.idle": "2022-10-12T00:15:56.470850Z",
     "shell.execute_reply": "2022-10-12T00:15:56.470209Z",
     "shell.execute_reply.started": "2022-10-12T00:15:56.464134Z"
    },
    "tags": []
   },
   "outputs": [
    {
     "data": {
      "text/plain": [
       "-1"
      ]
     },
     "execution_count": 6,
     "metadata": {},
     "output_type": "execute_result"
    }
   ],
   "source": [
    "num1 = 1\n",
    "num2 = 2\n",
    "solution(num1, num2)"
   ]
  }
 ],
 "metadata": {
  "kernelspec": {
   "display_name": "Python 3 (ipykernel)",
   "language": "python",
   "name": "python3"
  },
  "language_info": {
   "codemirror_mode": {
    "name": "ipython",
    "version": 3
   },
   "file_extension": ".py",
   "mimetype": "text/x-python",
   "name": "python",
   "nbconvert_exporter": "python",
   "pygments_lexer": "ipython3",
   "version": "3.9.12"
  }
 },
 "nbformat": 4,
 "nbformat_minor": 5
}
