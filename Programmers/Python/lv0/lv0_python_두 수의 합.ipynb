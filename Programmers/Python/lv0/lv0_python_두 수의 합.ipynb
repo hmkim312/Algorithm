{
 "cells": [
  {
   "cell_type": "markdown",
   "id": "e2ffec54-39ab-4b7a-ab76-5dade520be65",
   "metadata": {},
   "source": [
    "## 두 수의 합\n",
    "[링크](https://school.programmers.co.kr/learn/courses/30/lessons/120802)\n",
    "#### 문제 설명\n",
    "- 정수 num1과 num2가 주어질 때, num1과 num2의 합을 return하도록 soltuion 함수를 완성해주세요.\n",
    "\n",
    "#### 제한사항\n",
    "- 50,000 ≤ num1 ≤ 50,000\n",
    "- 50,000 ≤ num2 ≤ 50,000\n",
    "\n",
    "#### 문제 풀이\n",
    "- `+`를 사용한다."
   ]
  },
  {
   "cell_type": "code",
   "execution_count": 2,
   "id": "64553fc1-e10d-4efe-a394-d9dde2d3103d",
   "metadata": {
    "execution": {
     "iopub.execute_input": "2022-10-12T00:18:38.745295Z",
     "iopub.status.busy": "2022-10-12T00:18:38.744992Z",
     "iopub.status.idle": "2022-10-12T00:18:38.748528Z",
     "shell.execute_reply": "2022-10-12T00:18:38.747917Z",
     "shell.execute_reply.started": "2022-10-12T00:18:38.745270Z"
    },
    "tags": []
   },
   "outputs": [],
   "source": [
    "def solution(num1, num2):\n",
    "    return num1 + num2"
   ]
  },
  {
   "cell_type": "code",
   "execution_count": 3,
   "id": "8fc85145-0326-49dd-a941-05ca0161dbbb",
   "metadata": {
    "execution": {
     "iopub.execute_input": "2022-10-12T00:18:55.976798Z",
     "iopub.status.busy": "2022-10-12T00:18:55.976488Z",
     "iopub.status.idle": "2022-10-12T00:18:55.992167Z",
     "shell.execute_reply": "2022-10-12T00:18:55.991377Z",
     "shell.execute_reply.started": "2022-10-12T00:18:55.976770Z"
    }
   },
   "outputs": [
    {
     "data": {
      "text/plain": [
       "5"
      ]
     },
     "execution_count": 3,
     "metadata": {},
     "output_type": "execute_result"
    }
   ],
   "source": [
    "num1 = 2\n",
    "num2 = 3\n",
    "solution(num1, num2)"
   ]
  }
 ],
 "metadata": {
  "kernelspec": {
   "display_name": "Python 3 (ipykernel)",
   "language": "python",
   "name": "python3"
  },
  "language_info": {
   "codemirror_mode": {
    "name": "ipython",
    "version": 3
   },
   "file_extension": ".py",
   "mimetype": "text/x-python",
   "name": "python",
   "nbconvert_exporter": "python",
   "pygments_lexer": "ipython3",
   "version": "3.9.12"
  }
 },
 "nbformat": 4,
 "nbformat_minor": 5
}
