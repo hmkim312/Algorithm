{
 "cells": [
  {
   "cell_type": "markdown",
   "id": "b0efce01-2417-40c9-b388-d4a7501e497c",
   "metadata": {},
   "source": [
    "## 나이 출력\n",
    "[랑크](https://school.programmers.co.kr/learn/courses/30/lessons/120820)\n",
    "\n",
    "#### 문제 설명\n",
    "- 머쓱이는 40살인 선생님이 몇 년도에 태어났는지 궁금해졌습니다. 나이 age가 주어질 때, 2022년을 기준 출생 연도를 return 하는 solution 함수를 완성해주세요.\n",
    "\n",
    "#### 제한 사항\n",
    "- 0 < age ≤ 120\n",
    "- 나이는 태어난 연도에 1살이며 1년마다 1씩 증가합니다.\n",
    "\n",
    "#### 문제 풀이\n",
    "- 2022년에서 현재 나이를 뺸 뒤 1살을 더해주면 됩니다."
   ]
  },
  {
   "cell_type": "code",
   "execution_count": 13,
   "id": "ee2843a5-8634-49eb-8072-62fe3820f195",
   "metadata": {
    "execution": {
     "iopub.execute_input": "2022-10-11T01:12:23.577101Z",
     "iopub.status.busy": "2022-10-11T01:12:23.576796Z",
     "iopub.status.idle": "2022-10-11T01:12:23.581640Z",
     "shell.execute_reply": "2022-10-11T01:12:23.580994Z",
     "shell.execute_reply.started": "2022-10-11T01:12:23.577076Z"
    },
    "tags": []
   },
   "outputs": [],
   "source": [
    "def solution(age):\n",
    "    answer = 2022 - age + 1\n",
    "    return answer"
   ]
  }
 ],
 "metadata": {
  "kernelspec": {
   "display_name": "Python 3 (ipykernel)",
   "language": "python",
   "name": "python3"
  },
  "language_info": {
   "codemirror_mode": {
    "name": "ipython",
    "version": 3
   },
   "file_extension": ".py",
   "mimetype": "text/x-python",
   "name": "python",
   "nbconvert_exporter": "python",
   "pygments_lexer": "ipython3",
   "version": "3.9.12"
  }
 },
 "nbformat": 4,
 "nbformat_minor": 5
}
