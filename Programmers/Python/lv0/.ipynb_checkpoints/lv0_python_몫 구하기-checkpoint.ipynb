{
 "cells": [
  {
   "cell_type": "markdown",
   "id": "b0efce01-2417-40c9-b388-d4a7501e497c",
   "metadata": {},
   "source": [
    "## 몫 구하기 \n",
    "- [링크](https://school.programmers.co.kr/learn/courses/30/lessons/120805?language=python3)\n",
    "\n",
    "#### 문제 설명\n",
    "- 정수 num1, num2가 매개변수로 주어질 때, num1을 num2로 나눈 몫을 return 하도록 solution 함수를 완성해주세요.\n",
    "\n",
    "#### 제한사항\n",
    "- 0 < num1 ≤ 100\n",
    "- 0 < num2 ≤ 100\n",
    "\n",
    "#### 문제풀이\n",
    "- Python은 `//` 를 사용하면 몫을 구할 수 있다."
   ]
  },
  {
   "cell_type": "code",
   "execution_count": 1,
   "id": "ee2843a5-8634-49eb-8072-62fe3820f195",
   "metadata": {
    "execution": {
     "iopub.execute_input": "2022-10-11T01:08:25.769890Z",
     "iopub.status.busy": "2022-10-11T01:08:25.768516Z",
     "iopub.status.idle": "2022-10-11T01:08:25.800663Z",
     "shell.execute_reply": "2022-10-11T01:08:25.799556Z",
     "shell.execute_reply.started": "2022-10-11T01:08:25.769408Z"
    }
   },
   "outputs": [],
   "source": [
    "def solution(num1, num2):\n",
    "    answer = num1 // num2\n",
    "    return answer"
   ]
  }
 ],
 "metadata": {
  "kernelspec": {
   "display_name": "Python 3 (ipykernel)",
   "language": "python",
   "name": "python3"
  },
  "language_info": {
   "codemirror_mode": {
    "name": "ipython",
    "version": 3
   },
   "file_extension": ".py",
   "mimetype": "text/x-python",
   "name": "python",
   "nbconvert_exporter": "python",
   "pygments_lexer": "ipython3",
   "version": "3.9.12"
  }
 },
 "nbformat": 4,
 "nbformat_minor": 5
}
