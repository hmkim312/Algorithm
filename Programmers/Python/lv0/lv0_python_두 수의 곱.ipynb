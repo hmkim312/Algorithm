{
 "cells": [
  {
   "cell_type": "markdown",
   "id": "70eb9da4-9e38-40e8-81b3-a46b40173e9e",
   "metadata": {},
   "source": [
    "## 두 수의 곱\n",
    "[링크](https://school.programmers.co.kr/learn/courses/30/lessons/120804)\n",
    "\n",
    "#### 문제 설명\n",
    "- 정수 num1, num2가 매개변수 주어집니다. num1과 num2를 곱한 값을 return 하도록 solution 함수를 완성해주세요.\n",
    "\n",
    "#### 제한사항\n",
    "- 0 ≤ num1 ≤ 100\n",
    "- 0 ≤ num2 ≤ 100\n",
    "\n",
    "#### 문제 풀이\n",
    "- Python은 `*`로 곱하기를 할 수 있다."
   ]
  },
  {
   "cell_type": "code",
   "execution_count": 2,
   "id": "448586d6-430c-4a98-8164-b2a22b96a2e4",
   "metadata": {
    "execution": {
     "iopub.execute_input": "2022-10-11T01:14:31.898649Z",
     "iopub.status.busy": "2022-10-11T01:14:31.898231Z",
     "iopub.status.idle": "2022-10-11T01:14:31.904887Z",
     "shell.execute_reply": "2022-10-11T01:14:31.902893Z",
     "shell.execute_reply.started": "2022-10-11T01:14:31.898612Z"
    },
    "tags": []
   },
   "outputs": [],
   "source": [
    "def solution(num1, num2):\n",
    "    answer = num1 * num2\n",
    "    return answer"
   ]
  }
 ],
 "metadata": {
  "kernelspec": {
   "display_name": "Python 3 (ipykernel)",
   "language": "python",
   "name": "python3"
  },
  "language_info": {
   "codemirror_mode": {
    "name": "ipython",
    "version": 3
   },
   "file_extension": ".py",
   "mimetype": "text/x-python",
   "name": "python",
   "nbconvert_exporter": "python",
   "pygments_lexer": "ipython3",
   "version": "3.9.12"
  }
 },
 "nbformat": 4,
 "nbformat_minor": 5
}
