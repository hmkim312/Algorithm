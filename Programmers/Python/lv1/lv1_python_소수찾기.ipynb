{
 "cells": [
  {
   "cell_type": "markdown",
   "metadata": {},
   "source": [
    "### 소수찾기\n",
    "- 문제 설명\n",
    "    - 1부터 입력받은 숫자 n 사이에 있는 소수의 개수를 반환하는 함수, solution을 만들어 보세요.\n",
    "    - 소수는 1과 자기 자신으로만 나누어지는 수를 의미합니다. (1은 소수가 아닙니다.)\n",
    "\n",
    "- 제한 조건\n",
    "    - n은 2이상 1000000이하의 자연수입니다."
   ]
  },
  {
   "cell_type": "code",
   "execution_count": 1,
   "metadata": {
    "execution": {
     "iopub.execute_input": "2020-06-24T08:05:14.719751Z",
     "iopub.status.busy": "2020-06-24T08:05:14.718753Z",
     "iopub.status.idle": "2020-06-24T08:05:16.792213Z",
     "shell.execute_reply": "2020-06-24T08:05:16.792213Z",
     "shell.execute_reply.started": "2020-06-24T08:05:14.719751Z"
    }
   },
   "outputs": [
    {
     "name": "stdout",
     "output_type": "stream",
     "text": [
      "Wall time: 2.06 s\n"
     ]
    },
    {
     "data": {
      "text/plain": [
       "78498"
      ]
     },
     "execution_count": 1,
     "metadata": {},
     "output_type": "execute_result"
    }
   ],
   "source": [
    "%%time\n",
    "def solution(n):\n",
    "    def solutions(n):\n",
    "        if n < 2:\n",
    "            return False\n",
    "        if n == 2:\n",
    "            return True\n",
    "        if n % 2 == 0:\n",
    "            return False\n",
    "        r = round(n ** 0.5) + 1\n",
    "        for i in range(3, r, 2):\n",
    "            if n % i == 0:\n",
    "                return False\n",
    "        return True\n",
    "    result = []\n",
    "\n",
    "    for i in range(n + 1):\n",
    "        if solutions(i):\n",
    "            result.append(i)\n",
    "    return len(result)\n",
    "\n",
    "solution(1000000)"
   ]
  },
  {
   "cell_type": "code",
   "execution_count": null,
   "metadata": {},
   "outputs": [],
   "source": []
  }
 ],
 "metadata": {
  "kernelspec": {
   "display_name": "Python 3",
   "language": "python",
   "name": "python3"
  },
  "language_info": {
   "codemirror_mode": {
    "name": "ipython",
    "version": 3
   },
   "file_extension": ".py",
   "mimetype": "text/x-python",
   "name": "python",
   "nbconvert_exporter": "python",
   "pygments_lexer": "ipython3",
   "version": "3.8.3"
  }
 },
 "nbformat": 4,
 "nbformat_minor": 4
}
