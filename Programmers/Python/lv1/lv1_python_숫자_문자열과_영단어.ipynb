{
 "cells": [
  {
   "cell_type": "markdown",
   "metadata": {},
   "source": [
    "URL <https://programmers.co.kr/learn/courses/30/lessons/81301>{:target=\"_blank\"}\n",
    "\n",
    "#### 문제 설명\n",
    "- 네오와 프로도가 숫자놀이를 하고 있습니다. 네오가 프로도에게 숫자를 건넬 때 일부 자릿수를 영단어로 바꾼 카드를 건네주면 프로도는 원래 숫자를 찾는 게임입니다.\n",
    "- 다음은 숫자의 일부 자릿수를 영단어로 바꾸는 예시입니다.\n",
    "\n",
    "```\n",
    "1478 → \"one4seveneight\"\n",
    "234567 → \"23four5six7\"\n",
    "10203 → \"1zerotwozero3\"\n",
    "```\n",
    "\n",
    "- 이렇게 숫자의 일부 자릿수가 영단어로 바뀌어졌거나, 혹은 바뀌지 않고 그대로인 문자열 s가 매개변수로 주어집니다. s가 의미하는 원래 숫자를 return 하도록 solution 함수를 완성해주세요.\n",
    "- 참고로 각 숫자에 대응되는 영단어는 다음 표와 같습니다.\n",
    "\n",
    "|숫자|영단어|\n",
    "|---|---|\n",
    "|0|zero|\n",
    "|1|one|\n",
    "|2|two|\n",
    "|3|three|\n",
    "|4|four|\n",
    "|5|five|\n",
    "|6|six|\n",
    "|7|seven|\n",
    "|8|eight|\n",
    "|9|nine|\n",
    "\n",
    "#### 제한사항\n",
    "- 1 ≤ s의 길이 ≤ 50\n",
    "- s가 \"zero\" 또는 \"0\"으로 시작하는 경우는 주어지지 않습니다.\n",
    "- return 값이 1 이상 2,000,000,000 이하의 정수가 되는 올바른 입력만 s로 주어집니다.\n",
    "\n",
    "#### 문제 풀이\n",
    "- 0부터 9까지 key와 value로 된 Dict를 만든다.\n",
    "- 이후 alpha에 s의 원소가 알파벳이면 해당 원소를 저장하고, 만일 s_nums의 dict의 key가 있으면 해당 원소를 answer에 저장하는 식으로 하였다.\n",
    "- 만일 알파벳이 아니라 숫자라면 그냥 바로 answer에 저장하게 하였다.\n",
    "\n",
    "#### 다른 사람의 풀이\n",
    "- 다른사람의 풀이를 보고 그냥 replace를 사용하며 되는것을 꺠닳앗다. replace를 몰랐던것은 아니고 굉장히 자주 쓰기도하는데, 해당 방법을 생각지 못한것이 좀 아쉽다."
   ]
  },
  {
   "cell_type": "code",
   "execution_count": 55,
   "metadata": {
    "execution": {
     "iopub.execute_input": "2021-07-09T03:04:37.000605Z",
     "iopub.status.busy": "2021-07-09T03:04:37.000385Z",
     "iopub.status.idle": "2021-07-09T03:04:37.005560Z",
     "shell.execute_reply": "2021-07-09T03:04:37.004879Z",
     "shell.execute_reply.started": "2021-07-09T03:04:37.000581Z"
    }
   },
   "outputs": [],
   "source": [
    "def solution(s):\n",
    "    s_nums = {'zero':0, 'one':1, 'two':2, 'three':3, 'four':4, 'five':5, 'six':6, 'seven':7, 'eight':8, 'nine':9}\n",
    "    answer = ''\n",
    "    alpha = ''\n",
    "    \n",
    "    for i in s:\n",
    "        if i.isalpha():\n",
    "            alpha += i\n",
    "            if alpha in s_nums.keys():\n",
    "                answer += str(s_nums[alpha])\n",
    "                alpha = ''\n",
    "        else:\n",
    "            answer += str(i)\n",
    "    return int(answer)"
   ]
  },
  {
   "cell_type": "code",
   "execution_count": 57,
   "metadata": {
    "execution": {
     "iopub.execute_input": "2021-07-09T03:04:48.282628Z",
     "iopub.status.busy": "2021-07-09T03:04:48.282404Z",
     "iopub.status.idle": "2021-07-09T03:04:48.286523Z",
     "shell.execute_reply": "2021-07-09T03:04:48.285880Z",
     "shell.execute_reply.started": "2021-07-09T03:04:48.282604Z"
    }
   },
   "outputs": [
    {
     "data": {
      "text/plain": [
       "1478"
      ]
     },
     "execution_count": 57,
     "metadata": {},
     "output_type": "execute_result"
    }
   ],
   "source": [
    "s = 'one4seveneight'\n",
    "solution(s)"
   ]
  },
  {
   "cell_type": "code",
   "execution_count": 58,
   "metadata": {
    "execution": {
     "iopub.execute_input": "2021-07-09T03:04:57.848030Z",
     "iopub.status.busy": "2021-07-09T03:04:57.847807Z",
     "iopub.status.idle": "2021-07-09T03:04:57.851935Z",
     "shell.execute_reply": "2021-07-09T03:04:57.851374Z",
     "shell.execute_reply.started": "2021-07-09T03:04:57.848006Z"
    }
   },
   "outputs": [
    {
     "data": {
      "text/plain": [
       "234567"
      ]
     },
     "execution_count": 58,
     "metadata": {},
     "output_type": "execute_result"
    }
   ],
   "source": [
    "s = '23four5six7'\n",
    "solution(s)"
   ]
  },
  {
   "cell_type": "code",
   "execution_count": 59,
   "metadata": {
    "execution": {
     "iopub.execute_input": "2021-07-09T03:05:33.917211Z",
     "iopub.status.busy": "2021-07-09T03:05:33.916993Z",
     "iopub.status.idle": "2021-07-09T03:05:33.920872Z",
     "shell.execute_reply": "2021-07-09T03:05:33.920215Z",
     "shell.execute_reply.started": "2021-07-09T03:05:33.917187Z"
    }
   },
   "outputs": [
    {
     "data": {
      "text/plain": [
       "234567"
      ]
     },
     "execution_count": 59,
     "metadata": {},
     "output_type": "execute_result"
    }
   ],
   "source": [
    "s = '2three45sixseven'\n",
    "solution(s)"
   ]
  },
  {
   "cell_type": "code",
   "execution_count": 60,
   "metadata": {
    "execution": {
     "iopub.execute_input": "2021-07-09T03:05:56.172764Z",
     "iopub.status.busy": "2021-07-09T03:05:56.172548Z",
     "iopub.status.idle": "2021-07-09T03:05:56.176551Z",
     "shell.execute_reply": "2021-07-09T03:05:56.175987Z",
     "shell.execute_reply.started": "2021-07-09T03:05:56.172742Z"
    }
   },
   "outputs": [
    {
     "data": {
      "text/plain": [
       "123"
      ]
     },
     "execution_count": 60,
     "metadata": {},
     "output_type": "execute_result"
    }
   ],
   "source": [
    "s = '123'\n",
    "solution(s)"
   ]
  },
  {
   "cell_type": "code",
   "execution_count": 61,
   "metadata": {
    "execution": {
     "iopub.execute_input": "2021-07-09T03:07:58.513561Z",
     "iopub.status.busy": "2021-07-09T03:07:58.513335Z",
     "iopub.status.idle": "2021-07-09T03:07:58.518020Z",
     "shell.execute_reply": "2021-07-09T03:07:58.517322Z",
     "shell.execute_reply.started": "2021-07-09T03:07:58.513537Z"
    }
   },
   "outputs": [],
   "source": [
    "# 다른 사람의 풀이\n",
    "\n",
    "num_dic = {\"zero\":\"0\", \"one\":\"1\", \"two\":\"2\", \"three\":\"3\", \"four\":\"4\", \"five\":\"5\", \"six\":\"6\", \"seven\":\"7\", \"eight\":\"8\", \"nine\":\"9\"}\n",
    "\n",
    "def solution(s):\n",
    "    answer = s\n",
    "    for key, value in num_dic.items():\n",
    "        answer = answer.replace(key, value)\n",
    "    return int(answer)"
   ]
  }
 ],
 "metadata": {
  "kernelspec": {
   "display_name": "Python 3",
   "language": "python",
   "name": "python3"
  },
  "language_info": {
   "codemirror_mode": {
    "name": "ipython",
    "version": 3
   },
   "file_extension": ".py",
   "mimetype": "text/x-python",
   "name": "python",
   "nbconvert_exporter": "python",
   "pygments_lexer": "ipython3",
   "version": "3.8.3"
  }
 },
 "nbformat": 4,
 "nbformat_minor": 4
}
