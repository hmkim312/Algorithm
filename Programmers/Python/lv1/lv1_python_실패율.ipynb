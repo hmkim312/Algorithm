{
 "cells": [
  {
   "cell_type": "markdown",
   "metadata": {},
   "source": [
    "URL : <https://programmers.co.kr/learn/courses/30/lessons/42889>{:target=\"_blank\"}\n",
    "\n",
    "#### 문제 설명\n",
    "- 슈퍼 게임 개발자 오렐리는 큰 고민에 빠졌다. 그녀가 만든 프랜즈 오천성이 대성공을 거뒀지만, 요즘 신규 사용자의 수가 급감한 것이다. 원인은 신규 사용자와 기존 사용자 사이에 스테이지 차이가 너무 큰 것이 문제였다.\n",
    "\n",
    "- 이 문제를 어떻게 할까 고민 한 그녀는 동적으로 게임 시간을 늘려서 난이도를 조절하기로 했다. 역시 슈퍼 개발자라 대부분의 로직은 쉽게 구현했지만, 실패율을 구하는 부분에서 위기에 빠지고 말았다. 오렐리를 위해 실패율을 구하는 코드를 완성하라.\n",
    "\n",
    "- 실패율은 다음과 같이 정의한다.\n",
    "    - 스테이지에 도달했으나 아직 클리어하지 못한 플레이어의 수 / 스테이지에 도달한 플레이어 수\n",
    "- 전체 스테이지의 개수 N, 게임을 이용하는 사용자가 현재 멈춰있는 스테이지의 번호가 담긴 배열 stages가 매개변수로 주어질 때, 실패율이 높은 스테이지부터 내림차순으로 스테이지의 번호가 담겨있는 배열을 return 하도록 solution 함수를 완성하라.\n",
    "\n",
    "#### 제한사항\n",
    "- 스테이지의 개수 N은 1 이상 500 이하의 자연수이다.\n",
    "- stages의 길이는 1 이상 200,000 이하이다.\n",
    "- stages에는 1 이상 N + 1 이하의 자연수가 담겨있다.\n",
    "- 각 자연수는 사용자가 현재 도전 중인 스테이지의 번호를 나타낸다.\n",
    "- 단, N + 1 은 마지막 스테이지(N 번째 스테이지) 까지 클리어 한 사용자를 나타낸다.\n",
    "- 만약 실패율이 같은 스테이지가 있다면 작은 번호의 스테이지가 먼저 오도록 하면 된다.\n",
    "- 스테이지에 도달한 유저가 없는 경우 해당 스테이지의 실패율은 0 으로 정의한다."
   ]
  },
  {
   "cell_type": "markdown",
   "metadata": {},
   "source": [
    "#### 문제풀이\n",
    "- 스테이지가 각 리스트를 순회하며 본인과 같은 스테이지가 있으면 fail_stage에 +1을, 같거나 큰 스테이지가 있으면 pass_stage에 +1을 함\n",
    "- pass_stage가 0이면 도달한 유저가 없으니 실패율은 0으로 하고, 그외에는 [스페이지, 실패율]을 ls에 넣어줌\n",
    "- 이후 ls안의 각 스테이지별 실패율을 기준으로 sort함\n",
    "- sort된 ls를 answer에 스테이지만 append 시킴\n",
    "- 해당 풀이는 for문이 많이 돌아 시간초과가 아슬아슬하게 넘어감"
   ]
  },
  {
   "cell_type": "code",
   "execution_count": 99,
   "metadata": {
    "execution": {
     "iopub.execute_input": "2020-12-29T01:31:14.926990Z",
     "iopub.status.busy": "2020-12-29T01:31:14.926767Z",
     "iopub.status.idle": "2020-12-29T01:31:14.932719Z",
     "shell.execute_reply": "2020-12-29T01:31:14.931979Z",
     "shell.execute_reply.started": "2020-12-29T01:31:14.926966Z"
    }
   },
   "outputs": [],
   "source": [
    "def solution(N, stages):\n",
    "    ls = []\n",
    "    answer = []\n",
    "    for i in range(1, N+1):\n",
    "        fail_stage = 0 # 실패한 스테이지\n",
    "        pass_stage = 0 # 통과한 스테이지\n",
    "        \n",
    "        for j in stages:\n",
    "                 \n",
    "            if i == j:\n",
    "                fail_stage += 1\n",
    "\n",
    "            if j >= i:\n",
    "                pass_stage += 1\n",
    "\n",
    "        if pass_stage == 0:\n",
    "            ls.append([i, 0])\n",
    "        else :\n",
    "            ls.append([i, fail_stage / pass_stage])\n",
    "        ls.sort(key = lambda ls : ls[1], reverse=True)\n",
    "    for i in range(len(ls)):\n",
    "        answer.append(ls[i][0])\n",
    "    return answer"
   ]
  },
  {
   "cell_type": "code",
   "execution_count": 100,
   "metadata": {
    "execution": {
     "iopub.execute_input": "2020-12-29T01:31:15.124732Z",
     "iopub.status.busy": "2020-12-29T01:31:15.124520Z",
     "iopub.status.idle": "2020-12-29T01:31:15.129157Z",
     "shell.execute_reply": "2020-12-29T01:31:15.128540Z",
     "shell.execute_reply.started": "2020-12-29T01:31:15.124709Z"
    }
   },
   "outputs": [
    {
     "data": {
      "text/plain": [
       "[3, 4, 2, 1, 5]"
      ]
     },
     "execution_count": 100,
     "metadata": {},
     "output_type": "execute_result"
    }
   ],
   "source": [
    "N = 5\n",
    "stages = [2, 1, 2, 6, 2, 4, 3, 3]\n",
    "solution(N, stages)"
   ]
  },
  {
   "cell_type": "code",
   "execution_count": 101,
   "metadata": {
    "execution": {
     "iopub.execute_input": "2020-12-29T01:31:15.667248Z",
     "iopub.status.busy": "2020-12-29T01:31:15.667037Z",
     "iopub.status.idle": "2020-12-29T01:31:15.671243Z",
     "shell.execute_reply": "2020-12-29T01:31:15.670634Z",
     "shell.execute_reply.started": "2020-12-29T01:31:15.667225Z"
    }
   },
   "outputs": [
    {
     "data": {
      "text/plain": [
       "[4, 1, 2, 3]"
      ]
     },
     "execution_count": 101,
     "metadata": {},
     "output_type": "execute_result"
    }
   ],
   "source": [
    "N = 4\n",
    "stages = [4,4,4,4,4]\n",
    "solution(N, stages)"
   ]
  }
 ],
 "metadata": {
  "kernelspec": {
   "display_name": "Python 3",
   "language": "python",
   "name": "python3"
  },
  "language_info": {
   "codemirror_mode": {
    "name": "ipython",
    "version": 3
   },
   "file_extension": ".py",
   "mimetype": "text/x-python",
   "name": "python",
   "nbconvert_exporter": "python",
   "pygments_lexer": "ipython3",
   "version": "3.8.3"
  }
 },
 "nbformat": 4,
 "nbformat_minor": 4
}
