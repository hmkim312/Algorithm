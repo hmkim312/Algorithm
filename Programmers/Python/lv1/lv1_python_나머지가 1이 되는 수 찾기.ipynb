{
 "cells": [
  {
   "cell_type": "markdown",
   "metadata": {},
   "source": [
    "URL : <https://programmers.co.kr/learn/courses/30/lessons/87389>{:target=\"_blank\"}\n",
    "\n",
    "### 문제 설명\n",
    "- 자연수 n이 매개변수로 주어집니다. n을 x로 나눈 나머지가 1이 되도록 하는 가장 작은 자연수 x를 return 하도록 solution 함수를 완성해주세요. 답이 항상 존재함은 증명될 수 있습니다.\n",
    "\n",
    "### 제한 사항\n",
    "- 3 ≤ n ≤ 1,000,000\n",
    "\n",
    "### 문제 풀이\n",
    "- 1이 남는수를 구하니까 일단 n에서 1을 뺀 x를 구한다.\n",
    "- 이후 x가 홀수인가, 짝수인가에 대한 경우의 수가 있다.\n",
    "    - 1) x가 짝수라면 무조건 2가 최소의 수이므로 2를 리턴한다.\n",
    "    - 2) x가 홀수라면 x가 소수 (1과 자기 자신이 아니면 나누어 떨어지지 않는수) 일수 있으므로 소수 검사를 한다.\n",
    "    - 3) 소수가 아니라면 가장 먼저 나누어떨어지는 수 i를 return\n",
    "    - 4) 소수라면 x를 return\n",
    "- 이때 소수를 검사할때는 2부터 자기 자신의 수 까지가 아닌, 약수의 특성(중간값의 양 옆은 대칭)을 이용하여 루트를 씌운값으로 판별하면 속도가 더 빠르다."
   ]
  },
  {
   "cell_type": "code",
   "execution_count": 23,
   "metadata": {
    "execution": {
     "iopub.execute_input": "2021-10-18T00:03:58.169827Z",
     "iopub.status.busy": "2021-10-18T00:03:58.169602Z",
     "iopub.status.idle": "2021-10-18T00:03:58.174260Z",
     "shell.execute_reply": "2021-10-18T00:03:58.173097Z",
     "shell.execute_reply.started": "2021-10-18T00:03:58.169805Z"
    }
   },
   "outputs": [],
   "source": [
    "import math\n",
    "def solution(n):\n",
    "    x = n - 1\n",
    "    if x % 2 == 0:\n",
    "        return 2\n",
    "    for i in range(2, int(math.sqrt(x) + 1)):\n",
    "        if x % i == 0: \n",
    "            return i\n",
    "    return x"
   ]
  },
  {
   "cell_type": "code",
   "execution_count": 24,
   "metadata": {
    "execution": {
     "iopub.execute_input": "2021-10-18T00:03:58.671959Z",
     "iopub.status.busy": "2021-10-18T00:03:58.671784Z",
     "iopub.status.idle": "2021-10-18T00:03:58.675176Z",
     "shell.execute_reply": "2021-10-18T00:03:58.674689Z",
     "shell.execute_reply.started": "2021-10-18T00:03:58.671941Z"
    }
   },
   "outputs": [
    {
     "data": {
      "text/plain": [
       "3"
      ]
     },
     "execution_count": 24,
     "metadata": {},
     "output_type": "execute_result"
    }
   ],
   "source": [
    "n = 10\n",
    "solution(n)"
   ]
  },
  {
   "cell_type": "code",
   "execution_count": 25,
   "metadata": {
    "execution": {
     "iopub.execute_input": "2021-10-18T00:03:58.820503Z",
     "iopub.status.busy": "2021-10-18T00:03:58.820295Z",
     "iopub.status.idle": "2021-10-18T00:03:58.823911Z",
     "shell.execute_reply": "2021-10-18T00:03:58.823361Z",
     "shell.execute_reply.started": "2021-10-18T00:03:58.820481Z"
    }
   },
   "outputs": [
    {
     "data": {
      "text/plain": [
       "11"
      ]
     },
     "execution_count": 25,
     "metadata": {},
     "output_type": "execute_result"
    }
   ],
   "source": [
    "n = 12\n",
    "solution(n)"
   ]
  }
 ],
 "metadata": {
  "kernelspec": {
   "display_name": "Python 3",
   "language": "python",
   "name": "python3"
  },
  "language_info": {
   "codemirror_mode": {
    "name": "ipython",
    "version": 3
   },
   "file_extension": ".py",
   "mimetype": "text/x-python",
   "name": "python",
   "nbconvert_exporter": "python",
   "pygments_lexer": "ipython3",
   "version": "3.8.3"
  }
 },
 "nbformat": 4,
 "nbformat_minor": 4
}
