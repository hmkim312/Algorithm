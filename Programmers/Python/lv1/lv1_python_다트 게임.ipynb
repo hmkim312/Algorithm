{
 "cells": [
  {
   "cell_type": "markdown",
   "metadata": {},
   "source": [
    "URL <https://programmers.co.kr/learn/courses/30/lessons/17682>{:target=\"_blank\"}\n",
    "\n",
    "#### 문제 설명\n",
    "- 다트 게임\n",
    "- 카카오톡에 뜬 네 번째 별! 심심할 땐? 카카오톡 게임별~\n",
    "- 카카오톡 게임별의 하반기 신규 서비스로 다트 게임을 출시하기로 했다. 다트 게임은 다트판에 다트를 세 차례 던져 그 점수의 합계로 실력을 겨루는 게임으로, 모두가 간단히 즐길 수 있다.\n",
    "- 갓 입사한 무지는 코딩 실력을 인정받아 게임의 핵심 부분인 점수 계산 로직을 맡게 되었다. 다트 게임의 점수 계산 로직은 아래와 같다.\n",
    "\n",
    "- 다트 게임은 총 3번의 기회로 구성된다.\n",
    "- 각 기회마다 얻을 수 있는 점수는 0점에서 10점까지이다.\n",
    "- 점수와 함께 Single(S), Double(D), Triple(T) 영역이 존재하고 각 영역 당첨 시 점수에서 1제곱, 2제곱, 3제곱 (점수1 , 점수2 , 점수3 )으로 계산된다.\n",
    "- 옵션으로 스타상(\\*) , 아차상(#)이 존재하며 스타상(\\*) 당첨 시 해당 점수와 바로 전에 얻은 점수를 각 2배로 만든다. 아차상(#) 당첨 시 해당 점수는 마이너스된다.\n",
    "- 스타상(\\*)은 첫 번째 기회에서도 나올 수 있다. 이 경우 첫 번째 스타상(\\*)의 점수만 2배가 된다. (예제 4번 참고)\n",
    "- 스타상(\\*)의 효과는 다른 스타상(\\*)의 효과와 중첩될 수 있다. 이 경우 중첩된 스타상(\\*) 점수는 4배가 된다. (예제 4번 참고)\n",
    "- 스타상(\\*)의 효과는 아차상(#)의 효과와 중첩될 수 있다. 이 경우 중첩된 아차상(#)의 점수는 -2배가 된다. (예제 5번 참고)\n",
    "- Single(S), Double(D), Triple(T)은 점수마다 하나씩 존재한다.\n",
    "- 스타상(\\*), 아차상(#)은 점수마다 둘 중 하나만 존재할 수 있으며, 존재하지 않을 수도 있다.\n",
    "- 0~10의 정수와 문자 S, D, T, \\*, #로 구성된 문자열이 입력될 시 총점수를 반환하는 함수를 작성하라.\n",
    "\n",
    "#### 입력 형식\n",
    "- \"점수|보너스|[옵션]\"으로 이루어진 문자열 3세트.\n",
    "- 예) 1S2D\\*3T\n",
    "- 점수는 0에서 10 사이의 정수이다.\n",
    "- 보너스는 S, D, T 중 하나이다.\n",
    "- 옵선은 \\*이나 # 중 하나이며, 없을 수도 있다.\n",
    "\n",
    "#### 문제 풀이\n",
    "- 주어진 dartResult에서 \\*과 \\#이 나오기 전까지 temp에 원소를 저장한다.\n",
    "- 이후 temp의 마지막 원소가 S면 1제곱, D면 2제곱 T면 3제곱을 하여 point로 만든 뒤 anser list에 append 시켜준다\n",
    "- 이때 모두 points를 더하지 않는 이유는 이번에 계산된 points와 이전에 계산된 points를 \\*과 \\#에 따라서 다시 계산해 주어야 하기 때문이다.\n",
    "- 만약 i가 \\*이면 이번에 계산하여 넣은 points와 이전에 계산하여 넣은 points를 2배하고\n",
    "- 만약 i가 \\#이면 이번에 계산한 points를 -로 바꿔준다.\n",
    "- answer에 미리 [0,0]을 넣어둔 이유는 \\*나 \\#이 맨 앞에 있을때를 대비해서 만든것.\n",
    "- 사실 for문은 1개이지만 if문이 너무 많아서 효율적인 코드는 아닌것 같다.\n",
    "- 추후에 다시 파이선에 요령이 생기면 좀더 간략히 효율적으로 짜보는것도 좋을것 같다."
   ]
  },
  {
   "cell_type": "code",
   "execution_count": 11,
   "metadata": {
    "execution": {
     "iopub.execute_input": "2021-03-05T01:32:00.209452Z",
     "iopub.status.busy": "2021-03-05T01:32:00.209230Z",
     "iopub.status.idle": "2021-03-05T01:32:00.216345Z",
     "shell.execute_reply": "2021-03-05T01:32:00.215743Z",
     "shell.execute_reply.started": "2021-03-05T01:32:00.209429Z"
    }
   },
   "outputs": [],
   "source": [
    "def solution(dartResult):\n",
    "    \n",
    "    temp = ''\n",
    "    answer = [0, 0]\n",
    "    for i in dartResult:\n",
    "        if i != '*' and i != '#':\n",
    "\n",
    "            temp += i\n",
    "\n",
    "            if temp[-1] == 'S':\n",
    "                point = int(temp[:-1]) ** 1\n",
    "                answer.append(point)\n",
    "                temp = ''\n",
    "                point = 0\n",
    "\n",
    "            elif temp[-1] == 'D':\n",
    "                point = int(temp[:-1]) ** 2\n",
    "                answer.append(point)\n",
    "                temp = ''\n",
    "                point = 0\n",
    "\n",
    "            elif temp[-1] == 'T':\n",
    "                point = int(temp[:-1]) ** 3\n",
    "                answer.append(point)\n",
    "                temp = ''\n",
    "                point = 0\n",
    "\n",
    "\n",
    "        elif i == '*':\n",
    "            answer[-1] = answer[-1] * 2\n",
    "            answer[-2] = answer[-2] * 2 \n",
    "            \n",
    "        elif i == '#':\n",
    "            answer[-1] = - answer[-1]\n",
    "\n",
    "    return sum(answer)"
   ]
  },
  {
   "cell_type": "code",
   "execution_count": 12,
   "metadata": {
    "execution": {
     "iopub.execute_input": "2021-03-05T01:32:00.379137Z",
     "iopub.status.busy": "2021-03-05T01:32:00.378921Z",
     "iopub.status.idle": "2021-03-05T01:32:00.382971Z",
     "shell.execute_reply": "2021-03-05T01:32:00.382400Z",
     "shell.execute_reply.started": "2021-03-05T01:32:00.379113Z"
    }
   },
   "outputs": [
    {
     "data": {
      "text/plain": [
       "37"
      ]
     },
     "execution_count": 12,
     "metadata": {},
     "output_type": "execute_result"
    }
   ],
   "source": [
    "dartResult = '1S2D*3T'\n",
    "solution(dartResult)"
   ]
  },
  {
   "cell_type": "code",
   "execution_count": 13,
   "metadata": {
    "execution": {
     "iopub.execute_input": "2021-03-05T01:32:00.545045Z",
     "iopub.status.busy": "2021-03-05T01:32:00.544830Z",
     "iopub.status.idle": "2021-03-05T01:32:00.552020Z",
     "shell.execute_reply": "2021-03-05T01:32:00.551018Z",
     "shell.execute_reply.started": "2021-03-05T01:32:00.545023Z"
    }
   },
   "outputs": [
    {
     "data": {
      "text/plain": [
       "9"
      ]
     },
     "execution_count": 13,
     "metadata": {},
     "output_type": "execute_result"
    }
   ],
   "source": [
    "dartResult = '1D2S#10S'\n",
    "solution(dartResult)"
   ]
  },
  {
   "cell_type": "code",
   "execution_count": 14,
   "metadata": {
    "execution": {
     "iopub.execute_input": "2021-03-05T01:32:00.722676Z",
     "iopub.status.busy": "2021-03-05T01:32:00.722444Z",
     "iopub.status.idle": "2021-03-05T01:32:00.726731Z",
     "shell.execute_reply": "2021-03-05T01:32:00.726136Z",
     "shell.execute_reply.started": "2021-03-05T01:32:00.722650Z"
    }
   },
   "outputs": [
    {
     "data": {
      "text/plain": [
       "3"
      ]
     },
     "execution_count": 14,
     "metadata": {},
     "output_type": "execute_result"
    }
   ],
   "source": [
    "dartResult = '1D2S0T'\n",
    "solution(dartResult)"
   ]
  },
  {
   "cell_type": "code",
   "execution_count": 15,
   "metadata": {
    "execution": {
     "iopub.execute_input": "2021-03-05T01:32:00.912363Z",
     "iopub.status.busy": "2021-03-05T01:32:00.912154Z",
     "iopub.status.idle": "2021-03-05T01:32:00.915763Z",
     "shell.execute_reply": "2021-03-05T01:32:00.915212Z",
     "shell.execute_reply.started": "2021-03-05T01:32:00.912340Z"
    }
   },
   "outputs": [
    {
     "data": {
      "text/plain": [
       "23"
      ]
     },
     "execution_count": 15,
     "metadata": {},
     "output_type": "execute_result"
    }
   ],
   "source": [
    "dartResult = '1S*2T*3S'\n",
    "solution(dartResult)"
   ]
  },
  {
   "cell_type": "code",
   "execution_count": 16,
   "metadata": {
    "execution": {
     "iopub.execute_input": "2021-03-05T01:32:01.133045Z",
     "iopub.status.busy": "2021-03-05T01:32:01.132828Z",
     "iopub.status.idle": "2021-03-05T01:32:01.136583Z",
     "shell.execute_reply": "2021-03-05T01:32:01.136089Z",
     "shell.execute_reply.started": "2021-03-05T01:32:01.133021Z"
    }
   },
   "outputs": [
    {
     "data": {
      "text/plain": [
       "5"
      ]
     },
     "execution_count": 16,
     "metadata": {},
     "output_type": "execute_result"
    }
   ],
   "source": [
    "dartResult = '1D#2S*3S'\n",
    "solution(dartResult)"
   ]
  },
  {
   "cell_type": "code",
   "execution_count": 17,
   "metadata": {
    "execution": {
     "iopub.execute_input": "2021-03-05T01:32:01.430411Z",
     "iopub.status.busy": "2021-03-05T01:32:01.430180Z",
     "iopub.status.idle": "2021-03-05T01:32:01.434020Z",
     "shell.execute_reply": "2021-03-05T01:32:01.433468Z",
     "shell.execute_reply.started": "2021-03-05T01:32:01.430386Z"
    }
   },
   "outputs": [
    {
     "data": {
      "text/plain": [
       "-4"
      ]
     },
     "execution_count": 17,
     "metadata": {},
     "output_type": "execute_result"
    }
   ],
   "source": [
    "dartResult = '1T2D3D#'\n",
    "solution(dartResult)"
   ]
  },
  {
   "cell_type": "code",
   "execution_count": 18,
   "metadata": {
    "execution": {
     "iopub.execute_input": "2021-03-05T01:32:01.765205Z",
     "iopub.status.busy": "2021-03-05T01:32:01.764992Z",
     "iopub.status.idle": "2021-03-05T01:32:01.768998Z",
     "shell.execute_reply": "2021-03-05T01:32:01.768474Z",
     "shell.execute_reply.started": "2021-03-05T01:32:01.765183Z"
    }
   },
   "outputs": [
    {
     "data": {
      "text/plain": [
       "59"
      ]
     },
     "execution_count": 18,
     "metadata": {},
     "output_type": "execute_result"
    }
   ],
   "source": [
    "dartResult = '1D2S3T*'\n",
    "solution(dartResult)"
   ]
  }
 ],
 "metadata": {
  "kernelspec": {
   "display_name": "Python 3",
   "language": "python",
   "name": "python3"
  },
  "language_info": {
   "codemirror_mode": {
    "name": "ipython",
    "version": 3
   },
   "file_extension": ".py",
   "mimetype": "text/x-python",
   "name": "python",
   "nbconvert_exporter": "python",
   "pygments_lexer": "ipython3",
   "version": "3.8.3"
  }
 },
 "nbformat": 4,
 "nbformat_minor": 4
}
