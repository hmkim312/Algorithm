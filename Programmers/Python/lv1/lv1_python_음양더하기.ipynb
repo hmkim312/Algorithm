{
 "cells": [
  {
   "cell_type": "markdown",
   "metadata": {},
   "source": [
    "URL <https://programmers.co.kr/learn/courses/30/lessons/76501>{:target=\"_blank\"}\n",
    "\n",
    "### 문제 설명\n",
    "- 어떤 정수들이 있습니다. 이 정수들의 절댓값을 차례대로 담은 정수 배열 absolutes와 이 정수들의 부호를 차례대로 담은 불리언 배열 signs가 매개변수로 주어집니다. 실제 정수들의 합을 구하여 return 하도록 solution 함수를 완성해주세요.\n",
    "\n",
    "#### 제한사항\n",
    "- absolutes의 길이는 1 이상 1,000 이하입니다.\n",
    "- absolutes의 모든 수는 각각 1 이상 1,000 이하입니다.\n",
    "- signs의 길이는 absolutes의 길이와 같습니다.\n",
    "- signs[i] 가 참이면 absolutes[i] 의 실제 정수가 양수임을, 그렇지 않으면 음수임을 의미합니다.\n",
    "\n",
    "#### 문제풀이\n",
    "- absolutes를 for문 돌면서 signs의 위치가 True면 더해주고, 아니면 빼주도록 함수를 작성함"
   ]
  },
  {
   "cell_type": "code",
   "execution_count": 8,
   "metadata": {
    "execution": {
     "iopub.execute_input": "2021-06-17T08:38:17.662259Z",
     "iopub.status.busy": "2021-06-17T08:38:17.662058Z",
     "iopub.status.idle": "2021-06-17T08:38:17.666042Z",
     "shell.execute_reply": "2021-06-17T08:38:17.665347Z",
     "shell.execute_reply.started": "2021-06-17T08:38:17.662237Z"
    }
   },
   "outputs": [],
   "source": [
    "def solution(absolutes, signs):\n",
    "    answer = 0\n",
    "    for idx, absolute in enumerate(absolutes):\n",
    "        if signs[idx]:\n",
    "            answer += absolute\n",
    "        else:\n",
    "            answer -= absolute\n",
    "    return answer"
   ]
  },
  {
   "cell_type": "code",
   "execution_count": 9,
   "metadata": {
    "execution": {
     "iopub.execute_input": "2021-06-17T08:38:25.929378Z",
     "iopub.status.busy": "2021-06-17T08:38:25.929166Z",
     "iopub.status.idle": "2021-06-17T08:38:25.933802Z",
     "shell.execute_reply": "2021-06-17T08:38:25.933174Z",
     "shell.execute_reply.started": "2021-06-17T08:38:25.929355Z"
    }
   },
   "outputs": [
    {
     "data": {
      "text/plain": [
       "9"
      ]
     },
     "execution_count": 9,
     "metadata": {},
     "output_type": "execute_result"
    }
   ],
   "source": [
    "absolutes = [4,7,12]\n",
    "signs = [True,False,True]\n",
    "solution(absolutes, signs)"
   ]
  },
  {
   "cell_type": "code",
   "execution_count": 10,
   "metadata": {
    "execution": {
     "iopub.execute_input": "2021-06-17T08:38:40.927918Z",
     "iopub.status.busy": "2021-06-17T08:38:40.927703Z",
     "iopub.status.idle": "2021-06-17T08:38:40.932822Z",
     "shell.execute_reply": "2021-06-17T08:38:40.932125Z",
     "shell.execute_reply.started": "2021-06-17T08:38:40.927895Z"
    }
   },
   "outputs": [
    {
     "data": {
      "text/plain": [
       "0"
      ]
     },
     "execution_count": 10,
     "metadata": {},
     "output_type": "execute_result"
    }
   ],
   "source": [
    "absolutes = [1,2,3]\n",
    "signs = [False,False,True]\n",
    "solution(absolutes, signs)"
   ]
  },
  {
   "cell_type": "code",
   "execution_count": null,
   "metadata": {},
   "outputs": [],
   "source": []
  }
 ],
 "metadata": {
  "kernelspec": {
   "display_name": "Python 3",
   "language": "python",
   "name": "python3"
  },
  "language_info": {
   "codemirror_mode": {
    "name": "ipython",
    "version": 3
   },
   "file_extension": ".py",
   "mimetype": "text/x-python",
   "name": "python",
   "nbconvert_exporter": "python",
   "pygments_lexer": "ipython3",
   "version": "3.8.3"
  }
 },
 "nbformat": 4,
 "nbformat_minor": 4
}
