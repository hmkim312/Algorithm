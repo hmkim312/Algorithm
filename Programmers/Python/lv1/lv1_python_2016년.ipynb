{
 "cells": [
  {
   "cell_type": "markdown",
   "metadata": {},
   "source": [
    "### 2016년\n",
    "- 문제 설명\n",
    "    - 2016년 1월 1일은 금요일입니다. 2016년 a월 b일은 무슨 요일일까요? \n",
    "    - 두 수 a ,b를 입력받아 2016년 a월 b일이 무슨 요일인지 리턴하는 함수, solution을 완성하세요. \n",
    "    - 요일의 이름은 일요일부터 토요일까지 각각 SUN,MON,TUE,WED,THU,FRI,SAT입니다. 예를 들어 a=5, b=24라면 5월 24일은 화요일이므로 문자열 TUE를 반환하세요.\n",
    "\n",
    "- 제한 조건\n",
    "    - 2016년은 윤년입니다.\n",
    "    - 2016년 a월 b일은 실제로 있는 날입니다. (13월 26일이나 2월 45일같은 날짜는 주어지지 않습니다)"
   ]
  },
  {
   "cell_type": "code",
   "execution_count": 3,
   "metadata": {
    "execution": {
     "iopub.execute_input": "2020-10-10T12:53:49.255363Z",
     "iopub.status.busy": "2020-10-10T12:53:49.255153Z",
     "iopub.status.idle": "2020-10-10T12:53:49.259087Z",
     "shell.execute_reply": "2020-10-10T12:53:49.258515Z",
     "shell.execute_reply.started": "2020-10-10T12:53:49.255341Z"
    }
   },
   "outputs": [
    {
     "data": {
      "text/plain": [
       "datetime.date(2016, 1, 1)"
      ]
     },
     "execution_count": 3,
     "metadata": {},
     "output_type": "execute_result"
    }
   ],
   "source": [
    "from datetime import date\n",
    "date(2016, 1, 1)"
   ]
  },
  {
   "cell_type": "code",
   "execution_count": 2,
   "metadata": {
    "execution": {
     "iopub.execute_input": "2020-06-24T08:00:14.481892Z",
     "iopub.status.busy": "2020-06-24T08:00:14.481892Z",
     "iopub.status.idle": "2020-06-24T08:00:14.487879Z",
     "shell.execute_reply": "2020-06-24T08:00:14.487879Z",
     "shell.execute_reply.started": "2020-06-24T08:00:14.481892Z"
    }
   },
   "outputs": [
    {
     "data": {
      "text/plain": [
       "'SAT'"
      ]
     },
     "execution_count": 2,
     "metadata": {},
     "output_type": "execute_result"
    }
   ],
   "source": [
    "import datetime\n",
    "def solution(a,b):\n",
    "    t = ['MON','TUE','WED','THU','FRI','SAT','SUN']\n",
    "    aday = datetime.date(2016,a,b)\n",
    "    bday = aday.weekday()\n",
    "    return t[bday]\n",
    "solution(2,13)"
   ]
  },
  {
   "cell_type": "code",
   "execution_count": null,
   "metadata": {},
   "outputs": [],
   "source": []
  }
 ],
 "metadata": {
  "kernelspec": {
   "display_name": "Python 3",
   "language": "python",
   "name": "python3"
  },
  "language_info": {
   "codemirror_mode": {
    "name": "ipython",
    "version": 3
   },
   "file_extension": ".py",
   "mimetype": "text/x-python",
   "name": "python",
   "nbconvert_exporter": "python",
   "pygments_lexer": "ipython3",
   "version": "3.8.3"
  }
 },
 "nbformat": 4,
 "nbformat_minor": 4
}
