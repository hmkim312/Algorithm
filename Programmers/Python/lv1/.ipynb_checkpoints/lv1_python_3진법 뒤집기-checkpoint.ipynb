{
 "cells": [
  {
   "cell_type": "markdown",
   "metadata": {},
   "source": [
    "URL : <https://programmers.co.kr/learn/courses/30/lessons/68935>{:target=\"_blank\"}\n",
    "\n",
    "#### 문제 설명\n",
    "- 자연수 n이 매개변수로 주어집니다. n을 3진법 상에서 앞뒤로 뒤집은 후, 이를 다시 10진법으로 표현한 수를 return 하도록 solution 함수를 완성해주세요.\n",
    "\n",
    "#### 제한사항\n",
    "- n은 1 이상 100,000,000 이하인 자연수입니다.\n"
   ]
  },
  {
   "cell_type": "markdown",
   "metadata": {},
   "source": [
    "#### 문제 풀이\n",
    "- python은 2,8,16으로 변환하는 함수는 있으나 (format) 나머지는 없어서 따로 구현을 해야했다.\n",
    "- divmod는 몫과 나머지를 반환해주는 함수여서 while의 반복문을 사용하여 n이 0이 될때까지 하는 방법으로 실행하며 answer에 저장하면 알아서 뒤집혀서 저장됨\n",
    "- 이후 int를 사용하여 3진법을 10진법으로 변환시켜 주면 ㄷ끝"
   ]
  },
  {
   "cell_type": "code",
   "execution_count": 20,
   "metadata": {
    "execution": {
     "iopub.execute_input": "2020-12-30T00:44:29.267531Z",
     "iopub.status.busy": "2020-12-30T00:44:29.267319Z",
     "iopub.status.idle": "2020-12-30T00:44:29.271167Z",
     "shell.execute_reply": "2020-12-30T00:44:29.270463Z",
     "shell.execute_reply.started": "2020-12-30T00:44:29.267508Z"
    }
   },
   "outputs": [],
   "source": [
    "def solution(n):\n",
    "    answer = ''\n",
    "    while n > 0:\n",
    "        q, r = divmod(n, 3)\n",
    "        answer += str(r)\n",
    "        n = q\n",
    "    return int(answer, base = 3)"
   ]
  },
  {
   "cell_type": "code",
   "execution_count": 22,
   "metadata": {
    "execution": {
     "iopub.execute_input": "2020-12-30T00:44:43.525158Z",
     "iopub.status.busy": "2020-12-30T00:44:43.524931Z",
     "iopub.status.idle": "2020-12-30T00:44:43.529106Z",
     "shell.execute_reply": "2020-12-30T00:44:43.528480Z",
     "shell.execute_reply.started": "2020-12-30T00:44:43.525135Z"
    }
   },
   "outputs": [
    {
     "data": {
      "text/plain": [
       "7"
      ]
     },
     "execution_count": 22,
     "metadata": {},
     "output_type": "execute_result"
    }
   ],
   "source": [
    "n = 45\n",
    "solution(n)"
   ]
  },
  {
   "cell_type": "code",
   "execution_count": 23,
   "metadata": {
    "execution": {
     "iopub.execute_input": "2020-12-30T00:44:56.635533Z",
     "iopub.status.busy": "2020-12-30T00:44:56.635343Z",
     "iopub.status.idle": "2020-12-30T00:44:56.638812Z",
     "shell.execute_reply": "2020-12-30T00:44:56.638341Z",
     "shell.execute_reply.started": "2020-12-30T00:44:56.635512Z"
    }
   },
   "outputs": [
    {
     "data": {
      "text/plain": [
       "229"
      ]
     },
     "execution_count": 23,
     "metadata": {},
     "output_type": "execute_result"
    }
   ],
   "source": [
    "n = 125\n",
    "solution(n)"
   ]
  }
 ],
 "metadata": {
  "kernelspec": {
   "display_name": "Python 3",
   "language": "python",
   "name": "python3"
  },
  "language_info": {
   "codemirror_mode": {
    "name": "ipython",
    "version": 3
   },
   "file_extension": ".py",
   "mimetype": "text/x-python",
   "name": "python",
   "nbconvert_exporter": "python",
   "pygments_lexer": "ipython3",
   "version": "3.8.3"
  }
 },
 "nbformat": 4,
 "nbformat_minor": 4
}
