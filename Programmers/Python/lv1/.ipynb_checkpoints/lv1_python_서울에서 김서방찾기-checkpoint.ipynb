{
 "cells": [
  {
   "cell_type": "markdown",
   "metadata": {},
   "source": [
    "#### 서울에서 김서방 찾기\n",
    "-문제 설명\n",
    "    - String형 배열 seoul의 element중 Kim의 위치 x를 찾아, 김서방은 x에 있다는 String을 반환하는 함수, solution을 완성하세요. \n",
    "    - seoul에 Kim은 오직 한 번만 나타나며 잘못된 값이 입력되는 경우는 없습니다.\n",
    "\n",
    "- 제한 사항\n",
    "    - seoul은 길이 1 이상, 1000 이하인 배열입니다.\n",
    "    - seoul의 원소는 길이 1 이상, 20 이하인 문자열입니다.\n",
    "    - Kim은 반드시 seoul 안에 포함되어 있습니다."
   ]
  },
  {
   "cell_type": "code",
   "execution_count": 10,
   "metadata": {
    "execution": {
     "iopub.execute_input": "2020-06-24T08:23:48.601828Z",
     "iopub.status.busy": "2020-06-24T08:23:48.601828Z",
     "iopub.status.idle": "2020-06-24T08:23:48.605753Z",
     "shell.execute_reply": "2020-06-24T08:23:48.605753Z",
     "shell.execute_reply.started": "2020-06-24T08:23:48.601828Z"
    }
   },
   "outputs": [],
   "source": [
    "def solution(seoul):\n",
    "    return f\"김서방은 {seoul.index('Kim')}에 있다\""
   ]
  },
  {
   "cell_type": "code",
   "execution_count": 11,
   "metadata": {
    "execution": {
     "iopub.execute_input": "2020-06-24T08:23:48.792074Z",
     "iopub.status.busy": "2020-06-24T08:23:48.792074Z",
     "iopub.status.idle": "2020-06-24T08:23:48.797032Z",
     "shell.execute_reply": "2020-06-24T08:23:48.796035Z",
     "shell.execute_reply.started": "2020-06-24T08:23:48.792074Z"
    }
   },
   "outputs": [],
   "source": [
    "seoul = ['Jane', 'Kim']\n",
    "solution(seoul)"
   ]
  }
 ],
 "metadata": {
  "kernelspec": {
   "display_name": "Python 3",
   "language": "python",
   "name": "python3"
  },
  "language_info": {
   "codemirror_mode": {
    "name": "ipython",
    "version": 3
   },
   "file_extension": ".py",
   "mimetype": "text/x-python",
   "name": "python",
   "nbconvert_exporter": "python",
   "pygments_lexer": "ipython3",
   "version": "3.7.6"
  }
 },
 "nbformat": 4,
 "nbformat_minor": 4
}
