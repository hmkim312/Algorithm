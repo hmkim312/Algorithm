{
 "cells": [
  {
   "cell_type": "markdown",
   "metadata": {},
   "source": [
    "#### 정수 제곱근 판별\n",
    "- 문제 설명\n",
    "    - 임의의 양의 정수 n에 대해, n이 어떤 양의 정수 x의 제곱인지 아닌지 판단하려 합니다.\n",
    "    - n이 양의 정수 x의 제곱이라면 x+1의 제곱을 리턴하고, n이 양의 정수 x의 제곱이 아니라면 -1을 리턴하는 함수를 완성하세요.\n",
    "\n",
    "- 제한 사항\n",
    "    - n은 1이상, 50000000000000 이하인 양의 정수입니다."
   ]
  },
  {
   "cell_type": "code",
   "execution_count": 31,
   "metadata": {
    "execution": {
     "iopub.execute_input": "2020-06-26T05:55:30.592442Z",
     "iopub.status.busy": "2020-06-26T05:55:30.592442Z",
     "iopub.status.idle": "2020-06-26T05:55:30.596397Z",
     "shell.execute_reply": "2020-06-26T05:55:30.596397Z",
     "shell.execute_reply.started": "2020-06-26T05:55:30.592442Z"
    }
   },
   "outputs": [],
   "source": [
    "import math\n",
    "\n",
    "def solution(n):\n",
    "    a = int(math.sqrt(n))\n",
    "    if a * a == n:\n",
    "        return (a + 1) * (a+1)\n",
    "    else:\n",
    "        return -1"
   ]
  },
  {
   "cell_type": "code",
   "execution_count": 27,
   "metadata": {
    "execution": {
     "iopub.execute_input": "2020-06-26T05:55:04.265837Z",
     "iopub.status.busy": "2020-06-26T05:55:04.264839Z",
     "iopub.status.idle": "2020-06-26T05:55:04.269826Z",
     "shell.execute_reply": "2020-06-26T05:55:04.269826Z",
     "shell.execute_reply.started": "2020-06-26T05:55:04.265837Z"
    }
   },
   "outputs": [
    {
     "data": {
      "text/plain": [
       "-1"
      ]
     },
     "execution_count": 27,
     "metadata": {},
     "output_type": "execute_result"
    }
   ],
   "source": [
    "n= 515\n",
    "solution(n)"
   ]
  },
  {
   "cell_type": "code",
   "execution_count": 28,
   "metadata": {
    "execution": {
     "iopub.execute_input": "2020-06-26T05:55:09.093991Z",
     "iopub.status.busy": "2020-06-26T05:55:09.093991Z",
     "iopub.status.idle": "2020-06-26T05:55:09.098977Z",
     "shell.execute_reply": "2020-06-26T05:55:09.098977Z",
     "shell.execute_reply.started": "2020-06-26T05:55:09.093991Z"
    }
   },
   "outputs": [
    {
     "data": {
      "text/plain": [
       "169"
      ]
     },
     "execution_count": 28,
     "metadata": {},
     "output_type": "execute_result"
    }
   ],
   "source": [
    "n= 144\n",
    "solution(n)"
   ]
  }
 ],
 "metadata": {
  "kernelspec": {
   "display_name": "Python 3",
   "language": "python",
   "name": "python3"
  },
  "language_info": {
   "codemirror_mode": {
    "name": "ipython",
    "version": 3
   },
   "file_extension": ".py",
   "mimetype": "text/x-python",
   "name": "python",
   "nbconvert_exporter": "python",
   "pygments_lexer": "ipython3",
   "version": "3.8.3"
  }
 },
 "nbformat": 4,
 "nbformat_minor": 4
}
