{
 "cells": [
  {
   "cell_type": "markdown",
   "metadata": {},
   "source": [
    "URL : <https://programmers.co.kr/learn/courses/30/lessons/12926>{target=\"_blank\"}\n",
    "- 문제 설명\n",
    "    - 어떤 문장의 각 알파벳을 일정한 거리만큼 밀어서 다른 알파벳으로 바꾸는 암호화 방식을 시저 암호라고 합니다. 예를 들어 AB는 1만큼 밀면 BC가 되고, 3만큼 밀면 DE가 됩니다. z는 1만큼 밀면 a가 됩니다. 문자열 s와 거리 n을 입력받아 s를 n만큼 민 암호문을 만드는 함수, solution을 완성해 보세요.\n",
    "\n",
    "- 제한 조건\n",
    "    - 공백은 아무리 밀어도 공백입니다.\n",
    "    - s는 알파벳 소문자, 대문자, 공백으로만 이루어져 있습니다.\n",
    "    - s의 길이는 8000이하입니다.\n",
    "    - n은 1 이상, 25이하인 자연수입니다."
   ]
  },
  {
   "cell_type": "markdown",
   "metadata": {
    "execution": {
     "iopub.execute_input": "2020-12-22T04:20:01.783384Z",
     "iopub.status.busy": "2020-12-22T04:20:01.783165Z",
     "iopub.status.idle": "2020-12-22T04:20:01.786931Z",
     "shell.execute_reply": "2020-12-22T04:20:01.786027Z",
     "shell.execute_reply.started": "2020-12-22T04:20:01.783362Z"
    }
   },
   "source": [
    "#### 문제풀이\n",
    "- 아스키코드를 활용하여 문제를 풀면된다.\n",
    "- python의 ord는 문자의 아스키코드를 반환함\n",
    "- 공백의 아스키코드는 32이 이므로, 32는 그대로 공백으로 저장\n",
    "- 이후 대문자는 65 ~ 90이니, 대문자의 아스키코드를 변경 후 코드를 생성함"
   ]
  },
  {
   "cell_type": "code",
   "execution_count": 115,
   "metadata": {
    "execution": {
     "iopub.execute_input": "2020-12-22T04:57:54.367509Z",
     "iopub.status.busy": "2020-12-22T04:57:54.367296Z",
     "iopub.status.idle": "2020-12-22T04:57:54.371979Z",
     "shell.execute_reply": "2020-12-22T04:57:54.371364Z",
     "shell.execute_reply.started": "2020-12-22T04:57:54.367486Z"
    }
   },
   "outputs": [],
   "source": [
    "def solution(s, n):\n",
    "    answer = ''\n",
    "    for i in s:\n",
    "        asc = ord(i)\n",
    "        if asc == 32:\n",
    "            answer += ' '\n",
    "        elif asc <= 90:\n",
    "            asc = (asc - 65 + n) % 26\n",
    "            answer += chr(asc+65)\n",
    "        elif asc >= 97:\n",
    "            asc = (asc - 97 + n) % 26\n",
    "            answer += chr(asc+97)\n",
    "    return answer"
   ]
  },
  {
   "cell_type": "code",
   "execution_count": 116,
   "metadata": {
    "execution": {
     "iopub.execute_input": "2020-12-22T04:57:54.509061Z",
     "iopub.status.busy": "2020-12-22T04:57:54.508811Z",
     "iopub.status.idle": "2020-12-22T04:57:54.513190Z",
     "shell.execute_reply": "2020-12-22T04:57:54.512593Z",
     "shell.execute_reply.started": "2020-12-22T04:57:54.509039Z"
    }
   },
   "outputs": [
    {
     "data": {
      "text/plain": [
       "'b C D'"
      ]
     },
     "execution_count": 116,
     "metadata": {},
     "output_type": "execute_result"
    }
   ],
   "source": [
    "s = 'a B C'\n",
    "n = 1\n",
    "solution(s, n)"
   ]
  },
  {
   "cell_type": "markdown",
   "metadata": {},
   "source": [
    "#### 정답은 나오는데 런타임 에러뜸"
   ]
  },
  {
   "cell_type": "code",
   "execution_count": 106,
   "metadata": {
    "execution": {
     "iopub.execute_input": "2020-12-22T04:53:15.648540Z",
     "iopub.status.busy": "2020-12-22T04:53:15.648330Z",
     "iopub.status.idle": "2020-12-22T04:53:15.654490Z",
     "shell.execute_reply": "2020-12-22T04:53:15.653867Z",
     "shell.execute_reply.started": "2020-12-22T04:53:15.648518Z"
    }
   },
   "outputs": [],
   "source": [
    "import string\n",
    "alphabet_lower = list(string.ascii_lowercase)\n",
    "alphabet_upper = list(string.ascii_uppercase)\n",
    "\n",
    "def solution(s, n):\n",
    "    answer = ''\n",
    "    for i in range(len(s)):\n",
    "        if s[i] in alphabet_lower:\n",
    "            idx = alphabet_lower.index(s[i])\n",
    "            if idx >= 25:\n",
    "                idx = idx - 25\n",
    "                answer += alphabet_lower[idx + n -1]\n",
    "\n",
    "            else :\n",
    "                answer += alphabet_lower[idx + n]\n",
    "        elif s[i] in alphabet_upper:\n",
    "            idx = alphabet_upper.index(s[i])\n",
    "            if idx >= 25:\n",
    "                idx = idx - 25\n",
    "                answer += alphabet_upper[idx + n -1]\n",
    "            else:\n",
    "                answer += alphabet_upper[idx + n]\n",
    "        else:\n",
    "            answer += ' '\n",
    "    \n",
    "    return answer"
   ]
  },
  {
   "cell_type": "code",
   "execution_count": 107,
   "metadata": {
    "execution": {
     "iopub.execute_input": "2020-12-22T04:53:16.417586Z",
     "iopub.status.busy": "2020-12-22T04:53:16.417365Z",
     "iopub.status.idle": "2020-12-22T04:53:16.421294Z",
     "shell.execute_reply": "2020-12-22T04:53:16.420720Z",
     "shell.execute_reply.started": "2020-12-22T04:53:16.417562Z"
    }
   },
   "outputs": [
    {
     "data": {
      "text/plain": [
       "'e F d'"
      ]
     },
     "execution_count": 107,
     "metadata": {},
     "output_type": "execute_result"
    }
   ],
   "source": [
    "s = \"a B z\"\n",
    "n = 4\n",
    "solution(s, n)"
   ]
  },
  {
   "cell_type": "code",
   "execution_count": null,
   "metadata": {},
   "outputs": [],
   "source": []
  }
 ],
 "metadata": {
  "kernelspec": {
   "display_name": "Python 3",
   "language": "python",
   "name": "python3"
  },
  "language_info": {
   "codemirror_mode": {
    "name": "ipython",
    "version": 3
   },
   "file_extension": ".py",
   "mimetype": "text/x-python",
   "name": "python",
   "nbconvert_exporter": "python",
   "pygments_lexer": "ipython3",
   "version": "3.8.3"
  }
 },
 "nbformat": 4,
 "nbformat_minor": 4
}
