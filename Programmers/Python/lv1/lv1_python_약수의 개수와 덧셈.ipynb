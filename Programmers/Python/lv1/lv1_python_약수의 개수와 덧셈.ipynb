{
 "cells": [
  {
   "cell_type": "markdown",
   "metadata": {},
   "source": [
    "URL <https://programmers.co.kr/learn/courses/30/lessons/77884?language=python3>{:target=\"_blank\"}\n",
    "\n",
    "#### 문제 설명\n",
    "- 두 정수 left와 right가 매개변수로 주어집니다. left부터 right까지의 모든 수들 중에서, 약수의 개수가 짝수인 수는 더하고, 약수의 개수가 홀수인 수는 뺀 수를 return 하도록 solution 함수를 완성해주세요.\n",
    "\n",
    "#### 제한사항\n",
    "- 1 ≤ left ≤ right ≤ 1,000\n",
    "\n",
    "#### 문제 풀이\n",
    "- 숫자를 인자로 받아 약수의 갯수를 출력해주는 divisor라는 함수를 생성\n",
    "- left, right를 인자로 받아 left ~ right까지 숫자를 for문을 돌면서 해당 숫자가 짝수면 + 홀수면 -를 하는 함수를 만들었다."
   ]
  },
  {
   "cell_type": "code",
   "execution_count": 5,
   "metadata": {
    "execution": {
     "iopub.execute_input": "2021-06-17T00:43:51.124222Z",
     "iopub.status.busy": "2021-06-17T00:43:51.124018Z",
     "iopub.status.idle": "2021-06-17T00:43:51.127479Z",
     "shell.execute_reply": "2021-06-17T00:43:51.126867Z",
     "shell.execute_reply.started": "2021-06-17T00:43:51.124201Z"
    }
   },
   "outputs": [],
   "source": [
    "def divisor(num):\n",
    "    count=0\n",
    "    for i in range(1, num+1):\n",
    "        if num%i ==0:\n",
    "            count+=1\n",
    "    return count"
   ]
  },
  {
   "cell_type": "code",
   "execution_count": 10,
   "metadata": {
    "execution": {
     "iopub.execute_input": "2021-06-17T00:46:25.355245Z",
     "iopub.status.busy": "2021-06-17T00:46:25.355033Z",
     "iopub.status.idle": "2021-06-17T00:46:25.358898Z",
     "shell.execute_reply": "2021-06-17T00:46:25.358242Z",
     "shell.execute_reply.started": "2021-06-17T00:46:25.355222Z"
    }
   },
   "outputs": [],
   "source": [
    "def solution(left, right):\n",
    "    answer = 0\n",
    "    for i in range(left, right+1):\n",
    "        num = divisor(i)\n",
    "        if num%2 ==0 :\n",
    "            answer +=i\n",
    "        else:\n",
    "            answer -=i\n",
    "    return answer"
   ]
  },
  {
   "cell_type": "code",
   "execution_count": 11,
   "metadata": {
    "execution": {
     "iopub.execute_input": "2021-06-17T00:46:25.843792Z",
     "iopub.status.busy": "2021-06-17T00:46:25.843613Z",
     "iopub.status.idle": "2021-06-17T00:46:25.847610Z",
     "shell.execute_reply": "2021-06-17T00:46:25.847067Z",
     "shell.execute_reply.started": "2021-06-17T00:46:25.843774Z"
    }
   },
   "outputs": [
    {
     "data": {
      "text/plain": [
       "43"
      ]
     },
     "execution_count": 11,
     "metadata": {},
     "output_type": "execute_result"
    }
   ],
   "source": [
    "left=13\n",
    "right=17\n",
    "solution(left, right)"
   ]
  },
  {
   "cell_type": "code",
   "execution_count": 12,
   "metadata": {
    "execution": {
     "iopub.execute_input": "2021-06-17T00:46:36.446217Z",
     "iopub.status.busy": "2021-06-17T00:46:36.446001Z",
     "iopub.status.idle": "2021-06-17T00:46:36.450503Z",
     "shell.execute_reply": "2021-06-17T00:46:36.449779Z",
     "shell.execute_reply.started": "2021-06-17T00:46:36.446194Z"
    }
   },
   "outputs": [
    {
     "data": {
      "text/plain": [
       "52"
      ]
     },
     "execution_count": 12,
     "metadata": {},
     "output_type": "execute_result"
    }
   ],
   "source": [
    "left=24\n",
    "right=27\n",
    "solution(left, right)"
   ]
  }
 ],
 "metadata": {
  "kernelspec": {
   "display_name": "Python 3",
   "language": "python",
   "name": "python3"
  },
  "language_info": {
   "codemirror_mode": {
    "name": "ipython",
    "version": 3
   },
   "file_extension": ".py",
   "mimetype": "text/x-python",
   "name": "python",
   "nbconvert_exporter": "python",
   "pygments_lexer": "ipython3",
   "version": "3.8.3"
  }
 },
 "nbformat": 4,
 "nbformat_minor": 4
}
