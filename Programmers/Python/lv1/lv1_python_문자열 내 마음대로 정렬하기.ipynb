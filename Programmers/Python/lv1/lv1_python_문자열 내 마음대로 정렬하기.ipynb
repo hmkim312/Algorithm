{
 "cells": [
  {
   "cell_type": "markdown",
   "metadata": {},
   "source": [
    "### 문자열 내 마음대로 정렬하기\n",
    "- 문제 설명\n",
    "    - 문자열로 구성된 리스트 strings와, 정수 n이 주어졌을 때, 각 문자열의 인덱스 n번째 글자를 기준으로 오름차순 정렬하려 합니다. \n",
    "    - 예를 들어 strings가 [sun, bed, car]이고 n이 1이면 각 단어의 인덱스 1의 문자 u, e, a로 strings를 정렬합니다.\n",
    "\n",
    "- 제한 조건\n",
    "    - strings는 길이 1 이상, 50이하인 배열입니다.\n",
    "    - strings의 원소는 소문자 알파벳으로 이루어져 있습니다.\n",
    "    - strings의 원소는 길이 1 이상, 100이하인 문자열입니다.\n",
    "    - 모든 strings의 원소의 길이는 n보다 큽니다.\n",
    "    - 인덱스 1의 문자가 같은 문자열이 여럿 일 경우, 사전순으로 앞선 문자열이 앞쪽에 위치합니다."
   ]
  },
  {
   "cell_type": "code",
   "execution_count": 1,
   "metadata": {
    "execution": {
     "iopub.execute_input": "2020-06-24T08:08:17.829630Z",
     "iopub.status.busy": "2020-06-24T08:08:17.829630Z",
     "iopub.status.idle": "2020-06-24T08:08:17.837641Z",
     "shell.execute_reply": "2020-06-24T08:08:17.836611Z",
     "shell.execute_reply.started": "2020-06-24T08:08:17.829630Z"
    }
   },
   "outputs": [],
   "source": [
    "def solution(strings, n):\n",
    "    answer = sorted(strings)\n",
    "    return sorted(answer, key=lambda string: string[n])"
   ]
  },
  {
   "cell_type": "code",
   "execution_count": 2,
   "metadata": {
    "execution": {
     "iopub.execute_input": "2020-06-24T08:08:22.812545Z",
     "iopub.status.busy": "2020-06-24T08:08:22.811545Z",
     "iopub.status.idle": "2020-06-24T08:08:22.829494Z",
     "shell.execute_reply": "2020-06-24T08:08:22.827534Z",
     "shell.execute_reply.started": "2020-06-24T08:08:22.812545Z"
    }
   },
   "outputs": [
    {
     "data": {
      "text/plain": [
       "['abzaa', 'abzbb', 'abzcd', 'abzfg', 'bbzaa', 'cdzab']"
      ]
     },
     "execution_count": 2,
     "metadata": {},
     "output_type": "execute_result"
    }
   ],
   "source": [
    "strings = ['abzcd','cdzab','abzfg','abzaa','abzbb','bbzaa']\n",
    "solution(strings, 2)"
   ]
  },
  {
   "cell_type": "code",
   "execution_count": null,
   "metadata": {},
   "outputs": [],
   "source": []
  }
 ],
 "metadata": {
  "kernelspec": {
   "display_name": "Python 3",
   "language": "python",
   "name": "python3"
  },
  "language_info": {
   "codemirror_mode": {
    "name": "ipython",
    "version": 3
   },
   "file_extension": ".py",
   "mimetype": "text/x-python",
   "name": "python",
   "nbconvert_exporter": "python",
   "pygments_lexer": "ipython3",
   "version": "3.8.3"
  }
 },
 "nbformat": 4,
 "nbformat_minor": 4
}
