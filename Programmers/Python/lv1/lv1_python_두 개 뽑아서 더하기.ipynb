{
 "cells": [
  {
   "cell_type": "markdown",
   "metadata": {},
   "source": [
    "URL <https://programmers.co.kr/learn/courses/30/lessons/68644>{:target=\"_blank\"}\n",
    "\n",
    "- 문제 설명\n",
    "    - 정수 배열 numbers가 주어집니다. numbers에서 서로 다른 인덱스에 있는 두 개의 수를 뽑아 더해서 만들 수 있는 모든 수를 배열에 오름차순으로 담아 return 하도록 solution 함수를 완성해주세요.\n",
    "- 제한사항\n",
    "    - numbers의 길이는 2 이상 100 이하입니다.\n",
    "        - numbers의 모든 수는 0 이상 100 이하입니다.\n"
   ]
  },
  {
   "cell_type": "markdown",
   "metadata": {},
   "source": [
    "#### 문제풀이\n",
    "- numbers라는 배열의 갯수만큼 for문을 돌면서 서로 다른 index끼리만 더해주게 합니다."
   ]
  },
  {
   "cell_type": "code",
   "execution_count": 23,
   "metadata": {
    "execution": {
     "iopub.execute_input": "2020-12-22T06:01:29.110724Z",
     "iopub.status.busy": "2020-12-22T06:01:29.110511Z",
     "iopub.status.idle": "2020-12-22T06:01:29.115271Z",
     "shell.execute_reply": "2020-12-22T06:01:29.114379Z",
     "shell.execute_reply.started": "2020-12-22T06:01:29.110701Z"
    }
   },
   "outputs": [],
   "source": [
    "def solution(numbers):\n",
    "    answer = []\n",
    "    for i in range(len(numbers)):\n",
    "        for j in range(len(numbers)):\n",
    "            if i != j:\n",
    "                answer.append(numbers[i] + numbers[j])\n",
    "    return sorted(list(set(answer)))"
   ]
  },
  {
   "cell_type": "code",
   "execution_count": 24,
   "metadata": {
    "execution": {
     "iopub.execute_input": "2020-12-22T06:01:34.745115Z",
     "iopub.status.busy": "2020-12-22T06:01:34.744820Z",
     "iopub.status.idle": "2020-12-22T06:01:34.749403Z",
     "shell.execute_reply": "2020-12-22T06:01:34.748569Z",
     "shell.execute_reply.started": "2020-12-22T06:01:34.745084Z"
    }
   },
   "outputs": [
    {
     "data": {
      "text/plain": [
       "[2, 3, 4, 5, 6, 7]"
      ]
     },
     "execution_count": 24,
     "metadata": {},
     "output_type": "execute_result"
    }
   ],
   "source": [
    "solution(numbers = [2,1,3,4,1])"
   ]
  }
 ],
 "metadata": {
  "kernelspec": {
   "display_name": "Python 3",
   "language": "python",
   "name": "python3"
  },
  "language_info": {
   "codemirror_mode": {
    "name": "ipython",
    "version": 3
   },
   "file_extension": ".py",
   "mimetype": "text/x-python",
   "name": "python",
   "nbconvert_exporter": "python",
   "pygments_lexer": "ipython3",
   "version": "3.8.3"
  }
 },
 "nbformat": 4,
 "nbformat_minor": 4
}
