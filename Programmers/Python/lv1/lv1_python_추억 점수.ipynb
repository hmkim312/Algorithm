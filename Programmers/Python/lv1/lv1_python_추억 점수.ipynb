{
 "cells": [
  {
   "cell_type": "markdown",
   "id": "f1d654ce-2f27-4124-8a6b-527da5a07077",
   "metadata": {},
   "source": [
    "URL : <https://school.programmers.co.kr/learn/courses/30/lessons/176963?language=python3>{:target=\"_blank\"}\n",
    "\n",
    "### 문제 설명\n",
    "- 사진들을 보며 추억에 젖어 있던 루는 사진별로 추억 점수를 매길려고 합니다. 사진 속에 나오는 인물의 그리움 점수를 모두 합산한 값이 해당 사진의 추억 점수가 됩니다. 예를 들어 사진 속 인물의 이름이 [\"may\", \"kein\", \"kain\"]이고 각 인물의 그리움 점수가 [5점, 10점, 1점]일 때 해당 사진의 추억 점수는 16(5 + 10 + 1)점이 됩니다. 다른 사진 속 인물의 이름이 [\"kali\", \"mari\", \"don\", \"tony\"]이고 [\"kali\", \"mari\", \"don\"]의 그리움 점수가 각각 [11점, 1점, 55점]]이고, \"tony\"는 그리움 점수가 없을 때, 이 사진의 추억 점수는 3명의 그리움 점수를 합한 67(11 + 1 + 55)점입니다.\n",
    "\n",
    "- 그리워하는 사람의 이름을 담은 문자열 배열 name, 각 사람별 그리움 점수를 담은 정수 배열 yearning, 각 사진에 찍힌 인물의 이름을 담은 이차원 문자열 배열 photo가 매개변수로 주어질 때, 사진들의 추억 점수를 photo에 주어진 순서대로 배열에 담아 return하는 solution 함수를 완성해주세요.\n",
    "\n",
    "\n",
    "\n",
    "### 제한사항\n",
    "- 3 ≤ name의 길이 = yearning의 길이≤ 100\n",
    "    - 3 ≤ name의 원소의 길이 ≤ 7\n",
    "    - name의 원소들은 알파벳 소문자로만 이루어져 있습니다.\n",
    "    - name에는 중복된 값이 들어가지 않습니다.\n",
    "    - 1 ≤ yearning[i] ≤ 100\n",
    "    - yearning[i]는 i번째 사람의 그리움 점수입니다.\n",
    "- 3 ≤ photo의 길이 ≤ 100\n",
    "    - 1 ≤ photo[i]의 길이 ≤ 100\n",
    "    - 3 ≤ photo[i]의 원소(문자열)의 길이 ≤ 7\n",
    "    - photo[i]의 원소들은 알파벳 소문자로만 이루어져 있습니다.\n",
    "    - photo[i]의 원소들은 중복된 값이 들어가지 않습니다.\n",
    "\n",
    "### 문제 풀이\n",
    "- 사진의 갯수만큼 answer list를 생성한다.\n",
    "- 모든 이름을 for문으로 돈다\n",
    "- 모든 사진에 이름이 있는지 확인하고, 사진에 이름이 있다면 그리움 점수 answer 위치에 저장한다."
   ]
  },
  {
   "cell_type": "code",
   "execution_count": 24,
   "id": "84d96b3d-fe67-4dd6-88aa-83d9239d5823",
   "metadata": {
    "execution": {
     "iopub.execute_input": "2023-04-03T13:20:49.696394Z",
     "iopub.status.busy": "2023-04-03T13:20:49.695823Z",
     "iopub.status.idle": "2023-04-03T13:20:49.701024Z",
     "shell.execute_reply": "2023-04-03T13:20:49.700401Z",
     "shell.execute_reply.started": "2023-04-03T13:20:49.696366Z"
    },
    "tags": []
   },
   "outputs": [],
   "source": [
    "def solution(name, yearning, photo):\n",
    "    answer = len(photo) * [0]\n",
    "    for i, n in enumerate(name):\n",
    "        for j, p in enumerate(photo):\n",
    "            if n in p:\n",
    "                answer[j] += yearning[i]\n",
    "    return answer"
   ]
  },
  {
   "cell_type": "code",
   "execution_count": 25,
   "id": "3401327b-6f0d-4302-a237-df23a4b94949",
   "metadata": {
    "execution": {
     "iopub.execute_input": "2023-04-03T13:20:49.892283Z",
     "iopub.status.busy": "2023-04-03T13:20:49.891986Z",
     "iopub.status.idle": "2023-04-03T13:20:49.897863Z",
     "shell.execute_reply": "2023-04-03T13:20:49.896904Z",
     "shell.execute_reply.started": "2023-04-03T13:20:49.892258Z"
    },
    "tags": []
   },
   "outputs": [],
   "source": [
    "name = [\"may\", \"kein\", \"kain\", \"radi\"]\n",
    "yearning = [5, 10, 1, 3]\n",
    "photo = [[\"may\", \"kein\", \"kain\", \"radi\"],[\"may\", \"kein\", \"brin\", \"deny\"], [\"kon\", \"kain\", \"may\", \"coni\"]]"
   ]
  },
  {
   "cell_type": "code",
   "execution_count": 26,
   "id": "18a342e4-183d-422d-98c6-74a910356656",
   "metadata": {
    "execution": {
     "iopub.execute_input": "2023-04-03T13:20:54.817743Z",
     "iopub.status.busy": "2023-04-03T13:20:54.817210Z",
     "iopub.status.idle": "2023-04-03T13:20:54.825695Z",
     "shell.execute_reply": "2023-04-03T13:20:54.824874Z",
     "shell.execute_reply.started": "2023-04-03T13:20:54.817695Z"
    }
   },
   "outputs": [
    {
     "data": {
      "text/plain": [
       "[19, 15, 6]"
      ]
     },
     "execution_count": 26,
     "metadata": {},
     "output_type": "execute_result"
    }
   ],
   "source": [
    "solution(name, yearning, photo)"
   ]
  }
 ],
 "metadata": {
  "kernelspec": {
   "display_name": "Python 3 (ipykernel)",
   "language": "python",
   "name": "python3"
  },
  "language_info": {
   "codemirror_mode": {
    "name": "ipython",
    "version": 3
   },
   "file_extension": ".py",
   "mimetype": "text/x-python",
   "name": "python",
   "nbconvert_exporter": "python",
   "pygments_lexer": "ipython3",
   "version": "3.9.12"
  }
 },
 "nbformat": 4,
 "nbformat_minor": 5
}
