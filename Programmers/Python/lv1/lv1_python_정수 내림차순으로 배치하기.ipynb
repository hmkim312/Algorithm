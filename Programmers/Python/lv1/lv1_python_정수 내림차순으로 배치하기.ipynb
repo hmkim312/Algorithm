{
 "cells": [
  {
   "cell_type": "markdown",
   "metadata": {},
   "source": [
    "#### 정수 내림차순으로 배치하기\n",
    "- 문제 설명\n",
    "    - 함수 solution은 정수 n을 매개변수로 입력받습니다. n의 각 자릿수를 큰것부터 작은 순으로 정렬한 새로운 정수를 리턴해주세요. 예를들어 n이 118372면 873211을 리턴하면 됩니다.\n",
    "\n",
    "- 제한 조건\n",
    "    - n은 1이상 8000000000 이하인 자연수입니다."
   ]
  },
  {
   "cell_type": "code",
   "execution_count": 14,
   "metadata": {
    "execution": {
     "iopub.execute_input": "2020-10-11T14:36:49.979412Z",
     "iopub.status.busy": "2020-10-11T14:36:49.979186Z",
     "iopub.status.idle": "2020-10-11T14:36:49.982059Z",
     "shell.execute_reply": "2020-10-11T14:36:49.981338Z",
     "shell.execute_reply.started": "2020-10-11T14:36:49.979391Z"
    }
   },
   "outputs": [],
   "source": [
    "n = 13245675"
   ]
  },
  {
   "cell_type": "code",
   "execution_count": 15,
   "metadata": {
    "execution": {
     "iopub.execute_input": "2020-10-11T14:36:50.115222Z",
     "iopub.status.busy": "2020-10-11T14:36:50.115017Z",
     "iopub.status.idle": "2020-10-11T14:36:50.119012Z",
     "shell.execute_reply": "2020-10-11T14:36:50.118509Z",
     "shell.execute_reply.started": "2020-10-11T14:36:50.115199Z"
    }
   },
   "outputs": [
    {
     "data": {
      "text/plain": [
       "76554321"
      ]
     },
     "execution_count": 15,
     "metadata": {},
     "output_type": "execute_result"
    }
   ],
   "source": [
    "\n",
    "int(''.join(sorted(str(n), reverse = True)))\n"
   ]
  },
  {
   "cell_type": "code",
   "execution_count": 23,
   "metadata": {
    "execution": {
     "iopub.execute_input": "2020-06-25T14:04:32.816468Z",
     "iopub.status.busy": "2020-06-25T14:04:32.815471Z",
     "iopub.status.idle": "2020-06-25T14:04:32.820459Z",
     "shell.execute_reply": "2020-06-25T14:04:32.820459Z",
     "shell.execute_reply.started": "2020-06-25T14:04:32.816468Z"
    }
   },
   "outputs": [],
   "source": [
    "def solution(n):\n",
    "    s = ''\n",
    "    k = sorted(str(n), reverse = True)\n",
    "    for i in range(len(k)):\n",
    "        s+=k[i]\n",
    "    return int(s)"
   ]
  },
  {
   "cell_type": "code",
   "execution_count": 17,
   "metadata": {
    "execution": {
     "iopub.execute_input": "2020-10-11T14:37:12.930128Z",
     "iopub.status.busy": "2020-10-11T14:37:12.929916Z",
     "iopub.status.idle": "2020-10-11T14:37:12.933650Z",
     "shell.execute_reply": "2020-10-11T14:37:12.933105Z",
     "shell.execute_reply.started": "2020-10-11T14:37:12.930105Z"
    }
   },
   "outputs": [
    {
     "data": {
      "text/plain": [
       "76554321"
      ]
     },
     "execution_count": 17,
     "metadata": {},
     "output_type": "execute_result"
    }
   ],
   "source": [
    "solution(n)"
   ]
  },
  {
   "cell_type": "code",
   "execution_count": 16,
   "metadata": {
    "execution": {
     "iopub.execute_input": "2020-10-11T14:37:11.186940Z",
     "iopub.status.busy": "2020-10-11T14:37:11.186681Z",
     "iopub.status.idle": "2020-10-11T14:37:11.190509Z",
     "shell.execute_reply": "2020-10-11T14:37:11.189790Z",
     "shell.execute_reply.started": "2020-10-11T14:37:11.186914Z"
    }
   },
   "outputs": [],
   "source": [
    "def solution(n):\n",
    "    return int(''.join(sorted(str(n), reverse = True)))"
   ]
  },
  {
   "cell_type": "code",
   "execution_count": 18,
   "metadata": {
    "execution": {
     "iopub.execute_input": "2020-10-11T14:37:17.357661Z",
     "iopub.status.busy": "2020-10-11T14:37:17.357441Z",
     "iopub.status.idle": "2020-10-11T14:37:17.361497Z",
     "shell.execute_reply": "2020-10-11T14:37:17.360841Z",
     "shell.execute_reply.started": "2020-10-11T14:37:17.357637Z"
    }
   },
   "outputs": [
    {
     "data": {
      "text/plain": [
       "76554321"
      ]
     },
     "execution_count": 18,
     "metadata": {},
     "output_type": "execute_result"
    }
   ],
   "source": [
    "solution(n)"
   ]
  }
 ],
 "metadata": {
  "kernelspec": {
   "display_name": "Python 3",
   "language": "python",
   "name": "python3"
  },
  "language_info": {
   "codemirror_mode": {
    "name": "ipython",
    "version": 3
   },
   "file_extension": ".py",
   "mimetype": "text/x-python",
   "name": "python",
   "nbconvert_exporter": "python",
   "pygments_lexer": "ipython3",
   "version": "3.8.3"
  }
 },
 "nbformat": 4,
 "nbformat_minor": 4
}
