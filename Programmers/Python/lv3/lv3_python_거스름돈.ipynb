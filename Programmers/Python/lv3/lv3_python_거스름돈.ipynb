{
 "cells": [
  {
   "cell_type": "markdown",
   "metadata": {},
   "source": [
    "URL <https://programmers.co.kr/learn/courses/30/lessons/12907>{:target=\"_blank\"}\n",
    "\n",
    "#### 문제 설명\n",
    "- Finn은 편의점에서 야간 아르바이트를 하고 있습니다. 야간에 손님이 너무 없어 심심한 Finn은 손님들께 거스름돈을 n 원을 줄 때 방법의 경우의 수를 구하기로 하였습니다.\n",
    "- 예를 들어서 손님께 5원을 거슬러 줘야 하고 1원, 2원, 5원이 있다면 다음과 같이 4가지 방법으로 5원을 거슬러 줄 수 있습니다.\n",
    "```\n",
    "1원을 5개 사용해서 거슬러 준다.\n",
    "1원을 3개 사용하고, 2원을 1개 사용해서 거슬러 준다.\n",
    "1원을 1개 사용하고, 2원을 2개 사용해서 거슬러 준다.\n",
    "5원을 1개 사용해서 거슬러 준다.\n",
    "```\n",
    "- 거슬러 줘야 하는 금액 n과 Finn이 현재 보유하고 있는 돈의 종류 money가 매개변수로 주어질 때, Finn이 n 원을 거슬러 줄 방법의 수를 return 하도록 solution 함수를 완성해 주세요.\n",
    "\n",
    "#### 제한 사항\n",
    "- n은 100,000 이하의 자연수입니다.\n",
    "- 화폐 단위는 100종류 이하입니다.\n",
    "- 모든 화폐는 무한하게 있다고 가정합니다.\n",
    "- 정답이 커질 수 있으니, 1,000,000,007로 나눈 나머지를 return 해주세요.\n",
    "\n",
    "#### 문제 풀이\n",
    "- 금액이 다른 동전이 주어질때 주어진 금액 n이 되는 경우의 수를 구하는 문제\n",
    "- 각 동전별로 금액을 계산할 수 있는 경우의 수를 구하면 된다.\n",
    "- dp로 풀면됨\n",
    "- 가장 금액이 작은 동전으로 구할 수 있는 경우의 수는 금액에 따라서 각 1개씩만 존재함\n",
    "- 그 다음으로 큰 동전에 대한 경우의 수는 이전에 구한 경우의 수를 합산해주면 됨.\n",
    "- 출처 : <https://dirmathfl.tistory.com/191>"
   ]
  },
  {
   "cell_type": "code",
   "execution_count": 90,
   "metadata": {
    "execution": {
     "iopub.execute_input": "2021-04-29T01:45:55.133601Z",
     "iopub.status.busy": "2021-04-29T01:45:55.133381Z",
     "iopub.status.idle": "2021-04-29T01:45:55.137777Z",
     "shell.execute_reply": "2021-04-29T01:45:55.136983Z",
     "shell.execute_reply.started": "2021-04-29T01:45:55.133578Z"
    }
   },
   "outputs": [],
   "source": [
    "def solution(n, money):\n",
    "    dp = [1] + [0] * n\n",
    "    \n",
    "    for coin in money:\n",
    "        for price in range(coin, n + 1):\n",
    "            if price >= coin:\n",
    "                dp[price] += dp[price - coin]\n",
    "    return dp[n] % 1000000007"
   ]
  },
  {
   "cell_type": "code",
   "execution_count": 91,
   "metadata": {
    "execution": {
     "iopub.execute_input": "2021-04-29T01:45:55.275574Z",
     "iopub.status.busy": "2021-04-29T01:45:55.275367Z",
     "iopub.status.idle": "2021-04-29T01:45:55.279364Z",
     "shell.execute_reply": "2021-04-29T01:45:55.278722Z",
     "shell.execute_reply.started": "2021-04-29T01:45:55.275552Z"
    }
   },
   "outputs": [
    {
     "data": {
      "text/plain": [
       "4"
      ]
     },
     "execution_count": 91,
     "metadata": {},
     "output_type": "execute_result"
    }
   ],
   "source": [
    "n = 5\n",
    "money = [1, 2, 5]\n",
    "solution(n, money)"
   ]
  }
 ],
 "metadata": {
  "kernelspec": {
   "display_name": "Python 3",
   "language": "python",
   "name": "python3"
  },
  "language_info": {
   "codemirror_mode": {
    "name": "ipython",
    "version": 3
   },
   "file_extension": ".py",
   "mimetype": "text/x-python",
   "name": "python",
   "nbconvert_exporter": "python",
   "pygments_lexer": "ipython3",
   "version": "3.8.3"
  }
 },
 "nbformat": 4,
 "nbformat_minor": 4
}
