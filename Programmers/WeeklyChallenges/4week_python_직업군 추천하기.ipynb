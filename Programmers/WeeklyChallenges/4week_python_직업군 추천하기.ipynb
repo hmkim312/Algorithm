{
 "cells": [
  {
   "cell_type": "markdown",
   "metadata": {},
   "source": [
    "URL : <https://programmers.co.kr/learn/courses/30/lessons/84325>{:target=\"_blank\"}\n",
    "\n",
    "### 문제 설명\n",
    "- 개발자가 사용하는 언어와 언어 선호도를 입력하면 그에 맞는 직업군을 추천해주는 알고리즘을 개발하려고 합니다.\n",
    "- 아래 표는 5개 직업군 별로 많이 사용하는 5개 언어에 직업군 언어 점수를 부여한 표입니다.\n",
    "\n",
    "|점수|\tSI|\tCONTENTS|\tHARDWARE|\tPORTAL|\tGAME|\n",
    "|---|---|---|---|---|---|\n",
    "|5|JAVA|\tJAVASCRIPT|\tC|\tJAVA|\tC++|\n",
    "|4|JAVASCRIPT|\tJAVA|\tC++|\tJAVASCRIPT|\tC#|\n",
    "|3|SQL\t|PYTHON|\tPYTHON|\tPYTHON|\tJAVASCRIPT|\n",
    "|2|PYTHON\t|SQL\t|JAVA\t|KOTLIN|\tC|\n",
    "|1|C#|\tC++\t|JAVASCRIPT\t|PHP|\tJAVA|\n",
    "\n",
    "- 예를 들면, SQL의 SI 직업군 언어 점수는 3점이지만 CONTENTS 직업군 언어 점수는 2점입니다. SQL의 HARDWARE, PORTAL, GAME 직업군 언어 점수는 0점입니다.\n",
    "- 직업군 언어 점수를 정리한 문자열 배열 table, 개발자가 사용하는 언어를 담은 문자열 배열 languages, 언어 선호도를 담은 정수 배열 preference가 매개변수로 주어집니다. 개발자가 사용하는 언어의 언어 선호도 x 직업군 언어 점수의 총합이 가장 높은 직업군을 return 하도록 solution 함수를 완성해주세요. 총합이 같은 직업군이 여러 개일 경우, 이름이 사전 순으로 가장 빠른 직업군을 return 해주세요.\n",
    "\n",
    "### 제한사항\n",
    "- table의 길이 = 5\n",
    "- table의 원소는 \"직업군 5점언어 4점언어 3점언어 2점언어 1점언어\"형식의 문자열입니다. 직업군, 5점언어, 4언어, 3점언어, 2점언어, 1점언어는 하나의 공백으로 구분되어 있습니다.\n",
    "- table은 모든 테스트케이스에서 동일합니다.\n",
    "- 1 ≤ languages의 길이 ≤ 9\n",
    "- languages의 원소는 \"JAVA\", \"JAVASCRIPT\", \"C\", \"C++\" ,\"C#\" , \"SQL\", \"PYTHON\", \"KOTLIN\", \"PHP\" 중 한 개 이상으로 이루어져 있습니다.\n",
    "- languages의 원소는 중복되지 않습니다.\n",
    "- preference의 길이 = languages의 길이\n",
    "- 1 ≤ preference의 원소 ≤ 10\n",
    "- preference의 i번째 원소는 languages의 i번째 원소의 언어 선호도입니다.\n",
    "- return 할 문자열은 \"SI\", \"CONTENTS\", \"HARDWARE\", \"PORTAL\", \"GAME\" 중 하나입니다.\n",
    "\n",
    "### 문제풀이\n",
    "- 우선 주어진 table을 split하여 dict 형태로 바꾸어준다, 이때 value를 zip하여 매칭시켜준다.\n",
    "- 이후 매칭된 dict를 통해 해당 언어의 점수를 가지고와 preference의 점수만큼 곱하며, 기본으로 만들어놓은 점수에 더해준다.\n",
    "- 이후 가장 높은 점수를 가진 언어를 sorted를 통해 return해준다, 이때 basic_jobs는 이미 알파벳순으로 정렬된 상태로 해야 한다.(같은 점수일경우 알파벳순으로 정렬되게 하기 위함)"
   ]
  },
  {
   "cell_type": "code",
   "execution_count": 144,
   "metadata": {
    "execution": {
     "iopub.execute_input": "2021-09-03T06:41:58.774558Z",
     "iopub.status.busy": "2021-09-03T06:41:58.774336Z",
     "iopub.status.idle": "2021-09-03T06:41:58.780911Z",
     "shell.execute_reply": "2021-09-03T06:41:58.780261Z",
     "shell.execute_reply.started": "2021-09-03T06:41:58.774534Z"
    }
   },
   "outputs": [],
   "source": [
    "def solution(table, languages, preference):\n",
    "    basic_tables = []\n",
    "    basic_values = [5,4,3,2,1]\n",
    "    basic_jobs = {\"CONTENTS\" : 0, \"GAME\":0, \"HARDWARE\":0, \"PORTAL\":0 , \"SI\" : 0}\n",
    "\n",
    "    for i in table:\n",
    "        keys = i.split(' ')\n",
    "        temp = {'jobs' : keys[0]}\n",
    "        temp.update(dict(zip(keys[1:], basic_values)))\n",
    "        basic_tables.append(temp)\n",
    "\n",
    "    for tables in basic_tables:\n",
    "        for point ,language in enumerate(languages):\n",
    "            try:\n",
    "                basic_jobs[tables['jobs']] += preference[point] * tables[language]\n",
    "            except:\n",
    "                pass\n",
    "    return sorted(basic_jobs.items(), key=lambda x : x[1], reverse=True)[0][0]"
   ]
  },
  {
   "cell_type": "code",
   "execution_count": 149,
   "metadata": {
    "execution": {
     "iopub.execute_input": "2021-09-03T06:42:10.011434Z",
     "iopub.status.busy": "2021-09-03T06:42:10.011163Z",
     "iopub.status.idle": "2021-09-03T06:42:10.016064Z",
     "shell.execute_reply": "2021-09-03T06:42:10.015478Z",
     "shell.execute_reply.started": "2021-09-03T06:42:10.011392Z"
    }
   },
   "outputs": [
    {
     "data": {
      "text/plain": [
       "'HARDWARE'"
      ]
     },
     "execution_count": 149,
     "metadata": {},
     "output_type": "execute_result"
    }
   ],
   "source": [
    "table = [\"SI JAVA JAVASCRIPT SQL PYTHON C#\", \"CONTENTS JAVASCRIPT JAVA PYTHON SQL C++\", \"HARDWARE C C++ PYTHON JAVA JAVASCRIPT\", \"PORTAL JAVA JAVASCRIPT PYTHON KOTLIN PHP\", \"GAME C++ C# JAVASCRIPT C JAVA\"]\n",
    "languages = [\"PYTHON\", \"C++\", \"SQL\"]\t\n",
    "preference = [7, 5, 5]\n",
    "solution(table, languages, preference)"
   ]
  },
  {
   "cell_type": "code",
   "execution_count": 151,
   "metadata": {
    "execution": {
     "iopub.execute_input": "2021-09-03T06:42:12.262286Z",
     "iopub.status.busy": "2021-09-03T06:42:12.262071Z",
     "iopub.status.idle": "2021-09-03T06:42:12.266810Z",
     "shell.execute_reply": "2021-09-03T06:42:12.266175Z",
     "shell.execute_reply.started": "2021-09-03T06:42:12.262262Z"
    }
   },
   "outputs": [
    {
     "data": {
      "text/plain": [
       "'PORTAL'"
      ]
     },
     "execution_count": 151,
     "metadata": {},
     "output_type": "execute_result"
    }
   ],
   "source": [
    "table = [\"SI JAVA JAVASCRIPT SQL PYTHON C#\", \"CONTENTS JAVASCRIPT JAVA PYTHON SQL C++\", \"HARDWARE C C++ PYTHON JAVA JAVASCRIPT\", \"PORTAL JAVA JAVASCRIPT PYTHON KOTLIN PHP\", \"GAME C++ C# JAVASCRIPT C JAVA\"]\n",
    "languages = [\"JAVA\", \"JAVASCRIPT\"]\n",
    "preference = [7, 5]\n",
    "solution(table, languages, preference)"
   ]
  }
 ],
 "metadata": {
  "kernelspec": {
   "display_name": "Python 3",
   "language": "python",
   "name": "python3"
  },
  "language_info": {
   "codemirror_mode": {
    "name": "ipython",
    "version": 3
   },
   "file_extension": ".py",
   "mimetype": "text/x-python",
   "name": "python",
   "nbconvert_exporter": "python",
   "pygments_lexer": "ipython3",
   "version": "3.8.3"
  }
 },
 "nbformat": 4,
 "nbformat_minor": 4
}
