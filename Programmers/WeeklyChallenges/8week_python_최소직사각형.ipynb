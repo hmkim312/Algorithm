{
 "cells": [
  {
   "cell_type": "markdown",
   "metadata": {},
   "source": [
    "URL : <https://programmers.co.kr/learn/courses/30/lessons/86491>{:target=\"_blank\"}\n",
    "\n",
    "#### 문제 설명\n",
    "- 명함 지갑을 만드는 회사에서 지갑의 크기를 정하려고 합니다. 다양한 모양과 크기의 명함들을 모두 수납할 수 있으면서, 작아서 들고 다니기 편한 지갑을 만들어야 합니다. 이러한 요건을 만족하는 지갑을 만들기 위해 디자인팀은 모든 명함의 가로 길이와 세로 길이를 조사했습니다.\n",
    "- 아래 표는 4가지 명함의 가로 길이와 세로 길이를 나타냅니다.\n",
    "\n",
    "|명함 번호|가로 길이|세로 길이|\n",
    "|---|---|---|\n",
    "|1|\t60|\t50|\n",
    "|2|\t30|\t70|\n",
    "|3|\t60|\t30|\n",
    "|4|\t80|\t40|\n",
    "\n",
    "- 가장 긴 가로 길이와 세로 길이가 각각 80, 70이기 때문에 80(가로) x 70(세로) 크기의 지갑을 만들면 모든 명함들을 수납할 수 있습니다. 하지만 2번 명함을 가로로 눕혀 수납한다면 80(가로) x 50(세로) 크기의 지갑으로 모든 명함들을 수납할 수 있습니다. 이때의 지갑 크기는 4000(=80 x 50)입니다.\n",
    "- 모든 명함의 가로 길이와 세로 길이를 나타내는 2차원 배열 sizes가 매개변수로 주어집니다. 모든 명함을 수납할 수 있는 가장 작은 지갑을 만들 때, 지갑의 크기를 return 하도록 solution 함수를 완성해주세요.\n",
    "\n",
    "### 제한사항\n",
    "- sizes의 길이는 1 이상 10,000 이하입니다.\n",
    "- sizes의 원소는 [w, h] 형식입니다.\n",
    "- w는 명함의 가로 길이를 나타냅니다.\n",
    "- h는 명함의 세로 길이를 나타냅니다.\n",
    "- w와 h는 1 이상 1,000 이하인 자연수입니다.\n",
    "\n",
    "### 문제풀이\n",
    "- 명함의 가로세로를 고려해야해서 어려워 보이지만, 사실 문제의 명함에서는 회전이 가능하기 때문에 가로와 세로가 딱 정해진것은 아니다.\n",
    "- 따라서 각 명함의 사이즈로 주어진 가로세로 크기에서 작은것은 가로, 큰것은 세로로 정렬한뒤 전체 명함 사이즈 중 가장큰 가로와 가장큰 세로를 곱해주기만 하면 된다.\n",
    "- 1차 솔루션은 sizes에 있는 모든 원소 size를 for문을 돌며 정렬하고 가로의 가장큰값과 세로의 가장큰값을 비교하며 갱신하여 마지막에 곱해주는 방식을 사용했다\n",
    "    - 위 방법은 for문은 1번이나 sorted를 sizes의 원소만큼 해야해서 비효율적이라 생각했다.\n",
    "- 2차 솔루션은 리스트컴프리헹션을 사용하여 가로와 세로의 사이즈를 각각 w_, h_라는 리스트에 저장 후 가장 큰값을 곱했다.\n",
    "    - 코드자체는 줄어보이나, for문도 가로와 세로로 각각 1번씩, 그리고 sorted로 각 sizes의 원소갯수만큼 하기 때문에 많이 비효율적이다.\n",
    "- 3차 솔루션은 리스트컴프리행션을 사용하여 주어진 명함의 가로와 세로의 size를 정렬 한뒤 zip 함수를 이용해 가로와 세로의 사이즈를 다시 묶어주고 가로와 세로의 max값을 곱해주었다.\n",
    "    - 1차 솔루션에 비해 코드도 간결해졌고 for문도 1번만 돌아서 나름 효율적이나, sorted를 어쩔수 없이 sizes의 원소만큼 해줘야 한다. \n",
    "    - 그래도 1차, 2차 솔루션 보다는 효율적이라 생각해서 최종 제출을 하였다.\n",
    "    - sorted도 2차원 list를 input으로 받고 for문을 사용하지 않고 원소별로 비교해서 sorted를 하는 방법을 알게된다면 더 효율적이 될것같다."
   ]
  },
  {
   "cell_type": "code",
   "execution_count": 51,
   "metadata": {
    "execution": {
     "iopub.execute_input": "2021-10-01T00:02:23.133956Z",
     "iopub.status.busy": "2021-10-01T00:02:23.133743Z",
     "iopub.status.idle": "2021-10-01T00:02:23.138317Z",
     "shell.execute_reply": "2021-10-01T00:02:23.137609Z",
     "shell.execute_reply.started": "2021-10-01T00:02:23.133933Z"
    }
   },
   "outputs": [],
   "source": [
    "# 1차 솔루션\n",
    "def solution(sizes):\n",
    "    w_max = 0\n",
    "    h_max = 0\n",
    "    \n",
    "    for size in sizes:\n",
    "        sorted_size = sorted(size)\n",
    "        \n",
    "        if w_max < sorted_size[0]:\n",
    "            w_max = sorted_size[0]\n",
    "        if h_max < sorted_size[1]:\n",
    "            h_max = sorted_size[1]\n",
    "            \n",
    "    return w_max * h_max"
   ]
  },
  {
   "cell_type": "code",
   "execution_count": 52,
   "metadata": {
    "execution": {
     "iopub.execute_input": "2021-10-01T00:02:23.291110Z",
     "iopub.status.busy": "2021-10-01T00:02:23.290878Z",
     "iopub.status.idle": "2021-10-01T00:02:23.295538Z",
     "shell.execute_reply": "2021-10-01T00:02:23.294912Z",
     "shell.execute_reply.started": "2021-10-01T00:02:23.291087Z"
    }
   },
   "outputs": [
    {
     "data": {
      "text/plain": [
       "4000"
      ]
     },
     "execution_count": 52,
     "metadata": {},
     "output_type": "execute_result"
    }
   ],
   "source": [
    "sizes = [[60, 50], [30, 70], [60, 30], [80, 40]]\n",
    "solution(sizes)"
   ]
  },
  {
   "cell_type": "code",
   "execution_count": 53,
   "metadata": {
    "execution": {
     "iopub.execute_input": "2021-10-01T00:02:23.461416Z",
     "iopub.status.busy": "2021-10-01T00:02:23.461211Z",
     "iopub.status.idle": "2021-10-01T00:02:23.465272Z",
     "shell.execute_reply": "2021-10-01T00:02:23.464754Z",
     "shell.execute_reply.started": "2021-10-01T00:02:23.461395Z"
    }
   },
   "outputs": [
    {
     "data": {
      "text/plain": [
       "120"
      ]
     },
     "execution_count": 53,
     "metadata": {},
     "output_type": "execute_result"
    }
   ],
   "source": [
    "sizes = [[10, 7], [12, 3], [8, 15], [14, 7], [5, 15]]\n",
    "solution(sizes)"
   ]
  },
  {
   "cell_type": "code",
   "execution_count": 54,
   "metadata": {
    "execution": {
     "iopub.execute_input": "2021-10-01T00:02:23.620459Z",
     "iopub.status.busy": "2021-10-01T00:02:23.620245Z",
     "iopub.status.idle": "2021-10-01T00:02:23.625115Z",
     "shell.execute_reply": "2021-10-01T00:02:23.624534Z",
     "shell.execute_reply.started": "2021-10-01T00:02:23.620436Z"
    }
   },
   "outputs": [
    {
     "data": {
      "text/plain": [
       "133"
      ]
     },
     "execution_count": 54,
     "metadata": {},
     "output_type": "execute_result"
    }
   ],
   "source": [
    "sizes = [[14, 4], [19, 6], [6, 16], [18, 7], [7, 11]]\n",
    "solution(sizes)"
   ]
  },
  {
   "cell_type": "code",
   "execution_count": 59,
   "metadata": {
    "execution": {
     "iopub.execute_input": "2021-10-01T00:02:46.517088Z",
     "iopub.status.busy": "2021-10-01T00:02:46.516708Z",
     "iopub.status.idle": "2021-10-01T00:02:46.520731Z",
     "shell.execute_reply": "2021-10-01T00:02:46.520112Z",
     "shell.execute_reply.started": "2021-10-01T00:02:46.517057Z"
    }
   },
   "outputs": [],
   "source": [
    "# 2차 솔루션\n",
    "def solution(sizes):\n",
    "    w_ = [sorted(size)[0] for size in sizes]\n",
    "    h_ = [sorted(size)[1] for size in sizes]\n",
    "    return max(w_) * max(h_)"
   ]
  },
  {
   "cell_type": "code",
   "execution_count": 60,
   "metadata": {
    "execution": {
     "iopub.execute_input": "2021-10-01T00:02:46.706315Z",
     "iopub.status.busy": "2021-10-01T00:02:46.706098Z",
     "iopub.status.idle": "2021-10-01T00:02:46.711130Z",
     "shell.execute_reply": "2021-10-01T00:02:46.710604Z",
     "shell.execute_reply.started": "2021-10-01T00:02:46.706291Z"
    }
   },
   "outputs": [
    {
     "data": {
      "text/plain": [
       "4000"
      ]
     },
     "execution_count": 60,
     "metadata": {},
     "output_type": "execute_result"
    }
   ],
   "source": [
    "sizes = [[60, 50], [30, 70], [60, 30], [80, 40]]\n",
    "solution(sizes)"
   ]
  },
  {
   "cell_type": "code",
   "execution_count": 61,
   "metadata": {
    "execution": {
     "iopub.execute_input": "2021-10-01T00:02:46.877492Z",
     "iopub.status.busy": "2021-10-01T00:02:46.877267Z",
     "iopub.status.idle": "2021-10-01T00:02:46.881889Z",
     "shell.execute_reply": "2021-10-01T00:02:46.881213Z",
     "shell.execute_reply.started": "2021-10-01T00:02:46.877469Z"
    }
   },
   "outputs": [
    {
     "data": {
      "text/plain": [
       "120"
      ]
     },
     "execution_count": 61,
     "metadata": {},
     "output_type": "execute_result"
    }
   ],
   "source": [
    "sizes = [[10, 7], [12, 3], [8, 15], [14, 7], [5, 15]]\n",
    "solution(sizes)"
   ]
  },
  {
   "cell_type": "code",
   "execution_count": 62,
   "metadata": {
    "execution": {
     "iopub.execute_input": "2021-10-01T00:02:47.067263Z",
     "iopub.status.busy": "2021-10-01T00:02:47.067049Z",
     "iopub.status.idle": "2021-10-01T00:02:47.071425Z",
     "shell.execute_reply": "2021-10-01T00:02:47.070862Z",
     "shell.execute_reply.started": "2021-10-01T00:02:47.067240Z"
    }
   },
   "outputs": [
    {
     "data": {
      "text/plain": [
       "133"
      ]
     },
     "execution_count": 62,
     "metadata": {},
     "output_type": "execute_result"
    }
   ],
   "source": [
    "sizes = [[14, 4], [19, 6], [6, 16], [18, 7], [7, 11]]\n",
    "solution(sizes)"
   ]
  },
  {
   "cell_type": "code",
   "execution_count": 97,
   "metadata": {
    "execution": {
     "iopub.execute_input": "2021-10-01T00:25:32.609558Z",
     "iopub.status.busy": "2021-10-01T00:25:32.609370Z",
     "iopub.status.idle": "2021-10-01T00:25:32.612905Z",
     "shell.execute_reply": "2021-10-01T00:25:32.612240Z",
     "shell.execute_reply.started": "2021-10-01T00:25:32.609539Z"
    }
   },
   "outputs": [],
   "source": [
    "# 3차 솔루션\n",
    "def solution(sizes):\n",
    "    sorted_sizes = [sorted(size) for size in sizes]\n",
    "    new_sizes = list(zip(*sorted_sizes))\n",
    "    # new_sizes[0] : 가로 길이 모음\n",
    "    # new_sizes[1] : 세로 길이 모음\n",
    "    return max(new_sizes[0]) * max(new_sizes[1])"
   ]
  },
  {
   "cell_type": "code",
   "execution_count": 98,
   "metadata": {
    "execution": {
     "iopub.execute_input": "2021-10-01T00:25:33.108485Z",
     "iopub.status.busy": "2021-10-01T00:25:33.108264Z",
     "iopub.status.idle": "2021-10-01T00:25:33.112843Z",
     "shell.execute_reply": "2021-10-01T00:25:33.112275Z",
     "shell.execute_reply.started": "2021-10-01T00:25:33.108461Z"
    }
   },
   "outputs": [
    {
     "data": {
      "text/plain": [
       "4000"
      ]
     },
     "execution_count": 98,
     "metadata": {},
     "output_type": "execute_result"
    }
   ],
   "source": [
    "sizes = [[60, 50], [30, 70], [60, 30], [80, 40]]\n",
    "solution(sizes)"
   ]
  },
  {
   "cell_type": "code",
   "execution_count": 99,
   "metadata": {
    "execution": {
     "iopub.execute_input": "2021-10-01T00:25:33.413435Z",
     "iopub.status.busy": "2021-10-01T00:25:33.413225Z",
     "iopub.status.idle": "2021-10-01T00:25:33.417614Z",
     "shell.execute_reply": "2021-10-01T00:25:33.416997Z",
     "shell.execute_reply.started": "2021-10-01T00:25:33.413412Z"
    }
   },
   "outputs": [
    {
     "data": {
      "text/plain": [
       "120"
      ]
     },
     "execution_count": 99,
     "metadata": {},
     "output_type": "execute_result"
    }
   ],
   "source": [
    "sizes = [[10, 7], [12, 3], [8, 15], [14, 7], [5, 15]]\n",
    "solution(sizes)"
   ]
  },
  {
   "cell_type": "code",
   "execution_count": 100,
   "metadata": {
    "execution": {
     "iopub.execute_input": "2021-10-01T00:25:33.707581Z",
     "iopub.status.busy": "2021-10-01T00:25:33.707194Z",
     "iopub.status.idle": "2021-10-01T00:25:33.716684Z",
     "shell.execute_reply": "2021-10-01T00:25:33.715642Z",
     "shell.execute_reply.started": "2021-10-01T00:25:33.707544Z"
    }
   },
   "outputs": [
    {
     "data": {
      "text/plain": [
       "133"
      ]
     },
     "execution_count": 100,
     "metadata": {},
     "output_type": "execute_result"
    }
   ],
   "source": [
    "sizes = [[14, 4], [19, 6], [6, 16], [18, 7], [7, 11]]\n",
    "solution(sizes)"
   ]
  }
 ],
 "metadata": {
  "kernelspec": {
   "display_name": "Python 3",
   "language": "python",
   "name": "python3"
  },
  "language_info": {
   "codemirror_mode": {
    "name": "ipython",
    "version": 3
   },
   "file_extension": ".py",
   "mimetype": "text/x-python",
   "name": "python",
   "nbconvert_exporter": "python",
   "pygments_lexer": "ipython3",
   "version": "3.8.3"
  }
 },
 "nbformat": 4,
 "nbformat_minor": 4
}
