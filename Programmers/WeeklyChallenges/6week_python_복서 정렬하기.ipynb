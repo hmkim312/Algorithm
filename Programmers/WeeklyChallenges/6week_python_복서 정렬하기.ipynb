{
 "cells": [
  {
   "cell_type": "markdown",
   "metadata": {},
   "source": [
    "### 문제 설명\n",
    "- 복서 선수들의 몸무게 weights와, 복서 선수들의 전적을 나타내는 head2head가 매개변수로 주어집니다. 복서 선수들의 번호를 다음과 같은 순서로 정렬한 후 return 하도록 solution 함수를 완성해주세요.\n",
    "- 전체 승률이 높은 복서의 번호가 앞쪽으로 갑니다. 아직 다른 복서랑 붙어본 적이 없는 복서의 승률은 0%로 취급합니다.\n",
    "- 승률이 동일한 복서의 번호들 중에서는 자신보다 몸무게가 무거운 복서를 이긴 횟수가 많은 복서의 번호가 앞쪽으로 갑니다.\n",
    "- 자신보다 무거운 복서를 이긴 횟수까지 동일한 복서의 번호들 중에서는 자기 몸무게가 무거운 복서의 번호가 앞쪽으로 갑니다.\n",
    "- 자기 몸무게까지 동일한 복서의 번호들 중에서는 작은 번호가 앞쪽으로 갑니다.\n",
    "\n",
    "### 제한사항\n",
    "- weights의 길이는 2 이상 1,000 이하입니다.\n",
    "    - weights의 모든 값은 45 이상 150 이하의 정수입니다.\n",
    "    - weights[i] 는 i+1번 복서의 몸무게(kg)를 의미합니다.\n",
    "- head2head의 길이는 weights의 길이와 같습니다.\n",
    "    - head2head의 모든 문자열은 길이가 weights의 길이와 동일하며, 'N', 'W', 'L'로 이루어진 문자열입니다.\n",
    "    - head2head[i] 는 i+1번 복서의 전적을 의미하며, head2head[i][j]는 i+1번 복서와 j+1번 복서의 매치 결과를 의미합니다.\n",
    "        - 'N' (None)은 두 복서가 아직 붙어본 적이 없음을 의미합니다.\n",
    "        - 'W' (Win)는 i+1번 복서가 j+1번 복서를 이겼음을 의미합니다.\n",
    "        - 'L' (Lose)는 i+1번 복사가 j+1번 복서에게 졌음을 의미합니다.\n",
    "    - 임의의 i에 대해서 head2head[i][i] 는 항상 'N'입니다. 자기 자신과 싸울 수는 없기 때문입니다.\n",
    "    - 임의의 i, j에 대해서 head2head[i][j] = 'W' 이면, head2head[j][i] = 'L'입니다.\n",
    "    - 임의의 i, j에 대해서 head2head[i][j] = 'L' 이면, head2head[j][i] = 'W'입니다.\n",
    "    - 임의의 i, j에 대해서 head2head[i][j] = 'N' 이면, head2head[j][i] = 'N'입니다.\n",
    "    \n",
    "### 문제 풀이\n",
    "목표 : 대결결과 리스트에 [index, 승률, 자기보다 무거운 사람을 이긴 횟수,  나의 몸무게] 순으로 만든다.\n",
    "\n",
    "- 승률은 승리횟수 / (승리횟수 + 패배횟수)로 구한다 (N은 승률에 영향을 미치지 않음)\n",
    "    - 여기서 승률은 N의 횟수는 고려하지않는다. 이것 때문에 분모가 0이 나올수 있으므로 try excpet로 나누어 준다.\n",
    "    \n",
    "- 내가 승리한 복서의 index를 가져온 후 승리한 복서의 몸무게를 가져와서 나의 몸무게보다 무거운 횟수를 확인한다.\n",
    "    - 이후 승률이 동점일때 나보다 무거운 사람을 이긴 횟수를 기준으로 삼아야 하기 때문\n",
    "\n",
    "- 나의 몸무게를 결과에 저장한다.\n",
    "    - 2번까지 동점이라면 몸무게가 더 무거운 사람이 우선 순위 이기 때문\n",
    "    \n",
    "- 모든 복서의 대결결과 리스트를 저장하고, 이를 위의 조건에 맞게 sorted한다. \n",
    "    - 여러 조건 sorted 방법 lamda x : (x[1], x[2])\n",
    "\n",
    "- sorted된 전체 결과에서 index만 따로 추출한다. \n",
    "    - index가 0부터 시작이기 때문에 +1을 해준다."
   ]
  },
  {
   "cell_type": "code",
   "execution_count": 138,
   "metadata": {
    "execution": {
     "iopub.execute_input": "2021-09-07T01:34:23.707338Z",
     "iopub.status.busy": "2021-09-07T01:34:23.707123Z",
     "iopub.status.idle": "2021-09-07T01:34:23.714845Z",
     "shell.execute_reply": "2021-09-07T01:34:23.714167Z",
     "shell.execute_reply.started": "2021-09-07T01:34:23.707316Z"
    }
   },
   "outputs": [],
   "source": [
    "def solution(weights, head2head):\n",
    "    answer = []\n",
    "    total_wins = []\n",
    "    more_wins = []\n",
    "\n",
    "    for i in range(len(weights)):\n",
    "        # 대결 결과를 저장할 리스트 생성\n",
    "        wins = []\n",
    "        \n",
    "        # index 삽입\n",
    "        wins.append(i)\n",
    "        \n",
    "        # 승률 계산 후 삽입\n",
    "        try :\n",
    "            win_ratio = head2head[i].count('W') / (head2head[i].count('W') + head2head[i].count('L'))\n",
    "        except:\n",
    "            win_ratio = 0\n",
    "        wins.append(win_ratio)\n",
    "        \n",
    "        # 내가 이긴 복서의 index를 가져온 후 상대 복서보다 내 몸무게가 가벼우면(상대방이 무거우면) 횟수를 더한다.\n",
    "        w_inx = list(filter(lambda x : head2head[i][x] == 'W', range(len(weights))))\n",
    "        more_win = 0\n",
    "        for w in w_inx:\n",
    "            if weights[i] < weights[w]:\n",
    "                more_win += 1\n",
    "                \n",
    "        # 몸무게가 나보다 더 나가는 사람의 승리횟수를 대결결과 리스트에 저장\n",
    "        wins.append(more_win)\n",
    "        \n",
    "        # 나의 몸무게를 대결결과 리스트에 저장\n",
    "        wins.append(weights[i])\n",
    "        total_wins.append(wins)\n",
    "        \n",
    "    # 모든 결과를 조건에 맞게 sorted 한다.\n",
    "    total_wins = sorted(total_wins, key = lambda x : (x[1], x[2], x[3]), reverse=True)\n",
    "\n",
    "    # sorted한 결과의 index만 따로 추출한다.\n",
    "    for total_win in total_wins:\n",
    "        answer.append(total_win[0] + 1)\n",
    "\n",
    "    return answer"
   ]
  },
  {
   "cell_type": "code",
   "execution_count": 139,
   "metadata": {
    "execution": {
     "iopub.execute_input": "2021-09-07T01:34:24.128824Z",
     "iopub.status.busy": "2021-09-07T01:34:24.128616Z",
     "iopub.status.idle": "2021-09-07T01:34:24.133482Z",
     "shell.execute_reply": "2021-09-07T01:34:24.132881Z",
     "shell.execute_reply.started": "2021-09-07T01:34:24.128801Z"
    }
   },
   "outputs": [
    {
     "data": {
      "text/plain": [
       "[3, 4, 1, 2]"
      ]
     },
     "execution_count": 139,
     "metadata": {},
     "output_type": "execute_result"
    }
   ],
   "source": [
    "weights = [50,82,75,120]\n",
    "head2head = [\"NLWL\",\"WNLL\",\"LWNW\",\"WWLN\"]\n",
    "solution(weights, head2head)"
   ]
  },
  {
   "cell_type": "code",
   "execution_count": 140,
   "metadata": {
    "execution": {
     "iopub.execute_input": "2021-09-07T01:34:24.603082Z",
     "iopub.status.busy": "2021-09-07T01:34:24.602856Z",
     "iopub.status.idle": "2021-09-07T01:34:24.607733Z",
     "shell.execute_reply": "2021-09-07T01:34:24.607100Z",
     "shell.execute_reply.started": "2021-09-07T01:34:24.603056Z"
    }
   },
   "outputs": [
    {
     "data": {
      "text/plain": [
       "[2, 3, 1]"
      ]
     },
     "execution_count": 140,
     "metadata": {},
     "output_type": "execute_result"
    }
   ],
   "source": [
    "weights = [145,92,86]\n",
    "head2head = [\"NLW\",\"WNL\",\"LWN\"]\n",
    "solution(weights, head2head)"
   ]
  },
  {
   "cell_type": "code",
   "execution_count": 141,
   "metadata": {
    "execution": {
     "iopub.execute_input": "2021-09-07T01:34:25.037812Z",
     "iopub.status.busy": "2021-09-07T01:34:25.037526Z",
     "iopub.status.idle": "2021-09-07T01:34:25.044160Z",
     "shell.execute_reply": "2021-09-07T01:34:25.043370Z",
     "shell.execute_reply.started": "2021-09-07T01:34:25.037787Z"
    }
   },
   "outputs": [
    {
     "data": {
      "text/plain": [
       "[2, 1, 3]"
      ]
     },
     "execution_count": 141,
     "metadata": {},
     "output_type": "execute_result"
    }
   ],
   "source": [
    "weights = [60,70,60]\n",
    "head2head = [\"NNN\",\"NNN\",\"NNN\"]\n",
    "solution(weights, head2head)"
   ]
  }
 ],
 "metadata": {
  "kernelspec": {
   "display_name": "Python 3",
   "language": "python",
   "name": "python3"
  },
  "language_info": {
   "codemirror_mode": {
    "name": "ipython",
    "version": 3
   },
   "file_extension": ".py",
   "mimetype": "text/x-python",
   "name": "python",
   "nbconvert_exporter": "python",
   "pygments_lexer": "ipython3",
   "version": "3.8.3"
  }
 },
 "nbformat": 4,
 "nbformat_minor": 4
}
