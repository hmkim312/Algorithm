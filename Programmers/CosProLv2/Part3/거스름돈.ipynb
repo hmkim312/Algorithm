{
 "cells": [
  {
   "cell_type": "markdown",
   "metadata": {},
   "source": [
    "URL <https://programmers.co.kr/learn/courses/33/lessons/1863>{:target=\"_blank\"}\n",
    "\n",
    "#### 문제 설명\n",
    "- 고객이 구매한 물건들의 가격과 지불 금액이 주어졌을 때, 거스름돈을 얼마나 줘야 하는지 구하려 합니다.\n",
    "- 예를 들어 구매한 물건들의 가격이 [2100, 3200, 2100, 800]이라면 총 구매금액은 8200원입니다. 이때, 고객이 10000원을 지불했다면 1800원을 거슬러 주면 됩니다.\n",
    "- 고객이 구매한 물품들의 가격이 들어있는 배열 price와 지불한 금액 money가 매개변수로 주어질 때, 거슬러 줘야 하는 금액을 return 하도록 solution 함수를 완성해주세요.\n",
    "\n",
    "#### 매개변수 설명\n",
    "- 고객이 구매한 물품의 가격이 들어있는 배열 price와 지불한 금액 money가 solution 함수의 매개변수로 주어집니다.\n",
    "- price의 길이는 1 이상 50 이하입니다.\n",
    "- price의 원소는 고객이 구매한 물품의 가격이며, 10 이상 100,000 이하의 자연수입니다.\n",
    "- money는 10 이상 5,000,000 이하의 자연수입니다.\n",
    "\n",
    "#### return 값 설명\n",
    "- 고객에게 거슬러 줘야 하는 금액을 return 하도록 solution 함수를 작성해주세요.\n",
    "- 구매 금액보다 지불 금액이 작은 경우에는 -1을 return 해주세요.\n",
    "\n",
    "#### 문제 설명\n",
    "- 고객이 구매한 price에서 money를 빼고 만약 answer가 0보다 작으면 -1을 리턴하게 함"
   ]
  },
  {
   "cell_type": "code",
   "execution_count": 1,
   "metadata": {
    "execution": {
     "iopub.execute_input": "2021-05-21T06:26:53.379695Z",
     "iopub.status.busy": "2021-05-21T06:26:53.379456Z",
     "iopub.status.idle": "2021-05-21T06:26:53.383377Z",
     "shell.execute_reply": "2021-05-21T06:26:53.382609Z",
     "shell.execute_reply.started": "2021-05-21T06:26:53.379670Z"
    }
   },
   "outputs": [],
   "source": [
    "def solution(price, money):\n",
    "    answer = money - sum(price)\n",
    "    if answer < 0 :\n",
    "        return -1\n",
    "    return answer"
   ]
  },
  {
   "cell_type": "code",
   "execution_count": 2,
   "metadata": {
    "execution": {
     "iopub.execute_input": "2021-05-21T06:28:07.404066Z",
     "iopub.status.busy": "2021-05-21T06:28:07.403829Z",
     "iopub.status.idle": "2021-05-21T06:28:07.413110Z",
     "shell.execute_reply": "2021-05-21T06:28:07.412551Z",
     "shell.execute_reply.started": "2021-05-21T06:28:07.404042Z"
    }
   },
   "outputs": [
    {
     "data": {
      "text/plain": [
       "1800"
      ]
     },
     "execution_count": 2,
     "metadata": {},
     "output_type": "execute_result"
    }
   ],
   "source": [
    "price = [2100, 3200, 2100, 800]\n",
    "money =\t10000\n",
    "solution(price, money)"
   ]
  }
 ],
 "metadata": {
  "kernelspec": {
   "display_name": "Python 3",
   "language": "python",
   "name": "python3"
  },
  "language_info": {
   "codemirror_mode": {
    "name": "ipython",
    "version": 3
   },
   "file_extension": ".py",
   "mimetype": "text/x-python",
   "name": "python",
   "nbconvert_exporter": "python",
   "pygments_lexer": "ipython3",
   "version": "3.8.3"
  }
 },
 "nbformat": 4,
 "nbformat_minor": 4
}
