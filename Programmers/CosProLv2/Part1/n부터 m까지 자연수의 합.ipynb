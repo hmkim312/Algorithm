{
 "cells": [
  {
   "cell_type": "markdown",
   "metadata": {},
   "source": [
    "URL <https://programmers.co.kr/learn/courses/33/lessons/1855>{:target=\"_blank\"}\n",
    "\n",
    "### 문제 설명\n",
    "- 두 자연수 n부터 m까지의 합을 구하려고 합니다. 이를 위해 다음과 같이 3단계로 간단히 프로그램 구조를 작성했습니다.\n",
    "1. 1부터 m까지의 합을 구합니다.\n",
    "2. 1부터 n-1까지의 합을 구합니다.\n",
    "3. 1번 단계에서 구한 값에서 2번 단계에서 구한 값을 뺍니다.\n",
    "- 두 자연수 n과 m이 매개변수로 주어질 때, n 부터 m 까지의 합을 return 하도록 solution 함수를 작성했습니다. 이때, 위 구조를 참고하여 중복되는 부분은 func_a라는 함수로 작성했습니다. 코드가 올바르게 동작할 수 있도록 빈칸을 알맞게 채워주세요.\n",
    "\n",
    "#### 매개변수 설명\n",
    "- 두 자연수 n과 m이 solution 함수의 매개변수로 주어집니다.\n",
    "- n, m은 1 이상 10,000 이하의 자연수이며, 항상 n ≤ m 을 만족합니다.\n",
    "\n",
    "#### return 값 설명\n",
    "- solution 함수는 n부터 m까지의 합을 return 합니다.\n",
    "\n",
    "#### 빈칸 코드\n",
    "\n",
    "```python\n",
    "def func_a(k):\n",
    "    sum = 0\n",
    "    for i in range('빈칸'):\n",
    "        sum += '빈칸'\n",
    "\n",
    "    return sum\n",
    "\n",
    "def solution(n, m):\n",
    "    sum_to_m = func_a(m)\n",
    "    sum_to_n = func_a(n-1)\n",
    "    answer = sum_to_m - sum_to_n\n",
    "    return answer\n",
    "```\n",
    "\n",
    "#### 문제 풀이\n",
    "- 빈칸이 있는 코드에 알맞은 빈칸을 넣으면 된다.\n",
    "- 일단 주어진 수에서 0 ~ 주어진수까지의 모두 더하는 func_a에서 빈칸이 있는대, range는 k보다 1작은수 까지만 만들어짐, 그래서 주어진 k에서 +1를 함\n",
    "- i를 모두 더해주면 total sum을 하게 됨"
   ]
  },
  {
   "cell_type": "code",
   "execution_count": 4,
   "metadata": {
    "execution": {
     "iopub.execute_input": "2021-05-21T06:57:16.342587Z",
     "iopub.status.busy": "2021-05-21T06:57:16.342364Z",
     "iopub.status.idle": "2021-05-21T06:57:16.347415Z",
     "shell.execute_reply": "2021-05-21T06:57:16.346746Z",
     "shell.execute_reply.started": "2021-05-21T06:57:16.342564Z"
    }
   },
   "outputs": [],
   "source": [
    "def func_a(k):\n",
    "    sum = 0\n",
    "    for i in range(k+1):\n",
    "        sum += i\n",
    "    return sum\n",
    "\n",
    "def solution(n, m):\n",
    "    sum_to_m = func_a(m)\n",
    "    sum_to_n = func_a(n-1)\n",
    "    answer = sum_to_m - sum_to_n\n",
    "    return answer"
   ]
  },
  {
   "cell_type": "code",
   "execution_count": 5,
   "metadata": {
    "execution": {
     "iopub.execute_input": "2021-05-21T06:57:18.098400Z",
     "iopub.status.busy": "2021-05-21T06:57:18.098181Z",
     "iopub.status.idle": "2021-05-21T06:57:18.106953Z",
     "shell.execute_reply": "2021-05-21T06:57:18.106247Z",
     "shell.execute_reply.started": "2021-05-21T06:57:18.098376Z"
    }
   },
   "outputs": [
    {
     "data": {
      "text/plain": [
       "45"
      ]
     },
     "execution_count": 5,
     "metadata": {},
     "output_type": "execute_result"
    }
   ],
   "source": [
    "n=5\n",
    "m=10\n",
    "solution(n, m)"
   ]
  },
  {
   "cell_type": "code",
   "execution_count": 6,
   "metadata": {
    "execution": {
     "iopub.execute_input": "2021-05-21T06:57:22.064404Z",
     "iopub.status.busy": "2021-05-21T06:57:22.064184Z",
     "iopub.status.idle": "2021-05-21T06:57:22.068633Z",
     "shell.execute_reply": "2021-05-21T06:57:22.067947Z",
     "shell.execute_reply.started": "2021-05-21T06:57:22.064381Z"
    }
   },
   "outputs": [
    {
     "data": {
      "text/plain": [
       "6"
      ]
     },
     "execution_count": 6,
     "metadata": {},
     "output_type": "execute_result"
    }
   ],
   "source": [
    "n=6\n",
    "m=6\n",
    "solution(n, m)"
   ]
  }
 ],
 "metadata": {
  "kernelspec": {
   "display_name": "Python 3",
   "language": "python",
   "name": "python3"
  },
  "language_info": {
   "codemirror_mode": {
    "name": "ipython",
    "version": 3
   },
   "file_extension": ".py",
   "mimetype": "text/x-python",
   "name": "python",
   "nbconvert_exporter": "python",
   "pygments_lexer": "ipython3",
   "version": "3.8.3"
  }
 },
 "nbformat": 4,
 "nbformat_minor": 4
}
