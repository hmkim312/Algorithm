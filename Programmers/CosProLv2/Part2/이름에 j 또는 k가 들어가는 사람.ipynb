{
 "cells": [
  {
   "cell_type": "markdown",
   "metadata": {},
   "source": [
    "URL <https://programmers.co.kr/learn/courses/33/lessons/1861>{:target=\"_blank\"}\n",
    "\n",
    "#### 문제 설명\n",
    "- 학생들의 이름이 들어있는 명단에서 이름에 j 또는 k가 들어가는 학생의 수를 구하려고 합니다.\n",
    "- 예를 들어 \"james\"에는 j가 들어가 있으며, \"jack\"에는 j와 k가 모두 들어있습니다.\n",
    "- 학생들의 이름이 들어있는 배열 name_list가 매개변수로 주어졌을 때, 이름에 j 또는 k가 들어가는 학생의 수를 세서 return 하도록 solution 함수를 작성했습니다. 그러나, 코드 일부분이 잘못되어있기 때문에, 몇몇 입력에 대해서는 올바르게 동작하지 않습니다. 주어진 코드에서 한 줄만 변경해서 모든 입력에 대해 올바르게 동작하도록 수정하세요.\n",
    "\n",
    "#### 매개변수 설명\n",
    "- 학생들의 이름이 들어있는 배열 name_list가 solution 함수의 매개변수로 주어집니다.\n",
    "- name_list의 길이는 1 이상 100 이하입니다.\n",
    "- 학생들의 이름은 알파벳 소문자로만 이루어져 있으며, 길이는 1 이상 20 이하입니다.\n",
    "- 같은 이름이 중복해서 들어있지 않습니다.\n",
    "\n",
    "#### return 값 설명\n",
    "- solution 함수는 이름에 j 또는 k가 들어가는 학생의 수를 return 합니다.\n",
    "\n",
    "#### 수정할 코드\n",
    "```python\n",
    "def solution(name_list):\n",
    "    answer = 0\n",
    "    for name in name_list:\n",
    "        for n in name:\n",
    "            if n == 'j' or n == 'k':\n",
    "                answer += 1\n",
    "                continue\n",
    "    return answer\n",
    "```\n",
    "\n",
    "#### 문제 풀이\n",
    "- 주어진 코드에서 1줄만 수정하여 정상작동하는 코드를 만들어내는 문제이다.\n",
    "- 2번째 for문에서 name이 n으로 나올때 continue를 사용하게 되면 이름을 계속 보게되는것이라 Jack같은 경우는 answer가 +2가 되버림\n",
    "- 그래서 2번째 for문에서 name의 원소들 n 중에 j or k를 만나게 되면 break를 걸어 stop하게 하고 첫번째 for문으로 돌아가게 함"
   ]
  },
  {
   "cell_type": "code",
   "execution_count": 1,
   "metadata": {
    "execution": {
     "iopub.execute_input": "2021-05-21T06:47:57.386240Z",
     "iopub.status.busy": "2021-05-21T06:47:57.386015Z",
     "iopub.status.idle": "2021-05-21T06:47:57.389736Z",
     "shell.execute_reply": "2021-05-21T06:47:57.389094Z",
     "shell.execute_reply.started": "2021-05-21T06:47:57.386219Z"
    }
   },
   "outputs": [],
   "source": [
    "def solution(name_list):\n",
    "    answer = 0\n",
    "    for name in name_list:\n",
    "        for n in name:\n",
    "            if n == 'j' or n == 'k':\n",
    "                answer += 1\n",
    "                break\n",
    "    return answer"
   ]
  },
  {
   "cell_type": "code",
   "execution_count": 2,
   "metadata": {
    "execution": {
     "iopub.execute_input": "2021-05-21T06:48:15.742454Z",
     "iopub.status.busy": "2021-05-21T06:48:15.742236Z",
     "iopub.status.idle": "2021-05-21T06:48:15.750840Z",
     "shell.execute_reply": "2021-05-21T06:48:15.750261Z",
     "shell.execute_reply.started": "2021-05-21T06:48:15.742431Z"
    }
   },
   "outputs": [
    {
     "data": {
      "text/plain": [
       "3"
      ]
     },
     "execution_count": 2,
     "metadata": {},
     "output_type": "execute_result"
    }
   ],
   "source": [
    "name_list = [\"james\", \"luke\", \"oliver\", \"jack\"]\n",
    "solution(name_list)"
   ]
  }
 ],
 "metadata": {
  "kernelspec": {
   "display_name": "Python 3",
   "language": "python",
   "name": "python3"
  },
  "language_info": {
   "codemirror_mode": {
    "name": "ipython",
    "version": 3
   },
   "file_extension": ".py",
   "mimetype": "text/x-python",
   "name": "python",
   "nbconvert_exporter": "python",
   "pygments_lexer": "ipython3",
   "version": "3.8.3"
  }
 },
 "nbformat": 4,
 "nbformat_minor": 4
}
