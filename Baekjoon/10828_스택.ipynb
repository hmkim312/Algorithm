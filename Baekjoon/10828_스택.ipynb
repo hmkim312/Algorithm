{
 "cells": [
  {
   "cell_type": "markdown",
   "metadata": {},
   "source": [
    "url : <https://www.acmicpc.net/problem/10828>{:target=blank}\n",
    "\n",
    "## 문제\n",
    "- 정수를 저장하는 스택을 구현한 다음, 입력으로 주어지는 명령을 처리하는 프로그램을 작성하시오.\n",
    "- 명령은 총 다섯 가지이다.\n",
    "    - push X: 정수 X를 스택에 넣는 연산이다.\n",
    "    - pop: 스택에서 가장 위에 있는 정수를 빼고, 그 수를 출력한다. 만약 스택에 들어있는 정수가 없는 경우에는 -1을 출력한다.\n",
    "    - size: 스택에 들어있는 정수의 개수를 출력한다.\n",
    "    - empty: 스택이 비어있으면 1, 아니면 0을 출력한다.\n",
    "    - top: 스택의 가장 위에 있는 정수를 출력한다. 만약 스택에 들어있는 정수가 없는 경우에는 -1을 출력한다.\n",
    "\n",
    "## 문제 풀이\n",
    "- 명령마다 if 문을 작성, input으로 데이터를 받으니 시간초과가 남\n",
    "- input 대신 sys의 stdin.readline()을 사용하면 시간이 더 빠르다고 하여 변경함\n",
    "    - stdin.readline의 경우 for문을 돌면서 입력받을때 사용하면 메모리 및 시간측면에서 유용하다고 함\n",
    "    - 다만 jupyter 환경에서는 테스트 하기가 어려움 (셀 단위 실행이라 readline이 안되는듯?)\n",
    "- 사실 명령어는 if문으로 실행하면 되서 어렵지 않음. 다만 시간초과를 어떻게 해결하느냐를 알려주기 위한 문제인듯"
   ]
  },
  {
   "cell_type": "code",
   "execution_count": 37,
   "metadata": {
    "execution": {
     "iopub.execute_input": "2021-12-22T01:54:00.110300Z",
     "iopub.status.busy": "2021-12-22T01:54:00.110079Z",
     "iopub.status.idle": "2021-12-22T01:54:00.113284Z",
     "shell.execute_reply": "2021-12-22T01:54:00.112616Z",
     "shell.execute_reply.started": "2021-12-22T01:54:00.110278Z"
    }
   },
   "outputs": [],
   "source": [
    "# input 대신 sys.stdin.readline() 사용\n",
    "# sys.stdin.readline()은 \\n 개행문자가 붙으므로, 형 변환이 필요함\n",
    "\n",
    "import sys\n",
    "\n",
    "stack = []\n",
    "\n",
    "# 처음 N의 갯수 입력 \n",
    "N = int(sys.stdin.readline())\n",
    "\n",
    "for i in range(0, N):\n",
    "    \n",
    "    # command 입력 받음, push의 경우 뒤에 숫자가 있음.\n",
    "    temp_command = sys.stdin.readline().split()\n",
    "    command = temp_command[0]\n",
    "    \n",
    "    # push 명령어 실행\n",
    "    if command == 'push':\n",
    "        stack.append(int(temp_command[1]))\n",
    "    \n",
    "    # pop 명령어 실행\n",
    "    elif command == 'pop':\n",
    "        if len(stack):\n",
    "            print(stack.pop())\n",
    "        else:\n",
    "            print(-1)\n",
    "\n",
    "    # size 명령어 실행\n",
    "    elif command == 'size':\n",
    "        print(len(stack))\n",
    "    \n",
    "    # empty 명령어 실행\n",
    "    elif command == 'empty':\n",
    "        if len(stack):\n",
    "            print(0)\n",
    "        else:\n",
    "            print(1)\n",
    "    \n",
    "    # top 명령어 실행\n",
    "    elif command == 'top':\n",
    "        if len(stack):\n",
    "            print(stack[-1])\n",
    "        else:\n",
    "            print(-1)"
   ]
  },
  {
   "cell_type": "code",
   "execution_count": 15,
   "metadata": {
    "execution": {
     "iopub.execute_input": "2021-12-22T01:43:12.349928Z",
     "iopub.status.busy": "2021-12-22T01:43:12.349714Z",
     "iopub.status.idle": "2021-12-22T01:43:12.352859Z",
     "shell.execute_reply": "2021-12-22T01:43:12.352193Z",
     "shell.execute_reply.started": "2021-12-22T01:43:12.349907Z"
    }
   },
   "outputs": [],
   "source": [
    "# input 때문에 시간초과가 남\n",
    "stack = []\n",
    "N = 14\n",
    "\n",
    "for i in range(0, N):\n",
    "    command = input()\n",
    "    if command[:4] == 'push':\n",
    "        stack.append(int(command.split()[1]))\n",
    "\n",
    "    elif command == 'pop':\n",
    "        if len(stack):\n",
    "            print(stack.pop())\n",
    "        else:\n",
    "            print(-1)\n",
    "\n",
    "    elif command == 'size':\n",
    "        print(len(stack))\n",
    "\n",
    "    elif command == 'empty':\n",
    "        if len(stack):\n",
    "            print(0)\n",
    "        else:\n",
    "            print(1)\n",
    "\n",
    "    elif command == 'top':\n",
    "        if len(stack):\n",
    "            print(stack[-1])\n",
    "        else:\n",
    "            print(-1)"
   ]
  },
  {
   "cell_type": "code",
   "execution_count": null,
   "metadata": {},
   "outputs": [],
   "source": [
    "2\n",
    "2\n",
    "0\n",
    "2\n",
    "1\n",
    "-1\n",
    "0\n",
    "1\n",
    "-1\n",
    "0\n",
    "3"
   ]
  },
  {
   "cell_type": "code",
   "execution_count": null,
   "metadata": {},
   "outputs": [],
   "source": [
    "commands = ['push 1',\n",
    "'push 2',\n",
    "'top',\n",
    "'size',\n",
    "'empty',\n",
    "'pop',\n",
    "'pop',\n",
    "'pop',\n",
    "'size',\n",
    "'empty',\n",
    "'pop',\n",
    "'push 3',\n",
    "'empty',\n",
    "'top',]"
   ]
  }
 ],
 "metadata": {
  "kernelspec": {
   "display_name": "Python 3",
   "language": "python",
   "name": "python3"
  },
  "language_info": {
   "codemirror_mode": {
    "name": "ipython",
    "version": 3
   },
   "file_extension": ".py",
   "mimetype": "text/x-python",
   "name": "python",
   "nbconvert_exporter": "python",
   "pygments_lexer": "ipython3",
   "version": "3.8.3"
  }
 },
 "nbformat": 4,
 "nbformat_minor": 4
}
