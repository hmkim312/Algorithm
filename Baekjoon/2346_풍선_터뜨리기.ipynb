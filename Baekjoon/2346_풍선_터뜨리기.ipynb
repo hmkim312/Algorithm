{
 "cells": [
  {
   "cell_type": "markdown",
   "metadata": {},
   "source": [
    "URL : <https://www.acmicpc.net/problem/2346>{:target=\"_blank\"}\n",
    "\n",
    "### 문제\n",
    "- 1번부터 N번까지 N개의 풍선이 원형으로 놓여 있고. i번 풍선의 오른쪽에는 i+1번 풍선이 있고, 왼쪽에는 i-1번 풍선이 있다. 단, 1번 풍선의 왼쪽에 N번 풍선이 있고, N번 풍선의 오른쪽에 1번 풍선이 있다. 각 풍선 안에는 종이가 하나 들어있고, 종이에는 -N보다 크거나 같고, N보다 작거나 같은 정수가 하나 적혀있다. 이 풍선들을 다음과 같은 규칙으로 터뜨린다.\n",
    "- 우선, 제일 처음에는 1번 풍선을 터뜨린다. 다음에는 풍선 안에 있는 종이를 꺼내어 그 종이에 적혀있는 값만큼 이동하여 다음 풍선을 터뜨린다. 양수가 적혀 있을 경우에는 오른쪽으로, 음수가 적혀 있을 때는 왼쪽으로 이동한다. 이동할 때에는 이미 터진 풍선은 빼고 이동한다.\n",
    "- 예를 들어 다섯 개의 풍선 안에 차례로 3, 2, 1, -3, -1이 적혀 있었다고 하자. 이 경우 3이 적혀 있는 1번 풍선, -3이 적혀 있는 4번 풍선, -1이 적혀 있는 5번 풍선, 1이 적혀 있는 3번 풍선, 2가 적혀 있는 2번 풍선의 순서대로 터지게 된다.\n",
    "\n",
    "### 입력\n",
    "- 첫째 줄에 자연수 N(1 ≤ N ≤ 1,000)이 주어진다. 다음 줄에는 차례로 각 풍선 안의 종이에 적혀 있는 수가 주어진다. 종이에 0은 적혀있지 않다.\n",
    "\n",
    "### 출력\n",
    "- 첫째 줄에 터진 풍선의 번호를 차례로 나열한다.\n",
    "\n",
    "### 문제 풀이\n",
    "- collections의 deque를 사용하여 풀었음\n",
    "- nums : 풍선안에 들어간 숫자\n",
    "- balloons : 풍선\n",
    "- 로직 : 첫번째 풍선을 터뜨리고, 그 풍선안에 있는 숫자만큼 deque의 맨 앞으로 이동시킴\n",
    "- 맨 앞으로 이동하는 방법은 deque의 rotate를 사용함\n",
    "- 여기서 nums와 balloons를 같이 rotate해주어야 함\n",
    "- deque의 rotate는 회전을 시키는건데, 양수로 들어오면 맨뒤에것이 앞으로 순서대로 옴, 음수가 들어오면 맨앞에것이 맨뒤로감\n",
    "- 따라서 지금 nums의 음수와 반대로 움직이면 되서 양수이면 -로 바꾸고 음수이면 +로 바꿔줌\n",
    "- num이 양수일경우엔 마지막에 +1을 해주어야 함. 아마도 0부터 시작해서 그런듯??"
   ]
  },
  {
   "cell_type": "code",
   "execution_count": 375,
   "metadata": {
    "execution": {
     "iopub.execute_input": "2021-12-30T08:32:22.767812Z",
     "iopub.status.busy": "2021-12-30T08:32:22.767600Z",
     "iopub.status.idle": "2021-12-30T08:32:27.290667Z",
     "shell.execute_reply": "2021-12-30T08:32:27.289980Z",
     "shell.execute_reply.started": "2021-12-30T08:32:22.767789Z"
    }
   },
   "outputs": [
    {
     "name": "stdin",
     "output_type": "stream",
     "text": [
      " 5\n",
      " 3 2 1 -3 -1\n"
     ]
    },
    {
     "name": "stdout",
     "output_type": "stream",
     "text": [
      "1 4 5 3 2 "
     ]
    }
   ],
   "source": [
    "from collections import deque\n",
    "N = int(input())\n",
    "nums = deque(list(map(int, input().split())))\n",
    "balloons = deque(list(range(1, N+1)))\n",
    "\n",
    "results = []\n",
    "for i in range(N):\n",
    "\n",
    "    balloon = balloons.popleft()\n",
    "    results.append(balloon)\n",
    "    num = nums.popleft()\n",
    "    # num이 양수일경우 음수로 바꿔줌\n",
    "    if num > 0:\n",
    "        balloons.rotate(-num+1)\n",
    "        nums.rotate(-num+1)\n",
    "    # num이 음수일 경우 양수로 바꿔줌\n",
    "    else:\n",
    "        balloons.rotate(-num)\n",
    "        nums.rotate(-num)\n",
    "        \n",
    "for r in results:\n",
    "    print(r, end= ' ')"
   ]
  },
  {
   "cell_type": "code",
   "execution_count": 376,
   "metadata": {
    "execution": {
     "iopub.execute_input": "2021-12-30T08:33:52.903340Z",
     "iopub.status.busy": "2021-12-30T08:33:52.903130Z",
     "iopub.status.idle": "2021-12-30T08:33:52.907365Z",
     "shell.execute_reply": "2021-12-30T08:33:52.906667Z",
     "shell.execute_reply.started": "2021-12-30T08:33:52.903318Z"
    }
   },
   "outputs": [
    {
     "name": "stdout",
     "output_type": "stream",
     "text": [
      "deque([5, 1, 2, 3, 4])\n",
      "deque([1, 2, 3, 4, 5])\n"
     ]
    }
   ],
   "source": [
    "# Contain 1, 2, 3, 4, 5 in deq\n",
    "deq = deque([1, 2, 3, 4, 5])\n",
    "\n",
    "deq.rotate(1)\n",
    "print(deq)\n",
    "# deque([5, 1, 2, 3, 4])\n",
    "\n",
    "deq.rotate(-1)\n",
    "print(deq)\n",
    "# deque([1, 2, 3, 4, 5])"
   ]
  },
  {
   "cell_type": "code",
   "execution_count": null,
   "metadata": {},
   "outputs": [],
   "source": []
  },
  {
   "cell_type": "code",
   "execution_count": null,
   "metadata": {},
   "outputs": [],
   "source": []
  },
  {
   "cell_type": "code",
   "execution_count": 356,
   "metadata": {
    "execution": {
     "iopub.execute_input": "2021-12-30T08:27:39.769260Z",
     "iopub.status.busy": "2021-12-30T08:27:39.769044Z",
     "iopub.status.idle": "2021-12-30T08:27:39.774622Z",
     "shell.execute_reply": "2021-12-30T08:27:39.774004Z",
     "shell.execute_reply.started": "2021-12-30T08:27:39.769238Z"
    }
   },
   "outputs": [],
   "source": [
    "from collections import deque\n",
    "N = 5\n",
    "nums = deque([3, 2, 1,- 3, -1])\n",
    "balloons = deque(list(range(1, N+1)))\n",
    "\n",
    "results = []\n",
    "for i in range(N):\n",
    "\n",
    "    balloon = balloons.popleft()\n",
    "    results.append(balloon)\n",
    "    num = nums.popleft()\n",
    "    if num > 0:\n",
    "        balloons.rotate(-num+1)\n",
    "        nums.rotate(-num+1)\n",
    "\n",
    "    else:\n",
    "        balloons.rotate(-num)\n",
    "        nums.rotate(-num)"
   ]
  },
  {
   "cell_type": "code",
   "execution_count": 357,
   "metadata": {
    "execution": {
     "iopub.execute_input": "2021-12-30T08:27:40.662124Z",
     "iopub.status.busy": "2021-12-30T08:27:40.661918Z",
     "iopub.status.idle": "2021-12-30T08:27:40.665834Z",
     "shell.execute_reply": "2021-12-30T08:27:40.665206Z",
     "shell.execute_reply.started": "2021-12-30T08:27:40.662102Z"
    }
   },
   "outputs": [
    {
     "data": {
      "text/plain": [
       "[1, 4, 5, 3, 2]"
      ]
     },
     "execution_count": 357,
     "metadata": {},
     "output_type": "execute_result"
    }
   ],
   "source": [
    "results"
   ]
  },
  {
   "cell_type": "code",
   "execution_count": null,
   "metadata": {},
   "outputs": [],
   "source": []
  }
 ],
 "metadata": {
  "kernelspec": {
   "display_name": "Python 3",
   "language": "python",
   "name": "python3"
  },
  "language_info": {
   "codemirror_mode": {
    "name": "ipython",
    "version": 3
   },
   "file_extension": ".py",
   "mimetype": "text/x-python",
   "name": "python",
   "nbconvert_exporter": "python",
   "pygments_lexer": "ipython3",
   "version": "3.8.3"
  }
 },
 "nbformat": 4,
 "nbformat_minor": 4
}
