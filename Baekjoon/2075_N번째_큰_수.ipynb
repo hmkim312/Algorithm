{
 "cells": [
  {
   "cell_type": "markdown",
   "metadata": {},
   "source": [
    "URL : <https://www.acmicpc.net/problem/2075>{:target=\"_blank\"}\n",
    "\n",
    "### 문제\n",
    "- N×N의 표에 수 N2개 채워져 있다. 채워진 수에는 한 가지 특징이 있는데, 모든 수는 자신의 한 칸 위에 있는 수보다 크다는 것이다. N=5일 때의 예를 보자.\n",
    "\n",
    "||||||\n",
    "|---|---|---|---|---|\n",
    "|12|7|9|15|5|\n",
    "|13|8|11|19|6|\n",
    "|21|10|26|31|16|\n",
    "|48|14|28|35|25|\n",
    "|52|20|32|41|49|\n",
    "\n",
    "- 이러한 표가 주어졌을 때, N번째 큰 수를 찾는 프로그램을 작성하시오. 표에 채워진 수는 모두 다르다.\n",
    "\n",
    "### 입력\n",
    "- 첫째 줄에 N(1 ≤ N ≤ 1,500)이 주어진다. 다음 N개의 줄에는 각 줄마다 N개의 수가 주어진다. 표에 적힌 수는 -10억보다 크거나 같고, 10억보다 작거나 같은 정수이다.\n",
    "\n",
    "### 출력\n",
    "- 첫째 줄에 N번째 큰 수를 출력한다.\n",
    "\n",
    "### 문제 풀이\n",
    "- 해당 문제는 메모리 제한이 있는 문제임\n",
    "- 우선 처음 주어지는 입력 만큼 for문을 돌림\n",
    "- 이후 주어지는 N개의 숫자를 입력 받음\n",
    "- python의 bisect를 사용하면 자동으로 sort된 상태로 입력이 됨\n",
    "- 처음 N개의 배열이 될때까지는 우선 a배열에 입력\n",
    "- 배열의 N번쨰 큰 수를 k로 지정\n",
    "- 이후 k 보다 작은 숫자가 들어오면 배열에 입력하지 않음 (메모리 절약)\n",
    "- N보다 큰 숫자만 넣고, 매번 k를 갱신함.\n",
    "- 마지막에 N번째 큰수를 출력하기 위해 배열에 -를 붙임"
   ]
  },
  {
   "cell_type": "code",
   "execution_count": 18,
   "metadata": {
    "execution": {
     "iopub.execute_input": "2022-01-17T00:33:28.542046Z",
     "iopub.status.busy": "2022-01-17T00:33:28.541868Z",
     "iopub.status.idle": "2022-01-17T00:33:45.600729Z",
     "shell.execute_reply": "2022-01-17T00:33:45.600145Z",
     "shell.execute_reply.started": "2022-01-17T00:33:28.542027Z"
    }
   },
   "outputs": [
    {
     "name": "stdin",
     "output_type": "stream",
     "text": [
      " 5\n",
      " 12 7 9 15 5\n",
      " 13 8 11 19 6\n",
      " 21 10 26 31 16\n",
      " 48 14 28 35 25\n",
      " 52 20 32 41 49\n"
     ]
    },
    {
     "name": "stdout",
     "output_type": "stream",
     "text": [
      "35\n"
     ]
    }
   ],
   "source": [
    "import bisect\n",
    "import sys\n",
    "\n",
    "# N = int(input())\n",
    "N = int(sys.stdin.readline().strip())\n",
    "a = []\n",
    "for _ in range(N):\n",
    "#     j = input()\n",
    "    j = sys.stdin.readline().strip()\n",
    "\n",
    "    for i in j.split():\n",
    "        if len(a) <= N:\n",
    "            bisect.insort_left(a, int(i))\n",
    "            \n",
    "        else:\n",
    "            k = a[-N]\n",
    "            if int(i) < k:\n",
    "                pass\n",
    "            else:\n",
    "                bisect.insort_left(a, int(i))\n",
    "\n",
    "print(a[-N])"
   ]
  }
 ],
 "metadata": {
  "kernelspec": {
   "display_name": "Python 3",
   "language": "python",
   "name": "python3"
  },
  "language_info": {
   "codemirror_mode": {
    "name": "ipython",
    "version": 3
   },
   "file_extension": ".py",
   "mimetype": "text/x-python",
   "name": "python",
   "nbconvert_exporter": "python",
   "pygments_lexer": "ipython3",
   "version": "3.8.3"
  }
 },
 "nbformat": 4,
 "nbformat_minor": 4
}
