{
 "cells": [
  {
   "cell_type": "markdown",
   "metadata": {},
   "source": [
    "URL : <https://www.acmicpc.net/problem/1655>{:target=\"_blank\"}\n",
    "\n",
    "### 문제\n",
    "- 백준이는 동생에게 \"가운데를 말해요\" 게임을 가르쳐주고 있다. 백준이가 정수를 하나씩 외칠때마다 동생은 지금까지 백준이가 말한 수 중에서 중간값을 말해야 한다. 만약, 그동안 백준이가 외친 수의 개수가 짝수개라면 중간에 있는 두 수 중에서 작은 수를 말해야 한다.\n",
    "- 예를 들어 백준이가 동생에게 1, 5, 2, 10, -99, 7, 5를 순서대로 외쳤다고 하면, 동생은 1, 1, 2, 2, 2, 2, 5를 차례대로 말해야 한다. 백준이가 외치는 수가 주어졌을 때, 동생이 말해야 하는 수를 구하는 프로그램을 작성하시오.\n",
    "\n",
    "### 입력\n",
    "- 첫째 줄에는 백준이가 외치는 정수의 개수 N이 주어진다. N은 1보다 크거나 같고, 100,000보다 작거나 같은 자연수이다. 그 다음 N줄에 걸쳐서 백준이가 외치는 정수가 차례대로 주어진다. 정수는 -10,000보다 크거나 같고, 10,000보다 작거나 같다.\n",
    "\n",
    "### 출력\n",
    "- 한 줄에 하나씩 N줄에 걸쳐 백준이의 동생이 말해야 하는 수를 순서대로 출력한다.\n",
    "\n",
    "### 문제풀이\n",
    "- 1) 결국 heap을 사용하게 됨\n",
    "    - heap도 최대힙, 최소힙을 구현해야함.\n",
    "    - 힙은 결국 루트가 되는 맨앞의 원소를 pop하기 떄문임\n",
    "    - 중앙값을 찾기위해 left heap은 최대힙으로, right heap은 최소힙으로 설정\n",
    "    - python은 최소힙만 지원하므로, 최대힙으로 바꾸기 위해 num에 -값을 주어 최대힙으로 변경함\n",
    "        - 숫자에 음수를 취하면 최대,최소가 바뀌는 성질을 이용\n",
    "    - left heap과 right heap에 매번 번갈아가면서 num을 넣음\n",
    "    - 각각 heap에 원소가 1개이상씩 있으면, left heap의 최대값과 right heap의 최소값을 비교하여 left heap의 최대값이 더 크면 각 원소를 바꾸어줌\n",
    "        - letf heap = [7, 2, 1],  right heap = [3, 8, 9] 일 경우, letf heap의 7과 right heap의 3이 바뀌어야 중앙값이 3으로 되기 떄문\n",
    "    - 이후 left heap의 맨 앞의 원소를 음수를 취해주고 (push할때 음수를 취했기 때문에) print하면 끝\n",
    "    \n",
    "    \n",
    "- 2) arr를 입력받아 중앙값을 계산하는 함수를 만들어서 실행 -> 사실 이렇게 하면 풀릴줄 알고 문제를 풀었으나, 시간 초과 걸림\n",
    "- 3) 중앙값 계산함수에 sort가 시간이 오래걸리는것같아 bisect를 찾아, insort를 사용하였으나, 마찬가지로 시간 초과\n",
    "- 4) 중앙값 함수를 제거하고, insort는 자동으로 정렬이 되니까, 해당 함수를 사용함 시간초과\n",
    "- 5) insort를 사용해서 중앙값 기준 letf arr과 right arr를 생성하여 left arr의 제일 뒤를 리턴해주는 코드 작성, letf의 맨뒤 원소와 right의 맨앞 원소를 비교하는 형식도 시간초과"
   ]
  },
  {
   "cell_type": "code",
   "execution_count": 33,
   "metadata": {
    "execution": {
     "iopub.execute_input": "2022-01-18T08:15:41.117744Z",
     "iopub.status.busy": "2022-01-18T08:15:41.117352Z",
     "iopub.status.idle": "2022-01-18T08:15:48.961353Z",
     "shell.execute_reply": "2022-01-18T08:15:48.960720Z",
     "shell.execute_reply.started": "2022-01-18T08:15:41.117678Z"
    }
   },
   "outputs": [
    {
     "name": "stdin",
     "output_type": "stream",
     "text": [
      " 7\n",
      " 1\n"
     ]
    },
    {
     "name": "stdout",
     "output_type": "stream",
     "text": [
      "1\n"
     ]
    },
    {
     "name": "stdin",
     "output_type": "stream",
     "text": [
      " 5\n"
     ]
    },
    {
     "name": "stdout",
     "output_type": "stream",
     "text": [
      "1\n"
     ]
    },
    {
     "name": "stdin",
     "output_type": "stream",
     "text": [
      " 2\n"
     ]
    },
    {
     "name": "stdout",
     "output_type": "stream",
     "text": [
      "2\n"
     ]
    },
    {
     "name": "stdin",
     "output_type": "stream",
     "text": [
      " 10\n"
     ]
    },
    {
     "name": "stdout",
     "output_type": "stream",
     "text": [
      "2\n"
     ]
    },
    {
     "name": "stdin",
     "output_type": "stream",
     "text": [
      " -99\n"
     ]
    },
    {
     "name": "stdout",
     "output_type": "stream",
     "text": [
      "2\n"
     ]
    },
    {
     "name": "stdin",
     "output_type": "stream",
     "text": [
      " 7\n"
     ]
    },
    {
     "name": "stdout",
     "output_type": "stream",
     "text": [
      "2\n"
     ]
    },
    {
     "name": "stdin",
     "output_type": "stream",
     "text": [
      " 5\n"
     ]
    },
    {
     "name": "stdout",
     "output_type": "stream",
     "text": [
      "5\n"
     ]
    }
   ],
   "source": [
    "# 1) heap을 사용하여 품\n",
    "\n",
    "import sys\n",
    "import heapq\n",
    "\n",
    "N = int(input())\n",
    "# N = int(sys.stdin.readline().strip())\n",
    "\n",
    "# 최대힙\n",
    "letf_heap = []\n",
    "\n",
    "# 최소힙\n",
    "right_heap = []\n",
    "\n",
    "for _ in range(N):\n",
    "\n",
    "    n = int(input())\n",
    "    # n = int(sys.stdin.readline().strip())\n",
    "    if len(letf_heap) == len(right_heap):\n",
    "        # 최대힙을 위해 n에 -를 줌\n",
    "        heapq.heappush(letf_heap, -n)\n",
    "    else:\n",
    "        heapq.heappush(right_heap, n)\n",
    "   \n",
    "    if right_heap and -letf_heap[0] > right_heap[0]:\n",
    "        max_v = heapq.heappop(letf_heap)\n",
    "        min_v = heapq.heappop(right_heap)\n",
    "        \n",
    "        heapq.heappush(right_heap, -max_v)\n",
    "        heapq.heappush(letf_heap, -min_v)\n",
    "        \n",
    "    print(-letf_heap[0])"
   ]
  },
  {
   "cell_type": "code",
   "execution_count": null,
   "metadata": {},
   "outputs": [],
   "source": [
    "7\n",
    "1\n",
    "5\n",
    "2\n",
    "10\n",
    "-99\n",
    "7\n",
    "5"
   ]
  },
  {
   "cell_type": "code",
   "execution_count": null,
   "metadata": {},
   "outputs": [],
   "source": [
    "# 시간 초과\n",
    "# 2) arr를 입력받아 중앙값을 계산하는 함수를 만들어서 실행 -> 사실 이렇게 하면 풀릴줄 알고 문제를 풀었으나, 시간 초과 걸림\n",
    "\n",
    "import sys\n",
    "\n",
    "def median(arr):\n",
    "    arr.sort()\n",
    "    if len(arr) %2 == 0:\n",
    "        print(arr[:int(len(arr) /2)][-1])\n",
    "    else:\n",
    "        print(arr[int(len(arr) //2)])\n",
    "\n",
    "N = int(input())\n",
    "arr = []\n",
    "for i in range(N):\n",
    "#     n = int(input())\n",
    "    n = sys.stdin.readline().strip()\n",
    "    arr.append(n)\n",
    "    median(arr)"
   ]
  },
  {
   "cell_type": "code",
   "execution_count": null,
   "metadata": {},
   "outputs": [],
   "source": [
    "# 시간 초과\n",
    "# 3) 중앙값 계산함수에 sort가 시간이 오래걸리는것같아 bisect를 찾아, insort를 사용하였으나, 마찬가지로 시간 초과\n",
    "\n",
    "import sys\n",
    "import bisect\n",
    "\n",
    "def median(arr):\n",
    "    if len(arr) %2 == 0:\n",
    "        print(arr[:int(len(arr) /2)][-1])\n",
    "    else:\n",
    "        print(arr[int(len(arr) //2)])\n",
    "\n",
    "N = int(sys.stdin.readline().strip())\n",
    "arr = []\n",
    "for i in range(N):\n",
    "#    n = int(input())\n",
    "    n = sys.stdin.readline().strip()\n",
    "    bisect.insort(arr, n)\n",
    "    median(arr)"
   ]
  },
  {
   "cell_type": "code",
   "execution_count": null,
   "metadata": {},
   "outputs": [],
   "source": [
    "# 시간 초과\n",
    "# 4) 중앙값 함수를 제거하고, insort는 자동으로 정렬이 되기까, 해당 함수를 사용함 시간초과\n",
    "\n",
    "import sys \n",
    "import bisect \n",
    "# input = sys.stdin.readline\n",
    "n = int(input().rstrip()) \n",
    "x = []\n",
    "\n",
    "answers = [] \n",
    "for _ in range(n): \n",
    "    bisect.insort(x, int(input().rstrip())) \n",
    "    if(len(x) % 2 == 0): \n",
    "        answers.append(x[int(len(x)/2)-1]) \n",
    "    else: \n",
    "        answers.append(x[int(len(x)/2)]) \n",
    "for a in answers: \n",
    "    print(a)\n"
   ]
  },
  {
   "cell_type": "code",
   "execution_count": null,
   "metadata": {},
   "outputs": [],
   "source": [
    "# 시간 초과\n",
    "# 5) insort를 사용해서 중앙값 기준 letf arr과 right arr를 생성하여 left arr의 제일 뒤를 리턴해주는 코드 작성, letf의 맨뒤 원소와 right의 맨앞 원소를 비교하는 형식\n",
    "\n",
    "import sys\n",
    "import bisect\n",
    "\n",
    "N = int(input())\n",
    "\n",
    "left_arr = []\n",
    "right_arr = []\n",
    "n = int(input())\n",
    "# n = sys.stdin.readline().strip()\n",
    "bisect.insort(left_arr, n)\n",
    "print(left_arr[-1])\n",
    "\n",
    "\n",
    "for _ in range(N - 1):\n",
    "    n = int(input())\n",
    "    # n = sys.stdin.readline().strip()\n",
    "    if len(left_arr) == len(right_arr):\n",
    "        bisect.insort(left_arr, n)\n",
    "    else:\n",
    "        bisect.insort(right_arr, n)\n",
    "    \n",
    "        \n",
    "    if left_arr[-1] > right_arr[0]:\n",
    "        max_v = left_arr.pop(-1)\n",
    "        min_v = right_arr.pop(0)\n",
    "        \n",
    "        bisect.insort(left_arr, min_v)\n",
    "        bisect.insort(right_arr, max_v)\n",
    "        print(left_arr[-1])\n",
    "    else:\n",
    "        print(left_arr[-1])"
   ]
  }
 ],
 "metadata": {
  "kernelspec": {
   "display_name": "Python 3",
   "language": "python",
   "name": "python3"
  },
  "language_info": {
   "codemirror_mode": {
    "name": "ipython",
    "version": 3
   },
   "file_extension": ".py",
   "mimetype": "text/x-python",
   "name": "python",
   "nbconvert_exporter": "python",
   "pygments_lexer": "ipython3",
   "version": "3.8.3"
  }
 },
 "nbformat": 4,
 "nbformat_minor": 4
}
