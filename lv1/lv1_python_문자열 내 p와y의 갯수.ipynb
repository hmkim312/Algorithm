{
 "cells": [
  {
   "cell_type": "markdown",
   "metadata": {},
   "source": [
    "### 문자열 내 p와 y의 갯수\n",
    "- 문제 설명\n",
    "    - 대문자와 소문자가 섞여있는 문자열 s가 주어집니다. \n",
    "    - s에 'p'의 개수와 'y'의 개수를 비교해 같으면 True, 다르면 False를 return 하는 solution를 완성하세요. \n",
    "    - 'p', 'y' 모두 하나도 없는 경우는 항상 True를 리턴합니다. \n",
    "    - 단, 개수를 비교할 때 대문자와 소문자는 구별하지 않습니다.\n",
    "    - 예를 들어 s가 pPoooyY면 true를 return하고 Pyy라면 false를 return합니다.\n",
    "\n",
    "- 제한사항\n",
    "    - 문자열 s의 길이 : 50 이하의 자연수\n",
    "    - 문자열 s는 알파벳으로만 이루어져 있습니다."
   ]
  },
  {
   "cell_type": "code",
   "execution_count": 1,
   "metadata": {
    "execution": {
     "iopub.execute_input": "2020-06-24T08:05:56.700539Z",
     "iopub.status.busy": "2020-06-24T08:05:56.699542Z",
     "iopub.status.idle": "2020-06-24T08:05:56.703530Z",
     "shell.execute_reply": "2020-06-24T08:05:56.703530Z",
     "shell.execute_reply.started": "2020-06-24T08:05:56.700539Z"
    }
   },
   "outputs": [],
   "source": [
    "s = 'pPyYypPyYypPyYypPyYypPyYypPyYypPyYypPyYypPyYypPyYypPyYypPyYypPyYypPyYypPyYypPyYy'"
   ]
  },
  {
   "cell_type": "code",
   "execution_count": 2,
   "metadata": {
    "execution": {
     "iopub.execute_input": "2020-06-24T08:05:57.701728Z",
     "iopub.status.busy": "2020-06-24T08:05:57.700730Z",
     "iopub.status.idle": "2020-06-24T08:05:57.712692Z",
     "shell.execute_reply": "2020-06-24T08:05:57.710663Z",
     "shell.execute_reply.started": "2020-06-24T08:05:57.701728Z"
    }
   },
   "outputs": [],
   "source": [
    "def solution(s):\n",
    "    import re\n",
    "    import string\n",
    "    answer = len(re.findall('[p,P]', s)) == len(re.findall('[y,Y]', s))\n",
    "\n",
    "    return answer"
   ]
  },
  {
   "cell_type": "code",
   "execution_count": 3,
   "metadata": {
    "execution": {
     "iopub.execute_input": "2020-06-24T08:05:57.716650Z",
     "iopub.status.busy": "2020-06-24T08:05:57.716650Z",
     "iopub.status.idle": "2020-06-24T08:05:57.735601Z",
     "shell.execute_reply": "2020-06-24T08:05:57.733652Z",
     "shell.execute_reply.started": "2020-06-24T08:05:57.716650Z"
    }
   },
   "outputs": [
    {
     "data": {
      "text/plain": [
       "False"
      ]
     },
     "execution_count": 3,
     "metadata": {},
     "output_type": "execute_result"
    }
   ],
   "source": [
    "solution(s)"
   ]
  },
  {
   "cell_type": "code",
   "execution_count": 4,
   "metadata": {
    "execution": {
     "iopub.execute_input": "2020-06-24T08:05:57.739583Z",
     "iopub.status.busy": "2020-06-24T08:05:57.738586Z",
     "iopub.status.idle": "2020-06-24T08:05:57.745568Z",
     "shell.execute_reply": "2020-06-24T08:05:57.744570Z",
     "shell.execute_reply.started": "2020-06-24T08:05:57.739583Z"
    }
   },
   "outputs": [],
   "source": [
    "# 조금더 바꾸어서\n",
    "\n",
    "def solution(s):\n",
    "    import re\n",
    "    return len(re.findall('[p,P]', s)) == len(re.findall('[y,Y]', s))"
   ]
  },
  {
   "cell_type": "code",
   "execution_count": 5,
   "metadata": {
    "execution": {
     "iopub.execute_input": "2020-06-24T08:05:57.747596Z",
     "iopub.status.busy": "2020-06-24T08:05:57.746564Z",
     "iopub.status.idle": "2020-06-24T08:05:57.751574Z",
     "shell.execute_reply": "2020-06-24T08:05:57.751574Z",
     "shell.execute_reply.started": "2020-06-24T08:05:57.747596Z"
    }
   },
   "outputs": [
    {
     "data": {
      "text/plain": [
       "False"
      ]
     },
     "execution_count": 5,
     "metadata": {},
     "output_type": "execute_result"
    }
   ],
   "source": [
    "solution(s)"
   ]
  },
  {
   "cell_type": "code",
   "execution_count": null,
   "metadata": {},
   "outputs": [],
   "source": []
  }
 ],
 "metadata": {
  "kernelspec": {
   "display_name": "Python 3",
   "language": "python",
   "name": "python3"
  },
  "language_info": {
   "codemirror_mode": {
    "name": "ipython",
    "version": 3
   },
   "file_extension": ".py",
   "mimetype": "text/x-python",
   "name": "python",
   "nbconvert_exporter": "python",
   "pygments_lexer": "ipython3",
   "version": "3.8.3"
  }
 },
 "nbformat": 4,
 "nbformat_minor": 4
}
