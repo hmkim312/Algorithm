{
 "cells": [
  {
   "cell_type": "markdown",
   "metadata": {},
   "source": [
    "#### 최대공약수와 최소공배수\n",
    "- 문제 설명\n",
    "    - 두 수를 입력받아 두 수의 최대공약수와 최소공배수를 반환하는 함수, solution을 완성해 보세요. 배열의 맨 앞에 최대공약수, 그다음 최소공배수를 넣어 반환하면 됩니다. 예를 들어 두 수 3, 12의 최대공약수는 3, 최소공배수는 12이므로 solution(3, 12)는 [3, 12]를 반환해야 합니다.\n",
    "\n",
    "- 제한 사항\n",
    "    - 두 수는 1이상 1000000이하의 자연수입니다."
   ]
  },
  {
   "cell_type": "code",
   "execution_count": 1,
   "metadata": {
    "execution": {
     "iopub.execute_input": "2020-06-26T05:59:56.840698Z",
     "iopub.status.busy": "2020-06-26T05:59:56.840698Z",
     "iopub.status.idle": "2020-06-26T05:59:56.843664Z",
     "shell.execute_reply": "2020-06-26T05:59:56.843664Z",
     "shell.execute_reply.started": "2020-06-26T05:59:56.840698Z"
    }
   },
   "outputs": [],
   "source": [
    "n = 2\n",
    "m = 5"
   ]
  },
  {
   "cell_type": "code",
   "execution_count": 2,
   "metadata": {
    "execution": {
     "iopub.execute_input": "2020-06-26T06:04:29.254234Z",
     "iopub.status.busy": "2020-06-26T06:04:29.253237Z",
     "iopub.status.idle": "2020-06-26T06:04:29.257264Z",
     "shell.execute_reply": "2020-06-26T06:04:29.257264Z",
     "shell.execute_reply.started": "2020-06-26T06:04:29.254234Z"
    }
   },
   "outputs": [],
   "source": [
    "import math"
   ]
  },
  {
   "cell_type": "code",
   "execution_count": 4,
   "metadata": {
    "execution": {
     "iopub.execute_input": "2020-06-26T06:04:45.185499Z",
     "iopub.status.busy": "2020-06-26T06:04:45.185499Z",
     "iopub.status.idle": "2020-06-26T06:04:45.190484Z",
     "shell.execute_reply": "2020-06-26T06:04:45.190484Z",
     "shell.execute_reply.started": "2020-06-26T06:04:45.185499Z"
    }
   },
   "outputs": [
    {
     "data": {
      "text/plain": [
       "1"
      ]
     },
     "execution_count": 4,
     "metadata": {},
     "output_type": "execute_result"
    }
   ],
   "source": [
    "# 최대 공약수\n",
    "math.gcd(n,m)"
   ]
  },
  {
   "cell_type": "code",
   "execution_count": 5,
   "metadata": {
    "execution": {
     "iopub.execute_input": "2020-06-26T06:06:36.720555Z",
     "iopub.status.busy": "2020-06-26T06:06:36.720555Z",
     "iopub.status.idle": "2020-06-26T06:06:36.726511Z",
     "shell.execute_reply": "2020-06-26T06:06:36.726511Z",
     "shell.execute_reply.started": "2020-06-26T06:06:36.720555Z"
    }
   },
   "outputs": [
    {
     "data": {
      "text/plain": [
       "10"
      ]
     },
     "execution_count": 5,
     "metadata": {},
     "output_type": "execute_result"
    }
   ],
   "source": [
    "# 최소공배수\n",
    "n * m // math.gcd(n,m)"
   ]
  },
  {
   "cell_type": "code",
   "execution_count": 6,
   "metadata": {
    "execution": {
     "iopub.execute_input": "2020-06-26T06:07:28.565359Z",
     "iopub.status.busy": "2020-06-26T06:07:28.565359Z",
     "iopub.status.idle": "2020-06-26T06:07:28.570360Z",
     "shell.execute_reply": "2020-06-26T06:07:28.569369Z",
     "shell.execute_reply.started": "2020-06-26T06:07:28.565359Z"
    }
   },
   "outputs": [],
   "source": [
    "import math\n",
    "def solution(n, m):\n",
    "    answer = []\n",
    "    # 최대 공약수\n",
    "    answer.append(math.gcd(n,m))\n",
    "    # 최소공배수\n",
    "    answer.append(n * m // math.gcd(n,m))\n",
    "    return answer"
   ]
  },
  {
   "cell_type": "code",
   "execution_count": 7,
   "metadata": {
    "execution": {
     "iopub.execute_input": "2020-06-26T06:07:33.145616Z",
     "iopub.status.busy": "2020-06-26T06:07:33.145616Z",
     "iopub.status.idle": "2020-06-26T06:07:33.150603Z",
     "shell.execute_reply": "2020-06-26T06:07:33.150603Z",
     "shell.execute_reply.started": "2020-06-26T06:07:33.145616Z"
    }
   },
   "outputs": [
    {
     "data": {
      "text/plain": [
       "[1, 10]"
      ]
     },
     "execution_count": 7,
     "metadata": {},
     "output_type": "execute_result"
    }
   ],
   "source": [
    "solution(n, m)"
   ]
  },
  {
   "cell_type": "code",
   "execution_count": null,
   "metadata": {},
   "outputs": [],
   "source": []
  }
 ],
 "metadata": {
  "kernelspec": {
   "display_name": "Python 3",
   "language": "python",
   "name": "python3"
  },
  "language_info": {
   "codemirror_mode": {
    "name": "ipython",
    "version": 3
   },
   "file_extension": ".py",
   "mimetype": "text/x-python",
   "name": "python",
   "nbconvert_exporter": "python",
   "pygments_lexer": "ipython3",
   "version": "3.8.3"
  }
 },
 "nbformat": 4,
 "nbformat_minor": 4
}
