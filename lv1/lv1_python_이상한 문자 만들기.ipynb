{
 "cells": [
  {
   "cell_type": "markdown",
   "metadata": {},
   "source": [
    "#### 이상한 문자 만들기\n",
    "- 문제 설명\n",
    "    - 문자열 s는 한 개 이상의 단어로 구성되어 있습니다. 각 단어는 하나 이상의 공백문자로 구분되어 있습니다. 각 단어의 짝수번째 알파벳은 대문자로, 홀수번째 알파벳은 소문자로 바꾼 문자열을 리턴하는 함수, solution을 완성하세요.\n",
    "\n",
    "- 제한 사항\n",
    "    - 문자열 전체의 짝/홀수 인덱스가 아니라, 단어(공백을 기준)별로 짝/홀수 인덱스를 판단해야합니다.\n",
    "    - 첫 번째 글자는 0번째 인덱스로 보아 짝수번째 알파벳으로 처리해야 합니다."
   ]
  },
  {
   "cell_type": "code",
   "execution_count": 90,
   "metadata": {
    "execution": {
     "iopub.execute_input": "2020-06-25T13:57:30.507411Z",
     "iopub.status.busy": "2020-06-25T13:57:30.507411Z",
     "iopub.status.idle": "2020-06-25T13:57:30.511400Z",
     "shell.execute_reply": "2020-06-25T13:57:30.511400Z",
     "shell.execute_reply.started": "2020-06-25T13:57:30.507411Z"
    }
   },
   "outputs": [],
   "source": [
    "s = 'try hello world'"
   ]
  },
  {
   "cell_type": "code",
   "execution_count": 91,
   "metadata": {
    "execution": {
     "iopub.execute_input": "2020-06-25T13:57:30.719322Z",
     "iopub.status.busy": "2020-06-25T13:57:30.719322Z",
     "iopub.status.idle": "2020-06-25T13:57:30.724308Z",
     "shell.execute_reply": "2020-06-25T13:57:30.724308Z",
     "shell.execute_reply.started": "2020-06-25T13:57:30.719322Z"
    }
   },
   "outputs": [
    {
     "data": {
      "text/plain": [
       "['try', 'hello', 'world']"
      ]
     },
     "execution_count": 91,
     "metadata": {},
     "output_type": "execute_result"
    }
   ],
   "source": [
    "ss = s.split(' ')\n",
    "ss"
   ]
  },
  {
   "cell_type": "code",
   "execution_count": 92,
   "metadata": {
    "execution": {
     "iopub.execute_input": "2020-06-25T13:57:31.091292Z",
     "iopub.status.busy": "2020-06-25T13:57:31.090295Z",
     "iopub.status.idle": "2020-06-25T13:57:31.110242Z",
     "shell.execute_reply": "2020-06-25T13:57:31.108252Z",
     "shell.execute_reply.started": "2020-06-25T13:57:31.090295Z"
    }
   },
   "outputs": [
    {
     "data": {
      "text/plain": [
       "'TrY HeLlO WoRlD '"
      ]
     },
     "execution_count": 92,
     "metadata": {},
     "output_type": "execute_result"
    }
   ],
   "source": [
    "ss = s.split(' ')\n",
    "answer = ''\n",
    "for i in range(len(ss)):\n",
    "    string = ''\n",
    "    for k in range(0, len(ss[i])):\n",
    "        if k % 2 == 0:\n",
    "            string += ss[i][k].upper()\n",
    "        else :\n",
    "            string += ss[i][k].lower()\n",
    "    answer += string + ' '\n",
    "answer"
   ]
  },
  {
   "cell_type": "code",
   "execution_count": 93,
   "metadata": {
    "execution": {
     "iopub.execute_input": "2020-06-25T13:57:31.912586Z",
     "iopub.status.busy": "2020-06-25T13:57:31.911574Z",
     "iopub.status.idle": "2020-06-25T13:57:31.916587Z",
     "shell.execute_reply": "2020-06-25T13:57:31.916587Z",
     "shell.execute_reply.started": "2020-06-25T13:57:31.912586Z"
    }
   },
   "outputs": [],
   "source": [
    "def solution(s):\n",
    "    ss = s.split(' ')\n",
    "    answer = ''\n",
    "    for i in range(len(ss)):\n",
    "        string = ''\n",
    "        for k in range(0, len(ss[i])):\n",
    "            if k % 2 == 0:\n",
    "                string += ss[i][k].upper()\n",
    "            else :\n",
    "                string += ss[i][k].lower()\n",
    "        answer += string + ' '\n",
    "    answer = answer[:-1]\n",
    "    return answer"
   ]
  },
  {
   "cell_type": "code",
   "execution_count": 89,
   "metadata": {
    "execution": {
     "iopub.execute_input": "2020-06-25T13:56:45.557781Z",
     "iopub.status.busy": "2020-06-25T13:56:45.556782Z",
     "iopub.status.idle": "2020-06-25T13:56:45.560798Z",
     "shell.execute_reply": "2020-06-25T13:56:45.560798Z",
     "shell.execute_reply.started": "2020-06-25T13:56:45.556782Z"
    }
   },
   "outputs": [
    {
     "data": {
      "text/plain": [
       "'TrY HeLlO WoRlD'"
      ]
     },
     "execution_count": 89,
     "metadata": {},
     "output_type": "execute_result"
    }
   ],
   "source": [
    "solution(s)"
   ]
  },
  {
   "cell_type": "code",
   "execution_count": null,
   "metadata": {},
   "outputs": [],
   "source": []
  }
 ],
 "metadata": {
  "kernelspec": {
   "display_name": "Python 3",
   "language": "python",
   "name": "python3"
  },
  "language_info": {
   "codemirror_mode": {
    "name": "ipython",
    "version": 3
   },
   "file_extension": ".py",
   "mimetype": "text/x-python",
   "name": "python",
   "nbconvert_exporter": "python",
   "pygments_lexer": "ipython3",
   "version": "3.7.6"
  }
 },
 "nbformat": 4,
 "nbformat_minor": 4
}
