{
 "cells": [
  {
   "cell_type": "markdown",
   "metadata": {},
   "source": [
    "#### 정수 제곱근 판별\n",
    "- 문제 설명\n",
    "    - 임의의 양의 정수 n에 대해, n이 어떤 양의 정수 x의 제곱인지 아닌지 판단하려 합니다.\n",
    "    - n이 양의 정수 x의 제곱이라면 x+1의 제곱을 리턴하고, n이 양의 정수 x의 제곱이 아니라면 -1을 리턴하는 함수를 완성하세요.\n",
    "\n",
    "- 제한 사항\n",
    "    - n은 1이상, 50000000000000 이하인 양의 정수입니다."
   ]
  },
  {
   "cell_type": "code",
   "execution_count": 9,
   "metadata": {
    "execution": {
     "iopub.execute_input": "2020-06-26T05:49:29.725127Z",
     "iopub.status.busy": "2020-06-26T05:49:29.725127Z",
     "iopub.status.idle": "2020-06-26T05:49:29.729118Z",
     "shell.execute_reply": "2020-06-26T05:49:29.729118Z",
     "shell.execute_reply.started": "2020-06-26T05:49:29.725127Z"
    }
   },
   "outputs": [],
   "source": [
    "n =515"
   ]
  },
  {
   "cell_type": "code",
   "execution_count": 15,
   "metadata": {
    "execution": {
     "iopub.execute_input": "2020-06-26T05:51:17.421398Z",
     "iopub.status.busy": "2020-06-26T05:51:17.421398Z",
     "iopub.status.idle": "2020-06-26T05:51:17.428377Z",
     "shell.execute_reply": "2020-06-26T05:51:17.427381Z",
     "shell.execute_reply.started": "2020-06-26T05:51:17.421398Z"
    },
    "scrolled": true
   },
   "outputs": [
    {
     "name": "stdout",
     "output_type": "stream",
     "text": [
      "0.0\n",
      "1.0\n",
      "1.4142135623730951\n",
      "1.7320508075688772\n",
      "2.0\n",
      "2.23606797749979\n",
      "2.449489742783178\n",
      "2.6457513110645907\n",
      "2.8284271247461903\n",
      "3.0\n",
      "3.1622776601683795\n",
      "3.3166247903554\n",
      "3.4641016151377544\n",
      "3.605551275463989\n",
      "3.7416573867739413\n",
      "3.872983346207417\n",
      "4.0\n",
      "4.123105625617661\n",
      "4.242640687119285\n",
      "4.358898943540674\n",
      "4.47213595499958\n",
      "4.58257569495584\n",
      "4.69041575982343\n",
      "4.795831523312719\n",
      "4.898979485566356\n",
      "5.0\n",
      "5.0990195135927845\n",
      "5.196152422706632\n",
      "5.291502622129181\n",
      "5.385164807134504\n",
      "5.477225575051661\n",
      "5.5677643628300215\n",
      "5.656854249492381\n",
      "5.744562646538029\n",
      "5.830951894845301\n",
      "5.916079783099616\n",
      "6.0\n",
      "6.082762530298219\n",
      "6.164414002968976\n",
      "6.244997998398398\n",
      "6.324555320336759\n",
      "6.4031242374328485\n",
      "6.48074069840786\n",
      "6.557438524302\n",
      "6.6332495807108\n",
      "6.708203932499369\n",
      "6.782329983125268\n",
      "6.855654600401044\n",
      "6.928203230275509\n",
      "7.0\n",
      "7.0710678118654755\n",
      "7.14142842854285\n",
      "7.211102550927978\n",
      "7.280109889280518\n",
      "7.3484692283495345\n",
      "7.416198487095663\n",
      "7.483314773547883\n",
      "7.54983443527075\n",
      "7.615773105863909\n",
      "7.681145747868608\n",
      "7.745966692414834\n",
      "7.810249675906654\n",
      "7.874007874011811\n",
      "7.937253933193772\n",
      "8.0\n",
      "8.06225774829855\n",
      "8.12403840463596\n",
      "8.18535277187245\n",
      "8.246211251235321\n",
      "8.306623862918075\n",
      "8.366600265340756\n",
      "8.426149773176359\n",
      "8.48528137423857\n",
      "8.54400374531753\n",
      "8.602325267042627\n",
      "8.660254037844387\n",
      "8.717797887081348\n",
      "8.774964387392123\n",
      "8.831760866327848\n",
      "8.888194417315589\n",
      "8.94427190999916\n",
      "9.0\n",
      "9.055385138137417\n",
      "9.1104335791443\n",
      "9.16515138991168\n",
      "9.219544457292887\n",
      "9.273618495495704\n",
      "9.327379053088816\n",
      "9.38083151964686\n",
      "9.433981132056603\n",
      "9.486832980505138\n",
      "9.539392014169456\n",
      "9.591663046625438\n",
      "9.643650760992955\n",
      "9.695359714832659\n",
      "9.746794344808963\n",
      "9.797958971132712\n",
      "9.848857801796104\n",
      "9.899494936611665\n",
      "9.9498743710662\n"
     ]
    }
   ],
   "source": [
    "for i in range(0,100):\n",
    "    print(math.sqrt(i))"
   ]
  },
  {
   "cell_type": "code",
   "execution_count": 29,
   "metadata": {
    "execution": {
     "iopub.execute_input": "2020-06-26T05:55:16.260263Z",
     "iopub.status.busy": "2020-06-26T05:55:16.260263Z",
     "iopub.status.idle": "2020-06-26T05:55:16.267233Z",
     "shell.execute_reply": "2020-06-26T05:55:16.266236Z",
     "shell.execute_reply.started": "2020-06-26T05:55:16.260263Z"
    }
   },
   "outputs": [
    {
     "data": {
      "text/plain": [
       "False"
      ]
     },
     "execution_count": 29,
     "metadata": {},
     "output_type": "execute_result"
    }
   ],
   "source": [
    "import math\n",
    "n = 515\n",
    "a = int(math.sqrt(n))\n",
    "a * a == n"
   ]
  },
  {
   "cell_type": "code",
   "execution_count": 30,
   "metadata": {
    "execution": {
     "iopub.execute_input": "2020-06-26T05:55:29.796676Z",
     "iopub.status.busy": "2020-06-26T05:55:29.795676Z",
     "iopub.status.idle": "2020-06-26T05:55:29.801667Z",
     "shell.execute_reply": "2020-06-26T05:55:29.801667Z",
     "shell.execute_reply.started": "2020-06-26T05:55:29.796676Z"
    }
   },
   "outputs": [
    {
     "data": {
      "text/plain": [
       "True"
      ]
     },
     "execution_count": 30,
     "metadata": {},
     "output_type": "execute_result"
    }
   ],
   "source": [
    "import math\n",
    "n = 144\n",
    "a = int(math.sqrt(n))\n",
    "a * a == n"
   ]
  },
  {
   "cell_type": "code",
   "execution_count": 31,
   "metadata": {
    "execution": {
     "iopub.execute_input": "2020-06-26T05:55:30.592442Z",
     "iopub.status.busy": "2020-06-26T05:55:30.592442Z",
     "iopub.status.idle": "2020-06-26T05:55:30.596397Z",
     "shell.execute_reply": "2020-06-26T05:55:30.596397Z",
     "shell.execute_reply.started": "2020-06-26T05:55:30.592442Z"
    }
   },
   "outputs": [],
   "source": [
    "import math\n",
    "\n",
    "\n",
    "def solution(n):\n",
    "    a = int(math.sqrt(n))\n",
    "    if a * a == n:\n",
    "        return (a + 1) * (a+1)\n",
    "    else:\n",
    "        return -1"
   ]
  },
  {
   "cell_type": "code",
   "execution_count": 27,
   "metadata": {
    "execution": {
     "iopub.execute_input": "2020-06-26T05:55:04.265837Z",
     "iopub.status.busy": "2020-06-26T05:55:04.264839Z",
     "iopub.status.idle": "2020-06-26T05:55:04.269826Z",
     "shell.execute_reply": "2020-06-26T05:55:04.269826Z",
     "shell.execute_reply.started": "2020-06-26T05:55:04.265837Z"
    }
   },
   "outputs": [
    {
     "data": {
      "text/plain": [
       "-1"
      ]
     },
     "execution_count": 27,
     "metadata": {},
     "output_type": "execute_result"
    }
   ],
   "source": [
    "n= 515\n",
    "solution(n)"
   ]
  },
  {
   "cell_type": "code",
   "execution_count": 28,
   "metadata": {
    "execution": {
     "iopub.execute_input": "2020-06-26T05:55:09.093991Z",
     "iopub.status.busy": "2020-06-26T05:55:09.093991Z",
     "iopub.status.idle": "2020-06-26T05:55:09.098977Z",
     "shell.execute_reply": "2020-06-26T05:55:09.098977Z",
     "shell.execute_reply.started": "2020-06-26T05:55:09.093991Z"
    }
   },
   "outputs": [
    {
     "data": {
      "text/plain": [
       "169"
      ]
     },
     "execution_count": 28,
     "metadata": {},
     "output_type": "execute_result"
    }
   ],
   "source": [
    "n= 144\n",
    "solution(n)"
   ]
  },
  {
   "cell_type": "code",
   "execution_count": null,
   "metadata": {},
   "outputs": [],
   "source": []
  }
 ],
 "metadata": {
  "kernelspec": {
   "display_name": "Python 3",
   "language": "python",
   "name": "python3"
  },
  "language_info": {
   "codemirror_mode": {
    "name": "ipython",
    "version": 3
   },
   "file_extension": ".py",
   "mimetype": "text/x-python",
   "name": "python",
   "nbconvert_exporter": "python",
   "pygments_lexer": "ipython3",
   "version": "3.7.6"
  }
 },
 "nbformat": 4,
 "nbformat_minor": 4
}
