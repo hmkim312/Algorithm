{
 "cells": [
  {
   "cell_type": "markdown",
   "metadata": {},
   "source": [
    "URL <https://programmers.co.kr/learn/courses/30/lessons/1845>{:target=\"_blank\"}\n",
    "\n",
    "#### 문제 설명\n",
    "- 당신은 폰켓몬을 잡기 위한 오랜 여행 끝에, 홍 박사님의 연구실에 도착했습니다. 홍 박사님은 당신에게 자신의 연구실에 있는 총 N 마리의 폰켓몬 중에서 N/2마리를 가져가도 좋다고 했습니다.\n",
    "- 홍 박사님 연구실의 폰켓몬은 종류에 따라 번호를 붙여 구분합니다. 따라서 같은 종류의 폰켓몬은 같은 번호를 가지고 있습니다. 예를 들어 연구실에 총 4마리의 폰켓몬이 있고, 각 폰켓몬의 종류 번호가 [3번, 1번, 2번, 3번]이라면 이는 3번 폰켓몬 두 마리, 1번 폰켓몬 한 마리, 2번 폰켓몬 한 마리가 있음을 나타냅니다. 이때, 4마리의 폰켓몬 중 2마리를 고르는 방법은 다음과 같이 6가지가 있습니다.\n",
    "\n",
    "    - 첫 번째(3번), 두 번째(1번) 폰켓몬을 선택\n",
    "    - 첫 번째(3번), 세 번째(2번) 폰켓몬을 선택\n",
    "    - 첫 번째(3번), 네 번째(3번) 폰켓몬을 선택\n",
    "    - 두 번째(1번), 세 번째(2번) 폰켓몬을 선택\n",
    "    - 두 번째(1번), 네 번째(3번) 폰켓몬을 선택\n",
    "    - 세 번째(2번), 네 번째(3번) 폰켓몬을 선택\n",
    "- 이때, 첫 번째(3번) 폰켓몬과 네 번째(3번) 폰켓몬을 선택하는 방법은 한 종류(3번 폰켓몬 두 마리)의 폰켓몬만 가질 수 있지만, 다른 방법들은 모두 두 종류의 폰켓몬을 가질 수 있습니다. 따라서 위 예시에서 가질 수 있는 폰켓몬 종류 수의 최댓값은 2가 됩니다.\n",
    "- 당신은 최대한 다양한 종류의 폰켓몬을 가지길 원하기 때문에, 최대한 많은 종류의 폰켓몬을 포함해서 N/2마리를 선택하려 합니다. N마리 폰켓몬의 종류 번호가 담긴 배열 nums가 매개변수로 주어질 때, N/2마리의 폰켓몬을 선택하는 방법 중, 가장 많은 종류의 폰켓몬을 선택하는 방법을 찾아, 그때의 폰켓몬 종류 번호의 개수를 return 하도록 solution 함수를 완성해주세요.\n",
    "\n",
    "#### 제한 사항\n",
    "- nums는 폰켓몬의 종류 번호가 담긴 1차원 배열입니다.\n",
    "- nums의 길이(N)는 1 이상 10,000 이하의 자연수이며, 항상 짝수로 주어집니다.\n",
    "- 폰켓몬의 종류 번호는 1 이상 200,000 이하의 자연수로 나타냅니다.\n",
    "- 가장 많은 종류의 폰켓몬을 선택하는 방법이 여러 가지인 경우에도, 선택할 수 있는 폰켓몬 종류 개수의 최댓값 하나만 return 하면 됩니다.\n",
    "\n",
    "#### 문제 풀이\n",
    "- 선택할수 있는 폰켓몬의 수가 몇개인지 확인하면된다.\n",
    "- 일단 N (nums / 2)보다 더 가져갈수 없다고 했으니 최대치는 N일것이다.\n",
    "- 그렇다면 중복된 nums가 많아서 N보다 미만일때를 생각하면 된다.\n",
    "- for문과 not in으로 쉽게 해결"
   ]
  },
  {
   "cell_type": "code",
   "execution_count": 32,
   "metadata": {
    "execution": {
     "iopub.execute_input": "2021-03-15T00:44:16.070515Z",
     "iopub.status.busy": "2021-03-15T00:44:16.070296Z",
     "iopub.status.idle": "2021-03-15T00:44:16.074828Z",
     "shell.execute_reply": "2021-03-15T00:44:16.074133Z",
     "shell.execute_reply.started": "2021-03-15T00:44:16.070492Z"
    }
   },
   "outputs": [],
   "source": [
    "def solution(nums):\n",
    "    n = int(len(nums) / 2)\n",
    "    new_nums = list(set(nums))\n",
    "    phoneketmonts = []\n",
    "    \n",
    "    for phoneketmont in new_nums:\n",
    "        if phoneketmont not in phoneketmonts:\n",
    "            phoneketmonts.append(phoneketmont)\n",
    "        if len(phoneketmonts) == n:\n",
    "            break\n",
    "    return len(phoneketmonts)"
   ]
  },
  {
   "cell_type": "code",
   "execution_count": 33,
   "metadata": {
    "execution": {
     "iopub.execute_input": "2021-03-15T00:44:16.213387Z",
     "iopub.status.busy": "2021-03-15T00:44:16.213175Z",
     "iopub.status.idle": "2021-03-15T00:44:16.217426Z",
     "shell.execute_reply": "2021-03-15T00:44:16.216871Z",
     "shell.execute_reply.started": "2021-03-15T00:44:16.213364Z"
    }
   },
   "outputs": [
    {
     "data": {
      "text/plain": [
       "2"
      ]
     },
     "execution_count": 33,
     "metadata": {},
     "output_type": "execute_result"
    }
   ],
   "source": [
    "nums = [3,1,2,3]\n",
    "solution(nums)"
   ]
  },
  {
   "cell_type": "code",
   "execution_count": 34,
   "metadata": {
    "execution": {
     "iopub.execute_input": "2021-03-15T00:44:16.399815Z",
     "iopub.status.busy": "2021-03-15T00:44:16.399609Z",
     "iopub.status.idle": "2021-03-15T00:44:16.403846Z",
     "shell.execute_reply": "2021-03-15T00:44:16.403349Z",
     "shell.execute_reply.started": "2021-03-15T00:44:16.399793Z"
    }
   },
   "outputs": [
    {
     "data": {
      "text/plain": [
       "2"
      ]
     },
     "execution_count": 34,
     "metadata": {},
     "output_type": "execute_result"
    }
   ],
   "source": [
    "nums = [3,3,3,2,2,2]\n",
    "solution(nums)"
   ]
  },
  {
   "cell_type": "code",
   "execution_count": 35,
   "metadata": {
    "execution": {
     "iopub.execute_input": "2021-03-15T00:44:16.599708Z",
     "iopub.status.busy": "2021-03-15T00:44:16.599499Z",
     "iopub.status.idle": "2021-03-15T00:44:16.603823Z",
     "shell.execute_reply": "2021-03-15T00:44:16.603166Z",
     "shell.execute_reply.started": "2021-03-15T00:44:16.599685Z"
    }
   },
   "outputs": [
    {
     "data": {
      "text/plain": [
       "3"
      ]
     },
     "execution_count": 35,
     "metadata": {},
     "output_type": "execute_result"
    }
   ],
   "source": [
    "nums = [3,3,3,2,2,4]\n",
    "solution(nums)"
   ]
  }
 ],
 "metadata": {
  "kernelspec": {
   "display_name": "Python 3",
   "language": "python",
   "name": "python3"
  },
  "language_info": {
   "codemirror_mode": {
    "name": "ipython",
    "version": 3
   },
   "file_extension": ".py",
   "mimetype": "text/x-python",
   "name": "python",
   "nbconvert_exporter": "python",
   "pygments_lexer": "ipython3",
   "version": "3.8.3"
  }
 },
 "nbformat": 4,
 "nbformat_minor": 4
}
