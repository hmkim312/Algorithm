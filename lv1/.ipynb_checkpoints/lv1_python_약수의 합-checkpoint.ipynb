{
 "cells": [
  {
   "cell_type": "markdown",
   "metadata": {},
   "source": [
    "#### 약수의 합\n",
    "- 문제 설명\n",
    "    - 정수 n을 입력받아 n의 약수를 모두 더한 값을 리턴하는 함수, solution을 완성해주세요.\n",
    "\n",
    "- 제한 사항\n",
    "    - n은 0 이상 3000이하인 정수입니다."
   ]
  },
  {
   "cell_type": "code",
   "execution_count": null,
   "metadata": {},
   "outputs": [],
   "source": [
    "n = 10\n",
    "factor = 0\n",
    "for i in range(1, n + 1):\n",
    "    if (n) % i == 0:\n",
    "        factor += i\n",
    "factor"
   ]
  },
  {
   "cell_type": "code",
   "execution_count": 24,
   "metadata": {
    "execution": {
     "iopub.execute_input": "2020-06-25T12:52:09.698457Z",
     "iopub.status.busy": "2020-06-25T12:52:09.698457Z",
     "iopub.status.idle": "2020-06-25T12:52:09.703443Z",
     "shell.execute_reply": "2020-06-25T12:52:09.703443Z",
     "shell.execute_reply.started": "2020-06-25T12:52:09.698457Z"
    }
   },
   "outputs": [],
   "source": [
    "def solution(n):\n",
    "    factor = 0\n",
    "    for i in range(1, n + 1):\n",
    "        if (n) % i == 0:\n",
    "            factor += i\n",
    "    return factor"
   ]
  },
  {
   "cell_type": "code",
   "execution_count": 25,
   "metadata": {
    "execution": {
     "iopub.execute_input": "2020-06-25T12:52:16.513036Z",
     "iopub.status.busy": "2020-06-25T12:52:16.513036Z",
     "iopub.status.idle": "2020-06-25T12:52:16.518022Z",
     "shell.execute_reply": "2020-06-25T12:52:16.518022Z",
     "shell.execute_reply.started": "2020-06-25T12:52:16.513036Z"
    }
   },
   "outputs": [
    {
     "data": {
      "text/plain": [
       "18"
      ]
     },
     "execution_count": 25,
     "metadata": {},
     "output_type": "execute_result"
    }
   ],
   "source": [
    "solution(10)"
   ]
  },
  {
   "cell_type": "code",
   "execution_count": null,
   "metadata": {},
   "outputs": [],
   "source": []
  }
 ],
 "metadata": {
  "kernelspec": {
   "display_name": "Python 3",
   "language": "python",
   "name": "python3"
  },
  "language_info": {
   "codemirror_mode": {
    "name": "ipython",
    "version": 3
   },
   "file_extension": ".py",
   "mimetype": "text/x-python",
   "name": "python",
   "nbconvert_exporter": "python",
   "pygments_lexer": "ipython3",
   "version": "3.7.6"
  }
 },
 "nbformat": 4,
 "nbformat_minor": 4
}
