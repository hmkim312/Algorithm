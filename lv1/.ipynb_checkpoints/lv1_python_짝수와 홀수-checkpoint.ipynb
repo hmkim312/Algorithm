{
 "cells": [
  {
   "cell_type": "markdown",
   "metadata": {},
   "source": [
    "### 짝수와 홀수\n",
    "- 정수 num이 짝수일 경우 Even을 반환하고 홀수인 경우 Odd를 반환하는 함수, solution을 완성해주세요.\n",
    "- 제한 조건\n",
    "- num은 int 범위의 정수입니다.\n",
    "- 0은 짝수입니다."
   ]
  },
  {
   "cell_type": "code",
   "execution_count": 1,
   "metadata": {
    "execution": {
     "iopub.execute_input": "2020-06-24T08:01:43.680513Z",
     "iopub.status.busy": "2020-06-24T08:01:43.680513Z",
     "iopub.status.idle": "2020-06-24T08:01:43.684475Z",
     "shell.execute_reply": "2020-06-24T08:01:43.684475Z",
     "shell.execute_reply.started": "2020-06-24T08:01:43.680513Z"
    }
   },
   "outputs": [],
   "source": [
    "def solution(num):\n",
    "    if num % 2 == 0:\n",
    "        return 'Even'\n",
    "    else:\n",
    "        return 'Odd'"
   ]
  },
  {
   "cell_type": "code",
   "execution_count": 2,
   "metadata": {
    "execution": {
     "iopub.execute_input": "2020-06-24T08:01:43.825698Z",
     "iopub.status.busy": "2020-06-24T08:01:43.825698Z",
     "iopub.status.idle": "2020-06-24T08:01:43.831687Z",
     "shell.execute_reply": "2020-06-24T08:01:43.831687Z",
     "shell.execute_reply.started": "2020-06-24T08:01:43.825698Z"
    }
   },
   "outputs": [
    {
     "data": {
      "text/plain": [
       "'Even'"
      ]
     },
     "execution_count": 2,
     "metadata": {},
     "output_type": "execute_result"
    }
   ],
   "source": [
    "solution(2)"
   ]
  },
  {
   "cell_type": "code",
   "execution_count": 3,
   "metadata": {
    "execution": {
     "iopub.execute_input": "2020-06-24T08:01:44.439727Z",
     "iopub.status.busy": "2020-06-24T08:01:44.438730Z",
     "iopub.status.idle": "2020-06-24T08:01:44.448746Z",
     "shell.execute_reply": "2020-06-24T08:01:44.446751Z",
     "shell.execute_reply.started": "2020-06-24T08:01:44.439727Z"
    }
   },
   "outputs": [],
   "source": [
    "def solution(num):\n",
    "    return'Even' if num % 2 == 0 else 'Odd'\n",
    "    answer"
   ]
  },
  {
   "cell_type": "code",
   "execution_count": 4,
   "metadata": {
    "execution": {
     "iopub.execute_input": "2020-06-24T08:01:44.451731Z",
     "iopub.status.busy": "2020-06-24T08:01:44.451731Z",
     "iopub.status.idle": "2020-06-24T08:01:44.461705Z",
     "shell.execute_reply": "2020-06-24T08:01:44.460705Z",
     "shell.execute_reply.started": "2020-06-24T08:01:44.451731Z"
    }
   },
   "outputs": [
    {
     "data": {
      "text/plain": [
       "'Even'"
      ]
     },
     "execution_count": 4,
     "metadata": {},
     "output_type": "execute_result"
    }
   ],
   "source": [
    "solution(2)"
   ]
  },
  {
   "cell_type": "code",
   "execution_count": null,
   "metadata": {},
   "outputs": [],
   "source": []
  }
 ],
 "metadata": {
  "kernelspec": {
   "display_name": "Python 3",
   "language": "python",
   "name": "python3"
  },
  "language_info": {
   "codemirror_mode": {
    "name": "ipython",
    "version": 3
   },
   "file_extension": ".py",
   "mimetype": "text/x-python",
   "name": "python",
   "nbconvert_exporter": "python",
   "pygments_lexer": "ipython3",
   "version": "3.7.6"
  }
 },
 "nbformat": 4,
 "nbformat_minor": 4
}
