{
 "cells": [
  {
   "cell_type": "markdown",
   "metadata": {
    "execution": {
     "iopub.execute_input": "2020-06-24T07:57:01.219594Z",
     "iopub.status.busy": "2020-06-24T07:57:01.219594Z",
     "iopub.status.idle": "2020-06-24T07:57:01.239534Z",
     "shell.execute_reply": "2020-06-24T07:57:01.235547Z",
     "shell.execute_reply.started": "2020-06-24T07:57:01.219594Z"
    }
   },
   "source": [
    "### 완주하지 못한 선수\n",
    "\n",
    "- 문제 설명\n",
    "    - 수많은 마라톤 선수들이 마라톤에 참여하였습니다. \n",
    "    - 단 한 명의 선수를 제외하고는 모든 선수가 마라톤을 완주하였습니다.\n",
    "    - 마라톤에 참여한 선수들의 이름이 담긴 배열 participant와 완주한 선수들의 이름이 담긴 배열 completion이 주어질 때, 완주하지 못한 선수의 이름을 return 하도록 solution 함수를 작성해주세요.\n",
    "\n",
    "- 제한사항\n",
    "    - 마라톤 경기에 참여한 선수의 수는 1명 이상 100,000명 이하입니다.\n",
    "    - completion의 길이는 participant의 길이보다 1 작습니다.\n",
    "    - 참가자의 이름은 1개 이상 20개 이하의 알파벳 소문자로 이루어져 있습니다.\n",
    "    - 참가자 중에는 동명이인이 있을 수 있습니다."
   ]
  },
  {
   "cell_type": "code",
   "execution_count": 6,
   "metadata": {
    "execution": {
     "iopub.execute_input": "2020-06-24T07:57:54.201403Z",
     "iopub.status.busy": "2020-06-24T07:57:54.200377Z",
     "iopub.status.idle": "2020-06-24T07:57:54.205363Z",
     "shell.execute_reply": "2020-06-24T07:57:54.205363Z",
     "shell.execute_reply.started": "2020-06-24T07:57:54.200377Z"
    }
   },
   "outputs": [],
   "source": [
    "participant = ['marina', 'josipa', 'nikola', 'vinko', 'filipa']\n",
    "completion = ['josipa', 'filipa', 'marina','vinko']"
   ]
  },
  {
   "cell_type": "code",
   "execution_count": 7,
   "metadata": {
    "execution": {
     "iopub.execute_input": "2020-06-24T07:57:54.206407Z",
     "iopub.status.busy": "2020-06-24T07:57:54.206407Z",
     "iopub.status.idle": "2020-06-24T07:57:54.211379Z",
     "shell.execute_reply": "2020-06-24T07:57:54.211379Z",
     "shell.execute_reply.started": "2020-06-24T07:57:54.206407Z"
    }
   },
   "outputs": [],
   "source": [
    "# participant : 참가자\n",
    "# completion : 완주자\n",
    "def solution(participant, completion):\n",
    "    participant.sort()\n",
    "    completion.sort()\n",
    "    for i,j in zip(participant,completion):\n",
    "        if i != j:\n",
    "            return (i)\n",
    "    return participant[-1]"
   ]
  },
  {
   "cell_type": "code",
   "execution_count": 8,
   "metadata": {
    "execution": {
     "iopub.execute_input": "2020-06-24T07:57:54.343255Z",
     "iopub.status.busy": "2020-06-24T07:57:54.343255Z",
     "iopub.status.idle": "2020-06-24T07:57:54.350210Z",
     "shell.execute_reply": "2020-06-24T07:57:54.350210Z",
     "shell.execute_reply.started": "2020-06-24T07:57:54.343255Z"
    }
   },
   "outputs": [
    {
     "data": {
      "text/plain": [
       "'nikola'"
      ]
     },
     "execution_count": 8,
     "metadata": {},
     "output_type": "execute_result"
    }
   ],
   "source": [
    "solution(participant, completion)"
   ]
  },
  {
   "cell_type": "code",
   "execution_count": null,
   "metadata": {},
   "outputs": [],
   "source": []
  }
 ],
 "metadata": {
  "kernelspec": {
   "display_name": "Python 3",
   "language": "python",
   "name": "python3"
  },
  "language_info": {
   "codemirror_mode": {
    "name": "ipython",
    "version": 3
   },
   "file_extension": ".py",
   "mimetype": "text/x-python",
   "name": "python",
   "nbconvert_exporter": "python",
   "pygments_lexer": "ipython3",
   "version": "3.7.6"
  }
 },
 "nbformat": 4,
 "nbformat_minor": 4
}
