{
 "cells": [
  {
   "cell_type": "markdown",
   "metadata": {},
   "source": [
    "#### 모의고사\n",
    "- 문제 설명\n",
    "    - 수포자는 수학을 포기한 사람의 준말입니다. 수포자 삼인방은 모의고사에 수학 문제를 전부 찍으려 합니다. 수포자는 1번 문제부터 마지막 문제까지 다음과 같이 찍습니다.\n",
    "\n",
    "        - 1번 수포자가 찍는 방식: 1, 2, 3, 4, 5, 1, 2, 3, 4, 5, ...\n",
    "        - 2번 수포자가 찍는 방식: 2, 1, 2, 3, 2, 4, 2, 5, 2, 1, 2, 3, 2, 4, 2, 5, ...\n",
    "        - 3번 수포자가 찍는 방식: 3, 3, 1, 1, 2, 2, 4, 4, 5, 5, 3, 3, 1, 1, 2, 2, 4, 4, 5, 5, ...\n",
    "\n",
    "    - 1번 문제부터 마지막 문제까지의 정답이 순서대로 들은 배열 answers가 주어졌을 때, 가장 많은 문제를 맞힌 사람이 누구인지 배열에 담아 return 하도록 solution 함수를 작성해주세요.\n",
    "\n",
    "- 제한 조건\n",
    "    - 시험은 최대 10,000 문제로 구성되어있습니다.\n",
    "    - 문제의 정답은 1, 2, 3, 4, 5중 하나입니다.\n",
    "    - 가장 높은 점수를 받은 사람이 여럿일 경우, return하는 값을 오름차순 정렬해주세요."
   ]
  },
  {
   "cell_type": "code",
   "execution_count": 86,
   "metadata": {
    "execution": {
     "iopub.execute_input": "2020-06-24T09:04:21.655533Z",
     "iopub.status.busy": "2020-06-24T09:04:21.655533Z",
     "iopub.status.idle": "2020-06-24T09:04:21.662470Z",
     "shell.execute_reply": "2020-06-24T09:04:21.662470Z",
     "shell.execute_reply.started": "2020-06-24T09:04:21.655533Z"
    }
   },
   "outputs": [],
   "source": [
    "# 처음 제출본 - 시험은 최대 1만 문제이므로, 패턴을 1만개로 만들어서 제출하였었음\n",
    "def solution(answers):\n",
    "    pattern = [[1,2,3,4,5] * 2000, [2,1,2,3,2,4,2,5] * 1250 , [3,3,1,1,2,2,4,4,5,5] * 1000]\n",
    "    scorearrays = [0,0,0]\n",
    "    result =[]\n",
    "    for idx, answer in enumerate(answers):\n",
    "        for i in range(0, len(pattern)):\n",
    "            if answer == pattern[i][idx]:\n",
    "                scorearrays[i] +=1\n",
    "    for idx, s in enumerate(scorearrays):\n",
    "        if s == max(scorearrays):\n",
    "            result.append(idx+1)\n",
    "    return result"
   ]
  },
  {
   "cell_type": "code",
   "execution_count": 87,
   "metadata": {
    "execution": {
     "iopub.execute_input": "2020-06-24T09:04:22.264328Z",
     "iopub.status.busy": "2020-06-24T09:04:22.264328Z",
     "iopub.status.idle": "2020-06-24T09:04:22.270311Z",
     "shell.execute_reply": "2020-06-24T09:04:22.270311Z",
     "shell.execute_reply.started": "2020-06-24T09:04:22.264328Z"
    }
   },
   "outputs": [
    {
     "data": {
      "text/plain": [
       "[1]"
      ]
     },
     "execution_count": 87,
     "metadata": {},
     "output_type": "execute_result"
    }
   ],
   "source": [
    "answers = [1,2,3,4,5]\n",
    "solution(answers)"
   ]
  },
  {
   "cell_type": "code",
   "execution_count": 88,
   "metadata": {
    "execution": {
     "iopub.execute_input": "2020-06-24T09:04:40.100354Z",
     "iopub.status.busy": "2020-06-24T09:04:40.099356Z",
     "iopub.status.idle": "2020-06-24T09:04:40.114316Z",
     "shell.execute_reply": "2020-06-24T09:04:40.112320Z",
     "shell.execute_reply.started": "2020-06-24T09:04:40.100354Z"
    }
   },
   "outputs": [
    {
     "data": {
      "text/plain": [
       "[1, 2, 3]"
      ]
     },
     "execution_count": 88,
     "metadata": {},
     "output_type": "execute_result"
    }
   ],
   "source": [
    "answers = [1,3,2,4,2]\n",
    "solution(answers)"
   ]
  },
  {
   "cell_type": "code",
   "execution_count": 89,
   "metadata": {
    "execution": {
     "iopub.execute_input": "2020-06-24T09:05:54.106550Z",
     "iopub.status.busy": "2020-06-24T09:05:54.105555Z",
     "iopub.status.idle": "2020-06-24T09:05:54.125450Z",
     "shell.execute_reply": "2020-06-24T09:05:54.123504Z",
     "shell.execute_reply.started": "2020-06-24T09:05:54.105555Z"
    }
   },
   "outputs": [],
   "source": [
    "# 추후 수정본, 패턴을 1만개로 만들지 않고, index / len(pattern)의 나머지를 index로 잡으면 되는것을 알게됨\n",
    "def solution(answers):\n",
    "    pattern = [[1,2,3,4,5], [2,1,2,3,2,4,2,5], [3,3,1,1,2,2,4,4,5,5]]\n",
    "    scorearrays = [0,0,0]\n",
    "    result =[]\n",
    "    for idx, answer in enumerate(answers):\n",
    "        for i in range(0, len(pattern)):\n",
    "            if answer == pattern[i][idx%len(pattern[i])]:\n",
    "                scorearrays[i] +=1\n",
    "    for idx, s in enumerate(scorearrays):\n",
    "        if s == max(scorearrays):\n",
    "            result.append(idx+1)\n",
    "    return result"
   ]
  },
  {
   "cell_type": "code",
   "execution_count": 90,
   "metadata": {
    "execution": {
     "iopub.execute_input": "2020-06-24T09:05:55.668105Z",
     "iopub.status.busy": "2020-06-24T09:05:55.668105Z",
     "iopub.status.idle": "2020-06-24T09:05:55.673092Z",
     "shell.execute_reply": "2020-06-24T09:05:55.673092Z",
     "shell.execute_reply.started": "2020-06-24T09:05:55.668105Z"
    }
   },
   "outputs": [
    {
     "data": {
      "text/plain": [
       "[1]"
      ]
     },
     "execution_count": 90,
     "metadata": {},
     "output_type": "execute_result"
    }
   ],
   "source": [
    "answers = [1,2,3,4,5]\n",
    "solution(answers)"
   ]
  },
  {
   "cell_type": "code",
   "execution_count": 91,
   "metadata": {
    "execution": {
     "iopub.execute_input": "2020-06-24T09:06:01.435408Z",
     "iopub.status.busy": "2020-06-24T09:06:01.435408Z",
     "iopub.status.idle": "2020-06-24T09:06:01.441390Z",
     "shell.execute_reply": "2020-06-24T09:06:01.441390Z",
     "shell.execute_reply.started": "2020-06-24T09:06:01.435408Z"
    }
   },
   "outputs": [
    {
     "data": {
      "text/plain": [
       "[1, 2, 3]"
      ]
     },
     "execution_count": 91,
     "metadata": {},
     "output_type": "execute_result"
    }
   ],
   "source": [
    "answers = [1,3,2,4,2]\n",
    "solution(answers)"
   ]
  },
  {
   "cell_type": "code",
   "execution_count": null,
   "metadata": {},
   "outputs": [],
   "source": []
  }
 ],
 "metadata": {
  "kernelspec": {
   "display_name": "Python 3",
   "language": "python",
   "name": "python3"
  },
  "language_info": {
   "codemirror_mode": {
    "name": "ipython",
    "version": 3
   },
   "file_extension": ".py",
   "mimetype": "text/x-python",
   "name": "python",
   "nbconvert_exporter": "python",
   "pygments_lexer": "ipython3",
   "version": "3.8.3"
  }
 },
 "nbformat": 4,
 "nbformat_minor": 4
}
