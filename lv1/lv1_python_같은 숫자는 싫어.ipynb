{
 "cells": [
  {
   "cell_type": "markdown",
   "metadata": {},
   "source": [
    "### 같은 숫자는 싫어\n",
    "- 문제 설명\n",
    "    - 배열 arr가 주어집니다. 배열 arr의 각 원소는 숫자 0부터 9까지로 이루어져 있습니다. \n",
    "    - 이때, 배열 arr에서 연속적으로 나타나는 숫자는 하나만 남기고 전부 제거하려고 합니다. \n",
    "    - 단, 제거된 후 남은 수들을 반환할 때는 배열 arr의 원소들의 순서를 유지해야 합니다.\n",
    "    - arr = [1, 1, 3, 3, 0, 1, 1] 이면 [1, 3, 0, 1] 을 return 합니다.\n",
    "    - arr = [4, 4, 4, 3, 3] 이면 [4, 3] 을 return 합니다.\n",
    "    - 배열 arr에서 연속적으로 나타나는 숫자는 제거하고 남은 수들을 return 하는 solution 함수를 완성해 주세요.\n",
    "\n",
    "- 제한사항\n",
    "    - 배열 arr의 크기 : 1,000,000 이하의 자연수\n",
    "    - 배열 arr의 원소의 크기 : 0보다 크거나 같고 9보다 작거나 같은 정수\n"
   ]
  },
  {
   "cell_type": "code",
   "execution_count": 1,
   "metadata": {
    "execution": {
     "iopub.execute_input": "2020-06-24T07:58:16.483238Z",
     "iopub.status.busy": "2020-06-24T07:58:16.483238Z",
     "iopub.status.idle": "2020-06-24T07:58:16.489221Z",
     "shell.execute_reply": "2020-06-24T07:58:16.489221Z",
     "shell.execute_reply.started": "2020-06-24T07:58:16.483238Z"
    }
   },
   "outputs": [],
   "source": [
    "def solution(arr):\n",
    "    answer = list(arr[0:1])\n",
    "    for i in arr:\n",
    "        if i != answer[-1]:\n",
    "            answer.append(i)\n",
    "    return answer"
   ]
  },
  {
   "cell_type": "code",
   "execution_count": 2,
   "metadata": {
    "execution": {
     "iopub.execute_input": "2020-06-24T07:58:18.699569Z",
     "iopub.status.busy": "2020-06-24T07:58:18.699569Z",
     "iopub.status.idle": "2020-06-24T07:58:18.707578Z",
     "shell.execute_reply": "2020-06-24T07:58:18.707578Z",
     "shell.execute_reply.started": "2020-06-24T07:58:18.699569Z"
    }
   },
   "outputs": [
    {
     "data": {
      "text/plain": [
       "[1, 2, 1, 3, 0, 1, 4, 5, 4, 9]"
      ]
     },
     "execution_count": 2,
     "metadata": {},
     "output_type": "execute_result"
    }
   ],
   "source": [
    "solution([1,1,2,1,3,3,0,1,4,4,5,5,4,9])"
   ]
  },
  {
   "cell_type": "code",
   "execution_count": null,
   "metadata": {},
   "outputs": [],
   "source": []
  }
 ],
 "metadata": {
  "kernelspec": {
   "display_name": "Python 3",
   "language": "python",
   "name": "python3"
  },
  "language_info": {
   "codemirror_mode": {
    "name": "ipython",
    "version": 3
   },
   "file_extension": ".py",
   "mimetype": "text/x-python",
   "name": "python",
   "nbconvert_exporter": "python",
   "pygments_lexer": "ipython3",
   "version": "3.7.6"
  }
 },
 "nbformat": 4,
 "nbformat_minor": 4
}
