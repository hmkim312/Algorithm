{
 "cells": [
  {
   "cell_type": "markdown",
   "metadata": {},
   "source": [
    "#### 약수의 합\n",
    "- 문제 설명\n",
    "    - 정수 n을 입력받아 n의 약수를 모두 더한 값을 리턴하는 함수, solution을 완성해주세요.\n",
    "\n",
    "- 제한 사항\n",
    "    - n은 0 이상 3000이하인 정수입니다."
   ]
  },
  {
   "cell_type": "code",
   "execution_count": 1,
   "metadata": {
    "execution": {
     "iopub.execute_input": "2020-10-10T14:51:11.395072Z",
     "iopub.status.busy": "2020-10-10T14:51:11.394874Z",
     "iopub.status.idle": "2020-10-10T14:51:11.398809Z",
     "shell.execute_reply": "2020-10-10T14:51:11.398237Z",
     "shell.execute_reply.started": "2020-10-10T14:51:11.395051Z"
    }
   },
   "outputs": [],
   "source": [
    "def solution(n):\n",
    "    factor = 0\n",
    "    for i in range(1, n + 1):\n",
    "        if (n) % i == 0:\n",
    "            factor += i\n",
    "    return factor"
   ]
  },
  {
   "cell_type": "code",
   "execution_count": 2,
   "metadata": {
    "execution": {
     "iopub.execute_input": "2020-10-10T14:51:11.569027Z",
     "iopub.status.busy": "2020-10-10T14:51:11.568810Z",
     "iopub.status.idle": "2020-10-10T14:51:11.573203Z",
     "shell.execute_reply": "2020-10-10T14:51:11.572644Z",
     "shell.execute_reply.started": "2020-10-10T14:51:11.569004Z"
    }
   },
   "outputs": [
    {
     "data": {
      "text/plain": [
       "18"
      ]
     },
     "execution_count": 2,
     "metadata": {},
     "output_type": "execute_result"
    }
   ],
   "source": [
    "solution(10)"
   ]
  },
  {
   "cell_type": "code",
   "execution_count": null,
   "metadata": {},
   "outputs": [],
   "source": []
  }
 ],
 "metadata": {
  "kernelspec": {
   "display_name": "Python 3",
   "language": "python",
   "name": "python3"
  },
  "language_info": {
   "codemirror_mode": {
    "name": "ipython",
    "version": 3
   },
   "file_extension": ".py",
   "mimetype": "text/x-python",
   "name": "python",
   "nbconvert_exporter": "python",
   "pygments_lexer": "ipython3",
   "version": "3.8.3"
  }
 },
 "nbformat": 4,
 "nbformat_minor": 4
}
