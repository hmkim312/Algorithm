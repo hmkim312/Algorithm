{
 "cells": [
  {
   "cell_type": "markdown",
   "metadata": {},
   "source": [
    "### 문자열 내림차순으로 배치하기\n",
    "- 문제 설명\n",
    "    - 문자열 s에 나타나는 문자를 큰것부터 작은 순으로 정렬해 새로운 문자열을 리턴하는 함수, solution을 완성해주세요.\n",
    "    - s는 영문 대소문자로만 구성되어 있으며, 대문자는 소문자보다 작은 것으로 간주합니다.\n",
    "\n",
    "- 제한 사항\n",
    "    - str은 길이 1 이상인 문자열입니다."
   ]
  },
  {
   "cell_type": "code",
   "execution_count": 1,
   "metadata": {
    "execution": {
     "iopub.execute_input": "2020-06-24T08:09:45.844856Z",
     "iopub.status.busy": "2020-06-24T08:09:45.844856Z",
     "iopub.status.idle": "2020-06-24T08:09:45.853832Z",
     "shell.execute_reply": "2020-06-24T08:09:45.852835Z",
     "shell.execute_reply.started": "2020-06-24T08:09:45.844856Z"
    }
   },
   "outputs": [
    {
     "data": {
      "text/plain": [
       "'gfedcbZA'"
      ]
     },
     "execution_count": 1,
     "metadata": {},
     "output_type": "execute_result"
    }
   ],
   "source": [
    "s = 'ZAbcdefg'\n",
    "def solution(s):\n",
    "    import re\n",
    "    s1= re.findall('[A-Z]',s)\n",
    "    s2 = re.findall('[a-z]',s)\n",
    "    return ''.join(sorted(s2,key=str.lower,reverse=True)) + ''.join(sorted(s1,key=str.lower,reverse=True))\n",
    "solution(s)"
   ]
  },
  {
   "cell_type": "code",
   "execution_count": 2,
   "metadata": {
    "execution": {
     "iopub.execute_input": "2020-06-24T08:09:46.848746Z",
     "iopub.status.busy": "2020-06-24T08:09:46.847763Z",
     "iopub.status.idle": "2020-06-24T08:09:46.861720Z",
     "shell.execute_reply": "2020-06-24T08:09:46.860717Z",
     "shell.execute_reply.started": "2020-06-24T08:09:46.848746Z"
    }
   },
   "outputs": [
    {
     "data": {
      "text/plain": [
       "'gfedcbZA'"
      ]
     },
     "execution_count": 2,
     "metadata": {},
     "output_type": "execute_result"
    }
   ],
   "source": [
    "# 굳이 대문자 소문자 안나누어도 되는듯..\n",
    "s = 'ZAbcdefg'\n",
    "def solution(s):\n",
    "    return ''.join(sorted(s,reverse=True))\n",
    "solution(s)"
   ]
  }
 ],
 "metadata": {
  "kernelspec": {
   "display_name": "Python 3",
   "language": "python",
   "name": "python3"
  },
  "language_info": {
   "codemirror_mode": {
    "name": "ipython",
    "version": 3
   },
   "file_extension": ".py",
   "mimetype": "text/x-python",
   "name": "python",
   "nbconvert_exporter": "python",
   "pygments_lexer": "ipython3",
   "version": "3.8.3"
  }
 },
 "nbformat": 4,
 "nbformat_minor": 4
}
