{
 "cells": [
  {
   "cell_type": "markdown",
   "metadata": {},
   "source": [
    "URL : <https://programmers.co.kr/learn/courses/30/lessons/70128?language=python3>{:target=\"_blank\"}\n",
    "\n",
    "- 문제 설명\n",
    "    - 길이가 같은 두 1차원 정수 배열 a, b가 매개변수로 주어집니다. a와 b의 내적을 return 하도록 solution 함수를 완성해주세요.\n",
    "    - 이때, a와 b의 내적은 a[0] \\* b[0] + a[1] \\* b[1] + ... + a[n-1] \\* b[n-1] 입니다. (n은 a, b의 길이)\n",
    "- 제한사항\n",
    "    - a, b의 길이는 1 이상 1,000 이하입니다.\n",
    "    - a, b의 모든 수는 -1,000 이상 1,000 이하입니다."
   ]
  },
  {
   "cell_type": "markdown",
   "metadata": {},
   "source": [
    "#### 문제풀이\n",
    "- 백터의 내적을 구하는 문제\n",
    "- 각 리스트들의 같은 위치를 곱한 뒤 다 더하는 코드\n",
    "- for문을 사용했음"
   ]
  },
  {
   "cell_type": "code",
   "execution_count": 27,
   "metadata": {
    "execution": {
     "iopub.execute_input": "2020-12-22T02:35:41.446114Z",
     "iopub.status.busy": "2020-12-22T02:35:41.445896Z",
     "iopub.status.idle": "2020-12-22T02:35:41.449305Z",
     "shell.execute_reply": "2020-12-22T02:35:41.448621Z",
     "shell.execute_reply.started": "2020-12-22T02:35:41.446090Z"
    }
   },
   "outputs": [],
   "source": [
    "a = [1, 2, 3, 4]\n",
    "b = [-3, -1, 0, 2]"
   ]
  },
  {
   "cell_type": "code",
   "execution_count": 28,
   "metadata": {
    "execution": {
     "iopub.execute_input": "2020-12-22T02:35:41.624641Z",
     "iopub.status.busy": "2020-12-22T02:35:41.624450Z",
     "iopub.status.idle": "2020-12-22T02:35:41.627675Z",
     "shell.execute_reply": "2020-12-22T02:35:41.627130Z",
     "shell.execute_reply.started": "2020-12-22T02:35:41.624620Z"
    }
   },
   "outputs": [],
   "source": [
    "def solution(a, b):\n",
    "    answer = 0\n",
    "    for i in range(len(a)):\n",
    "        num = a[i] * b[i]\n",
    "        answer += num\n",
    "    return answer"
   ]
  },
  {
   "cell_type": "code",
   "execution_count": 29,
   "metadata": {
    "execution": {
     "iopub.execute_input": "2020-12-22T02:35:41.780228Z",
     "iopub.status.busy": "2020-12-22T02:35:41.779981Z",
     "iopub.status.idle": "2020-12-22T02:35:41.784119Z",
     "shell.execute_reply": "2020-12-22T02:35:41.783473Z",
     "shell.execute_reply.started": "2020-12-22T02:35:41.780202Z"
    }
   },
   "outputs": [
    {
     "data": {
      "text/plain": [
       "3"
      ]
     },
     "execution_count": 29,
     "metadata": {},
     "output_type": "execute_result"
    }
   ],
   "source": [
    "solution(a, b)"
   ]
  },
  {
   "cell_type": "code",
   "execution_count": 26,
   "metadata": {
    "execution": {
     "iopub.execute_input": "2020-12-22T02:35:36.697872Z",
     "iopub.status.busy": "2020-12-22T02:35:36.697652Z",
     "iopub.status.idle": "2020-12-22T02:35:36.701184Z",
     "shell.execute_reply": "2020-12-22T02:35:36.700411Z",
     "shell.execute_reply.started": "2020-12-22T02:35:36.697848Z"
    }
   },
   "outputs": [],
   "source": [
    "def solution(a, b):\n",
    "    return sum([x * y for x, y in zip(a,b)])"
   ]
  },
  {
   "cell_type": "code",
   "execution_count": 30,
   "metadata": {
    "execution": {
     "iopub.execute_input": "2020-12-22T02:35:44.515241Z",
     "iopub.status.busy": "2020-12-22T02:35:44.514849Z",
     "iopub.status.idle": "2020-12-22T02:35:44.520456Z",
     "shell.execute_reply": "2020-12-22T02:35:44.519364Z",
     "shell.execute_reply.started": "2020-12-22T02:35:44.515209Z"
    }
   },
   "outputs": [
    {
     "data": {
      "text/plain": [
       "3"
      ]
     },
     "execution_count": 30,
     "metadata": {},
     "output_type": "execute_result"
    }
   ],
   "source": [
    "solution(a, b)"
   ]
  },
  {
   "cell_type": "code",
   "execution_count": null,
   "metadata": {},
   "outputs": [],
   "source": []
  }
 ],
 "metadata": {
  "kernelspec": {
   "display_name": "Python 3",
   "language": "python",
   "name": "python3"
  },
  "language_info": {
   "codemirror_mode": {
    "name": "ipython",
    "version": 3
   },
   "file_extension": ".py",
   "mimetype": "text/x-python",
   "name": "python",
   "nbconvert_exporter": "python",
   "pygments_lexer": "ipython3",
   "version": "3.8.3"
  }
 },
 "nbformat": 4,
 "nbformat_minor": 4
}
