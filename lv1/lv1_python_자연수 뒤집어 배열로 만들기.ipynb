{
 "cells": [
  {
   "cell_type": "markdown",
   "metadata": {},
   "source": [
    "### 자연수 뒤집어 배열로 만들기\n",
    "\n",
    "- 문제 설명\n",
    "    - 자연수 n을 뒤집어 각 자리 숫자를 원소로 가지는 배열 형태로 리턴해주세요. 예를들어 n이 12345이면 [5,4,3,2,1]을 리턴합니다.\n",
    "\n",
    "- 제한 조건\n",
    "    - n은 10,000,000,000이하인 자연수입니다."
   ]
  },
  {
   "cell_type": "code",
   "execution_count": 1,
   "metadata": {
    "execution": {
     "iopub.execute_input": "2020-06-24T07:56:40.542116Z",
     "iopub.status.busy": "2020-06-24T07:56:40.542116Z",
     "iopub.status.idle": "2020-06-24T07:56:40.550094Z",
     "shell.execute_reply": "2020-06-24T07:56:40.550094Z",
     "shell.execute_reply.started": "2020-06-24T07:56:40.542116Z"
    }
   },
   "outputs": [
    {
     "data": {
      "text/plain": [
       "[6, 9, 9, 9, 3, 5, 3, 5, 3, 4, 9, 9, 9, 9, 9, 9, 5, 4, 3, 2, 1]"
      ]
     },
     "execution_count": 1,
     "metadata": {},
     "output_type": "execute_result"
    }
   ],
   "source": [
    "def solution(n):\n",
    "    answer = [int(i) for i in str(n)][::-1]\n",
    "    return answer\n",
    "solution(123459999994353539996)"
   ]
  },
  {
   "cell_type": "code",
   "execution_count": null,
   "metadata": {},
   "outputs": [],
   "source": []
  }
 ],
 "metadata": {
  "kernelspec": {
   "display_name": "Python 3",
   "language": "python",
   "name": "python3"
  },
  "language_info": {
   "codemirror_mode": {
    "name": "ipython",
    "version": 3
   },
   "file_extension": ".py",
   "mimetype": "text/x-python",
   "name": "python",
   "nbconvert_exporter": "python",
   "pygments_lexer": "ipython3",
   "version": "3.7.6"
  }
 },
 "nbformat": 4,
 "nbformat_minor": 4
}
