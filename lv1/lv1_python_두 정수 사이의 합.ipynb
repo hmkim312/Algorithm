{
 "cells": [
  {
   "cell_type": "markdown",
   "metadata": {},
   "source": [
    "### 두 정수 사이의 합\n",
    "- 문제 설명\n",
    "    - 두 정수 a, b가 주어졌을 때 a와 b 사이에 속한 모든 정수의 합을 리턴하는 함수, solution을 완성하세요.\n",
    "    - 예를 들어 a = 3, b = 5인 경우, 3 + 4 + 5 = 12이므로 12를 리턴합니다.\n",
    "\n",
    "- 제한 조건\n",
    "    - a와 b가 같은 경우는 둘 중 아무 수나 리턴하세요.\n",
    "    - a와 b는 -10,000,000 이상 10,000,000 이하인 정수입니다.\n",
    "    - a와 b의 대소관계는 정해져있지 않습니다."
   ]
  },
  {
   "cell_type": "code",
   "execution_count": 1,
   "metadata": {
    "execution": {
     "iopub.execute_input": "2020-06-24T07:59:32.334092Z",
     "iopub.status.busy": "2020-06-24T07:59:32.333104Z",
     "iopub.status.idle": "2020-06-24T07:59:32.356026Z",
     "shell.execute_reply": "2020-06-24T07:59:32.354037Z",
     "shell.execute_reply.started": "2020-06-24T07:59:32.334092Z"
    }
   },
   "outputs": [
    {
     "data": {
      "text/plain": [
       "12"
      ]
     },
     "execution_count": 1,
     "metadata": {},
     "output_type": "execute_result"
    }
   ],
   "source": [
    "from collections.abc import Iterable, Iterator, Generator\n",
    "\n",
    "\n",
    "def solution(a, b):\n",
    "    if a > b:\n",
    "        return sum(_ for _ in range(b, a+1))\n",
    "    else:\n",
    "        return sum(_ for _ in range(a, b+1))\n",
    "\n",
    "solution(5, 3)"
   ]
  },
  {
   "cell_type": "code",
   "execution_count": 2,
   "metadata": {
    "execution": {
     "iopub.execute_input": "2020-06-24T07:59:38.732070Z",
     "iopub.status.busy": "2020-06-24T07:59:38.731052Z",
     "iopub.status.idle": "2020-06-24T07:59:38.738080Z",
     "shell.execute_reply": "2020-06-24T07:59:38.738080Z",
     "shell.execute_reply.started": "2020-06-24T07:59:38.732070Z"
    }
   },
   "outputs": [
    {
     "data": {
      "text/plain": [
       "12"
      ]
     },
     "execution_count": 2,
     "metadata": {},
     "output_type": "execute_result"
    }
   ],
   "source": [
    "def solution(a, b):\n",
    "    answer = 0\n",
    "    if a > b :\n",
    "        for n in range(b,a+1):\n",
    "            answer += n\n",
    "        return answer\n",
    "    else:\n",
    "        for n in range(a, b+1):\n",
    "            answer += n\n",
    "        return answer\n",
    "\n",
    "\n",
    "solution(5, 3)"
   ]
  },
  {
   "cell_type": "code",
   "execution_count": null,
   "metadata": {},
   "outputs": [],
   "source": []
  }
 ],
 "metadata": {
  "kernelspec": {
   "display_name": "Python 3",
   "language": "python",
   "name": "python3"
  },
  "language_info": {
   "codemirror_mode": {
    "name": "ipython",
    "version": 3
   },
   "file_extension": ".py",
   "mimetype": "text/x-python",
   "name": "python",
   "nbconvert_exporter": "python",
   "pygments_lexer": "ipython3",
   "version": "3.8.3"
  }
 },
 "nbformat": 4,
 "nbformat_minor": 4
}
