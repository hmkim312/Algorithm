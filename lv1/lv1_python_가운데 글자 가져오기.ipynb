{
 "cells": [
  {
   "cell_type": "markdown",
   "metadata": {},
   "source": [
    "### 가운데 글자 가져오기\n",
    "\n",
    "- 문제설명\n",
    "    - 단어 s의 가운데 글자를 반환하는 함수, solution을 만들어 보세요. 단어의 길이가 짝수라면 가운데 두글자를 반환하면 됩니다.\n",
    "\n",
    "- 제한사항\n",
    "    - s는 길이가 1 이상, 100이하인 스트링입니다"
   ]
  },
  {
   "cell_type": "code",
   "execution_count": 1,
   "metadata": {
    "execution": {
     "iopub.execute_input": "2020-10-10T13:00:42.043925Z",
     "iopub.status.busy": "2020-10-10T13:00:42.043723Z",
     "iopub.status.idle": "2020-10-10T13:00:42.050842Z",
     "shell.execute_reply": "2020-10-10T13:00:42.050314Z",
     "shell.execute_reply.started": "2020-10-10T13:00:42.043903Z"
    }
   },
   "outputs": [
    {
     "data": {
      "text/plain": [
       "'de'"
      ]
     },
     "execution_count": 1,
     "metadata": {},
     "output_type": "execute_result"
    }
   ],
   "source": [
    "import math\n",
    "answer = ''\n",
    "\n",
    "def solution(s):\n",
    "    if len(s) % 2 == 0:\n",
    "        answer = s[math.trunc(len(s)/2)-1:math.trunc(len(s)/2)+1]\n",
    "        return answer\n",
    "    if len(s) % 2 != 0:\n",
    "        answer = s[math.trunc(len(s)/2)]\n",
    "        return answer\n",
    "    return answer\n",
    "s = 'abcdefgh'\n",
    "solution(s)"
   ]
  },
  {
   "cell_type": "code",
   "execution_count": 2,
   "metadata": {
    "execution": {
     "iopub.execute_input": "2020-10-10T13:00:50.615591Z",
     "iopub.status.busy": "2020-10-10T13:00:50.615374Z",
     "iopub.status.idle": "2020-10-10T13:00:50.619207Z",
     "shell.execute_reply": "2020-10-10T13:00:50.618639Z",
     "shell.execute_reply.started": "2020-10-10T13:00:50.615568Z"
    }
   },
   "outputs": [
    {
     "data": {
      "text/plain": [
       "1"
      ]
     },
     "execution_count": 2,
     "metadata": {},
     "output_type": "execute_result"
    }
   ],
   "source": [
    "math.trunc(1)"
   ]
  },
  {
   "cell_type": "code",
   "execution_count": null,
   "metadata": {},
   "outputs": [],
   "source": []
  }
 ],
 "metadata": {
  "kernelspec": {
   "display_name": "Python 3",
   "language": "python",
   "name": "python3"
  },
  "language_info": {
   "codemirror_mode": {
    "name": "ipython",
    "version": 3
   },
   "file_extension": ".py",
   "mimetype": "text/x-python",
   "name": "python",
   "nbconvert_exporter": "python",
   "pygments_lexer": "ipython3",
   "version": "3.8.3"
  }
 },
 "nbformat": 4,
 "nbformat_minor": 4
}
