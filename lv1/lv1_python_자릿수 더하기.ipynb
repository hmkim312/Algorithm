{
 "cells": [
  {
   "cell_type": "markdown",
   "metadata": {},
   "source": [
    "#### 자릿수 더하기\n",
    "- 문제 설명\n",
    "    - 자연수 N이 주어지면, N의 각 자릿수의 합을 구해서 return 하는 solution 함수를 만들어 주세요.\n",
    "    - 예를들어 N = 123이면 1 + 2 + 3 = 6을 return 하면 됩니다.\n",
    "\n",
    "- 제한사항\n",
    "    - N의 범위 : 100,000,000 이하의 자연수"
   ]
  },
  {
   "cell_type": "code",
   "execution_count": 3,
   "metadata": {
    "execution": {
     "iopub.execute_input": "2020-06-25T13:23:33.776068Z",
     "iopub.status.busy": "2020-06-25T13:23:33.775071Z",
     "iopub.status.idle": "2020-06-25T13:23:33.783048Z",
     "shell.execute_reply": "2020-06-25T13:23:33.783048Z",
     "shell.execute_reply.started": "2020-06-25T13:23:33.776068Z"
    }
   },
   "outputs": [
    {
     "data": {
      "text/plain": [
       "1"
      ]
     },
     "execution_count": 3,
     "metadata": {},
     "output_type": "execute_result"
    }
   ],
   "source": [
    "n = 10\n",
    "num = 0\n",
    "for i in range(0,len(str(n))):\n",
    "    a = str(n)[i]\n",
    "    num += int(a)\n",
    "num"
   ]
  },
  {
   "cell_type": "code",
   "execution_count": 6,
   "metadata": {
    "execution": {
     "iopub.execute_input": "2020-06-25T13:24:22.396787Z",
     "iopub.status.busy": "2020-06-25T13:24:22.396787Z",
     "iopub.status.idle": "2020-06-25T13:24:22.401769Z",
     "shell.execute_reply": "2020-06-25T13:24:22.401769Z",
     "shell.execute_reply.started": "2020-06-25T13:24:22.396787Z"
    }
   },
   "outputs": [],
   "source": [
    "def solution(n):\n",
    "    num = 0\n",
    "    for i in range(0,len(str(n))):\n",
    "        a = str(n)[i]\n",
    "        num += int(a)\n",
    "    return num"
   ]
  },
  {
   "cell_type": "code",
   "execution_count": 5,
   "metadata": {
    "execution": {
     "iopub.execute_input": "2020-06-25T13:24:02.600774Z",
     "iopub.status.busy": "2020-06-25T13:24:02.600774Z",
     "iopub.status.idle": "2020-06-25T13:24:02.604737Z",
     "shell.execute_reply": "2020-06-25T13:24:02.604737Z",
     "shell.execute_reply.started": "2020-06-25T13:24:02.600774Z"
    }
   },
   "outputs": [
    {
     "data": {
      "text/plain": [
       "1"
      ]
     },
     "execution_count": 5,
     "metadata": {},
     "output_type": "execute_result"
    }
   ],
   "source": [
    "solution(n)"
   ]
  },
  {
   "cell_type": "code",
   "execution_count": null,
   "metadata": {},
   "outputs": [],
   "source": []
  }
 ],
 "metadata": {
  "kernelspec": {
   "display_name": "Python 3",
   "language": "python",
   "name": "python3"
  },
  "language_info": {
   "codemirror_mode": {
    "name": "ipython",
    "version": 3
   },
   "file_extension": ".py",
   "mimetype": "text/x-python",
   "name": "python",
   "nbconvert_exporter": "python",
   "pygments_lexer": "ipython3",
   "version": "3.7.6"
  }
 },
 "nbformat": 4,
 "nbformat_minor": 4
}
