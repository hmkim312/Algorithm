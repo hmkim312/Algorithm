{
 "cells": [
  {
   "cell_type": "markdown",
   "metadata": {},
   "source": [
    "URL : <https://programmers.co.kr/learn/courses/30/lessons/17687>:{target=\"_blank\"}\n",
    "#### 문제 설명\n",
    "- N진수 게임\n",
    "- 튜브가 활동하는 코딩 동아리에서는 전통적으로 해오는 게임이 있다. 이 게임은 여러 사람이 둥글게 앉아서 숫자를 하나씩 차례대로 말하는 게임인데, 규칙은 다음과 같다.\n",
    "- 숫자를 0부터 시작해서 차례대로 말한다. 첫 번째 사람은 0, 두 번째 사람은 1, … 열 번째 사람은 9를 말한다.\n",
    "- 10 이상의 숫자부터는 한 자리씩 끊어서 말한다. 즉 열한 번째 사람은 10의 첫 자리인 1, 열두 번째 사람은 둘째 자리인 0을 말한다.\n",
    "- 이렇게 게임을 진행할 경우,\n",
    "- 0, 1, 2, 3, 4, 5, 6, 7, 8, 9, 1, 0, 1, 1, 1, 2, 1, 3, 1, 4, …\n",
    "- 순으로 숫자를 말하면 된다.\n",
    "- 한편 코딩 동아리 일원들은 컴퓨터를 다루는 사람답게 이진수로 이 게임을 진행하기도 하는데, 이 경우에는\n",
    "- 0, 1, 1, 0, 1, 1, 1, 0, 0, 1, 0, 1, 1, 1, 0, 1, 1, 1, …\n",
    "- 순으로 숫자를 말하면 된다.\n",
    "\n",
    "- 이진수로 진행하는 게임에 익숙해져 질려가던 사람들은 좀 더 난이도를 높이기 위해 이진법에서 십육진법까지 모든 진법으로 게임을 진행해보기로 했다. 숫자 게임이 익숙하지 않은 튜브는 게임에 져서 벌칙을 받는 굴욕을 피하기 위해, 자신이 말해야 하는 숫자를 스마트폰에 미리 출력해주는 프로그램을 만들려고 한다. 튜브의 프로그램을 구현하라.\n",
    "\n",
    "#### 입력 형식\n",
    "- 진법 n, 미리 구할 숫자의 갯수 t, 게임에 참가하는 인원 m, 튜브의 순서 p 가 주어진다.\n",
    "```\n",
    "2 ≦ n ≦ 16\n",
    "0 ＜ t ≦ 1000\n",
    "2 ≦ m ≦ 100\n",
    "1 ≦ p ≦ m\n",
    "```\n",
    "\n",
    "#### 출력 형식\n",
    "- 튜브가 말해야 하는 숫자 t개를 공백 없이 차례대로 나타낸 문자열. 단, 10\\~15는 각각 대문자 A~F로 출력한다.\n",
    "\n",
    "#### 문제 풀이\n",
    "- 문제를 이해하는데 더 시간이 걸린듯\n",
    "- 일단 튜브가 대답해야할 answer는 t의 갯수이고, 즉 t의 갯수만큼, 인원수에 따라 대답할 정답을 뱉으면됨\n",
    "- 첫번째로는 divmod를 활용한 n진법 변환 함수를 만들어야하고 (재귀함수)\n",
    "- 두번째로는 전체인원(m) * 대답할 정답의 갯수(t)만큼 쌓여있는 0부터 시작한 number 번째까지(얼마인지모름, 그냥 대답할 갯수와 전체 인원수로 추정) 저장되어있는 전체 정답 temp\n",
    "- 조금 더 적자면 temp에는 튜브 포함 모든인원이 순서대로 대답할 정답이 있다고 보면됨 (t * m)\n",
    "- 세번째로 for문을 통해서 튜브가 말해야할 정답만 따로 걸러내면됨\n",
    "- 이것은 p는 처음 튜브가 대답해야할 순번이고, 그 이후에 게임 참가 인원(m)만큼 건너뛰고 대답하면 됨\n",
    "- index는 0부터 시작이니 p에서 1을 빼줌"
   ]
  },
  {
   "cell_type": "code",
   "execution_count": 66,
   "metadata": {
    "execution": {
     "iopub.execute_input": "2021-02-08T01:40:09.446476Z",
     "iopub.status.busy": "2021-02-08T01:40:09.446257Z",
     "iopub.status.idle": "2021-02-08T01:40:09.453022Z",
     "shell.execute_reply": "2021-02-08T01:40:09.452211Z",
     "shell.execute_reply.started": "2021-02-08T01:40:09.446452Z"
    }
   },
   "outputs": [],
   "source": [
    "# 문자열 포함 n진수 변환 함수\n",
    "def converter(number, n):\n",
    "    T = '0123456789ABCDEF'\n",
    "\n",
    "    i, j = divmod(number, n)\n",
    "    if i == 0:\n",
    "        return T[j]\n",
    "    else:\n",
    "        return converter(i , n) + T[j]\n",
    "\n",
    "def solution(n, t, m, p):\n",
    "    answer = '' # 튜브가 대답할것\n",
    "    temp = '' # n진수 변환을 저장할 temp\n",
    "    number = 0 # 0부터 시작하는 number\n",
    "    \n",
    "    while True:\n",
    "        temp += converter(number, n) # converter 함수를 통해 0부터 계속 n진수로 변환함\n",
    "        number += 1 # 숫자를 1씩 올려줌 0부터 시작해서 1, 2, 3, 4를 하니까\n",
    "        \n",
    "        if len(temp) > t * m: # 만약 말해야할 숫자 * 인원수 만큼의 temp가 모이면 스탑, 왜냐하면 0부터 20까지로 정해놓은게 아니고, 몇명이서 게임하고, 튜브가 몇번째에 이야기를 해야하는지를 알아야하므로, 미기 구할 숫자t는 answer의 갯수임\n",
    "            break\n",
    "    \n",
    "    for i in range(p-1, len(temp), m): # number까지의 n진수를 구한 temp를 실제 튜브가 대답해야할 answer에 저장함, 튜브의 차례부터 시작 temp의 갯수까지 range를 보면되고, m은 몇명이서 하는지임\n",
    "        if t == len(answer):\n",
    "            break\n",
    "        else:\n",
    "            answer += temp[i]\n",
    "    return answer"
   ]
  },
  {
   "cell_type": "code",
   "execution_count": 67,
   "metadata": {
    "execution": {
     "iopub.execute_input": "2021-02-08T01:40:09.610518Z",
     "iopub.status.busy": "2021-02-08T01:40:09.610317Z",
     "iopub.status.idle": "2021-02-08T01:40:09.614253Z",
     "shell.execute_reply": "2021-02-08T01:40:09.613763Z",
     "shell.execute_reply.started": "2021-02-08T01:40:09.610497Z"
    }
   },
   "outputs": [
    {
     "data": {
      "text/plain": [
       "'0111'"
      ]
     },
     "execution_count": 67,
     "metadata": {},
     "output_type": "execute_result"
    }
   ],
   "source": [
    "n = 2\n",
    "t = 4\n",
    "m = 2\n",
    "p = 1\n",
    "solution(n, t, m, p)"
   ]
  },
  {
   "cell_type": "code",
   "execution_count": 68,
   "metadata": {
    "execution": {
     "iopub.execute_input": "2021-02-08T01:40:09.856804Z",
     "iopub.status.busy": "2021-02-08T01:40:09.856598Z",
     "iopub.status.idle": "2021-02-08T01:40:09.860838Z",
     "shell.execute_reply": "2021-02-08T01:40:09.860284Z",
     "shell.execute_reply.started": "2021-02-08T01:40:09.856782Z"
    }
   },
   "outputs": [
    {
     "data": {
      "text/plain": [
       "'02468ACE11111111'"
      ]
     },
     "execution_count": 68,
     "metadata": {},
     "output_type": "execute_result"
    }
   ],
   "source": [
    "n = 16\n",
    "t = 16\n",
    "m = 2\n",
    "p = 1\n",
    "solution(n, t, m, p)"
   ]
  },
  {
   "cell_type": "code",
   "execution_count": 69,
   "metadata": {
    "execution": {
     "iopub.execute_input": "2021-02-08T01:40:12.166609Z",
     "iopub.status.busy": "2021-02-08T01:40:12.166425Z",
     "iopub.status.idle": "2021-02-08T01:40:12.170067Z",
     "shell.execute_reply": "2021-02-08T01:40:12.169600Z",
     "shell.execute_reply.started": "2021-02-08T01:40:12.166590Z"
    }
   },
   "outputs": [
    {
     "data": {
      "text/plain": [
       "'13579BDF01234567'"
      ]
     },
     "execution_count": 69,
     "metadata": {},
     "output_type": "execute_result"
    }
   ],
   "source": [
    "n = 16\n",
    "t = 16\n",
    "m = 2\n",
    "p = 2\n",
    "solution(n, t, m, p)"
   ]
  }
 ],
 "metadata": {
  "kernelspec": {
   "display_name": "Python 3",
   "language": "python",
   "name": "python3"
  },
  "language_info": {
   "codemirror_mode": {
    "name": "ipython",
    "version": 3
   },
   "file_extension": ".py",
   "mimetype": "text/x-python",
   "name": "python",
   "nbconvert_exporter": "python",
   "pygments_lexer": "ipython3",
   "version": "3.8.3"
  }
 },
 "nbformat": 4,
 "nbformat_minor": 4
}
