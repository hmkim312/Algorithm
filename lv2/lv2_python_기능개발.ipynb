{
 "cells": [
  {
   "cell_type": "markdown",
   "metadata": {},
   "source": [
    "- 문제 설명\n",
    "    - 프로그래머스 팀에서는 기능 개선 작업을 수행 중입니다. 각 기능은 진도가 100%일 때 서비스에 반영할 수 있습니다.\n",
    "    - 또, 각 기능의 개발속도는 모두 다르기 때문에 뒤에 있는 기능이 앞에 있는 기능보다 먼저 개발될 수 있고, 이때 뒤에 있는 기능은 앞에 있는 기능이 배포될 때 함께 배포됩니다.\n",
    "\n",
    "    - 먼저 배포되어야 하는 순서대로 작업의 진도가 적힌 정수 배열 progresses와 각 작업의 개발 속도가 적힌 정수 배열 speeds가 주어질 때 각 배포마다 몇 개의 기능이 배포되는지를 return 하도록 solution 함수를 완성하세요.\n",
    "\n",
    "- 제한 사항\n",
    "    - 작업의 개수(progresses, speeds배열의 길이)는 100개 이하입니다.\n",
    "    - 작업 진도는 100 미만의 자연수입니다.\n",
    "    - 작업 속도는 100 이하의 자연수입니다.\n",
    "    - 배포는 하루에 한 번만 할 수 있으며, 하루의 끝에 이루어진다고 가정합니다. 예를 들어 진도율이 95%인 작업의 개발 속도가 하루에 4%라면 배포는 2일 뒤에 이루어집니다."
   ]
  },
  {
   "cell_type": "markdown",
   "metadata": {},
   "source": [
    "#### 문제풀이\n",
    "- zip을 사용하여 풀었음\n",
    "- 배열의 처음에있는 progresses와 sppeds를 기준k로 잡고, 각 배열마다 for문을 돌면서 k가 크면 기능개발이 k 이후에 되니 앞단에 +1, 만일 k가 작으면 k를 update하고 ls의 맨 뒤에 1를 append 시킴"
   ]
  },
  {
   "cell_type": "code",
   "execution_count": 89,
   "metadata": {
    "execution": {
     "iopub.execute_input": "2020-12-23T01:28:44.177886Z",
     "iopub.status.busy": "2020-12-23T01:28:44.177675Z",
     "iopub.status.idle": "2020-12-23T01:28:44.182981Z",
     "shell.execute_reply": "2020-12-23T01:28:44.182220Z",
     "shell.execute_reply.started": "2020-12-23T01:28:44.177864Z"
    }
   },
   "outputs": [],
   "source": [
    "import math\n",
    "\n",
    "\n",
    "def solution(progresses, speeds):\n",
    "    ls = [0]\n",
    "    k = math.ceil((100 - progresses[0]) / speeds[0])\n",
    "    for i, j in zip(progresses, speeds):\n",
    "        if k >= math.ceil((100 - i) / j):\n",
    "            ls[-1] += 1\n",
    "        elif k < math.ceil((100 - i) / j):\n",
    "            k = math.ceil((100 - i) / j)\n",
    "            ls.append(1)\n",
    "    return ls"
   ]
  },
  {
   "cell_type": "code",
   "execution_count": 90,
   "metadata": {
    "execution": {
     "iopub.execute_input": "2020-12-23T01:28:44.544332Z",
     "iopub.status.busy": "2020-12-23T01:28:44.544122Z",
     "iopub.status.idle": "2020-12-23T01:28:44.548334Z",
     "shell.execute_reply": "2020-12-23T01:28:44.547800Z",
     "shell.execute_reply.started": "2020-12-23T01:28:44.544310Z"
    }
   },
   "outputs": [
    {
     "data": {
      "text/plain": [
       "[2, 1]"
      ]
     },
     "execution_count": 90,
     "metadata": {},
     "output_type": "execute_result"
    }
   ],
   "source": [
    "progresses =  [93, 30, 55]\n",
    "speeds = [1, 30, 5]\n",
    "solution(progresses, speeds)"
   ]
  },
  {
   "cell_type": "code",
   "execution_count": 91,
   "metadata": {
    "execution": {
     "iopub.execute_input": "2020-12-23T01:28:44.781759Z",
     "iopub.status.busy": "2020-12-23T01:28:44.781553Z",
     "iopub.status.idle": "2020-12-23T01:28:44.785964Z",
     "shell.execute_reply": "2020-12-23T01:28:44.785378Z",
     "shell.execute_reply.started": "2020-12-23T01:28:44.781736Z"
    }
   },
   "outputs": [
    {
     "data": {
      "text/plain": [
       "[1, 3, 2]"
      ]
     },
     "execution_count": 91,
     "metadata": {},
     "output_type": "execute_result"
    }
   ],
   "source": [
    "progresses =  [95, 90, 99, 99, 80, 99]\n",
    "speeds = [1, 1, 1, 1, 1, 1]\n",
    "solution(progresses, speeds)"
   ]
  }
 ],
 "metadata": {
  "kernelspec": {
   "display_name": "Python 3",
   "language": "python",
   "name": "python3"
  },
  "language_info": {
   "codemirror_mode": {
    "name": "ipython",
    "version": 3
   },
   "file_extension": ".py",
   "mimetype": "text/x-python",
   "name": "python",
   "nbconvert_exporter": "python",
   "pygments_lexer": "ipython3",
   "version": "3.8.3"
  }
 },
 "nbformat": 4,
 "nbformat_minor": 4
}
