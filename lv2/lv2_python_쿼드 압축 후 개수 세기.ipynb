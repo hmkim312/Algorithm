{
 "cells": [
  {
   "cell_type": "markdown",
   "metadata": {},
   "source": [
    "URL <https://programmers.co.kr/learn/courses/30/lessons/68936>{:target=\"_blank\"}\n",
    "\n",
    "#### 문제 설명\n",
    "- 0과 1로 이루어진 2n x 2n 크기의 2차원 정수 배열 arr이 있습니다. 당신은 이 arr을 쿼드 트리와 같은 방식으로 압축하고자 합니다. 구체적인 방식은 다음과 같습니다.\n",
    "- 당신이 압축하고자 하는 특정 영역을 S라고 정의합니다.\n",
    "- 만약 S 내부에 있는 모든 수가 같은 값이라면, S를 해당 수 하나로 압축시킵니다.\n",
    "- 그렇지 않다면, S를 정확히 4개의 균일한 정사각형 영역(입출력 예를 참고해주시기 바랍니다.)으로 쪼갠 뒤, 각 정사각형 영역에 대해 같은 방식의 압축을 시도합니다.\n",
    "- arr이 매개변수로 주어집니다. 위와 같은 방식으로 arr을 압축했을 때, 배열에 최종적으로 남는 0의 개수와 1의 개수를 배열에 담아서 return 하도록 solution 함수를 완성해주세요.\n",
    "\n",
    "#### 제한 사항\n",
    "- arr의 행의 개수는 1 이상 1024 이하이며, 2의 거듭 제곱수 형태를 하고 있습니다. 즉, arr의 행의 개수는 1, 2, 4, 8, ..., 1024 중 하나입니다.\n",
    "- arr의 각 행의 길이는 arr의 행의 개수와 같습니다. 즉, arr은 정사각형 배열입니다.\n",
    "- arr의 각 행에 있는 모든 값은 0 또는 1 입니다.\n",
    "\n",
    "#### 문제 풀이\n",
    "- 재귀함수를 통해 풀었다.\n",
    "- 주어지는 arr을 4등분하여, 해당 arr의 원소가 1개가 남을때까지 함"
   ]
  },
  {
   "cell_type": "code",
   "execution_count": 261,
   "metadata": {
    "execution": {
     "iopub.execute_input": "2021-03-23T01:34:50.992267Z",
     "iopub.status.busy": "2021-03-23T01:34:50.992035Z",
     "iopub.status.idle": "2021-03-23T01:34:51.002923Z",
     "shell.execute_reply": "2021-03-23T01:34:51.002226Z",
     "shell.execute_reply.started": "2021-03-23T01:34:50.992243Z"
    }
   },
   "outputs": [],
   "source": [
    "import numpy as np\n",
    "\n",
    "answer = {'0': 0, '1' : 0}\n",
    "\n",
    "def solution(arr):\n",
    "    \n",
    "    if len(set(np.ravel(np.array(arr)))) == 1:\n",
    "        answer[str(list(set(np.ravel(arr)))[0])] += 1\n",
    "    \n",
    "    else :\n",
    "        num = int(len(arr) / 2)\n",
    "        arr1 = np.array(arr)[:num, :num]\n",
    "        if len(set(np.ravel(arr1))) == 1:\n",
    "            answer[str(list(set(np.ravel(arr1)))[0])] += 1\n",
    "        else:\n",
    "            solution(arr1)\n",
    "\n",
    "        arr2 = np.array(arr)[:num, num:]\n",
    "        if len(set(np.ravel(arr2))) == 1:\n",
    "            answer[str(list(set(np.ravel(arr2)))[0])] += 1\n",
    "\n",
    "        else:\n",
    "            solution(arr2)\n",
    "\n",
    "        arr3 = np.array(arr)[num:, :num]\n",
    "\n",
    "        if len(set(np.ravel(arr3))) == 1:\n",
    "            answer[str(list(set(np.ravel(arr3)))[0])] += 1\n",
    "\n",
    "        else:\n",
    "            solution(arr3)\n",
    "\n",
    "        arr4 = np.array(arr)[num:, num:]\n",
    "        if len(set(np.ravel(arr4))) == 1:\n",
    "            answer[str(list(set(np.ravel(arr4)))[0])] += 1\n",
    "\n",
    "        else:\n",
    "            solution(arr4)\n",
    "    return list(answer.values())"
   ]
  },
  {
   "cell_type": "code",
   "execution_count": 263,
   "metadata": {
    "execution": {
     "iopub.execute_input": "2021-03-23T01:34:59.819339Z",
     "iopub.status.busy": "2021-03-23T01:34:59.819108Z",
     "iopub.status.idle": "2021-03-23T01:34:59.824660Z",
     "shell.execute_reply": "2021-03-23T01:34:59.824110Z",
     "shell.execute_reply.started": "2021-03-23T01:34:59.819315Z"
    }
   },
   "outputs": [
    {
     "data": {
      "text/plain": [
       "[4, 9]"
      ]
     },
     "execution_count": 263,
     "metadata": {},
     "output_type": "execute_result"
    }
   ],
   "source": [
    "answer = {'0': 0, '1' : 0}\n",
    "arr = [[1,1,0,0],[1,0,0,0],[1,0,0,1],[1,1,1,1]]\n",
    "solution(arr)"
   ]
  },
  {
   "cell_type": "code",
   "execution_count": 264,
   "metadata": {
    "execution": {
     "iopub.execute_input": "2021-03-23T01:35:00.178498Z",
     "iopub.status.busy": "2021-03-23T01:35:00.178288Z",
     "iopub.status.idle": "2021-03-23T01:35:00.182892Z",
     "shell.execute_reply": "2021-03-23T01:35:00.182306Z",
     "shell.execute_reply.started": "2021-03-23T01:35:00.178476Z"
    }
   },
   "outputs": [
    {
     "data": {
      "text/plain": [
       "[1, 0]"
      ]
     },
     "execution_count": 264,
     "metadata": {},
     "output_type": "execute_result"
    }
   ],
   "source": [
    "answer = {'0': 0, '1' : 0}\n",
    "arr = [[0,0],[0,0]]\n",
    "solution(arr)"
   ]
  },
  {
   "cell_type": "code",
   "execution_count": null,
   "metadata": {},
   "outputs": [],
   "source": []
  }
 ],
 "metadata": {
  "kernelspec": {
   "display_name": "Python 3",
   "language": "python",
   "name": "python3"
  },
  "language_info": {
   "codemirror_mode": {
    "name": "ipython",
    "version": 3
   },
   "file_extension": ".py",
   "mimetype": "text/x-python",
   "name": "python",
   "nbconvert_exporter": "python",
   "pygments_lexer": "ipython3",
   "version": "3.8.3"
  }
 },
 "nbformat": 4,
 "nbformat_minor": 4
}
