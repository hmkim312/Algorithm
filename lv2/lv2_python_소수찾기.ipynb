{
 "cells": [
  {
   "cell_type": "markdown",
   "metadata": {},
   "source": [
    "URL <https://programmers.co.kr/learn/courses/30/lessons/42839>{:target=\"_blank\"}\n",
    "\n",
    "#### 문제 설명\n",
    "- 한자리 숫자가 적힌 종이 조각이 흩어져있습니다. 흩어진 종이 조각을 붙여 소수를 몇 개 만들 수 있는지 알아내려 합니다.\n",
    "- 각 종이 조각에 적힌 숫자가 적힌 문자열 numbers가 주어졌을 때, 종이 조각으로 만들 수 있는 소수가 몇 개인지 return 하도록 solution 함수를 완성해주세요.\n",
    "\n",
    "#### 제한 사항\n",
    "- numbers는 길이 1 이상 7 이하인 문자열입니다.\n",
    "- numbers는 0~9까지 숫자만으로 이루어져 있습니다.\n",
    "- 013은 0, 1, 3 숫자가 적힌 종이 조각이 흩어져있다는 의미입니다.\n",
    "\n",
    "#### 문제 풀이\n",
    "- 숫자가 주어지면 소수인지 아닌지 판멸하는 prime 함수를 생성\n",
    "- numbers가 주어지면 itertools의 permutations를 사용하여 각 경우의 수를 모두 더함\n",
    "- set을 이용하여 중복을 제거하고\n",
    "- 011 과 11을 같게 만들기 위해 for문을 돌면서 join을 후 다시 set으로 중복제거를 함\n",
    "- 이후 ls에 있는 수를 prime 함수를 통해 소수 판별을 하고 소수면 answer가 1씩 더해짐"
   ]
  },
  {
   "cell_type": "code",
   "execution_count": 94,
   "metadata": {
    "execution": {
     "iopub.execute_input": "2021-02-15T02:30:33.477853Z",
     "iopub.status.busy": "2021-02-15T02:30:33.477614Z",
     "iopub.status.idle": "2021-02-15T02:30:33.482036Z",
     "shell.execute_reply": "2021-02-15T02:30:33.481363Z",
     "shell.execute_reply.started": "2021-02-15T02:30:33.477827Z"
    }
   },
   "outputs": [],
   "source": [
    "import math\n",
    "import itertools\n",
    "\n",
    "def prime(number):\n",
    "    if number < 2:\n",
    "        return False\n",
    "    for i in range(2, int(math.sqrt(number)) + 1):\n",
    "        if number % i == 0:\n",
    "            return False\n",
    "    return True"
   ]
  },
  {
   "cell_type": "code",
   "execution_count": 165,
   "metadata": {
    "execution": {
     "iopub.execute_input": "2021-02-15T02:46:13.136354Z",
     "iopub.status.busy": "2021-02-15T02:46:13.136114Z",
     "iopub.status.idle": "2021-02-15T02:46:13.142030Z",
     "shell.execute_reply": "2021-02-15T02:46:13.141335Z",
     "shell.execute_reply.started": "2021-02-15T02:46:13.136328Z"
    }
   },
   "outputs": [],
   "source": [
    "def solution(numbers):\n",
    "    answer = 0\n",
    "    ls = []\n",
    "    ls2 = []\n",
    "    for i in range(1, len(numbers)+1):\n",
    "        k = list(itertools.permutations(numbers,i))\n",
    "        ls = ls + k\n",
    "    ls = list(set(ls))\n",
    "\n",
    "    for j in ls:\n",
    "        ls2.append(int(''.join(j)))\n",
    "        ls = list(set(ls2))\n",
    "\n",
    "    for n in ls: \n",
    "        if prime(n):\n",
    "            print(n)\n",
    "            answer += 1\n",
    "    return answer"
   ]
  },
  {
   "cell_type": "code",
   "execution_count": 166,
   "metadata": {
    "execution": {
     "iopub.execute_input": "2021-02-15T02:46:13.911563Z",
     "iopub.status.busy": "2021-02-15T02:46:13.911319Z",
     "iopub.status.idle": "2021-02-15T02:46:13.915541Z",
     "shell.execute_reply": "2021-02-15T02:46:13.914918Z",
     "shell.execute_reply.started": "2021-02-15T02:46:13.911537Z"
    }
   },
   "outputs": [
    {
     "name": "stdout",
     "output_type": "stream",
     "text": [
      "7\n",
      "17\n",
      "71\n"
     ]
    },
    {
     "data": {
      "text/plain": [
       "3"
      ]
     },
     "execution_count": 166,
     "metadata": {},
     "output_type": "execute_result"
    }
   ],
   "source": [
    "numbers = '17'\n",
    "solution(numbers)"
   ]
  },
  {
   "cell_type": "code",
   "execution_count": 167,
   "metadata": {
    "execution": {
     "iopub.execute_input": "2021-02-15T02:46:15.829266Z",
     "iopub.status.busy": "2021-02-15T02:46:15.829043Z",
     "iopub.status.idle": "2021-02-15T02:46:15.833450Z",
     "shell.execute_reply": "2021-02-15T02:46:15.832772Z",
     "shell.execute_reply.started": "2021-02-15T02:46:15.829241Z"
    }
   },
   "outputs": [
    {
     "name": "stdout",
     "output_type": "stream",
     "text": [
      "101\n",
      "11\n"
     ]
    },
    {
     "data": {
      "text/plain": [
       "2"
      ]
     },
     "execution_count": 167,
     "metadata": {},
     "output_type": "execute_result"
    }
   ],
   "source": [
    "numbers = '011'\n",
    "solution(numbers)"
   ]
  }
 ],
 "metadata": {
  "kernelspec": {
   "display_name": "Python 3",
   "language": "python",
   "name": "python3"
  },
  "language_info": {
   "codemirror_mode": {
    "name": "ipython",
    "version": 3
   },
   "file_extension": ".py",
   "mimetype": "text/x-python",
   "name": "python",
   "nbconvert_exporter": "python",
   "pygments_lexer": "ipython3",
   "version": "3.8.3"
  }
 },
 "nbformat": 4,
 "nbformat_minor": 4
}
