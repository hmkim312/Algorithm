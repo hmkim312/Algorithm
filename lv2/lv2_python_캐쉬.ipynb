{
 "cells": [
  {
   "cell_type": "markdown",
   "metadata": {},
   "source": [
    "#### 캐시\n",
    "- 지도개발팀에서 근무하는 제이지는 지도에서 도시 이름을 검색하면 해당 도시와 관련된 맛집 게시물들을 데이터베이스에서 읽어 보여주는 서비스를 개발하고 있다.\n",
    "- 이 프로그램의 테스팅 업무를 담당하고 있는 어피치는 서비스를 오픈하기 전 각 로직에 대한 성능 측정을 수행하였는데, 제이지가 작성한 부분 중 데이터베이스에서 게시물을 가져오는 부분의 실행시간이 너무 오래 걸린다는 것을 알게 되었다.\n",
    "- 어피치는 제이지에게 해당 로직을 개선하라고 닦달하기 시작하였고, 제이지는 DB 캐시를 적용하여 성능 개선을 시도하고 있지만 캐시 크기를 얼마로 해야 효율적인지 몰라 난감한 상황이다.\n",
    "- 어피치에게 시달리는 제이지를 도와, DB 캐시를 적용할 때 캐시 크기에 따른 실행시간 측정 프로그램을 작성하시오.\n",
    "\n",
    "#### 입력 형식\n",
    "- 캐시 크기(cacheSize)와 도시이름 배열(cities)을 입력받는다.\n",
    "- cacheSize는 정수이며, 범위는 0 ≦ cacheSize ≦ 30 이다.\n",
    "- cities는 도시 이름으로 이뤄진 문자열 배열로, 최대 도시 수는 100,000개이다.\n",
    "- 각 도시 이름은 공백, 숫자, 특수문자 등이 없는 영문자로 구성되며, 대소문자 구분을 하지 않는다. 도시 이름은 최대 20자로 이루어져 있다.\n",
    "\n",
    "#### 출력 형식\n",
    "- 입력된 도시이름 배열을 순서대로 처리할 때, \"총 실행시간\"을 출력한다.\n",
    "\n",
    "#### 조건\n",
    "- 캐시 교체 알고리즘은 LRU(Least Recently Used)를 사용한다.\n",
    "- cache hit일 경우 실행시간은 1이다.\n",
    "- cache miss일 경우 실행시간은 5이다.\n",
    "\n",
    "#### Cache란?\n",
    "- 자주 사용하는 데이터나 값을 임시저장소에 미리 복사해 놓는것\n",
    "- 빠를수록 더 비싸고, 저장공간이 작음 (registers -> l1 cache -> l2 cache -> l3 cache -> ram -> SSD -> HDD)\n",
    "- Cache에 저장되어 있으면 DB에서 읽지않고 그냥 바로 가져옴 이것을 Cache Hit이라고 함,\n",
    "- 반대로 Cache에 없어서 실제 DB에서 읽는것을 cache miss라고 함\n",
    "- LRU는 캐시가 꽉 찼다면 가장 오래된것을 지우고 새로운 정보를 마지막에 넣음\n",
    "\n",
    "#### 문제풀이\n",
    "- 아래의 5가지 경우의 수가 있음\n",
    "- 1) cachessize가 0이 아닐때\n",
    "    - 1-1) 같은 도시가 캐시에 있을때 (cache hit)\n",
    "        - 캐시에서 도시를 빼오니까, 빼온 캐시는 삭제하고 다시 도시를 맨 뒤에 저장하고 time은 +1\n",
    "    - 1-2) 같은 도시가 캐시에 없을때 (cache miss)\n",
    "        - 1-2-1) 캐시가 가득 찼을때\n",
    "            - 캐시의 맨 앞을 삭제하고, 새로운 도시를 캐시에 저장 후 time +5\n",
    "        - 1-2-2) 캐시가 가득 안찼을때\n",
    "            - 새로운 도시를 캐시에 저장 후 time + 5\n",
    "            \n",
    "- 2)cachesize가 0일때\n",
    "    - 캐쉬에 저장이 안되니 cities의 갯수만큼 * 5를 해주면됨\n",
    "- 위의 경우의 수를 고려하여 time을 구하여 return 하면됨\n",
    "- cache의 개념이 없어서 조금 햇갈렸었음"
   ]
  },
  {
   "cell_type": "code",
   "execution_count": 37,
   "metadata": {
    "execution": {
     "iopub.execute_input": "2021-04-07T01:56:09.726595Z",
     "iopub.status.busy": "2021-04-07T01:56:09.726409Z",
     "iopub.status.idle": "2021-04-07T01:56:09.731796Z",
     "shell.execute_reply": "2021-04-07T01:56:09.731149Z",
     "shell.execute_reply.started": "2021-04-07T01:56:09.726575Z"
    }
   },
   "outputs": [],
   "source": [
    "def solution(cacheSize, cities):\n",
    "    \n",
    "    # 기준점이 되는 times와 cache를 만듬\n",
    "    times = 0\n",
    "    cache = []\n",
    "    \n",
    "    # 모든 단어를 소문자로 바꿈, 소문자와 대문자 구별이 없다고 하니\n",
    "    temp_cities = [city.lower() for city in cities]\n",
    "    temp_cities\n",
    "    \n",
    "    # cachesize가 0이 아닐때 0이면 저장을 못하니까, 전부다 5초로 해야함\n",
    "    if cacheSize != 0:\n",
    "        for city in temp_cities:\n",
    "            \n",
    "            # 같은 도시가 캐시에 있을때 -> cache hit\n",
    "            if city in cache:\n",
    "                cache.pop(cache.index(city))\n",
    "                cache.append(city)\n",
    "                times += 1\n",
    "                \n",
    "            # 같은 도시가 캐시에 없을때 -> cache miss\n",
    "            else:\n",
    "                # 캐시가 가득 찼을때 \n",
    "                if len(cache) >= cacheSize:\n",
    "                    cache.pop(0)\n",
    "                    cache.append(city)\n",
    "                    times += 5\n",
    "                # 캐시가 비었을때\n",
    "                else:\n",
    "                    cache.append(city)\n",
    "                    times += 5\n",
    "    # cachesize가 0일때\n",
    "    else:\n",
    "        times += len(temp_cities) * 5\n",
    "\n",
    "    return times"
   ]
  },
  {
   "cell_type": "code",
   "execution_count": 38,
   "metadata": {
    "execution": {
     "iopub.execute_input": "2021-04-07T01:56:10.232410Z",
     "iopub.status.busy": "2021-04-07T01:56:10.232182Z",
     "iopub.status.idle": "2021-04-07T01:56:10.236928Z",
     "shell.execute_reply": "2021-04-07T01:56:10.236298Z",
     "shell.execute_reply.started": "2021-04-07T01:56:10.232386Z"
    }
   },
   "outputs": [
    {
     "data": {
      "text/plain": [
       "50"
      ]
     },
     "execution_count": 38,
     "metadata": {},
     "output_type": "execute_result"
    }
   ],
   "source": [
    "cacheSize = 3\n",
    "cities = [\"Jeju\", \"Pangyo\", \"Seoul\", \"NewYork\", \"LA\", \"Jeju\", \"Pangyo\", \"Seoul\", \"NewYork\", \"LA\"]\n",
    "solution(cacheSize, cities)"
   ]
  },
  {
   "cell_type": "code",
   "execution_count": 39,
   "metadata": {
    "execution": {
     "iopub.execute_input": "2021-04-07T01:56:10.488894Z",
     "iopub.status.busy": "2021-04-07T01:56:10.488681Z",
     "iopub.status.idle": "2021-04-07T01:56:10.493053Z",
     "shell.execute_reply": "2021-04-07T01:56:10.492452Z",
     "shell.execute_reply.started": "2021-04-07T01:56:10.488872Z"
    }
   },
   "outputs": [
    {
     "data": {
      "text/plain": [
       "21"
      ]
     },
     "execution_count": 39,
     "metadata": {},
     "output_type": "execute_result"
    }
   ],
   "source": [
    "cacheSize = 3\n",
    "cities = [\"Jeju\", \"Pangyo\", \"Seoul\", \"Jeju\", \"Pangyo\", \"Seoul\", \"Jeju\", \"Pangyo\", \"Seoul\"]\t\n",
    "solution(cacheSize, cities)"
   ]
  },
  {
   "cell_type": "code",
   "execution_count": 40,
   "metadata": {
    "execution": {
     "iopub.execute_input": "2021-04-07T01:56:10.700660Z",
     "iopub.status.busy": "2021-04-07T01:56:10.700428Z",
     "iopub.status.idle": "2021-04-07T01:56:10.705767Z",
     "shell.execute_reply": "2021-04-07T01:56:10.705163Z",
     "shell.execute_reply.started": "2021-04-07T01:56:10.700637Z"
    }
   },
   "outputs": [
    {
     "data": {
      "text/plain": [
       "60"
      ]
     },
     "execution_count": 40,
     "metadata": {},
     "output_type": "execute_result"
    }
   ],
   "source": [
    "cacheSize = 2\n",
    "cities = [\"Jeju\", \"Pangyo\", \"Seoul\", \"NewYork\", \"LA\", \"SanFrancisco\", \"Seoul\", \"Rome\", \"Paris\", \"Jeju\", \"NewYork\", \"Rome\"]\n",
    "solution(cacheSize, cities)"
   ]
  },
  {
   "cell_type": "code",
   "execution_count": 41,
   "metadata": {
    "execution": {
     "iopub.execute_input": "2021-04-07T01:56:10.887396Z",
     "iopub.status.busy": "2021-04-07T01:56:10.887191Z",
     "iopub.status.idle": "2021-04-07T01:56:10.891497Z",
     "shell.execute_reply": "2021-04-07T01:56:10.890972Z",
     "shell.execute_reply.started": "2021-04-07T01:56:10.887373Z"
    }
   },
   "outputs": [
    {
     "data": {
      "text/plain": [
       "52"
      ]
     },
     "execution_count": 41,
     "metadata": {},
     "output_type": "execute_result"
    }
   ],
   "source": [
    "cacheSize = 5\n",
    "cities = [\"Jeju\", \"Pangyo\", \"Seoul\", \"NewYork\", \"LA\", \"SanFrancisco\", \"Seoul\", \"Rome\", \"Paris\", \"Jeju\", \"NewYork\", \"Rome\"]\n",
    "solution(cacheSize, cities)"
   ]
  },
  {
   "cell_type": "code",
   "execution_count": 42,
   "metadata": {
    "execution": {
     "iopub.execute_input": "2021-04-07T01:56:11.073125Z",
     "iopub.status.busy": "2021-04-07T01:56:11.072913Z",
     "iopub.status.idle": "2021-04-07T01:56:11.077293Z",
     "shell.execute_reply": "2021-04-07T01:56:11.076728Z",
     "shell.execute_reply.started": "2021-04-07T01:56:11.073102Z"
    }
   },
   "outputs": [
    {
     "data": {
      "text/plain": [
       "16"
      ]
     },
     "execution_count": 42,
     "metadata": {},
     "output_type": "execute_result"
    }
   ],
   "source": [
    "cacheSize = 2\n",
    "cities = [\"Jeju\", \"Pangyo\", \"NewYork\", \"newyork\"]\n",
    "solution(cacheSize, cities)"
   ]
  },
  {
   "cell_type": "code",
   "execution_count": 43,
   "metadata": {
    "execution": {
     "iopub.execute_input": "2021-04-07T01:56:11.390766Z",
     "iopub.status.busy": "2021-04-07T01:56:11.390564Z",
     "iopub.status.idle": "2021-04-07T01:56:11.394539Z",
     "shell.execute_reply": "2021-04-07T01:56:11.394028Z",
     "shell.execute_reply.started": "2021-04-07T01:56:11.390743Z"
    }
   },
   "outputs": [
    {
     "data": {
      "text/plain": [
       "25"
      ]
     },
     "execution_count": 43,
     "metadata": {},
     "output_type": "execute_result"
    }
   ],
   "source": [
    "cacheSize = 0\n",
    "cities = [\"Jeju\", \"Pangyo\", \"Seoul\", \"NewYork\", \"LA\"]\n",
    "solution(cacheSize, cities)"
   ]
  }
 ],
 "metadata": {
  "kernelspec": {
   "display_name": "Python 3",
   "language": "python",
   "name": "python3"
  },
  "language_info": {
   "codemirror_mode": {
    "name": "ipython",
    "version": 3
   },
   "file_extension": ".py",
   "mimetype": "text/x-python",
   "name": "python",
   "nbconvert_exporter": "python",
   "pygments_lexer": "ipython3",
   "version": "3.8.3"
  }
 },
 "nbformat": 4,
 "nbformat_minor": 4
}
