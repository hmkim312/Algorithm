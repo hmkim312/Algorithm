{
 "cells": [
  {
   "cell_type": "markdown",
   "metadata": {},
   "source": [
    "URL : <https://programmers.co.kr/learn/courses/30/lessons/12941>{:target=\"_blank\"}\n",
    "\n",
    "#### 문제 설명\n",
    "- 길이가 같은 배열 A, B 두개가 있습니다. 각 배열은 자연수로 이루어져 있습니다.\n",
    "- 배열 A, B에서 각각 한 개의 숫자를 뽑아 두 수를 곱합니다. 이러한 과정을 배열의 길이만큼 반복하며, 두 수를 곱한 값을 누적하여 더합니다. 이때 최종적으로 누적된 값이 최소가 되도록 만드는 것이 목표입니다. (단, 각 배열에서 k번째 숫자를 뽑았다면 다음에 k번째 숫자는 다시 뽑을 수 없습니다.)\n",
    "- 예를 들어 A = [1, 4, 2] , B = [5, 4, 4] 라면\n",
    "\n",
    "    - A에서 첫번째 숫자인 1, B에서 두번째 숫자인 5를 뽑아 곱하여 더합니다. (누적된 값 : 0 + 5(1x5) = 5)\n",
    "    - A에서 두번째 숫자인 4, B에서 세번째 숫자인 4를 뽑아 곱하여 더합니다. (누적된 값 : 5 + 16(4x4) = 21)\n",
    "    - A에서 세번째 숫자인 2, B에서 첫번째 숫자인 4를 뽑아 곱하여 더합니다. (누적된 값 : 21 + 8(2x4) = 29)\n",
    "    - 즉, 이 경우가 최소가 되므로 29를 return 합니다.\n",
    "\n",
    "- 배열 A, B가 주어질 때 최종적으로 누적된 최솟값을 return 하는 solution 함수를 완성해 주세요.\n",
    "\n",
    "#### 제한사항\n",
    "- 배열 A, B의 크기 : 1,000 이하의 자연수\n",
    "- 배열 A, B의 원소의 크기 : 1,000 이하의 자연수"
   ]
  },
  {
   "cell_type": "markdown",
   "metadata": {},
   "source": [
    "#### 문제풀이\n",
    "- 두 배열의 각 원소를 곱해서 가장 작은 값을 리턴시키면 됩니다.\n",
    "- 각 개별에서 하나는 가장 작은 수 다른 배열은 가장 큰수를 각각 곱하여 더하면 가장 작은수를 리턴할수 있음\n",
    "- sort와 for문을 사용하여 해결함\n",
    "- 다른 사람들의 풀이를 보니 zip을 사용하는 경우도 있음.\n",
    "- 조금더 간결해지는듯"
   ]
  },
  {
   "cell_type": "code",
   "execution_count": 14,
   "metadata": {
    "execution": {
     "iopub.execute_input": "2021-01-18T00:32:25.339492Z",
     "iopub.status.busy": "2021-01-18T00:32:25.339275Z",
     "iopub.status.idle": "2021-01-18T00:32:25.343554Z",
     "shell.execute_reply": "2021-01-18T00:32:25.342775Z",
     "shell.execute_reply.started": "2021-01-18T00:32:25.339469Z"
    }
   },
   "outputs": [],
   "source": [
    "def solution(a, b):\n",
    "    a.sort(reverse=False)\n",
    "    b.sort(reverse=True)\n",
    "    answer = 0\n",
    "    for i in range(0,len(a)):\n",
    "        answer += a[i] * b[i]\n",
    "    return answer"
   ]
  },
  {
   "cell_type": "code",
   "execution_count": 16,
   "metadata": {
    "execution": {
     "iopub.execute_input": "2021-01-18T00:32:35.025086Z",
     "iopub.status.busy": "2021-01-18T00:32:35.024873Z",
     "iopub.status.idle": "2021-01-18T00:32:35.029015Z",
     "shell.execute_reply": "2021-01-18T00:32:35.028410Z",
     "shell.execute_reply.started": "2021-01-18T00:32:35.025064Z"
    }
   },
   "outputs": [
    {
     "data": {
      "text/plain": [
       "29"
      ]
     },
     "execution_count": 16,
     "metadata": {},
     "output_type": "execute_result"
    }
   ],
   "source": [
    "a = [1, 4, 2]\n",
    "b = [5, 4, 4]\n",
    "solution(a, b)"
   ]
  },
  {
   "cell_type": "code",
   "execution_count": 17,
   "metadata": {
    "execution": {
     "iopub.execute_input": "2021-01-18T00:32:44.965095Z",
     "iopub.status.busy": "2021-01-18T00:32:44.964860Z",
     "iopub.status.idle": "2021-01-18T00:32:44.969532Z",
     "shell.execute_reply": "2021-01-18T00:32:44.968930Z",
     "shell.execute_reply.started": "2021-01-18T00:32:44.965071Z"
    }
   },
   "outputs": [
    {
     "data": {
      "text/plain": [
       "10"
      ]
     },
     "execution_count": 17,
     "metadata": {},
     "output_type": "execute_result"
    }
   ],
   "source": [
    "a = [1, 2]\n",
    "b = [3, 4]\n",
    "solution(a, b)"
   ]
  }
 ],
 "metadata": {
  "kernelspec": {
   "display_name": "Python 3",
   "language": "python",
   "name": "python3"
  },
  "language_info": {
   "codemirror_mode": {
    "name": "ipython",
    "version": 3
   },
   "file_extension": ".py",
   "mimetype": "text/x-python",
   "name": "python",
   "nbconvert_exporter": "python",
   "pygments_lexer": "ipython3",
   "version": "3.8.3"
  }
 },
 "nbformat": 4,
 "nbformat_minor": 4
}
