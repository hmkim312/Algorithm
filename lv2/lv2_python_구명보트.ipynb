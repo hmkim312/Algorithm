{
 "cells": [
  {
   "cell_type": "markdown",
   "metadata": {},
   "source": [
    "URL : <https://programmers.co.kr/learn/courses/30/lessons/42885>{:target=\"_blank\"}\n",
    "\n",
    "#### 문제 설명\n",
    "- 무인도에 갇힌 사람들을 구명보트를 이용하여 구출하려고 합니다. 구명보트는 작아서 한 번에 최대 2명씩 밖에 탈 수 없고, 무게 제한도 있습니다.\n",
    "- 예를 들어, 사람들의 몸무게가 [70kg, 50kg, 80kg, 50kg]이고 구명보트의 무게 제한이 100kg이라면 2번째 사람과 4번째 사람은 같이 탈 수 있지만 1번째 사람과 3번째 사람의 무게의 합은 150kg이므로 구명보트의 무게 제한을 초과하여 같이 탈 수 없습니다.\n",
    "- 구명보트를 최대한 적게 사용하여 모든 사람을 구출하려고 합니다.\n",
    "- 사람들의 몸무게를 담은 배열 people과 구명보트의 무게 제한 limit가 매개변수로 주어질 때, 모든 사람을 구출하기 위해 필요한 구명보트 개수의 최솟값을 return 하도록 solution 함수를 작성해주세요.\n",
    "\n",
    "#### 제한사항\n",
    "- 무인도에 갇힌 사람은 1명 이상 50,000명 이하입니다.\n",
    "- 각 사람의 몸무게는 40kg 이상 240kg 이하입니다.\n",
    "- 구명보트의 무게 제한은 40kg 이상 240kg 이하입니다.\n",
    "- 구명보트의 무게 제한은 항상 사람들의 몸무게 중 최댓값보다 크게 주어지므로 사람들을 구출할 수 없는 경우는 없습니다.\n",
    "\n",
    "#### 문제풀이\n",
    "- 주어진 배열 people를 크기순으로 정렬하여 맨 앞(가장 가벼운) 사람과 맨 뒤(가장 무거운) 사람 합의 무게가 limit보다 작으면 둘다 태워서 출발\n",
    "- 만일 가장 가벼운 사람과 가장 무거운 사람의 합이 limit보다 크면 가장 무거운 사람만 보내면됨\n",
    "- i는 앞에서 시작하는 index, p는 뒤에서 시작하는 index\n",
    "- pop나 remove를 사용하면 효율성이 떨어진다고 함"
   ]
  },
  {
   "cell_type": "code",
   "execution_count": 117,
   "metadata": {
    "execution": {
     "iopub.execute_input": "2021-02-01T01:14:50.858095Z",
     "iopub.status.busy": "2021-02-01T01:14:50.857879Z",
     "iopub.status.idle": "2021-02-01T01:14:50.862428Z",
     "shell.execute_reply": "2021-02-01T01:14:50.861672Z",
     "shell.execute_reply.started": "2021-02-01T01:14:50.858072Z"
    }
   },
   "outputs": [],
   "source": [
    "def solution(people, limit):\n",
    "    \n",
    "    people.sort()\n",
    "    i = 0\n",
    "    p = len(people) - 1\n",
    "    answer = 0\n",
    "    \n",
    "    while i <= p:\n",
    "        if limit >= people[i] + people[p]:\n",
    "            i += 1\n",
    "            p -= 1\n",
    "            answer += 1\n",
    "        else :\n",
    "            p -= 1\n",
    "            answer += 1\n",
    "            \n",
    "    return answer"
   ]
  },
  {
   "cell_type": "code",
   "execution_count": 118,
   "metadata": {
    "execution": {
     "iopub.execute_input": "2021-02-01T01:14:51.427436Z",
     "iopub.status.busy": "2021-02-01T01:14:51.427189Z",
     "iopub.status.idle": "2021-02-01T01:14:51.432457Z",
     "shell.execute_reply": "2021-02-01T01:14:51.431807Z",
     "shell.execute_reply.started": "2021-02-01T01:14:51.427408Z"
    }
   },
   "outputs": [
    {
     "data": {
      "text/plain": [
       "3"
      ]
     },
     "execution_count": 118,
     "metadata": {},
     "output_type": "execute_result"
    }
   ],
   "source": [
    "people = [70, 50, 80, 50]\n",
    "limit = 100\n",
    "solution(people, limit)"
   ]
  },
  {
   "cell_type": "code",
   "execution_count": 119,
   "metadata": {
    "execution": {
     "iopub.execute_input": "2021-02-01T01:14:51.832841Z",
     "iopub.status.busy": "2021-02-01T01:14:51.832632Z",
     "iopub.status.idle": "2021-02-01T01:14:51.836697Z",
     "shell.execute_reply": "2021-02-01T01:14:51.836148Z",
     "shell.execute_reply.started": "2021-02-01T01:14:51.832819Z"
    }
   },
   "outputs": [
    {
     "data": {
      "text/plain": [
       "3"
      ]
     },
     "execution_count": 119,
     "metadata": {},
     "output_type": "execute_result"
    }
   ],
   "source": [
    "people = [70, 50, 80]\n",
    "limit = 100\n",
    "solution(people, limit)"
   ]
  }
 ],
 "metadata": {
  "kernelspec": {
   "display_name": "Python 3",
   "language": "python",
   "name": "python3"
  },
  "language_info": {
   "codemirror_mode": {
    "name": "ipython",
    "version": 3
   },
   "file_extension": ".py",
   "mimetype": "text/x-python",
   "name": "python",
   "nbconvert_exporter": "python",
   "pygments_lexer": "ipython3",
   "version": "3.8.3"
  }
 },
 "nbformat": 4,
 "nbformat_minor": 4
}
