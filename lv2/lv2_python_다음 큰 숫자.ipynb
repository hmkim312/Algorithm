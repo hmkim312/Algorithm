{
 "cells": [
  {
   "cell_type": "markdown",
   "metadata": {},
   "source": [
    "URL : <https://programmers.co.kr/learn/courses/30/lessons/12911>{:target=\"_blank\"}\n",
    "\n",
    "#### 문제 설명\n",
    "- 자연수 n이 주어졌을 때, n의 다음 큰 숫자는 다음과 같이 정의 합니다.\n",
    "    - 조건 1. n의 다음 큰 숫자는 n보다 큰 자연수 입니다.\n",
    "    - 조건 2. n의 다음 큰 숫자와 n은 2진수로 변환했을 때 1의 갯수가 같습니다.\n",
    "    - 조건 3. n의 다음 큰 숫자는 조건 1, 2를 만족하는 수 중 가장 작은 수 입니다.\n",
    "    - 예를 들어서 78(1001110)의 다음 큰 숫자는 83(1010011)입니다.\n",
    "\n",
    "- 자연수 n이 매개변수로 주어질 때, n의 다음 큰 숫자를 return 하는 solution 함수를 완성해주세요.\n",
    "\n",
    "#### 제한 사항\n",
    "- n은 1,000,000 이하의 자연수 입니다."
   ]
  },
  {
   "cell_type": "markdown",
   "metadata": {},
   "source": [
    "#### 문제풀이\n",
    "- 주어진 n을 fotmat(n, 'b')를 활용하여 2진법으로 만들고 map으로 list형식으로 한뒤 모두 더하면 1만 더해지기 때문에 1의 갯수를 알수 있음\n",
    "- 이후 while문을 돌면서 n에 +1을 해주면서 기존의 n과 새로운 n의 1이 똑같아지면 break하고 n을 return해줌"
   ]
  },
  {
   "cell_type": "code",
   "execution_count": 28,
   "metadata": {
    "execution": {
     "iopub.execute_input": "2021-01-08T00:53:40.001048Z",
     "iopub.status.busy": "2021-01-08T00:53:40.000839Z",
     "iopub.status.idle": "2021-01-08T00:53:40.004991Z",
     "shell.execute_reply": "2021-01-08T00:53:40.004323Z",
     "shell.execute_reply.started": "2021-01-08T00:53:40.001025Z"
    }
   },
   "outputs": [],
   "source": [
    "def solution(n):\n",
    "    k = sum(list(map(int, format(n, 'b'))))\n",
    "    while True:\n",
    "        n += 1\n",
    "        k_1 = sum(list(map(int, format(n, 'b'))))\n",
    "        if k == k_1:\n",
    "            break\n",
    "    return n"
   ]
  },
  {
   "cell_type": "code",
   "execution_count": 29,
   "metadata": {
    "execution": {
     "iopub.execute_input": "2021-01-08T00:53:40.487841Z",
     "iopub.status.busy": "2021-01-08T00:53:40.487588Z",
     "iopub.status.idle": "2021-01-08T00:53:40.491727Z",
     "shell.execute_reply": "2021-01-08T00:53:40.491042Z",
     "shell.execute_reply.started": "2021-01-08T00:53:40.487814Z"
    }
   },
   "outputs": [
    {
     "data": {
      "text/plain": [
       "83"
      ]
     },
     "execution_count": 29,
     "metadata": {},
     "output_type": "execute_result"
    }
   ],
   "source": [
    "n = 78\n",
    "solution(n)"
   ]
  },
  {
   "cell_type": "code",
   "execution_count": 30,
   "metadata": {
    "execution": {
     "iopub.execute_input": "2021-01-08T00:53:40.888707Z",
     "iopub.status.busy": "2021-01-08T00:53:40.888462Z",
     "iopub.status.idle": "2021-01-08T00:53:40.892450Z",
     "shell.execute_reply": "2021-01-08T00:53:40.891867Z",
     "shell.execute_reply.started": "2021-01-08T00:53:40.888680Z"
    }
   },
   "outputs": [
    {
     "data": {
      "text/plain": [
       "23"
      ]
     },
     "execution_count": 30,
     "metadata": {},
     "output_type": "execute_result"
    }
   ],
   "source": [
    "n = 15\n",
    "solution(n)"
   ]
  },
  {
   "cell_type": "markdown",
   "metadata": {},
   "source": [
    "#### 문제풀이 2\n",
    "- 위의 풀이에서 .count('1')을 사용하면 굳이 map, list를 사용하지 않아도 된다는것을 알게 됨.\n",
    "- 속도도 위에것보다 훨씬 빠름"
   ]
  },
  {
   "cell_type": "code",
   "execution_count": 31,
   "metadata": {
    "execution": {
     "iopub.execute_input": "2021-01-08T00:53:41.587050Z",
     "iopub.status.busy": "2021-01-08T00:53:41.586801Z",
     "iopub.status.idle": "2021-01-08T00:53:41.590671Z",
     "shell.execute_reply": "2021-01-08T00:53:41.590135Z",
     "shell.execute_reply.started": "2021-01-08T00:53:41.587021Z"
    }
   },
   "outputs": [],
   "source": [
    "def solution(n):\n",
    "    k = format(n, 'b').count('1')\n",
    "    while True:\n",
    "        n += 1\n",
    "        k_1 = format(n, 'b').count('1')\n",
    "        if k == k_1:\n",
    "            break\n",
    "    return n"
   ]
  },
  {
   "cell_type": "code",
   "execution_count": 32,
   "metadata": {
    "execution": {
     "iopub.execute_input": "2021-01-08T00:53:41.903553Z",
     "iopub.status.busy": "2021-01-08T00:53:41.903314Z",
     "iopub.status.idle": "2021-01-08T00:53:41.906993Z",
     "shell.execute_reply": "2021-01-08T00:53:41.906487Z",
     "shell.execute_reply.started": "2021-01-08T00:53:41.903521Z"
    }
   },
   "outputs": [
    {
     "data": {
      "text/plain": [
       "83"
      ]
     },
     "execution_count": 32,
     "metadata": {},
     "output_type": "execute_result"
    }
   ],
   "source": [
    "n = 78\n",
    "solution(n)"
   ]
  },
  {
   "cell_type": "code",
   "execution_count": 33,
   "metadata": {
    "execution": {
     "iopub.execute_input": "2021-01-08T00:53:42.249027Z",
     "iopub.status.busy": "2021-01-08T00:53:42.248784Z",
     "iopub.status.idle": "2021-01-08T00:53:42.253526Z",
     "shell.execute_reply": "2021-01-08T00:53:42.252711Z",
     "shell.execute_reply.started": "2021-01-08T00:53:42.249001Z"
    }
   },
   "outputs": [
    {
     "data": {
      "text/plain": [
       "23"
      ]
     },
     "execution_count": 33,
     "metadata": {},
     "output_type": "execute_result"
    }
   ],
   "source": [
    "n = 15\n",
    "solution(n)"
   ]
  }
 ],
 "metadata": {
  "kernelspec": {
   "display_name": "Python 3",
   "language": "python",
   "name": "python3"
  },
  "language_info": {
   "codemirror_mode": {
    "name": "ipython",
    "version": 3
   },
   "file_extension": ".py",
   "mimetype": "text/x-python",
   "name": "python",
   "nbconvert_exporter": "python",
   "pygments_lexer": "ipython3",
   "version": "3.8.3"
  }
 },
 "nbformat": 4,
 "nbformat_minor": 4
}
