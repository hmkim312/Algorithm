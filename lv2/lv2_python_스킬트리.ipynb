{
 "cells": [
  {
   "cell_type": "markdown",
   "metadata": {},
   "source": [
    "URL : <https://programmers.co.kr/learn/courses/30/lessons/49993>{:target=\"_blank\"}\n",
    "\n",
    "#### 문제 설명\n",
    "- 선행 스킬이란 어떤 스킬을 배우기 전에 먼저 배워야 하는 스킬을 뜻합니다.\n",
    "- 예를 들어 선행 스킬 순서가 스파크 → 라이트닝 볼트 → 썬더일때, 썬더를 배우려면 먼저 라이트닝 볼트를 배워야 하고, 라이트닝 볼트를 배우려면 먼저 스파크를 배워야 합니다.\n",
    "- 위 순서에 없는 다른 스킬(힐링 등)은 순서에 상관없이 배울 수 있습니다. 따라서 스파크 → 힐링 → 라이트닝 볼트 → 썬더와 같은 스킬트리는 가능하지만, 썬더 → 스파크나 라이트닝 볼트 → 스파크 → 힐링 → 썬더와 같은 스킬트리는 불가능합니다.\n",
    "- 선행 스킬 순서 skill과 유저들이 만든 스킬트리1를 담은 배열 skill_trees가 매개변수로 주어질 때, 가능한 스킬트리 개수를 return 하는 solution 함수를 작성해주세요.\n",
    "\n",
    "#### 제한 조건\n",
    "- 스킬은 알파벳 대문자로 표기하며, 모든 문자열은 알파벳 대문자로만 이루어져 있습니다.\n",
    "- 스킬 순서와 스킬트리는 문자열로 표기합니다.\n",
    "- 예를 들어, C → B → D 라면 CBD로 표기합니다\n",
    "- 선행 스킬 순서 skill의 길이는 1 이상 26 이하이며, 스킬은 중복해 주어지지 않습니다.\n",
    "- skill_trees는 길이 1 이상 20 이하인 배열입니다.\n",
    "- skill_trees의 원소는 스킬을 나타내는 문자열입니다.\n",
    "- skill_trees의 원소는 길이가 2 이상 26 이하인 문자열이며, 스킬이 중복해 주어지지 않습니다\n",
    "\n",
    "#### 문제 풀이\n",
    "- 순서에 상관없이 배울수 있는 스킬은 어디에 있어도 상관이 없고, 선행스킬이 중요하기 때문에 아무때나 배우는 스킬은 삭제함\n",
    "- 배열 skill_trees에서 선행 스킬 순서가 있는 스킬만 따로 ls에 append 해주어 skill과 일치하는지 확인하는 코드로 작성\n",
    "- 선행스킬이 모두 끝까지 있는 상황은 아니기 떄문에 (AECB)의 경우 만일 append한 ls가 주어진 skill보다 크기가 작으면 작은 만큼만 비교함"
   ]
  },
  {
   "cell_type": "code",
   "execution_count": 48,
   "metadata": {
    "execution": {
     "iopub.execute_input": "2021-02-02T00:56:03.993147Z",
     "iopub.status.busy": "2021-02-02T00:56:03.992937Z",
     "iopub.status.idle": "2021-02-02T00:56:03.998085Z",
     "shell.execute_reply": "2021-02-02T00:56:03.997478Z",
     "shell.execute_reply.started": "2021-02-02T00:56:03.993124Z"
    }
   },
   "outputs": [],
   "source": [
    "def solution(skill, skill_trees):\n",
    "    answer = 0\n",
    "    for skill_tree in skill_trees: \n",
    "\n",
    "\n",
    "        ls = []\n",
    "        for i in skill_tree:\n",
    "            if i in skill:\n",
    "                ls.append(i)\n",
    "        ls = ''.join(ls)\n",
    "\n",
    "        if len(ls) != len(skill):\n",
    "            if skill[:len(ls)] in ls:\n",
    "                answer += 1\n",
    "\n",
    "        else:\n",
    "            if skill in ls:\n",
    "                answer += 1\n",
    "    return answer"
   ]
  },
  {
   "cell_type": "code",
   "execution_count": 49,
   "metadata": {
    "execution": {
     "iopub.execute_input": "2021-02-02T00:56:16.538266Z",
     "iopub.status.busy": "2021-02-02T00:56:16.538065Z",
     "iopub.status.idle": "2021-02-02T00:56:16.542274Z",
     "shell.execute_reply": "2021-02-02T00:56:16.541661Z",
     "shell.execute_reply.started": "2021-02-02T00:56:16.538245Z"
    }
   },
   "outputs": [
    {
     "data": {
      "text/plain": [
       "2"
      ]
     },
     "execution_count": 49,
     "metadata": {},
     "output_type": "execute_result"
    }
   ],
   "source": [
    "skill = 'CBD'\n",
    "skill_trees = [\"BACDE\", \"CBADF\", \"AECB\", \"BDA\"]\n",
    "\n",
    "solution(skill, skill_trees)"
   ]
  }
 ],
 "metadata": {
  "kernelspec": {
   "display_name": "Python 3",
   "language": "python",
   "name": "python3"
  },
  "language_info": {
   "codemirror_mode": {
    "name": "ipython",
    "version": 3
   },
   "file_extension": ".py",
   "mimetype": "text/x-python",
   "name": "python",
   "nbconvert_exporter": "python",
   "pygments_lexer": "ipython3",
   "version": "3.8.3"
  }
 },
 "nbformat": 4,
 "nbformat_minor": 4
}
