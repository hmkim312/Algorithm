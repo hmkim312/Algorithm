{
 "cells": [
  {
   "cell_type": "markdown",
   "metadata": {},
   "source": [
    "URL : <https://programmers.co.kr/learn/courses/30/lessons/42626>{:target=\"_blank\"}\n",
    "\n",
    "#### 문제 설명\n",
    "- 매운 것을 좋아하는 Leo는 모든 음식의 스코빌 지수를 K 이상으로 만들고 싶습니다. 모든 음식의 스코빌 지수를 K 이상으로 만들기 위해 Leo는 스코빌 지수가 가장 낮은 두 개의 음식을 아래와 같이 특별한 방법으로 섞어 새로운 음식을 만듭니다.\n",
    "- 섞은 음식의 스코빌 지수 = 가장 맵지 않은 음식의 스코빌 지수 + (두 번째로 맵지 않은 음식의 스코빌 지수 * 2)\n",
    "- Leo는 모든 음식의 스코빌 지수가 K 이상이 될 때까지 반복하여 섞습니다.\n",
    "- Leo가 가진 음식의 스코빌 지수를 담은 배열 scoville과 원하는 스코빌 지수 K가 주어질 때, 모든 음식의 스코빌 지수를 K 이상으로 만들기 위해 섞어야 하는 최소 횟수를 return 하도록 solution 함수를 작성해주세요.\n",
    "\n",
    "#### 제한 사항\n",
    "- scoville의 길이는 2 이상 1,000,000 이하입니다.\n",
    "- K는 0 이상 1,000,000,000 이하입니다.\n",
    "- scoville의 원소는 각각 0 이상 1,000,000 이하입니다.\n",
    "- 모든 음식의 스코빌 지수를 K 이상으로 만들 수 없는 경우에는 -1을 return 합니다.\n"
   ]
  },
  {
   "cell_type": "markdown",
   "metadata": {},
   "source": [
    "#### 문제풀이\n",
    "- 처음 문제를 보고는 sort를 사용하여 풀면 되겠다 했는데, 문제는 풀려도 시간 복잡도(효율성)에서 풀리지 않음\n",
    "- 아무래도 while문 안에 계속 list에 append가 될때마다 sort를 해야해서 그런듯 (list가 길면 엄청 느려지는듯)\n",
    "- 더 빠르게 하기 위해 heapq라는 내장 함수를 알았고, 해당 함수의 pop, push를 이용하여 문제를 해결\n",
    "- scoville의 첫 원소가 주어진 k보다 작다면 꾸준히 스코빌점수를 계산하게 하였고, 만일 scoville의 길이가 1이고 해당 원소가 주어진 k보다 작다면 -1을 리턴하게 하였다.(주어진k 이상으로 스코빌지수를 만들수 없는 경우)\n",
    "- 그 외에는 count를 +1씩 해주어, 마지막에 첫원소가 k보다 커지면 count를 리턴하게 함수를 짬\n",
    "- 아마 주어진 k는 scoville 첫번째 원소보다 무조건 큰것 같다 (0이 리턴이 안되는듯)"
   ]
  },
  {
   "cell_type": "code",
   "execution_count": 52,
   "metadata": {
    "execution": {
     "iopub.execute_input": "2021-01-08T02:02:39.545011Z",
     "iopub.status.busy": "2021-01-08T02:02:39.544799Z",
     "iopub.status.idle": "2021-01-08T02:02:39.549752Z",
     "shell.execute_reply": "2021-01-08T02:02:39.549098Z",
     "shell.execute_reply.started": "2021-01-08T02:02:39.544989Z"
    }
   },
   "outputs": [],
   "source": [
    "import heapq\n",
    "\n",
    "def solution(scoville, k):\n",
    "    heapq.heapify(scoville)\n",
    "    \n",
    "    count = 0\n",
    "    \n",
    "    while True:    \n",
    "        if scoville[0] < k:\n",
    "            new = heapq.heappop(scoville) + (heapq.heappop(scoville) * 2)\n",
    "            heapq.heappush(scoville, new)\n",
    "            count += 1\n",
    "            \n",
    "            if len(scoville) == 1 and scoville[0] < k:\n",
    "                return -1\n",
    "            \n",
    "        else :\n",
    "            return count"
   ]
  },
  {
   "cell_type": "code",
   "execution_count": 53,
   "metadata": {
    "execution": {
     "iopub.execute_input": "2021-01-08T02:02:40.080115Z",
     "iopub.status.busy": "2021-01-08T02:02:40.079888Z",
     "iopub.status.idle": "2021-01-08T02:02:40.084576Z",
     "shell.execute_reply": "2021-01-08T02:02:40.084005Z",
     "shell.execute_reply.started": "2021-01-08T02:02:40.080091Z"
    }
   },
   "outputs": [
    {
     "data": {
      "text/plain": [
       "0"
      ]
     },
     "execution_count": 53,
     "metadata": {},
     "output_type": "execute_result"
    }
   ],
   "source": [
    "scoville = [1, 2, 3, 9, 10, 12]\n",
    "k = 0\n",
    "solution(scoville, k)"
   ]
  },
  {
   "cell_type": "code",
   "execution_count": 54,
   "metadata": {
    "execution": {
     "iopub.execute_input": "2021-01-08T02:02:40.527976Z",
     "iopub.status.busy": "2021-01-08T02:02:40.527758Z",
     "iopub.status.idle": "2021-01-08T02:02:40.532217Z",
     "shell.execute_reply": "2021-01-08T02:02:40.531388Z",
     "shell.execute_reply.started": "2021-01-08T02:02:40.527953Z"
    }
   },
   "outputs": [
    {
     "data": {
      "text/plain": [
       "2"
      ]
     },
     "execution_count": 54,
     "metadata": {},
     "output_type": "execute_result"
    }
   ],
   "source": [
    "scoville = [1, 2, 3, 9, 10, 12]\n",
    "k = 7\n",
    "solution(scoville, k)"
   ]
  },
  {
   "cell_type": "code",
   "execution_count": 55,
   "metadata": {
    "execution": {
     "iopub.execute_input": "2021-01-08T02:02:41.008744Z",
     "iopub.status.busy": "2021-01-08T02:02:41.008530Z",
     "iopub.status.idle": "2021-01-08T02:02:41.013351Z",
     "shell.execute_reply": "2021-01-08T02:02:41.012702Z",
     "shell.execute_reply.started": "2021-01-08T02:02:41.008721Z"
    }
   },
   "outputs": [
    {
     "data": {
      "text/plain": [
       "-1"
      ]
     },
     "execution_count": 55,
     "metadata": {},
     "output_type": "execute_result"
    }
   ],
   "source": [
    "scoville = [1, 2, 3, 9, 10, 12]\n",
    "k = 10000\n",
    "solution(scoville, k)"
   ]
  },
  {
   "cell_type": "code",
   "execution_count": 56,
   "metadata": {
    "execution": {
     "iopub.execute_input": "2021-01-08T02:02:41.212829Z",
     "iopub.status.busy": "2021-01-08T02:02:41.212622Z",
     "iopub.status.idle": "2021-01-08T02:02:41.217464Z",
     "shell.execute_reply": "2021-01-08T02:02:41.216727Z",
     "shell.execute_reply.started": "2021-01-08T02:02:41.212808Z"
    }
   },
   "outputs": [
    {
     "data": {
      "text/plain": [
       "2"
      ]
     },
     "execution_count": 56,
     "metadata": {},
     "output_type": "execute_result"
    }
   ],
   "source": [
    "scoville = [1,2,3] \n",
    "k = 11\n",
    "solution(scoville, k)"
   ]
  }
 ],
 "metadata": {
  "kernelspec": {
   "display_name": "Python 3",
   "language": "python",
   "name": "python3"
  },
  "language_info": {
   "codemirror_mode": {
    "name": "ipython",
    "version": 3
   },
   "file_extension": ".py",
   "mimetype": "text/x-python",
   "name": "python",
   "nbconvert_exporter": "python",
   "pygments_lexer": "ipython3",
   "version": "3.8.3"
  }
 },
 "nbformat": 4,
 "nbformat_minor": 4
}
