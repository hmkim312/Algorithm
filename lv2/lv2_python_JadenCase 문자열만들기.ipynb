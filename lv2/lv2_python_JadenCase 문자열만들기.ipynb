{
 "cells": [
  {
   "cell_type": "markdown",
   "metadata": {},
   "source": [
    "URL <https://programmers.co.kr/learn/courses/30/lessons/12951>:{target=\"_blank\"}\n",
    "\n",
    "#### 문제 설명\n",
    "- JadenCase란 모든 단어의 첫 문자가 대문자이고, 그 외의 알파벳은 소문자인 문자열입니다. 문자열 s가 주어졌을 때, s를 JadenCase로 바꾼 문자열을 리턴하는 함수, solution을 완성해주세요.\n",
    "\n",
    "#### 제한 조건\n",
    "- s는 길이 1 이상인 문자열입니다.\n",
    "- s는 알파벳과 공백문자(\" \")로 이루어져 있습니다.\n",
    "- 첫 문자가 영문이 아닐때에는 이어지는 영문은 소문자로 씁니다. ( 첫번째 입출력 예 참고 )\n",
    "\n",
    "#### 문제 풀이\n",
    "- python의 str 메서드 중에 대문자를 만드는 함수를 사용하면됨\n",
    "- title은 첫문자가 영문이 아닐떄는 소문자로 쓰는 이유떄문에 capitalize를 사용함\n",
    "- 주어진 s를 공백으로 split함 (2번째 조건 공백문자도 있기 때문)\n",
    "- 이후 주어진 s를 for문을 돌며 capitalize로 맨 앞에만 대문자로 만듬\n",
    "- capitalize는 첫 문자가 영문이 아니면 대문자가 되지 않음\n",
    "- 이를 temp 리스트에 넣고 마지막에 공백으로 join한 문자열을 return해주면됨\n",
    "\n",
    "#### 추가\n",
    "- 그냥 string 메서드의 capwords를 sep = ' '으로 사용하면됨.\n",
    "- capwords가 captitalize + split + join을 한번에 해주는 메서드"
   ]
  },
  {
   "cell_type": "code",
   "execution_count": 5,
   "metadata": {
    "execution": {
     "iopub.execute_input": "2021-02-10T00:46:20.875140Z",
     "iopub.status.busy": "2021-02-10T00:46:20.874932Z",
     "iopub.status.idle": "2021-02-10T00:46:20.878640Z",
     "shell.execute_reply": "2021-02-10T00:46:20.877948Z",
     "shell.execute_reply.started": "2021-02-10T00:46:20.875117Z"
    }
   },
   "outputs": [],
   "source": [
    "def solution(s):\n",
    "    s_s = s.split(' ')\n",
    "    temp = []\n",
    "    for i in s_s:\n",
    "        i = i.capitalize()\n",
    "        temp.append(i)\n",
    "    return ' '.join(temp)"
   ]
  },
  {
   "cell_type": "code",
   "execution_count": 6,
   "metadata": {
    "execution": {
     "iopub.execute_input": "2021-02-10T00:46:21.085252Z",
     "iopub.status.busy": "2021-02-10T00:46:21.085027Z",
     "iopub.status.idle": "2021-02-10T00:46:21.092465Z",
     "shell.execute_reply": "2021-02-10T00:46:21.092013Z",
     "shell.execute_reply.started": "2021-02-10T00:46:21.085228Z"
    }
   },
   "outputs": [
    {
     "data": {
      "text/plain": [
       "'3people Unfollowed Me'"
      ]
     },
     "execution_count": 6,
     "metadata": {},
     "output_type": "execute_result"
    }
   ],
   "source": [
    "s = '3people unFollowed me'\n",
    "solution(s)"
   ]
  },
  {
   "cell_type": "code",
   "execution_count": 7,
   "metadata": {
    "execution": {
     "iopub.execute_input": "2021-02-10T00:46:21.254105Z",
     "iopub.status.busy": "2021-02-10T00:46:21.253897Z",
     "iopub.status.idle": "2021-02-10T00:46:21.257926Z",
     "shell.execute_reply": "2021-02-10T00:46:21.257395Z",
     "shell.execute_reply.started": "2021-02-10T00:46:21.254083Z"
    }
   },
   "outputs": [
    {
     "data": {
      "text/plain": [
       "' 3people Unfollowed Me '"
      ]
     },
     "execution_count": 7,
     "metadata": {},
     "output_type": "execute_result"
    }
   ],
   "source": [
    "s = ' 3people unFollowed me '\n",
    "solution(s)"
   ]
  },
  {
   "cell_type": "markdown",
   "metadata": {},
   "source": [
    "#### capwords를 사용함"
   ]
  },
  {
   "cell_type": "code",
   "execution_count": 11,
   "metadata": {
    "execution": {
     "iopub.execute_input": "2021-02-10T00:48:45.540988Z",
     "iopub.status.busy": "2021-02-10T00:48:45.540779Z",
     "iopub.status.idle": "2021-02-10T00:48:45.544237Z",
     "shell.execute_reply": "2021-02-10T00:48:45.543493Z",
     "shell.execute_reply.started": "2021-02-10T00:48:45.540965Z"
    }
   },
   "outputs": [],
   "source": [
    "import string\n",
    "def solution_2(s):\n",
    "    return string.capwords(s, sep = ' ')"
   ]
  },
  {
   "cell_type": "code",
   "execution_count": 12,
   "metadata": {
    "execution": {
     "iopub.execute_input": "2021-02-10T00:48:47.178426Z",
     "iopub.status.busy": "2021-02-10T00:48:47.178220Z",
     "iopub.status.idle": "2021-02-10T00:48:47.182034Z",
     "shell.execute_reply": "2021-02-10T00:48:47.181438Z",
     "shell.execute_reply.started": "2021-02-10T00:48:47.178403Z"
    }
   },
   "outputs": [
    {
     "data": {
      "text/plain": [
       "' 3people Unfollowed Me '"
      ]
     },
     "execution_count": 12,
     "metadata": {},
     "output_type": "execute_result"
    }
   ],
   "source": [
    "s = ' 3people unFollowed me '\n",
    "solution_2(s)"
   ]
  },
  {
   "cell_type": "code",
   "execution_count": 13,
   "metadata": {
    "execution": {
     "iopub.execute_input": "2021-02-10T00:48:52.937165Z",
     "iopub.status.busy": "2021-02-10T00:48:52.936957Z",
     "iopub.status.idle": "2021-02-10T00:48:52.940897Z",
     "shell.execute_reply": "2021-02-10T00:48:52.940270Z",
     "shell.execute_reply.started": "2021-02-10T00:48:52.937143Z"
    }
   },
   "outputs": [
    {
     "data": {
      "text/plain": [
       "'3people Unfollowed Me'"
      ]
     },
     "execution_count": 13,
     "metadata": {},
     "output_type": "execute_result"
    }
   ],
   "source": [
    "s = '3people unFollowed me'\n",
    "solution_2(s)"
   ]
  }
 ],
 "metadata": {
  "kernelspec": {
   "display_name": "Python 3",
   "language": "python",
   "name": "python3"
  },
  "language_info": {
   "codemirror_mode": {
    "name": "ipython",
    "version": 3
   },
   "file_extension": ".py",
   "mimetype": "text/x-python",
   "name": "python",
   "nbconvert_exporter": "python",
   "pygments_lexer": "ipython3",
   "version": "3.8.3"
  }
 },
 "nbformat": 4,
 "nbformat_minor": 4
}
