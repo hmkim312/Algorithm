{
 "cells": [
  {
   "cell_type": "markdown",
   "metadata": {},
   "source": [
    "URL <https://programmers.co.kr/learn/courses/30/lessons/64065>{:target=\"_blank\"}\n",
    "\n",
    "#### 문제 설명\n",
    "- 셀수있는 수량의 순서있는 열거 또는 어떤 순서를 따르는 요소들의 모음을 튜플(tuple)이라고 합니다. n개의 요소를 가진 튜플을 n-튜플(n-tuple)이라고 하며, 다음과 같이 표현할 수 있습니다.\n",
    "```\n",
    "(a1, a2, a3, ..., an)\n",
    "```\n",
    "- 튜플은 다음과 같은 성질을 가지고 있습니다.\n",
    "- 중복된 원소가 있을 수 있습니다. ex : (2, 3, 1, 2)\n",
    "- 원소에 정해진 순서가 있으며, 원소의 순서가 다르면 서로 다른 튜플입니다. ex : (1, 2, 3) ≠ (1, 3, 2)\n",
    "- 튜플의 원소 개수는 유한합니다.\n",
    "- 원소의 개수가 n개이고, 중복되는 원소가 없는 튜플 (a1, a2, a3, ..., an)이 주어질 때(단, a1, a2, ..., an은 자연수), 이는 다음과 같이 집합 기호 '{', '}'를 이용해 표현할 수 있습니다.\n",
    "```\n",
    "{{a1}, {a1, a2}, {a1, a2, a3}, {a1, a2, a3, a4}, ... {a1, a2, a3, a4, ..., an}}\n",
    "```\n",
    "\n",
    "- 예를 들어 튜플이 (2, 1, 3, 4)인 경우 이는\n",
    "\n",
    "```\n",
    "{{2}, {2, 1}, {2, 1, 3}, {2, 1, 3, 4}}\n",
    "```\n",
    "\n",
    "- 와 같이 표현할 수 있습니다. 이때, 집합은 원소의 순서가 바뀌어도 상관없으므로\n",
    "\n",
    "```\n",
    "{{2}, {2, 1}, {2, 1, 3}, {2, 1, 3, 4}}\n",
    "{{2, 1, 3, 4}, {2}, {2, 1, 3}, {2, 1}}\n",
    "{{1, 2, 3}, {2, 1}, {1, 2, 4, 3}, {2}}\n",
    "```\n",
    "- 는 모두 같은 튜플 (2, 1, 3, 4)를 나타냅니다.\n",
    "\n",
    "- 특정 튜플을 표현하는 집합이 담긴 문자열 s가 매개변수로 주어질 때, s가 표현하는 튜플을 배열에 담아 return 하도록 solution 함수를 완성해주세요.\n",
    "\n",
    "#### 문제풀이\n",
    "- 집합에서 가장 많이 나오는 숫자가 튜플의 맨 앞에 위치한다는것을 알아냈고 해당 방식을 기준으로 알고리즘을 짜면 쉽게 해결가능했다.\n",
    "- 일단 주어진 s가 집합처럼 보이는 string 타입이였기 때문에 일단 `{ } ,` 3가지를 모두 없애 주었다. (`,`는 공백으로 바꾸었다. 111과 1,1,1을 구별하기 위해)\n",
    "- 이후 s를 공백으로 변환하면 원소들의 list가 나오게 되고\n",
    "- 이후 Counter를 사용하여 원소들이 나온 갯수를 확인 most_common으로 갯수별로 정렬 후 for 문으로 key값만 temp안에 append하여 해결하였다.\n",
    "- 정답에서는 string 타입이 아닌 int 타입을 원해서 append하면서 int 형태로 변경함."
   ]
  },
  {
   "cell_type": "code",
   "execution_count": 123,
   "metadata": {
    "execution": {
     "iopub.execute_input": "2021-03-03T00:57:23.655932Z",
     "iopub.status.busy": "2021-03-03T00:57:23.655715Z",
     "iopub.status.idle": "2021-03-03T00:57:23.660299Z",
     "shell.execute_reply": "2021-03-03T00:57:23.659565Z",
     "shell.execute_reply.started": "2021-03-03T00:57:23.655909Z"
    }
   },
   "outputs": [],
   "source": [
    "from collections import Counter\n",
    "\n",
    "def solution(s):\n",
    "    s = s.replace('{','').replace('}','').replace(',', ' ')\n",
    "    s = s.split()\n",
    "    \n",
    "    temp = []\n",
    "    for i in Counter(s).most_common():\n",
    "        temp.append(int(i[0]))\n",
    "    return temp"
   ]
  },
  {
   "cell_type": "code",
   "execution_count": 124,
   "metadata": {
    "execution": {
     "iopub.execute_input": "2021-03-03T00:57:23.848393Z",
     "iopub.status.busy": "2021-03-03T00:57:23.848184Z",
     "iopub.status.idle": "2021-03-03T00:57:23.852294Z",
     "shell.execute_reply": "2021-03-03T00:57:23.851629Z",
     "shell.execute_reply.started": "2021-03-03T00:57:23.848370Z"
    }
   },
   "outputs": [
    {
     "data": {
      "text/plain": [
       "[3, 2, 4, 1]"
      ]
     },
     "execution_count": 124,
     "metadata": {},
     "output_type": "execute_result"
    }
   ],
   "source": [
    "s = \"{{4,2,3},{3},{2,3,4,1},{2,3}}\"\n",
    "solution(s)"
   ]
  },
  {
   "cell_type": "code",
   "execution_count": 125,
   "metadata": {
    "execution": {
     "iopub.execute_input": "2021-03-03T00:57:24.053775Z",
     "iopub.status.busy": "2021-03-03T00:57:24.053563Z",
     "iopub.status.idle": "2021-03-03T00:57:24.058238Z",
     "shell.execute_reply": "2021-03-03T00:57:24.057527Z",
     "shell.execute_reply.started": "2021-03-03T00:57:24.053752Z"
    }
   },
   "outputs": [
    {
     "data": {
      "text/plain": [
       "[2, 1, 3, 4]"
      ]
     },
     "execution_count": 125,
     "metadata": {},
     "output_type": "execute_result"
    }
   ],
   "source": [
    "s = \"{{2},{2,1},{2,1,3},{2,1,3,4}}\"\n",
    "solution(s)"
   ]
  },
  {
   "cell_type": "code",
   "execution_count": 126,
   "metadata": {
    "execution": {
     "iopub.execute_input": "2021-03-03T00:57:24.243131Z",
     "iopub.status.busy": "2021-03-03T00:57:24.242910Z",
     "iopub.status.idle": "2021-03-03T00:57:24.247022Z",
     "shell.execute_reply": "2021-03-03T00:57:24.246456Z",
     "shell.execute_reply.started": "2021-03-03T00:57:24.243108Z"
    }
   },
   "outputs": [
    {
     "data": {
      "text/plain": [
       "[2, 1, 3, 4]"
      ]
     },
     "execution_count": 126,
     "metadata": {},
     "output_type": "execute_result"
    }
   ],
   "source": [
    "s = \"{{1,2,3},{2,1},{1,2,4,3},{2}}\"\n",
    "solution(s)"
   ]
  },
  {
   "cell_type": "code",
   "execution_count": 127,
   "metadata": {
    "execution": {
     "iopub.execute_input": "2021-03-03T00:57:24.427237Z",
     "iopub.status.busy": "2021-03-03T00:57:24.427020Z",
     "iopub.status.idle": "2021-03-03T00:57:24.431298Z",
     "shell.execute_reply": "2021-03-03T00:57:24.430718Z",
     "shell.execute_reply.started": "2021-03-03T00:57:24.427215Z"
    }
   },
   "outputs": [
    {
     "data": {
      "text/plain": [
       "[111, 20]"
      ]
     },
     "execution_count": 127,
     "metadata": {},
     "output_type": "execute_result"
    }
   ],
   "source": [
    "s = \"{{20,111},{111}}\"\n",
    "solution(s)"
   ]
  },
  {
   "cell_type": "code",
   "execution_count": 128,
   "metadata": {
    "execution": {
     "iopub.execute_input": "2021-03-03T00:57:24.632113Z",
     "iopub.status.busy": "2021-03-03T00:57:24.631907Z",
     "iopub.status.idle": "2021-03-03T00:57:24.635611Z",
     "shell.execute_reply": "2021-03-03T00:57:24.635051Z",
     "shell.execute_reply.started": "2021-03-03T00:57:24.632091Z"
    }
   },
   "outputs": [
    {
     "data": {
      "text/plain": [
       "[123]"
      ]
     },
     "execution_count": 128,
     "metadata": {},
     "output_type": "execute_result"
    }
   ],
   "source": [
    "s = \"{{123}}\"\n",
    "solution(s)"
   ]
  }
 ],
 "metadata": {
  "kernelspec": {
   "display_name": "Python 3",
   "language": "python",
   "name": "python3"
  },
  "language_info": {
   "codemirror_mode": {
    "name": "ipython",
    "version": 3
   },
   "file_extension": ".py",
   "mimetype": "text/x-python",
   "name": "python",
   "nbconvert_exporter": "python",
   "pygments_lexer": "ipython3",
   "version": "3.8.3"
  }
 },
 "nbformat": 4,
 "nbformat_minor": 4
}
