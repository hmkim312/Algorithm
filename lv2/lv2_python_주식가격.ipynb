{
 "cells": [
  {
   "cell_type": "markdown",
   "metadata": {},
   "source": [
    "URL : <https://programmers.co.kr/learn/courses/30/lessons/42584>:{target=\"_blank\"}\n",
    "\n",
    "#### 문제 설명\n",
    "- 초 단위로 기록된 주식가격이 담긴 배열 prices가 매개변수로 주어질 때, 가격이 떨어지지 않은 기간은 몇 초인지를 return 하도록 solution 함수를 완성하세요.\n",
    "\n",
    "#### 제한 사항\n",
    "- prices의 각 가격은 1 이상 10,000 이하인 자연수입니다.\n",
    "- prices의 길이는 2 이상 100,000 이하입니다.\n",
    "\n",
    "#### 문제 풀이\n",
    "- 문제 설명이 너무 대충(?) 되어있어서 이해하는데 더 오래걸린듯 하다.\n",
    "- 일단, 가장 마지막은 0이될수밖에 없다. 마지막 주식가격은 가격이 0초동안 안떨어졌으니 그래서 return 위에 append(0)을 해줌\n",
    "- i와 j로 prices의 index를 돌면서 서로 가격 비교를 해주고 떨어지지 않은 시간이니, 기존의(i) 주식가격이 비교할(j) 주식가격보다 작거나 같으면 answer에 +1를 하게 하였다.\n",
    "- 그 외에 j가 i보다 크면 for문이 break 걸리게 해두었는데, 해당 지문이 이해되지 않아서 좀 오래걸렸다.\n",
    "- break를 거는 이유는 ``'3초 시점의 ₩3은 1초뒤에 가격이 떨어집니다. 따라서 1초간 가격이 떨어지지 않은 것으로 봅니다.'`` 라는 지문인데, 가격이 떨어지면 거기서 끝나는 것이다.\n",
    "- 그래서 [1, 2, 3, 2, 3, 1] -> [5, 4, 1, 2, 1, 0]이 나오게 된다.\n",
    "    - 처음 1초는 뒤로 쭉 가격이 떨어지지 않음 총 5초\n",
    "    - 두번째 2는 4초쨰에 가격이 떨어짐 2->3 (1초), 3->2 (2초), 2->3 (3초), 3->1 (4초) \n",
    "        - 문제는 2->3 (3초) 부분인데 기준점이되는 2초때의 가격인 2로 생각하면 가격이 떨어진게 아님\n",
    "    - 세번째 3은 3->2 로 떨어지며 여기서 끝이지만, 위의 내용인 1초 뒤에 가격이 떨어지니 1초간 가격이 떨어지지않는것으로 보는것.\n",
    "- 위의 방식 떄문에 기준가격이 비교 가격보다 커지면 for문을 break를 해야함\n",
    "- 빈 리스트를 만들고 append 하기도하고 빈 리스트에 [0]을 을 넣고, 해당 인덱스에 +1를 하는 방법도 있음\n",
    "- 원래는 2중 for문을 쓰라는 의도는 아닌거같은데, 이렇게 해도 효율성은 통과됨.."
   ]
  },
  {
   "cell_type": "code",
   "execution_count": 93,
   "metadata": {
    "execution": {
     "iopub.execute_input": "2021-02-09T01:11:11.051868Z",
     "iopub.status.busy": "2021-02-09T01:11:11.051659Z",
     "iopub.status.idle": "2021-02-09T01:11:11.056833Z",
     "shell.execute_reply": "2021-02-09T01:11:11.055804Z",
     "shell.execute_reply.started": "2021-02-09T01:11:11.051844Z"
    }
   },
   "outputs": [],
   "source": [
    "# 빈리스트 append\n",
    "def solution(prices):\n",
    "    ls = []\n",
    "    for i in range(len(prices) - 1):\n",
    "        answer = 0\n",
    "        for j in range(i, len(prices) - 1):\n",
    "    #         print(prices[i], prices[j])\n",
    "            if prices[i] <= prices[j]:\n",
    "                answer += 1\n",
    "            else:\n",
    "                break\n",
    "        ls.append(answer)\n",
    "    ls.append(0)\n",
    "    return ls"
   ]
  },
  {
   "cell_type": "code",
   "execution_count": 94,
   "metadata": {
    "execution": {
     "iopub.execute_input": "2021-02-09T01:11:11.263458Z",
     "iopub.status.busy": "2021-02-09T01:11:11.263251Z",
     "iopub.status.idle": "2021-02-09T01:11:11.268335Z",
     "shell.execute_reply": "2021-02-09T01:11:11.267421Z",
     "shell.execute_reply.started": "2021-02-09T01:11:11.263435Z"
    }
   },
   "outputs": [
    {
     "data": {
      "text/plain": [
       "[4, 3, 1, 1, 0]"
      ]
     },
     "execution_count": 94,
     "metadata": {},
     "output_type": "execute_result"
    }
   ],
   "source": [
    "prices = [1, 2, 3, 2, 3]\n",
    "solution(prices)"
   ]
  },
  {
   "cell_type": "code",
   "execution_count": 95,
   "metadata": {
    "execution": {
     "iopub.execute_input": "2021-02-09T01:11:11.580011Z",
     "iopub.status.busy": "2021-02-09T01:11:11.579782Z",
     "iopub.status.idle": "2021-02-09T01:11:11.583948Z",
     "shell.execute_reply": "2021-02-09T01:11:11.583401Z",
     "shell.execute_reply.started": "2021-02-09T01:11:11.579984Z"
    }
   },
   "outputs": [
    {
     "data": {
      "text/plain": [
       "[5, 4, 1, 2, 1, 0]"
      ]
     },
     "execution_count": 95,
     "metadata": {},
     "output_type": "execute_result"
    }
   ],
   "source": [
    "prices = [1, 2, 3, 2, 3, 1]\n",
    "solution(prices)"
   ]
  },
  {
   "cell_type": "code",
   "execution_count": 102,
   "metadata": {
    "execution": {
     "iopub.execute_input": "2021-02-09T01:12:18.093274Z",
     "iopub.status.busy": "2021-02-09T01:12:18.093063Z",
     "iopub.status.idle": "2021-02-09T01:12:18.097474Z",
     "shell.execute_reply": "2021-02-09T01:12:18.096890Z",
     "shell.execute_reply.started": "2021-02-09T01:12:18.093251Z"
    }
   },
   "outputs": [],
   "source": [
    "# index +\n",
    "def solution(prices):\n",
    "    answer = len(prices) * [0]\n",
    "    for i in range(len(prices) - 1):\n",
    " \n",
    "        for j in range(i, len(prices) - 1):\n",
    "    #         print(prices[i], prices[j])\n",
    "            if prices[i] <= prices[j]:\n",
    "                answer[i] += 1\n",
    "            else:\n",
    "                break\n",
    "    return answer"
   ]
  },
  {
   "cell_type": "code",
   "execution_count": 103,
   "metadata": {
    "execution": {
     "iopub.execute_input": "2021-02-09T01:12:21.355008Z",
     "iopub.status.busy": "2021-02-09T01:12:21.354785Z",
     "iopub.status.idle": "2021-02-09T01:12:21.358989Z",
     "shell.execute_reply": "2021-02-09T01:12:21.358362Z",
     "shell.execute_reply.started": "2021-02-09T01:12:21.354985Z"
    }
   },
   "outputs": [
    {
     "data": {
      "text/plain": [
       "[4, 3, 1, 1, 0]"
      ]
     },
     "execution_count": 103,
     "metadata": {},
     "output_type": "execute_result"
    }
   ],
   "source": [
    "prices = [1, 2, 3, 2, 3]\n",
    "solution(prices)"
   ]
  },
  {
   "cell_type": "code",
   "execution_count": 104,
   "metadata": {
    "execution": {
     "iopub.execute_input": "2021-02-09T01:12:24.411586Z",
     "iopub.status.busy": "2021-02-09T01:12:24.411379Z",
     "iopub.status.idle": "2021-02-09T01:12:24.415933Z",
     "shell.execute_reply": "2021-02-09T01:12:24.415315Z",
     "shell.execute_reply.started": "2021-02-09T01:12:24.411564Z"
    }
   },
   "outputs": [
    {
     "data": {
      "text/plain": [
       "[5, 4, 1, 2, 1, 0]"
      ]
     },
     "execution_count": 104,
     "metadata": {},
     "output_type": "execute_result"
    }
   ],
   "source": [
    "prices = [1, 2, 3, 2, 3, 1]\n",
    "solution(prices)"
   ]
  },
  {
   "cell_type": "code",
   "execution_count": null,
   "metadata": {},
   "outputs": [],
   "source": []
  }
 ],
 "metadata": {
  "kernelspec": {
   "display_name": "Python 3",
   "language": "python",
   "name": "python3"
  },
  "language_info": {
   "codemirror_mode": {
    "name": "ipython",
    "version": 3
   },
   "file_extension": ".py",
   "mimetype": "text/x-python",
   "name": "python",
   "nbconvert_exporter": "python",
   "pygments_lexer": "ipython3",
   "version": "3.8.3"
  }
 },
 "nbformat": 4,
 "nbformat_minor": 4
}
