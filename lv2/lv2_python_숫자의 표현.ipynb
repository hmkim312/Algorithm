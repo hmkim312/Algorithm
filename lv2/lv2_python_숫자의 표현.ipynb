{
 "cells": [
  {
   "cell_type": "markdown",
   "metadata": {},
   "source": [
    "URL : <https://programmers.co.kr/learn/courses/30/lessons/12924>:{target=\"_blank\"}\n",
    "\n",
    "#### 문제 설명\n",
    " - Finn은 요즘 수학공부에 빠져 있습니다. 수학 공부를 하던 Finn은 자연수 n을 연속한 자연수들로 표현 하는 방법이 여러개라는 사실을 알게 되었습니다. 예를들어 15는 다음과 같이 4가지로 표현 할 수 있습니다.\n",
    "\n",
    "- 1 + 2 + 3 + 4 + 5 = 15\n",
    "- 4 + 5 + 6 = 15\n",
    "- 7 + 8 = 15\n",
    "- 15 = 15\n",
    "- 자연수 n이 매개변수로 주어질 때, 연속된 자연수들로 n을 표현하는 방법의 수를 return하는 solution를 완성해주세요.\n",
    "\n",
    "#### 제한사항\n",
    "- n은 10,000 이하의 자연수 입니다.\n",
    "\n",
    "#### 문제풀이\n",
    "- 주어진 n의 "
   ]
  },
  {
   "cell_type": "code",
   "execution_count": 13,
   "metadata": {
    "execution": {
     "iopub.execute_input": "2021-02-04T09:02:07.854380Z",
     "iopub.status.busy": "2021-02-04T09:02:07.854166Z",
     "iopub.status.idle": "2021-02-04T09:02:07.857847Z",
     "shell.execute_reply": "2021-02-04T09:02:07.857113Z",
     "shell.execute_reply.started": "2021-02-04T09:02:07.854358Z"
    }
   },
   "outputs": [],
   "source": [
    "def solution(n):\n",
    "    answer = 0\n",
    "    for i in range(1, n + 1, 2):\n",
    "        if n % i ==0:\n",
    "            answer += 1\n",
    "    return answer"
   ]
  },
  {
   "cell_type": "code",
   "execution_count": 15,
   "metadata": {
    "execution": {
     "iopub.execute_input": "2021-02-04T09:08:39.549036Z",
     "iopub.status.busy": "2021-02-04T09:08:39.548821Z",
     "iopub.status.idle": "2021-02-04T09:08:39.552569Z",
     "shell.execute_reply": "2021-02-04T09:08:39.552012Z",
     "shell.execute_reply.started": "2021-02-04T09:08:39.549013Z"
    }
   },
   "outputs": [
    {
     "data": {
      "text/plain": [
       "2"
      ]
     },
     "execution_count": 15,
     "metadata": {},
     "output_type": "execute_result"
    }
   ],
   "source": [
    "n = 20\n",
    "solution(n)"
   ]
  },
  {
   "cell_type": "code",
   "execution_count": 14,
   "metadata": {
    "execution": {
     "iopub.execute_input": "2021-02-04T09:02:08.140083Z",
     "iopub.status.busy": "2021-02-04T09:02:08.139699Z",
     "iopub.status.idle": "2021-02-04T09:02:08.143989Z",
     "shell.execute_reply": "2021-02-04T09:02:08.143479Z",
     "shell.execute_reply.started": "2021-02-04T09:02:08.140055Z"
    }
   },
   "outputs": [
    {
     "data": {
      "text/plain": [
       "4"
      ]
     },
     "execution_count": 14,
     "metadata": {},
     "output_type": "execute_result"
    }
   ],
   "source": [
    "n = 15\n",
    "solution(n)"
   ]
  }
 ],
 "metadata": {
  "kernelspec": {
   "display_name": "Python 3",
   "language": "python",
   "name": "python3"
  },
  "language_info": {
   "codemirror_mode": {
    "name": "ipython",
    "version": 3
   },
   "file_extension": ".py",
   "mimetype": "text/x-python",
   "name": "python",
   "nbconvert_exporter": "python",
   "pygments_lexer": "ipython3",
   "version": "3.8.3"
  }
 },
 "nbformat": 4,
 "nbformat_minor": 4
}
