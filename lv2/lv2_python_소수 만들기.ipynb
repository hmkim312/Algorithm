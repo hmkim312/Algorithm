{
 "cells": [
  {
   "cell_type": "markdown",
   "metadata": {},
   "source": [
    "URL <https://programmers.co.kr/learn/courses/30/lessons/12977>{:target=\"_blnak\"}\n",
    "\n",
    "#### 문제 설명\n",
    "- 주어진 숫자 중 3개의 수를 더했을 때 소수가 되는 경우의 개수를 구하려고 합니다. 숫자들이 들어있는 배열 nums가 매개변수로 주어질 때, nums에 있는 숫자들 중 서로 다른 3개를 골라 더했을 때 소수가 되는 경우의 개수를 return 하도록 solution 함수를 완성해주세요.\n",
    "\n",
    "#### 제한 사항\n",
    "- nums에 들어있는 숫자의 개수는 3개 이상 50개 이하입니다.\n",
    "- nums의 각 원소는 1 이상 1,000 이하의 자연수이며, 중복된 숫자가 들어있지 않습니다.\n",
    "\n",
    "#### 문제 풀이\n",
    "- nums를 받아서 각 경우의 수를 itertools를 통해서 만들어 냅니다.\n",
    "- 동일한 조합은 set을 활용하여 삭제합니다. (1,2,3, 2,3,1, 3,2,1 등)\n",
    "- 각 경우의 수별로 하나만 남은 원소들을 다 더하고, 해당 원소들이 소수인지 판멸하는 prime_number로 확인합니다.\n",
    "- 소수라면 1 아니면 0을 리턴하여 소수인 숫자만 더하게 합니다."
   ]
  },
  {
   "cell_type": "code",
   "execution_count": 20,
   "metadata": {
    "execution": {
     "iopub.execute_input": "2021-02-22T00:42:12.221342Z",
     "iopub.status.busy": "2021-02-22T00:42:12.221164Z",
     "iopub.status.idle": "2021-02-22T00:42:12.223632Z",
     "shell.execute_reply": "2021-02-22T00:42:12.223133Z",
     "shell.execute_reply.started": "2021-02-22T00:42:12.221324Z"
    }
   },
   "outputs": [],
   "source": [
    "import itertools\n",
    "import math"
   ]
  },
  {
   "cell_type": "code",
   "execution_count": 29,
   "metadata": {
    "execution": {
     "iopub.execute_input": "2021-02-22T00:43:11.140873Z",
     "iopub.status.busy": "2021-02-22T00:43:11.140658Z",
     "iopub.status.idle": "2021-02-22T00:43:11.144587Z",
     "shell.execute_reply": "2021-02-22T00:43:11.143909Z",
     "shell.execute_reply.started": "2021-02-22T00:43:11.140850Z"
    }
   },
   "outputs": [],
   "source": [
    "def prime_number(x):\n",
    "    for i in range(2, int(math.sqrt(x)) + 1):\n",
    "        if x % i ==0:\n",
    "            return 0\n",
    "    return 1"
   ]
  },
  {
   "cell_type": "code",
   "execution_count": 97,
   "metadata": {
    "execution": {
     "iopub.execute_input": "2021-02-22T00:59:57.462419Z",
     "iopub.status.busy": "2021-02-22T00:59:57.462201Z",
     "iopub.status.idle": "2021-02-22T00:59:57.466789Z",
     "shell.execute_reply": "2021-02-22T00:59:57.466137Z",
     "shell.execute_reply.started": "2021-02-22T00:59:57.462397Z"
    }
   },
   "outputs": [],
   "source": [
    "def solution(nums):\n",
    "    answer = 0\n",
    "    \n",
    "    item = [sorted(i) for i in list(itertools.permutations(nums, 3))]\n",
    "    item = list(set([tuple(set(i))for i in item]))\n",
    "    item = list(sum(i) for i in item)\n",
    "    \n",
    "    for x in item:\n",
    "        answer += (prime_number(x))\n",
    "    return answer"
   ]
  },
  {
   "cell_type": "code",
   "execution_count": 98,
   "metadata": {
    "execution": {
     "iopub.execute_input": "2021-02-22T00:59:57.657433Z",
     "iopub.status.busy": "2021-02-22T00:59:57.657220Z",
     "iopub.status.idle": "2021-02-22T00:59:57.661588Z",
     "shell.execute_reply": "2021-02-22T00:59:57.661015Z",
     "shell.execute_reply.started": "2021-02-22T00:59:57.657411Z"
    }
   },
   "outputs": [
    {
     "data": {
      "text/plain": [
       "1"
      ]
     },
     "execution_count": 98,
     "metadata": {},
     "output_type": "execute_result"
    }
   ],
   "source": [
    "nums = [1,2,3,4]\n",
    "solution(nums)"
   ]
  },
  {
   "cell_type": "code",
   "execution_count": 99,
   "metadata": {
    "execution": {
     "iopub.execute_input": "2021-02-22T00:59:58.416558Z",
     "iopub.status.busy": "2021-02-22T00:59:58.416359Z",
     "iopub.status.idle": "2021-02-22T00:59:58.420524Z",
     "shell.execute_reply": "2021-02-22T00:59:58.420015Z",
     "shell.execute_reply.started": "2021-02-22T00:59:58.416537Z"
    }
   },
   "outputs": [
    {
     "data": {
      "text/plain": [
       "4"
      ]
     },
     "execution_count": 99,
     "metadata": {},
     "output_type": "execute_result"
    }
   ],
   "source": [
    "nums = [1,2,7,6,4]\n",
    "solution(nums)"
   ]
  }
 ],
 "metadata": {
  "kernelspec": {
   "display_name": "Python 3",
   "language": "python",
   "name": "python3"
  },
  "language_info": {
   "codemirror_mode": {
    "name": "ipython",
    "version": 3
   },
   "file_extension": ".py",
   "mimetype": "text/x-python",
   "name": "python",
   "nbconvert_exporter": "python",
   "pygments_lexer": "ipython3",
   "version": "3.8.3"
  }
 },
 "nbformat": 4,
 "nbformat_minor": 4
}
