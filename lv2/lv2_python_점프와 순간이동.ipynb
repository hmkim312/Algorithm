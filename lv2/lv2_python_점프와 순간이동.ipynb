{
 "cells": [
  {
   "cell_type": "markdown",
   "metadata": {},
   "source": [
    "URL <https://programmers.co.kr/learn/courses/30/lessons/12980>{:target=\"_blank\"}\n",
    "\n",
    "#### 문제 설명\n",
    "- OO 연구소는 한 번에 K 칸을 앞으로 점프하거나, (현재까지 온 거리) x 2 에 해당하는 위치로 순간이동을 할 수 있는 특수한 기능을 가진 아이언 슈트를 개발하여 판매하고 있습니다. 이 아이언 슈트는 건전지로 작동되는데, 순간이동을 하면 건전지 사용량이 줄지 않지만, 앞으로 K 칸을 점프하면 K 만큼의 건전지 사용량이 듭니다. 그러므로 아이언 슈트를 착용하고 이동할 때는 순간 이동을 하는 것이 더 효율적입니다. 아이언 슈트 구매자는 아이언 슈트를 착용하고 거리가 N 만큼 떨어져 있는 장소로 가려고 합니다. 단, 건전지 사용량을 줄이기 위해 점프로 이동하는 것은 최소로 하려고 합니다. 아이언 슈트 구매자가 이동하려는 거리 N이 주어졌을 때, 사용해야 하는 건전지 사용량의 최솟값을 return하는 solution 함수를 만들어 주세요.\n",
    "\n",
    "- 예를 들어 거리가 5만큼 떨어져 있는 장소로 가려고 합니다.\n",
    "- 아이언 슈트를 입고 거리가 5만큼 떨어져 있는 장소로 갈 수 있는 경우의 수는 여러 가지입니다.\n",
    "- 처음 위치 0 에서 5 칸을 앞으로 점프하면 바로 도착하지만, 건전지 사용량이 5 만큼 듭니다.\n",
    "- 처음 위치 0 에서 2 칸을 앞으로 점프한 다음 순간이동 하면 (현재까지 온 거리 : 2) x 2에 해당하는 위치로 이동할 수 있으므로 위치 4로 이동합니다. 이때 1 칸을 앞으로 점프하면 도착하므로 건전지 사용량이 3 만큼 듭니다.\n",
    "- 처음 위치 0 에서 1 칸을 앞으로 점프한 다음 순간이동 하면 (현재까지 온 거리 : 1) x 2에 해당하는 위치로 이동할 수 있으므로 위치 2로 이동됩니다. 이때 다시 순간이동 하면 (현재까지 온 거리 : 2) x 2 만큼 이동할 수 있으므로 위치 4로 이동합니다. 이때 1 칸을 앞으로 점프하면 도착하므로 건전지 사용량이 2 만큼 듭니다.\n",
    "- 위의 3가지 경우 거리가 5만큼 떨어져 있는 장소로 가기 위해서 3번째 경우가 건전지 사용량이 가장 적으므로 답은 2가 됩니다.\n",
    "\n",
    "#### 제한 사항\n",
    "- 숫자 N: 1 이상 10억 이하의 자연수\n",
    "- 숫자 K: 1 이상의 자연수\n",
    "\n",
    "#### 문제 풀이\n",
    "- 예시 문제 설명 중 마지막것 *처음 위치 0 에서 1 칸을 앞으로 점프한 다음 순간이동 하면 (현재까지 온 거리 : 1) x 2에 해당하는 위치로 이동할 수 있으므로 위치 2로 이동됩니다. 이때 다시 순간이동 하면 (현재까지 온 거리 : 2) x 2 만큼 이동할 수 있으므로 위치 4로 이동합니다. 이때 1 칸을 앞으로 점프하면 도착하므로 건전지 사용량이 2 만큼 듭니다.*\n",
    "- 위 부분 때문에 0과 1과 관계가 있을것으로 보였고, 2로 나누었을때 (= 점프로 원래 위치에서 2배로 갔을때) 1이 부족하면 1번 점프를 해야하기 때문에, 주어진 n에서 2로 나누고 나머지가 1인것만 체크하면된다.\n",
    "- 사실 이는 2진법으로 바꾸었을떄 1의 갯수와 동일하다."
   ]
  },
  {
   "cell_type": "code",
   "execution_count": 34,
   "metadata": {
    "execution": {
     "iopub.execute_input": "2021-04-21T00:15:52.104577Z",
     "iopub.status.busy": "2021-04-21T00:15:52.104355Z",
     "iopub.status.idle": "2021-04-21T00:15:52.107955Z",
     "shell.execute_reply": "2021-04-21T00:15:52.107347Z",
     "shell.execute_reply.started": "2021-04-21T00:15:52.104554Z"
    }
   },
   "outputs": [],
   "source": [
    "def solution(n):\n",
    "    ans = 0\n",
    "    while n > 0:\n",
    "        ans += n % 2\n",
    "        n //= 2\n",
    "    return ans"
   ]
  },
  {
   "cell_type": "code",
   "execution_count": 35,
   "metadata": {
    "execution": {
     "iopub.execute_input": "2021-04-21T00:15:52.422575Z",
     "iopub.status.busy": "2021-04-21T00:15:52.422413Z",
     "iopub.status.idle": "2021-04-21T00:15:52.425753Z",
     "shell.execute_reply": "2021-04-21T00:15:52.425188Z",
     "shell.execute_reply.started": "2021-04-21T00:15:52.422558Z"
    }
   },
   "outputs": [
    {
     "data": {
      "text/plain": [
       "2"
      ]
     },
     "execution_count": 35,
     "metadata": {},
     "output_type": "execute_result"
    }
   ],
   "source": [
    "n = 5\n",
    "solution(n)"
   ]
  },
  {
   "cell_type": "code",
   "execution_count": 36,
   "metadata": {
    "execution": {
     "iopub.execute_input": "2021-04-21T00:15:52.455920Z",
     "iopub.status.busy": "2021-04-21T00:15:52.455717Z",
     "iopub.status.idle": "2021-04-21T00:15:52.459455Z",
     "shell.execute_reply": "2021-04-21T00:15:52.458989Z",
     "shell.execute_reply.started": "2021-04-21T00:15:52.455900Z"
    }
   },
   "outputs": [
    {
     "data": {
      "text/plain": [
       "2"
      ]
     },
     "execution_count": 36,
     "metadata": {},
     "output_type": "execute_result"
    }
   ],
   "source": [
    "n = 6\n",
    "solution(n)"
   ]
  },
  {
   "cell_type": "code",
   "execution_count": 37,
   "metadata": {
    "execution": {
     "iopub.execute_input": "2021-04-21T00:15:52.629393Z",
     "iopub.status.busy": "2021-04-21T00:15:52.629189Z",
     "iopub.status.idle": "2021-04-21T00:15:52.632960Z",
     "shell.execute_reply": "2021-04-21T00:15:52.632410Z",
     "shell.execute_reply.started": "2021-04-21T00:15:52.629371Z"
    }
   },
   "outputs": [
    {
     "data": {
      "text/plain": [
       "5"
      ]
     },
     "execution_count": 37,
     "metadata": {},
     "output_type": "execute_result"
    }
   ],
   "source": [
    "n = 5000\n",
    "solution(n)"
   ]
  }
 ],
 "metadata": {
  "kernelspec": {
   "display_name": "Python 3",
   "language": "python",
   "name": "python3"
  },
  "language_info": {
   "codemirror_mode": {
    "name": "ipython",
    "version": 3
   },
   "file_extension": ".py",
   "mimetype": "text/x-python",
   "name": "python",
   "nbconvert_exporter": "python",
   "pygments_lexer": "ipython3",
   "version": "3.8.3"
  }
 },
 "nbformat": 4,
 "nbformat_minor": 4
}
