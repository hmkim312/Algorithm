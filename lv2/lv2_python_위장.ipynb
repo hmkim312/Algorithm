{
 "cells": [
  {
   "cell_type": "markdown",
   "metadata": {},
   "source": [
    "URL <https://programmers.co.kr/learn/courses/30/lessons/42578>{:target=\"_blank\"}\n",
    "\n",
    "#### 문제 설명\n",
    "- 스파이들은 매일 다른 옷을 조합하여 입어 자신을 위장합니다.\n",
    "- 예를 들어 스파이가 가진 옷이 아래와 같고 오늘 스파이가 동그란 안경, 긴 코트, 파란색 티셔츠를 입었다면 다음날은 청바지를 추가로 입거나 동그란 안경 대신 검정 선글라스를 착용하거나 해야 합니다.\n",
    "\n",
    "|종류|이름|\n",
    "|---|---|\n",
    "|얼굴| 동그란 안경, 검정 선글라스|\n",
    "|상의\t|파란색 티셔츠|\n",
    "|하의\t|청바지|\n",
    "|겉옷\t|긴 코트|\n",
    "\n",
    "- 스파이가 가진 의상들이 담긴 2차원 배열 clothes가 주어질 때 서로 다른 옷의 조합의 수를 return 하도록 solution 함수를 작성해주세요.\n",
    "\n",
    "#### 제한사항\n",
    "- clothes의 각 행은 [의상의 이름, 의상의 종류]로 이루어져 있습니다.\n",
    "- 스파이가 가진 의상의 수는 1개 이상 30개 이하입니다.\n",
    "- 같은 이름을 가진 의상은 존재하지 않습니다.\n",
    "- clothes의 모든 원소는 문자열로 이루어져 있습니다.\n",
    "- 모든 문자열의 길이는 1 이상 20 이하인 자연수이고 알파벳 소문자 또는 '_' 로만 이루어져 있습니다.\n",
    "- 스파이는 하루에 최소 한 개의 의상은 입습니다."
   ]
  },
  {
   "cell_type": "markdown",
   "metadata": {},
   "source": [
    "#### 문제풀이\n",
    "- yellow_hat 등의 의상의 이름은 필요없다. 의상의 종류의 갯수만 알면 됩니다. 이는 for문과 Counter를 사용해서 구합니다.\n",
    "- 의상의 종류 들을 곱하면 경우의 수가 나옵니다. answer \\*= categories 부분. 하지만 각 경우의 수에서 +1를 해주어, 해당 의상을 안입을 경우도 만들어 줍니다.\n",
    "- 마지막으로 모든 의상을 입지않은 경우는 없으니 다시 -1을 해줍니다."
   ]
  },
  {
   "cell_type": "code",
   "execution_count": 20,
   "metadata": {
    "execution": {
     "iopub.execute_input": "2021-01-19T00:42:26.766639Z",
     "iopub.status.busy": "2021-01-19T00:42:26.766429Z",
     "iopub.status.idle": "2021-01-19T00:42:26.771172Z",
     "shell.execute_reply": "2021-01-19T00:42:26.770019Z",
     "shell.execute_reply.started": "2021-01-19T00:42:26.766617Z"
    }
   },
   "outputs": [],
   "source": [
    "from collections import Counter\n",
    "def solution(clothes):\n",
    "    answer = 1\n",
    "    categories = Counter([cate for _, cate in clothes])\n",
    "\n",
    "    for i in categories:\n",
    "        answer *= categories[i] + 1\n",
    "    \n",
    "    return answer - 1"
   ]
  },
  {
   "cell_type": "code",
   "execution_count": 22,
   "metadata": {
    "execution": {
     "iopub.execute_input": "2021-01-19T00:44:46.761534Z",
     "iopub.status.busy": "2021-01-19T00:44:46.761322Z",
     "iopub.status.idle": "2021-01-19T00:44:46.766226Z",
     "shell.execute_reply": "2021-01-19T00:44:46.765340Z",
     "shell.execute_reply.started": "2021-01-19T00:44:46.761512Z"
    }
   },
   "outputs": [
    {
     "data": {
      "text/plain": [
       "5"
      ]
     },
     "execution_count": 22,
     "metadata": {},
     "output_type": "execute_result"
    }
   ],
   "source": [
    "clothes = [['yellow_hat', 'headgear'], ['blue_sunglasses', 'eyewear'], ['green_turban', 'headgear']]\n",
    "solution(clothes)"
   ]
  },
  {
   "cell_type": "code",
   "execution_count": 23,
   "metadata": {
    "execution": {
     "iopub.execute_input": "2021-01-19T00:45:11.534493Z",
     "iopub.status.busy": "2021-01-19T00:45:11.534303Z",
     "iopub.status.idle": "2021-01-19T00:45:11.538148Z",
     "shell.execute_reply": "2021-01-19T00:45:11.537638Z",
     "shell.execute_reply.started": "2021-01-19T00:45:11.534474Z"
    }
   },
   "outputs": [
    {
     "data": {
      "text/plain": [
       "3"
      ]
     },
     "execution_count": 23,
     "metadata": {},
     "output_type": "execute_result"
    }
   ],
   "source": [
    "clothes = [['crow_mask', 'face'], ['blue_sunglasses', 'face'], ['smoky_makeup', 'face']]\n",
    "solution(clothes)"
   ]
  }
 ],
 "metadata": {
  "kernelspec": {
   "display_name": "Python 3",
   "language": "python",
   "name": "python3"
  },
  "language_info": {
   "codemirror_mode": {
    "name": "ipython",
    "version": 3
   },
   "file_extension": ".py",
   "mimetype": "text/x-python",
   "name": "python",
   "nbconvert_exporter": "python",
   "pygments_lexer": "ipython3",
   "version": "3.8.3"
  }
 },
 "nbformat": 4,
 "nbformat_minor": 4
}
