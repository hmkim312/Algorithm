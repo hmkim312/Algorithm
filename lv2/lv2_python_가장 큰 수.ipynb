{
 "cells": [
  {
   "cell_type": "markdown",
   "metadata": {},
   "source": [
    "URL : <https://programmers.co.kr/learn/courses/30/lessons/42746>{:target=\"_blank\"}\n",
    "\n",
    "#### 문제 설명\n",
    "- 0 또는 양의 정수가 주어졌을 때, 정수를 이어 붙여 만들 수 있는 가장 큰 수를 알아내 주세요.\n",
    "- 예를 들어, 주어진 정수가 [6, 10, 2]라면 [6102, 6210, 1062, 1026, 2610, 2106]를 만들 수 있고, 이중 가장 큰 수는 6210입니다.\n",
    "- 0 또는 양의 정수가 담긴 배열 numbers가 매개변수로 주어질 때, 순서를 재배치하여 만들 수 있는 가장 큰 수를 문자열로 바꾸어 return 하도록 solution 함수를 작성해주세요.\n",
    "\n",
    "#### 제한 사항\n",
    "- numbers의 길이는 1 이상 100,000 이하입니다.\n",
    "- numbers의 원소는 0 이상 1,000 이하입니다.\n",
    "- 정답이 너무 클 수 있으니 문자열로 바꾸어 return 합니다.\n"
   ]
  },
  {
   "cell_type": "markdown",
   "metadata": {},
   "source": [
    "#### 문제풀이\n",
    "- 문자열은 숫자형과 달리 첫 글자가 큰 순서대로 크기 정렬이 가능함\n",
    "- 전체가 0부터 1000사이의 4자리 수이므로, sorted를 4자리까지 늘려줌 (x * 4)\n",
    "- 주어진 arr의 합이 0이면 0을 return하게 함"
   ]
  },
  {
   "cell_type": "code",
   "execution_count": 48,
   "metadata": {
    "execution": {
     "iopub.execute_input": "2021-01-07T08:15:51.536730Z",
     "iopub.status.busy": "2021-01-07T08:15:51.536540Z",
     "iopub.status.idle": "2021-01-07T08:15:51.539927Z",
     "shell.execute_reply": "2021-01-07T08:15:51.539403Z",
     "shell.execute_reply.started": "2021-01-07T08:15:51.536710Z"
    }
   },
   "outputs": [],
   "source": [
    "def solution(arr):\n",
    "    if sum(arr) == 0:\n",
    "        return '0'\n",
    "    else :\n",
    "        arr = sorted(list(map(str, arr)), reverse=True, key = lambda x : x *4)\n",
    "        return ''.join(arr)"
   ]
  },
  {
   "cell_type": "code",
   "execution_count": 49,
   "metadata": {
    "execution": {
     "iopub.execute_input": "2021-01-07T08:15:51.828997Z",
     "iopub.status.busy": "2021-01-07T08:15:51.828792Z",
     "iopub.status.idle": "2021-01-07T08:15:51.832539Z",
     "shell.execute_reply": "2021-01-07T08:15:51.832005Z",
     "shell.execute_reply.started": "2021-01-07T08:15:51.828975Z"
    }
   },
   "outputs": [
    {
     "data": {
      "text/plain": [
       "'12121'"
      ]
     },
     "execution_count": 49,
     "metadata": {},
     "output_type": "execute_result"
    }
   ],
   "source": [
    "arr = [12, 121]\n",
    "solution(arr)"
   ]
  },
  {
   "cell_type": "code",
   "execution_count": 50,
   "metadata": {
    "execution": {
     "iopub.execute_input": "2021-01-07T08:15:52.071978Z",
     "iopub.status.busy": "2021-01-07T08:15:52.071717Z",
     "iopub.status.idle": "2021-01-07T08:15:52.076577Z",
     "shell.execute_reply": "2021-01-07T08:15:52.076031Z",
     "shell.execute_reply.started": "2021-01-07T08:15:52.071949Z"
    }
   },
   "outputs": [
    {
     "data": {
      "text/plain": [
       "'0'"
      ]
     },
     "execution_count": 50,
     "metadata": {},
     "output_type": "execute_result"
    }
   ],
   "source": [
    "arr = [0,0,0,0]\n",
    "solution(arr)"
   ]
  }
 ],
 "metadata": {
  "kernelspec": {
   "display_name": "Python 3",
   "language": "python",
   "name": "python3"
  },
  "language_info": {
   "codemirror_mode": {
    "name": "ipython",
    "version": 3
   },
   "file_extension": ".py",
   "mimetype": "text/x-python",
   "name": "python",
   "nbconvert_exporter": "python",
   "pygments_lexer": "ipython3",
   "version": "3.8.3"
  }
 },
 "nbformat": 4,
 "nbformat_minor": 4
}
