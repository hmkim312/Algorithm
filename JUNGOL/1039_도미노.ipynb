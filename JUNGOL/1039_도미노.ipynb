{
 "cells": [
  {
   "cell_type": "markdown",
   "metadata": {},
   "source": [
    "url : <http://jungol.co.kr/bbs/board.php?bo_table=pbank&wr_id=318&sca=99>{:target=\"_blank\"}\n",
    "\n",
    "### 문제 설명 \n",
    "\n",
    "- 도미노는 블록의 일종으로 두 개의 정사각형 칸(위칸 아래칸으로 구분)으로 나뉘어진 블록을 말한다. 도미노의 각 칸에 최소 0 개 최대 N 개의 점을 찍고자 하는데 가능한 경우가 총 몇 가지인지 알아보고자 한다.\n",
    "- 이 경우 도미노를 위 아래로 뒤집었을 때 찍힌 점의 개수가 동일한 경우 하나로 간주한다. 예를 들어 위칸에 1 이 찍히고 아래칸에 2 가 찍힌 경우는 위칸에 2 가 찍히고 아래칸에 1 이 찍힌 경우와 동일한 것으로 간주한다. \n",
    "\n",
    "### 문제 풀이\n",
    "- 조합의 \"개수\"를 더하는 거기 때문에 array를 for문 돌면서 각 위치를 더하면 됨\n",
    "    - 예시 : array = [0, 1, 2]\n",
    "    - -> (0,0), (0,1), (0,2) : 3개 = len(array[0:])\n",
    "    - -> (1,1, 1,2) : 2개 = len(array[1:])\n",
    "    - -> (2,2) : 1개 = len(array[2:])\n",
    "    - 위의 갯수를 다 더하면됨\n",
    "\n",
    "\n",
    "- itertools를 쓰면 가장 좋다. -> 없어서 재귀함수로 함\n",
    "- 재귀함수는 메모리 제한에 터짐\n",
    "- 2중 for문은 제한시간에 터짐"
   ]
  },
  {
   "cell_type": "code",
   "execution_count": 39,
   "metadata": {
    "execution": {
     "iopub.execute_input": "2021-12-17T03:25:39.006992Z",
     "iopub.status.busy": "2021-12-17T03:25:39.006773Z",
     "iopub.status.idle": "2021-12-17T03:25:40.140760Z",
     "shell.execute_reply": "2021-12-17T03:25:40.140130Z",
     "shell.execute_reply.started": "2021-12-17T03:25:39.006969Z"
    }
   },
   "outputs": [
    {
     "name": "stdin",
     "output_type": "stream",
     "text": [
      " 11\n"
     ]
    },
    {
     "name": "stdout",
     "output_type": "stream",
     "text": [
      "78\n"
     ]
    }
   ],
   "source": [
    "# n 갯수 더하기 - 성공\n",
    "\n",
    "N = int(input())\n",
    "\n",
    "array = list(range(0, N + 1))\n",
    "\n",
    "n = 0\n",
    "\n",
    "for i in range(len(array)):\n",
    "    n+= len(array[i:])\n",
    "print(n)"
   ]
  },
  {
   "cell_type": "code",
   "execution_count": 20,
   "metadata": {
    "execution": {
     "iopub.execute_input": "2021-12-17T03:17:33.805622Z",
     "iopub.status.busy": "2021-12-17T03:17:33.805405Z",
     "iopub.status.idle": "2021-12-17T03:17:36.314174Z",
     "shell.execute_reply": "2021-12-17T03:17:36.313481Z",
     "shell.execute_reply.started": "2021-12-17T03:17:33.805598Z"
    }
   },
   "outputs": [
    {
     "name": "stdin",
     "output_type": "stream",
     "text": [
      " 11\n"
     ]
    },
    {
     "name": "stdout",
     "output_type": "stream",
     "text": [
      "78\n"
     ]
    }
   ],
   "source": [
    "# itertools - itertools 없음\n",
    "\n",
    "import itertools\n",
    "\n",
    "N = int(input())\n",
    "\n",
    "array = list(range(0, N + 1))\n",
    "\n",
    "print(len(list(itertools.combinations_with_replacement(array, 2))))"
   ]
  },
  {
   "cell_type": "code",
   "execution_count": 21,
   "metadata": {
    "execution": {
     "iopub.execute_input": "2021-12-17T03:17:51.752341Z",
     "iopub.status.busy": "2021-12-17T03:17:51.752083Z",
     "iopub.status.idle": "2021-12-17T03:17:53.192991Z",
     "shell.execute_reply": "2021-12-17T03:17:53.192287Z",
     "shell.execute_reply.started": "2021-12-17T03:17:51.752314Z"
    }
   },
   "outputs": [
    {
     "name": "stdin",
     "output_type": "stream",
     "text": [
      " 11\n"
     ]
    },
    {
     "name": "stdout",
     "output_type": "stream",
     "text": [
      "78\n"
     ]
    }
   ],
   "source": [
    "# 재귀 함수 - 메모리 초과\n",
    "\n",
    "N = int(input())\n",
    "\n",
    "array = list(range(0, N + 1))\n",
    "\n",
    "def combinations_2(array, r):\n",
    "    for i in range(len(array)):\n",
    "        if r == 1: # 종료 조건\n",
    "            yield [array[i]]\n",
    "        else:\n",
    "            for next in combinations_2(array[i:], r-1):\n",
    "                yield [array[i]] + next\n",
    "\n",
    "print(len(list(combinations_2(array, 2))))"
   ]
  },
  {
   "cell_type": "code",
   "execution_count": 37,
   "metadata": {
    "execution": {
     "iopub.execute_input": "2021-12-17T03:24:26.801760Z",
     "iopub.status.busy": "2021-12-17T03:24:26.801541Z",
     "iopub.status.idle": "2021-12-17T03:24:28.086052Z",
     "shell.execute_reply": "2021-12-17T03:24:28.085257Z",
     "shell.execute_reply.started": "2021-12-17T03:24:26.801736Z"
    }
   },
   "outputs": [
    {
     "name": "stdin",
     "output_type": "stream",
     "text": [
      " 11\n"
     ]
    },
    {
     "name": "stdout",
     "output_type": "stream",
     "text": [
      "78\n"
     ]
    }
   ],
   "source": [
    "# 2중 for문 - 시간초과\n",
    "\n",
    "N = int(input())\n",
    "\n",
    "array = list(range(0, N + 1))\n",
    "\n",
    "n = 0\n",
    "\n",
    "for i in range(len(array)):\n",
    "    for j in range(len(array[i:])):\n",
    "        n+=1\n",
    "print(n)"
   ]
  },
  {
   "cell_type": "code",
   "execution_count": 38,
   "metadata": {
    "execution": {
     "iopub.execute_input": "2021-12-17T03:24:57.942938Z",
     "iopub.status.busy": "2021-12-17T03:24:57.942712Z",
     "iopub.status.idle": "2021-12-17T03:24:59.210209Z",
     "shell.execute_reply": "2021-12-17T03:24:59.209648Z",
     "shell.execute_reply.started": "2021-12-17T03:24:57.942914Z"
    }
   },
   "outputs": [
    {
     "name": "stdin",
     "output_type": "stream",
     "text": [
      " 11\n"
     ]
    },
    {
     "name": "stdout",
     "output_type": "stream",
     "text": [
      "78\n"
     ]
    }
   ],
   "source": [
    "# n 갯수 더하기\n",
    "\n",
    "N = int(input())\n",
    "\n",
    "array = list(range(0, N + 1))\n",
    "\n",
    "n = 0\n",
    "\n",
    "for i in range(len(array)):\n",
    "    n+= len(array[i:])\n",
    "print(n)"
   ]
  },
  {
   "cell_type": "code",
   "execution_count": 32,
   "metadata": {
    "execution": {
     "iopub.execute_input": "2021-12-17T03:21:02.326675Z",
     "iopub.status.busy": "2021-12-17T03:21:02.326456Z",
     "iopub.status.idle": "2021-12-17T03:21:02.330433Z",
     "shell.execute_reply": "2021-12-17T03:21:02.329812Z",
     "shell.execute_reply.started": "2021-12-17T03:21:02.326652Z"
    }
   },
   "outputs": [
    {
     "data": {
      "text/plain": [
       "78"
      ]
     },
     "execution_count": 32,
     "metadata": {},
     "output_type": "execute_result"
    }
   ],
   "source": [
    "n"
   ]
  },
  {
   "cell_type": "code",
   "execution_count": null,
   "metadata": {},
   "outputs": [],
   "source": []
  }
 ],
 "metadata": {
  "kernelspec": {
   "display_name": "Python 3",
   "language": "python",
   "name": "python3"
  },
  "language_info": {
   "codemirror_mode": {
    "name": "ipython",
    "version": 3
   },
   "file_extension": ".py",
   "mimetype": "text/x-python",
   "name": "python",
   "nbconvert_exporter": "python",
   "pygments_lexer": "ipython3",
   "version": "3.8.3"
  }
 },
 "nbformat": 4,
 "nbformat_minor": 4
}
