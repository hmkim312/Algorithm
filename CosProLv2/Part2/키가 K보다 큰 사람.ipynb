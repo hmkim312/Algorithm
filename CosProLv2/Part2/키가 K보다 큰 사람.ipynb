{
 "cells": [
  {
   "cell_type": "markdown",
   "metadata": {},
   "source": [
    "URL <https://programmers.co.kr/learn/courses/33/lessons/1862>{:target=\"_blank\"}\n",
    "\n",
    "#### 문제 설명\n",
    "- 학생들의 키가 들어있는 목록에서 키가 k보다 큰 사람은 몇 명인지 구하려합니다.\n",
    "- 학생들의 키가 들어있는 배열 height와 k 값이 매개변수로 주어졌을 때, k보다 키가 큰 학생의 수를 세서 return 하도록 solution 함수를 작성했습니다. 그러나, 코드 일부분이 잘못되어있기 때문에, 몇몇 입력에 대해서는 올바르게 동작하지 않습니다. 주어진 코드에서 한 줄만 변경해서 모든 입력에 대해 올바르게 동작하도록 수정하세요.\n",
    "\n",
    "#### 매개변수 설명\n",
    "- 학생들의 키가 들어있는 배열 height와 k 값이 solution 함수의 매개변수로 주어집니다.\n",
    "- height의 길이는 1 이상 100 이하입니다.\n",
    "- 학생들의 키는 100 이상 300 이하의 자연수입니다.\n",
    "- k는 100 이상 300 이하의 자연수입니다.\n",
    "\n",
    "#### return 값 설명\n",
    "- solution 함수는 k보다 키가 큰 학생의 수를 return 합니다.\n",
    "\n",
    "#### 수정할 코드\n",
    "\n",
    "```python\n",
    "def solution(height, k):\n",
    "    answer = 0\n",
    "    n = len(height)\n",
    "    for h in height:\n",
    "        if h >= k:\n",
    "            answer += 1\n",
    "    return answer\n",
    "```\n",
    "\n",
    "#### 문제 설명\n",
    "- 주어진 코드에서 1줄만 수정하여 정답코드를 만들어내는 문제\n",
    "- k보다 큰수라고 했는데 if h >= k: 로 k의 크기도 같이 가져감\n",
    "- 그래서 if h > k: 로 바꾸어줌"
   ]
  },
  {
   "cell_type": "code",
   "execution_count": 1,
   "metadata": {
    "execution": {
     "iopub.execute_input": "2021-05-21T06:33:56.013636Z",
     "iopub.status.busy": "2021-05-21T06:33:56.013388Z",
     "iopub.status.idle": "2021-05-21T06:33:56.017502Z",
     "shell.execute_reply": "2021-05-21T06:33:56.016574Z",
     "shell.execute_reply.started": "2021-05-21T06:33:56.013610Z"
    }
   },
   "outputs": [],
   "source": [
    "def solution(height, k):\n",
    "    answer = 0\n",
    "    n = len(height)\n",
    "    for h in height:\n",
    "        if h > k: # 해당 부분 수정\n",
    "            answer += 1\n",
    "    return answer"
   ]
  },
  {
   "cell_type": "code",
   "execution_count": 2,
   "metadata": {
    "execution": {
     "iopub.execute_input": "2021-05-21T06:34:14.966794Z",
     "iopub.status.busy": "2021-05-21T06:34:14.966585Z",
     "iopub.status.idle": "2021-05-21T06:34:14.975369Z",
     "shell.execute_reply": "2021-05-21T06:34:14.974740Z",
     "shell.execute_reply.started": "2021-05-21T06:34:14.966772Z"
    }
   },
   "outputs": [
    {
     "data": {
      "text/plain": [
       "2"
      ]
     },
     "execution_count": 2,
     "metadata": {},
     "output_type": "execute_result"
    }
   ],
   "source": [
    "height = [165, 170, 175, 180, 184]\n",
    "k = 175\n",
    "solution(height, k)"
   ]
  }
 ],
 "metadata": {
  "kernelspec": {
   "display_name": "Python 3",
   "language": "python",
   "name": "python3"
  },
  "language_info": {
   "codemirror_mode": {
    "name": "ipython",
    "version": 3
   },
   "file_extension": ".py",
   "mimetype": "text/x-python",
   "name": "python",
   "nbconvert_exporter": "python",
   "pygments_lexer": "ipython3",
   "version": "3.8.3"
  }
 },
 "nbformat": 4,
 "nbformat_minor": 4
}
