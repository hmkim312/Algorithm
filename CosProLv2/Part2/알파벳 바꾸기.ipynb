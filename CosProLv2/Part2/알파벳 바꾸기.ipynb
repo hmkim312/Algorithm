{
 "cells": [
  {
   "cell_type": "markdown",
   "metadata": {},
   "source": [
    "URL <https://programmers.co.kr/learn/courses/33/lessons/1860>{:target=\"_blank\"}\n",
    "\n",
    "#### 문제 설명\n",
    "- 문자열이 주어졌을 때, 문자열에서 'a'는 'z'로, 'z'는 'a'로 바꾸려고 합니다. 예를 들어 주어진 문자열이 \"abz\"라면 \"zba\"라는 문자열을 만들면 됩니다.\n",
    "- 문자열 s가 매개변수로 주어졌을 때, 문자열에서 'a'는 'z'로, 'z'는 'a'로 바꾸어 return 하도록 solution 함수를 작성했습니다. 그러나, 코드 일부분이 잘못되어있기 때문에, 몇몇 입력에 대해서는 올바르게 동작하지 않습니다. 주어진 코드에서 한 줄만 변경해서 모든 입력에 대해 올바르게 동작하도록 수정하세요.\n",
    "\n",
    "#### 매개변수 설명\n",
    "- 문자열 s가 solution 함수의 매개변수로 주어집니다.\n",
    "- 문자열 s는 알파벳 소문자로만 이루어져 있으며 길이는 1 이상 100 이하입니다.\n",
    "\n",
    "#### return 값 설명\n",
    "- solution 함수는 문자열에서 'a'는 'z'로, 'z'는 'a'로 바꾼 후 return 합니다.\n",
    "\n",
    "#### 수정할 코드\n",
    "\n",
    "```python\n",
    "def solution(s):\n",
    "    s_lst = list(s)\n",
    "    n = len(s)\n",
    "    for i in range(n):\n",
    "        if s_lst[i] == 'a':\n",
    "            s_lst[i] = 'z'\n",
    "        if s_lst[i] == 'z':\n",
    "            s_lst[i] =  'a'\n",
    "    return \"\".join(s_lst)\n",
    "```\n",
    "\n",
    "#### 문제 풀이\n",
    "- 주어진 코드에서 1줄만 수정하여 정상작동하는 코드를 만들어내는 문제이다.\n",
    "- 수정할 코드에서 if문이 2개가 되어 a가 z로 바뀌고 다시 z가 a로 바뀌게 되어있다. if문이 중복됨\n",
    "- 따라서 2번째 if를 elif로 바꾸어서 if문 중복을 피하거나, 첫번째 if문 뒤에 continue를 넣어 처음 if문이 되면 다시 for문이 도는것으로 해야한다.\n",
    "- 다만 continue 다만 프로그래머스에서 줄 추가가 안되어 해당 솔루션은 사용 못하긴 함."
   ]
  },
  {
   "cell_type": "code",
   "execution_count": 9,
   "metadata": {
    "execution": {
     "iopub.execute_input": "2021-05-21T06:40:53.540032Z",
     "iopub.status.busy": "2021-05-21T06:40:53.539814Z",
     "iopub.status.idle": "2021-05-21T06:40:53.544571Z",
     "shell.execute_reply": "2021-05-21T06:40:53.543822Z",
     "shell.execute_reply.started": "2021-05-21T06:40:53.540008Z"
    }
   },
   "outputs": [],
   "source": [
    "# answer 1\n",
    "def solution(s):\n",
    "    s_lst = list(s)\n",
    "    n = len(s)\n",
    "    for i in range(n):\n",
    "        if s_lst[i] == 'a':\n",
    "            s_lst[i] = 'z'\n",
    "        elif s_lst[i] == 'z': # 해당 부분 수정\n",
    "            s_lst[i] =  'a'\n",
    "    return \"\".join(s_lst)"
   ]
  },
  {
   "cell_type": "code",
   "execution_count": 10,
   "metadata": {
    "execution": {
     "iopub.execute_input": "2021-05-21T06:40:57.172006Z",
     "iopub.status.busy": "2021-05-21T06:40:57.171787Z",
     "iopub.status.idle": "2021-05-21T06:40:57.176025Z",
     "shell.execute_reply": "2021-05-21T06:40:57.175427Z",
     "shell.execute_reply.started": "2021-05-21T06:40:57.171981Z"
    }
   },
   "outputs": [
    {
     "data": {
      "text/plain": [
       "'zba'"
      ]
     },
     "execution_count": 10,
     "metadata": {},
     "output_type": "execute_result"
    }
   ],
   "source": [
    "s = \"abz\"\n",
    "solution(s)"
   ]
  },
  {
   "cell_type": "code",
   "execution_count": 11,
   "metadata": {
    "execution": {
     "iopub.execute_input": "2021-05-21T06:40:57.366415Z",
     "iopub.status.busy": "2021-05-21T06:40:57.366204Z",
     "iopub.status.idle": "2021-05-21T06:40:57.370580Z",
     "shell.execute_reply": "2021-05-21T06:40:57.370002Z",
     "shell.execute_reply.started": "2021-05-21T06:40:57.366391Z"
    }
   },
   "outputs": [],
   "source": [
    "# answer 2, 다만 프로그래머스에서 줄 추가가 안되어 해당 솔루션은 사용 못하긴 함.\n",
    "def solution(s):\n",
    "    s_lst = list(s)\n",
    "    n = len(s)\n",
    "    for i in range(n):\n",
    "        if s_lst[i] == 'a':\n",
    "            s_lst[i] = 'z'\n",
    "            continue      # 해당 부분 수정\n",
    "        if s_lst[i] == 'z':\n",
    "            s_lst[i] =  'a'\n",
    "    return \"\".join(s_lst)"
   ]
  },
  {
   "cell_type": "code",
   "execution_count": 12,
   "metadata": {
    "execution": {
     "iopub.execute_input": "2021-05-21T06:40:57.675406Z",
     "iopub.status.busy": "2021-05-21T06:40:57.675194Z",
     "iopub.status.idle": "2021-05-21T06:40:57.679069Z",
     "shell.execute_reply": "2021-05-21T06:40:57.678307Z",
     "shell.execute_reply.started": "2021-05-21T06:40:57.675382Z"
    }
   },
   "outputs": [
    {
     "data": {
      "text/plain": [
       "'zba'"
      ]
     },
     "execution_count": 12,
     "metadata": {},
     "output_type": "execute_result"
    }
   ],
   "source": [
    "s = \"abz\"\n",
    "solution(s)"
   ]
  }
 ],
 "metadata": {
  "kernelspec": {
   "display_name": "Python 3",
   "language": "python",
   "name": "python3"
  },
  "language_info": {
   "codemirror_mode": {
    "name": "ipython",
    "version": 3
   },
   "file_extension": ".py",
   "mimetype": "text/x-python",
   "name": "python",
   "nbconvert_exporter": "python",
   "pygments_lexer": "ipython3",
   "version": "3.8.3"
  }
 },
 "nbformat": 4,
 "nbformat_minor": 4
}
