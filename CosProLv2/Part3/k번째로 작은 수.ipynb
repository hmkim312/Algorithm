{
 "cells": [
  {
   "cell_type": "markdown",
   "metadata": {},
   "source": [
    "URL <https://programmers.co.kr/learn/courses/33/lessons/1864>{:target=\"_blank\"}\n",
    "\n",
    "#### 문제 설명\n",
    "- 자연수가 담겨있는 n x 4 크기의 2차원 배열에서 k번째로 작은 수를 찾으려 합니다. 이때, n은 배열의 세로길이, 4는 배열의 가로길이입니다. 예를 들어 다음은 자연수가 담겨있는 4 x 4 크기의 2차원 배열입니다.\n",
    "- 위 2차원 배열에서 가장 작은 수는 2입니다. 두 번째로 작은 수는 4, 세 번째로 작은 수는 5이며, 네 번째로 작은 수는 11입니다.\n",
    "- 2차원 배열 arr와 k가 매개변수로 주어질 때, arr에서 k번째로 작은 수를 찾아 return 하도록 solution 함수를 완성해주세요.\n",
    "\n",
    "#### 매개변수 설명\n",
    "- 2차원 배열 arr와 자연수 k가 solution 함수의 매개변수로 주어집니다.\n",
    "- arr는 n x 4 크기의 2차원 배열이며, n은 1 이상 20 이하입니다.\n",
    "- n은 arr의 세로길이이며, 가로길이는 항상 4입니다.\n",
    "- arr의 원소는 1 이상 1,000 이하의 자연수이며, 같은 수가 중복해서 들어있지 않습니다.\n",
    "- k는 1 이상 n x 4 이하의 자연수입니다.\n",
    "\n",
    "#### return 값 설명\n",
    "- 2차원 배열 arr에서 k번째로 작은 수를 찾아서 return 하도록 solution 함수를 작성해주세요.\n",
    "\n",
    "#### 문제 풀이\n",
    "- 2차원 arr을 1차원 list로 변경하기 위해 extend를 사용하고, 해당 list를 sort한뒤 k번째로 (-1) 작은 수를 리턴하게 함"
   ]
  },
  {
   "cell_type": "code",
   "execution_count": 1,
   "metadata": {
    "execution": {
     "iopub.execute_input": "2021-05-21T06:24:10.066381Z",
     "iopub.status.busy": "2021-05-21T06:24:10.066117Z",
     "iopub.status.idle": "2021-05-21T06:24:10.070513Z",
     "shell.execute_reply": "2021-05-21T06:24:10.069609Z",
     "shell.execute_reply.started": "2021-05-21T06:24:10.066356Z"
    }
   },
   "outputs": [],
   "source": [
    "def solution(arr, k):\n",
    "    temp = []\n",
    "    for i in arr:\n",
    "        temp.extend(i)\n",
    "    temp.sort()\n",
    "    return temp[k-1]"
   ]
  },
  {
   "cell_type": "code",
   "execution_count": 2,
   "metadata": {
    "execution": {
     "iopub.execute_input": "2021-05-21T06:24:27.670145Z",
     "iopub.status.busy": "2021-05-21T06:24:27.669930Z",
     "iopub.status.idle": "2021-05-21T06:24:27.679803Z",
     "shell.execute_reply": "2021-05-21T06:24:27.679111Z",
     "shell.execute_reply.started": "2021-05-21T06:24:27.670122Z"
    }
   },
   "outputs": [
    {
     "data": {
      "text/plain": [
       "11"
      ]
     },
     "execution_count": 2,
     "metadata": {},
     "output_type": "execute_result"
    }
   ],
   "source": [
    "arr = [[5,12,4,31],[24,13,11,2],[43,44,19,26],[33,65,20,21]]\n",
    "k = 4\n",
    "solution(arr, k)"
   ]
  }
 ],
 "metadata": {
  "kernelspec": {
   "display_name": "Python 3",
   "language": "python",
   "name": "python3"
  },
  "language_info": {
   "codemirror_mode": {
    "name": "ipython",
    "version": 3
   },
   "file_extension": ".py",
   "mimetype": "text/x-python",
   "name": "python",
   "nbconvert_exporter": "python",
   "pygments_lexer": "ipython3",
   "version": "3.8.3"
  }
 },
 "nbformat": 4,
 "nbformat_minor": 4
}
