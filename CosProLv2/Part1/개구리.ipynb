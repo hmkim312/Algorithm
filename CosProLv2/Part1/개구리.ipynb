{
 "cells": [
  {
   "cell_type": "markdown",
   "metadata": {},
   "source": [
    "URL <https://programmers.co.kr/learn/courses/33/lessons/1859>{:target=\"_blank\"}\n",
    "\n",
    "#### 문제 설명\n",
    "- 개구리가 일정한 간격으로 일렬로 놓여있는 징검다리를 건너려고 합니다.\n",
    "- 징검다리에는 자연수가 적혀있으며, 개구리는 자신이 밟고 있는 징검다리에 적혀있는 숫자만큼 앞쪽으로 점프해야 합니다. 개구리는 현재 첫 번째 징검다리 위에 앉아있습니다.\n",
    "- 징검다리에 적혀있는 숫자가 첫 번째부터 순서대로 들어있는 배열 stones가 매개변수로 주어질 때, 개구리가 징검다리를 모두 건너기 위해 필요한 점프 횟수를 return 하도록 solution 함수를 작성하려 합니다. 빈칸을 채워 전체 코드를 완성해주세요.\n",
    "\n",
    "#### 매개변수 설명\n",
    "- 징검다리에 적힌 숫자가 첫 번째 징검다리부터 순서대로 들어있는 배열 stones가 solution 함수의 매개변수로 주어집니다.\n",
    "- stones 배열의 길이는 1 이상 100 이하입니다.\n",
    "- stones의 원소(돌에 적혀있는 숫자)는 1 이상 5 이하의 자연수입니다.\n",
    "\n",
    "#### return값 설명\n",
    "- solution 함수는 개구리가 징검다리를 모두 건너기 위해 필요한 점프 횟수를 return 합니다.\n",
    "\n",
    "#### 빈칸 코드\n",
    "- 빈칸 채우기 문제 안내\n",
    "- 빈칸 채우기는 이미 완성된 코드 중 빈칸에 알맞은 코드를 입력하는 문제 타입입니다.\n",
    "- 빈칸을 제외한 기본 코드는 수정할 수 없습니다.\n",
    "- 빈칸을 채우지 않을 경우, 실행 결과에 에러 메시지가 표시됩니다.\n",
    "\n",
    "```python\n",
    "def solution(stones):\n",
    "    cnt = 0\n",
    "    current = 0\n",
    "    n = len(stones)\n",
    "    while '빈칸:\n",
    "        current += '빈칸'\n",
    "        cnt += 1\n",
    "    return cnt\n",
    "```\n",
    "\n",
    "#### 문제 풀이\n",
    "- while은 상태값이 True이면 계속 실행된다.\n",
    "- current는 여태까지 뛰어온 정보 및 내가 뛰어온 위치 입니다. (current가 0이면 나는 0번쨰 위치)\n",
    "- stones[current]는 다음에 점프를 해야할 위치 힙니다.\n",
    "- current가 전체 stones의 길이보다 크다면 이제 다 건너온것이므로 끝입니다.\n",
    "- while에 전체 stones의 길이 n이 current보다 크다면 아직 건너갈 stone이 있다는 이야기입니다.\n",
    "- 요약하자면 current와 n을 비교하여 앞으로 내가 가야할 stone이 있다면 currnet(여태까지 뛰어온 위치)와 앞으로 점프해야할 위치를 더하고 cnt(건너온 횟수)를 +1를 해주면 됩니다."
   ]
  },
  {
   "cell_type": "code",
   "execution_count": 30,
   "metadata": {
    "execution": {
     "iopub.execute_input": "2021-05-24T01:48:13.815654Z",
     "iopub.status.busy": "2021-05-24T01:48:13.815438Z",
     "iopub.status.idle": "2021-05-24T01:48:13.819459Z",
     "shell.execute_reply": "2021-05-24T01:48:13.818521Z",
     "shell.execute_reply.started": "2021-05-24T01:48:13.815631Z"
    }
   },
   "outputs": [],
   "source": [
    "def solution(stones):\n",
    "    cnt = 0\n",
    "    current = 0\n",
    "    n = len(stones)\n",
    "    while current < n:\n",
    "        current += stones[current]\n",
    "        cnt += 1\n",
    "    return cnt"
   ]
  },
  {
   "cell_type": "code",
   "execution_count": 31,
   "metadata": {
    "execution": {
     "iopub.execute_input": "2021-05-24T01:48:14.028394Z",
     "iopub.status.busy": "2021-05-24T01:48:14.028046Z",
     "iopub.status.idle": "2021-05-24T01:48:14.032141Z",
     "shell.execute_reply": "2021-05-24T01:48:14.031175Z",
     "shell.execute_reply.started": "2021-05-24T01:48:14.028338Z"
    }
   },
   "outputs": [],
   "source": [
    "stones = [2,5,1,3,2,1]"
   ]
  },
  {
   "cell_type": "code",
   "execution_count": 32,
   "metadata": {
    "execution": {
     "iopub.execute_input": "2021-05-24T01:48:14.227167Z",
     "iopub.status.busy": "2021-05-24T01:48:14.226932Z",
     "iopub.status.idle": "2021-05-24T01:48:14.231514Z",
     "shell.execute_reply": "2021-05-24T01:48:14.230933Z",
     "shell.execute_reply.started": "2021-05-24T01:48:14.227143Z"
    }
   },
   "outputs": [
    {
     "data": {
      "text/plain": [
       "3"
      ]
     },
     "execution_count": 32,
     "metadata": {},
     "output_type": "execute_result"
    }
   ],
   "source": [
    "solution(stones)"
   ]
  },
  {
   "cell_type": "code",
   "execution_count": null,
   "metadata": {},
   "outputs": [],
   "source": []
  }
 ],
 "metadata": {
  "kernelspec": {
   "display_name": "Python 3",
   "language": "python",
   "name": "python3"
  },
  "language_info": {
   "codemirror_mode": {
    "name": "ipython",
    "version": 3
   },
   "file_extension": ".py",
   "mimetype": "text/x-python",
   "name": "python",
   "nbconvert_exporter": "python",
   "pygments_lexer": "ipython3",
   "version": "3.8.3"
  }
 },
 "nbformat": 4,
 "nbformat_minor": 4
}
