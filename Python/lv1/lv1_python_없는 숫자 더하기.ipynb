{
 "cells": [
  {
   "cell_type": "markdown",
   "metadata": {},
   "source": [
    "URL : <https://programmers.co.kr/learn/courses/30/lessons/86051> {:target=\"_blank\"}\n",
    "\n",
    "### 문제 설명\n",
    "- 0부터 9까지의 숫자 중 일부가 들어있는 배열 numbers가 매개변수로 주어집니다. numbers에서 찾을 수 없는 0부터 9까지의 숫자를 모두 찾아 더한 수를 return 하도록 solution 함수를 완성해주세요.\n",
    "\n",
    "### 제한 사항\n",
    "- 1 ≤ numbers의 길이 ≤ 9\n",
    "- 0 ≤ numbers의 모든 수 ≤ 9\n",
    "- numbers의 모든 수는 서로 다릅니다.\n",
    "\n",
    "### 문제 설명\n",
    "- 0 ~ 9까지의 없는 숫자를 다 더하는것이므로, 0 ~ 9까지 모두 더한 합 (45)에서 배열로 주어지는 number를 빼면 나머지 총합이 나오게 된다."
   ]
  },
  {
   "cell_type": "code",
   "execution_count": 8,
   "metadata": {
    "execution": {
     "iopub.execute_input": "2021-10-06T00:14:20.739385Z",
     "iopub.status.busy": "2021-10-06T00:14:20.739154Z",
     "iopub.status.idle": "2021-10-06T00:14:20.742556Z",
     "shell.execute_reply": "2021-10-06T00:14:20.741856Z",
     "shell.execute_reply.started": "2021-10-06T00:14:20.739361Z"
    }
   },
   "outputs": [],
   "source": [
    "def solution(numbers):\n",
    "    return 45 - sum(numbers)"
   ]
  },
  {
   "cell_type": "code",
   "execution_count": 9,
   "metadata": {
    "execution": {
     "iopub.execute_input": "2021-10-06T00:14:20.907927Z",
     "iopub.status.busy": "2021-10-06T00:14:20.907716Z",
     "iopub.status.idle": "2021-10-06T00:14:20.912034Z",
     "shell.execute_reply": "2021-10-06T00:14:20.911436Z",
     "shell.execute_reply.started": "2021-10-06T00:14:20.907904Z"
    }
   },
   "outputs": [
    {
     "data": {
      "text/plain": [
       "14"
      ]
     },
     "execution_count": 9,
     "metadata": {},
     "output_type": "execute_result"
    }
   ],
   "source": [
    "numbers = [1,2,3,4,6,7,8,0]\n",
    "solution(numbers)"
   ]
  },
  {
   "cell_type": "code",
   "execution_count": 10,
   "metadata": {
    "execution": {
     "iopub.execute_input": "2021-10-06T00:14:37.261619Z",
     "iopub.status.busy": "2021-10-06T00:14:37.261435Z",
     "iopub.status.idle": "2021-10-06T00:14:37.265055Z",
     "shell.execute_reply": "2021-10-06T00:14:37.264553Z",
     "shell.execute_reply.started": "2021-10-06T00:14:37.261600Z"
    }
   },
   "outputs": [
    {
     "data": {
      "text/plain": [
       "6"
      ]
     },
     "execution_count": 10,
     "metadata": {},
     "output_type": "execute_result"
    }
   ],
   "source": [
    "numbers = [5,8,4,0,6,7,9]\n",
    "solution(numbers)"
   ]
  }
 ],
 "metadata": {
  "kernelspec": {
   "display_name": "Python 3",
   "language": "python",
   "name": "python3"
  },
  "language_info": {
   "codemirror_mode": {
    "name": "ipython",
    "version": 3
   },
   "file_extension": ".py",
   "mimetype": "text/x-python",
   "name": "python",
   "nbconvert_exporter": "python",
   "pygments_lexer": "ipython3",
   "version": "3.8.3"
  }
 },
 "nbformat": 4,
 "nbformat_minor": 4
}
