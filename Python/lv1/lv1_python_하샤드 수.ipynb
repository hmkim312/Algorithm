{
 "cells": [
  {
   "cell_type": "markdown",
   "metadata": {},
   "source": [
    "#### 하샤드 수\n",
    "- 문제 설명\n",
    "    - 양의 정수 x가 하샤드 수이려면 x의 자릿수의 합으로 x가 나누어져야 합니다. 예를 들어 18의 자릿수 합은 1+8=9이고, 18은 9로 나누어 떨어지므로 18은 하샤드 수입니다. 자연수 x를 입력받아 x가 하샤드 수인지 아닌지 검사하는 함수, solution을 완성해주세요.\n",
    "\n",
    "- 제한 조건\n",
    "    - x는 1 이상, 10000 이하인 정수입니다."
   ]
  },
  {
   "cell_type": "code",
   "execution_count": 19,
   "metadata": {
    "execution": {
     "iopub.execute_input": "2020-06-25T13:19:44.306634Z",
     "iopub.status.busy": "2020-06-25T13:19:44.306634Z",
     "iopub.status.idle": "2020-06-25T13:19:44.311619Z",
     "shell.execute_reply": "2020-06-25T13:19:44.311619Z",
     "shell.execute_reply.started": "2020-06-25T13:19:44.306634Z"
    }
   },
   "outputs": [
    {
     "name": "stdout",
     "output_type": "stream",
     "text": [
      "True\n"
     ]
    }
   ],
   "source": [
    "n = 18\n",
    "num = 0\n",
    "for i in range(0,len(str(n))):\n",
    "    a = str(n)[i]\n",
    "    num += int(a)\n",
    "\n",
    "if n % num == 0:\n",
    "    print(True)\n",
    "else :\n",
    "    print(False)"
   ]
  },
  {
   "cell_type": "code",
   "execution_count": 20,
   "metadata": {
    "execution": {
     "iopub.execute_input": "2020-06-25T13:20:07.954600Z",
     "iopub.status.busy": "2020-06-25T13:20:07.954600Z",
     "iopub.status.idle": "2020-06-25T13:20:07.959555Z",
     "shell.execute_reply": "2020-06-25T13:20:07.959555Z",
     "shell.execute_reply.started": "2020-06-25T13:20:07.954600Z"
    }
   },
   "outputs": [],
   "source": [
    "def solution(n):\n",
    "    num = 0\n",
    "    for i in range(0,len(str(n))):\n",
    "        a = str(n)[i]\n",
    "        num += int(a)\n",
    "\n",
    "    if n % num == 0:\n",
    "        return True\n",
    "    else :\n",
    "        return False"
   ]
  },
  {
   "cell_type": "code",
   "execution_count": 21,
   "metadata": {
    "execution": {
     "iopub.execute_input": "2020-06-25T13:20:13.671487Z",
     "iopub.status.busy": "2020-06-25T13:20:13.671487Z",
     "iopub.status.idle": "2020-06-25T13:20:13.676473Z",
     "shell.execute_reply": "2020-06-25T13:20:13.676473Z",
     "shell.execute_reply.started": "2020-06-25T13:20:13.671487Z"
    }
   },
   "outputs": [
    {
     "data": {
      "text/plain": [
       "True"
      ]
     },
     "execution_count": 21,
     "metadata": {},
     "output_type": "execute_result"
    }
   ],
   "source": [
    "solution(n)"
   ]
  }
 ],
 "metadata": {
  "kernelspec": {
   "display_name": "Python 3",
   "language": "python",
   "name": "python3"
  },
  "language_info": {
   "codemirror_mode": {
    "name": "ipython",
    "version": 3
   },
   "file_extension": ".py",
   "mimetype": "text/x-python",
   "name": "python",
   "nbconvert_exporter": "python",
   "pygments_lexer": "ipython3",
   "version": "3.8.3"
  }
 },
 "nbformat": 4,
 "nbformat_minor": 4
}
