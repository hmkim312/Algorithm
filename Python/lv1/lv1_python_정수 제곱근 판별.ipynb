{
 "cells": [
  {
   "cell_type": "markdown",
   "metadata": {},
   "source": [
    "#### 정수 제곱근 판별\n",
    "- 문제 설명\n",
    "    - 임의의 양의 정수 n에 대해, n이 어떤 양의 정수 x의 제곱인지 아닌지 판단하려 합니다.\n",
    "    - n이 양의 정수 x의 제곱이라면 x+1의 제곱을 리턴하고, n이 양의 정수 x의 제곱이 아니라면 -1을 리턴하는 함수를 완성하세요.\n",
    "\n",
    "- 제한 사항\n",
    "    - n은 1이상, 50000000000000 이하인 양의 정수입니다."
   ]
  },
  {
   "cell_type": "code",
   "execution_count": 4,
   "metadata": {
    "execution": {
     "iopub.execute_input": "2020-10-11T14:46:39.585935Z",
     "iopub.status.busy": "2020-10-11T14:46:39.585715Z",
     "iopub.status.idle": "2020-10-11T14:46:39.589637Z",
     "shell.execute_reply": "2020-10-11T14:46:39.589032Z",
     "shell.execute_reply.started": "2020-10-11T14:46:39.585912Z"
    }
   },
   "outputs": [],
   "source": [
    "import math\n",
    "\n",
    "def solution(n):\n",
    "    a = int(math.sqrt(n))\n",
    "    if a * a == n:\n",
    "        return (a + 1) * (a+1)\n",
    "    else:\n",
    "        return -1"
   ]
  },
  {
   "cell_type": "code",
   "execution_count": 5,
   "metadata": {
    "execution": {
     "iopub.execute_input": "2020-10-11T14:46:39.992322Z",
     "iopub.status.busy": "2020-10-11T14:46:39.992116Z",
     "iopub.status.idle": "2020-10-11T14:46:39.995876Z",
     "shell.execute_reply": "2020-10-11T14:46:39.995303Z",
     "shell.execute_reply.started": "2020-10-11T14:46:39.992300Z"
    }
   },
   "outputs": [
    {
     "data": {
      "text/plain": [
       "-1"
      ]
     },
     "execution_count": 5,
     "metadata": {},
     "output_type": "execute_result"
    }
   ],
   "source": [
    "n= 515\n",
    "solution(n)"
   ]
  },
  {
   "cell_type": "code",
   "execution_count": 6,
   "metadata": {
    "execution": {
     "iopub.execute_input": "2020-10-11T14:46:40.259768Z",
     "iopub.status.busy": "2020-10-11T14:46:40.259557Z",
     "iopub.status.idle": "2020-10-11T14:46:40.263428Z",
     "shell.execute_reply": "2020-10-11T14:46:40.262865Z",
     "shell.execute_reply.started": "2020-10-11T14:46:40.259745Z"
    }
   },
   "outputs": [
    {
     "data": {
      "text/plain": [
       "169"
      ]
     },
     "execution_count": 6,
     "metadata": {},
     "output_type": "execute_result"
    }
   ],
   "source": [
    "n= 144\n",
    "solution(n)"
   ]
  },
  {
   "cell_type": "code",
   "execution_count": null,
   "metadata": {},
   "outputs": [],
   "source": []
  }
 ],
 "metadata": {
  "kernelspec": {
   "display_name": "Python 3",
   "language": "python",
   "name": "python3"
  },
  "language_info": {
   "codemirror_mode": {
    "name": "ipython",
    "version": 3
   },
   "file_extension": ".py",
   "mimetype": "text/x-python",
   "name": "python",
   "nbconvert_exporter": "python",
   "pygments_lexer": "ipython3",
   "version": "3.8.3"
  }
 },
 "nbformat": 4,
 "nbformat_minor": 4
}
