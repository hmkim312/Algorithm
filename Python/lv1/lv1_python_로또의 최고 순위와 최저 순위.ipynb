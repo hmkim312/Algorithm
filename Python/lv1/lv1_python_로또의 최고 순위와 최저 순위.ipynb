{
 "cells": [
  {
   "cell_type": "markdown",
   "metadata": {},
   "source": [
    "#### 문제 설명\n",
    "- 로또 6/45(이하 '로또'로 표기)는 1부터 45까지의 숫자 중 6개를 찍어서 맞히는 대표적인 복권입니다. 아래는 로또의 순위를 정하는 방식입니다. 1\n",
    "\n",
    "\n",
    "|순위|당첨내용|\n",
    "|---|---|\n",
    "|1\t|6개 번호가 모두 일치|\n",
    "|2\t|5개 번호가 일치|\n",
    "|3\t|4개 번호가 일치|\n",
    "|4\t|3개 번호가 일치|\n",
    "|5\t|2개 번호가 일치|\n",
    "|6(낙첨)|\t그 외|\n",
    "\n",
    "- 로또를 구매한 민우는 당첨 번호 발표일을 학수고대하고 있었습니다. 하지만, 민우의 동생이 로또에 낙서를 하여, 일부 번호를 알아볼 수 없게 되었습니다. 당첨 번호 발표 후, 민우는 자신이 구매했던 로또로 당첨이 가능했던 최고 순위와 최저 순위를 알아보고 싶어 졌습니다.\n",
    "- 알아볼 수 없는 번호를 0으로 표기하기로 하고, 민우가 구매한 로또 번호 6개가 44, 1, 0, 0, 31 25라고 가정해보겠습니다. 당첨 번호 6개가 31, 10, 45, 1, 6, 19라면, 당첨 가능한 최고 순위와 최저 순위의 한 예는 아래와 같습니다.\n",
    "\n",
    "|당첨 번호|\t31|\t10|\t45|\t1|\t6|\t19|\t결과|\n",
    "|---|---|---|---|---|---|---|---|\n",
    "|최고 순위 번호|31|0→10|44|1|0→6|25|4개 번호 일치, 3등|\n",
    "|최저 순위 번호|31|0→11|44|1|0→7|25|2개 번호 일치, 5등|\n",
    "\n",
    "- 순서와 상관없이, 구매한 로또에 당첨 번호와 일치하는 번호가 있으면 맞힌 걸로 인정됩니다.\n",
    "- 알아볼 수 없는 두 개의 번호를 각각 10, 6이라고 가정하면 3등에 당첨될 수 있습니다.\n",
    "- 3등을 만드는 다른 방법들도 존재합니다. 하지만, 2등 이상으로 만드는 것은 불가능합니다.\n",
    "- 알아볼 수 없는 두 개의 번호를 각각 11, 7이라고 가정하면 5등에 당첨될 수 있습니다.\n",
    "- 5등을 만드는 다른 방법들도 존재합니다. 하지만, 6등(낙첨)으로 만드는 것은 불가능합니다.\n",
    "- 민우가 구매한 로또 번호를 담은 배열 lottos, 당첨 번호를 담은 배열 win_nums가 매개변수로 주어집니다. 이때, 당첨 가능한 최고 순위와 최저 순위를 차례대로 배열에 담아서 return 하도록 solution 함수를 완성해주세요.\n",
    "\n",
    "#### 제한사항\n",
    "- lottos는 길이 6인 정수 배열입니다.\n",
    "- lottos의 모든 원소는 0 이상 45 이하인 정수입니다.\n",
    "- 0은 알아볼 수 없는 숫자를 의미합니다.\n",
    "- 0을 제외한 다른 숫자들은 lottos에 2개 이상 담겨있지 않습니다.\n",
    "- lottos의 원소들은 정렬되어 있지 않을 수도 있습니다.\n",
    "- win_nums은 길이 6인 정수 배열입니다.\n",
    "- win_nums의 모든 원소는 1 이상 45 이하인 정수입니다.\n",
    "- win_nums에는 같은 숫자가 2개 이상 담겨있지 않습니다.\n",
    "- win_nums의 원소들은 정렬되어 있지 않을 수도 있습니다.\n",
    "\n",
    "#### 문제풀이\n",
    "- result에 등수를 미리 저장한다. (6등은 1개 혹은 0개 맞춘것이기 때문에 일단 제외)\n",
    "- low, high에 맞춘 갯수를 저장하기 위해 0으로 셋팅 해준다.\n",
    "- 최종 답변이 될 answer리스트를 만든다.\n",
    "- high 등수에서 0에서 바꿔줄 못맞춘 not_matched의 리스트를 만들어 준다.\n",
    "- 경우의 수 \n",
    "    - 1 : 0이 모두 로또번호와 맞을때 (0을 내가 선택하지 않고, 로또당첨번호로 치환해주어야함)\n",
    "    - 2 : 0이 모두 로또번호와 맞지 않을떄 (0을 굳이 다른수로 치환할 필요는 없음)\n",
    "    - 3 : 0이 없고, 로또 번호가 모두 맞지 않을때\n",
    "\n",
    "- 위의 경우의 수를 고려하여 코드를 작성하면 된다.\n",
    "\n",
    "- 최저 등수\n",
    "    - 일단 최저 등수는 0으로 된것도 하나도 안맞추면 되기 때문에 다른 전처리 없이 바로 for문으로 확인한다.\n",
    "    - low_rank에 맞춘 숫자의 갯수를 저장하고, 이 갯수에 따라 등수를 result에서 가져온다.\n",
    "    - 만일 low_rank가 0,1이면 answer에 6을 append하는 if문을 작성 뒤, 해당 사항이 없으면 실제 등수를 result에서 가져온다.\n",
    "- 최고 등수\n",
    "    - 최고 등수는 0을 모두 맞춘것으로 가정하면 된다.\n",
    "    - 일단 내가 맞추지 못한 1등 번호를 not_matched의 리스트에 넣어준다\n",
    "    - 이후 0을 not_matched의 맨 앞의 번호로 변경시켜주고, not_matched에는 맨 앞의 번호를 제거한다 (Pop사용)\n",
    "    - 위의 과정을 0이 없어질때까지 계속 한다.\n",
    "    - 0을 모두 선택된 번호로 치환했다면 최저 등수를 구한것처럼 for문을 돌며 맞춘 번호의 갯수를 high_rank에 더한다.\n",
    "    - 만일 high_rank에 0,1이면 answer에 6을 append하는 if문을 작성 뒤, 해당 사항이 없으면 실제 등수를 result에서 가져온다."
   ]
  },
  {
   "cell_type": "code",
   "execution_count": 67,
   "metadata": {
    "execution": {
     "iopub.execute_input": "2021-06-17T01:16:43.607671Z",
     "iopub.status.busy": "2021-06-17T01:16:43.607434Z",
     "iopub.status.idle": "2021-06-17T01:16:43.614421Z",
     "shell.execute_reply": "2021-06-17T01:16:43.613691Z",
     "shell.execute_reply.started": "2021-06-17T01:16:43.607649Z"
    }
   },
   "outputs": [],
   "source": [
    "def solution(lottos, win_nums):\n",
    "    result = {6:1, 5:2, 4:3, 3:4, 2:5}\n",
    "    low_rank = 0\n",
    "    high_rank = 0\n",
    "    answer = []\n",
    "    not_matched = []\n",
    "    lottos = sorted(lottos)\n",
    "\n",
    "    # get low rank\n",
    "    for i in lottos:\n",
    "        if i in win_nums:\n",
    "            low_rank += 1\n",
    "    \n",
    "    if low_rank < 2:\n",
    "        answer.append(6)\n",
    "    else:\n",
    "        answer.append(result[low_rank])\n",
    "\n",
    "    # get high_rank\n",
    "    for i in win_nums:\n",
    "        if i not in lottos:\n",
    "            not_matched.append(i)\n",
    "\n",
    "    for idx, lotto in enumerate(lottos):\n",
    "        if lotto == 0:\n",
    "            lottos[idx] = not_matched[0]\n",
    "            not_matched.pop(0)\n",
    "\n",
    "    for i in lottos:\n",
    "        if i in win_nums:\n",
    "            high_rank += 1\n",
    "            \n",
    "    if high_rank < 2:\n",
    "        answer.append(6)\n",
    "    else:\n",
    "        answer.append(result[high_rank])        \n",
    "\n",
    "    return sorted(answer)"
   ]
  },
  {
   "cell_type": "code",
   "execution_count": 68,
   "metadata": {
    "execution": {
     "iopub.execute_input": "2021-06-17T01:16:44.069984Z",
     "iopub.status.busy": "2021-06-17T01:16:44.069771Z",
     "iopub.status.idle": "2021-06-17T01:16:44.074583Z",
     "shell.execute_reply": "2021-06-17T01:16:44.073886Z",
     "shell.execute_reply.started": "2021-06-17T01:16:44.069961Z"
    }
   },
   "outputs": [
    {
     "data": {
      "text/plain": [
       "[3, 5]"
      ]
     },
     "execution_count": 68,
     "metadata": {},
     "output_type": "execute_result"
    }
   ],
   "source": [
    "lottos = [44, 1, 0, 0, 31, 25]\n",
    "win_nums = [31, 10, 45, 1, 6, 19]\n",
    "solution(lottos, win_nums)"
   ]
  },
  {
   "cell_type": "code",
   "execution_count": 69,
   "metadata": {
    "execution": {
     "iopub.execute_input": "2021-06-17T01:16:44.509291Z",
     "iopub.status.busy": "2021-06-17T01:16:44.509083Z",
     "iopub.status.idle": "2021-06-17T01:16:44.514379Z",
     "shell.execute_reply": "2021-06-17T01:16:44.513716Z",
     "shell.execute_reply.started": "2021-06-17T01:16:44.509269Z"
    }
   },
   "outputs": [
    {
     "data": {
      "text/plain": [
       "[1, 6]"
      ]
     },
     "execution_count": 69,
     "metadata": {},
     "output_type": "execute_result"
    }
   ],
   "source": [
    "lottos = [0, 0, 0, 0, 0, 0]\n",
    "win_nums = [38, 19, 20, 40, 15, 25]\n",
    "solution(lottos, win_nums)"
   ]
  },
  {
   "cell_type": "code",
   "execution_count": 70,
   "metadata": {
    "execution": {
     "iopub.execute_input": "2021-06-17T01:17:04.435185Z",
     "iopub.status.busy": "2021-06-17T01:17:04.434954Z",
     "iopub.status.idle": "2021-06-17T01:17:04.439884Z",
     "shell.execute_reply": "2021-06-17T01:17:04.439290Z",
     "shell.execute_reply.started": "2021-06-17T01:17:04.435148Z"
    }
   },
   "outputs": [
    {
     "data": {
      "text/plain": [
       "[1, 1]"
      ]
     },
     "execution_count": 70,
     "metadata": {},
     "output_type": "execute_result"
    }
   ],
   "source": [
    "lottos = [45, 4, 35, 20, 3, 9]\n",
    "win_nums = [20, 9, 3, 45, 4, 35]\n",
    "solution(lottos, win_nums)"
   ]
  }
 ],
 "metadata": {
  "kernelspec": {
   "display_name": "Python 3",
   "language": "python",
   "name": "python3"
  },
  "language_info": {
   "codemirror_mode": {
    "name": "ipython",
    "version": 3
   },
   "file_extension": ".py",
   "mimetype": "text/x-python",
   "name": "python",
   "nbconvert_exporter": "python",
   "pygments_lexer": "ipython3",
   "version": "3.8.3"
  }
 },
 "nbformat": 4,
 "nbformat_minor": 4
}
