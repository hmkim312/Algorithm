{
 "cells": [
  {
   "cell_type": "markdown",
   "metadata": {},
   "source": [
    "#### 콜라츠 추측\n",
    "- 문제 설명\n",
    "    - 1937년 Collatz란 사람에 의해 제기된 이 추측은, 주어진 수가 1이 될때까지 다음 작업을 반복하면, 모든 수를 1로 만들 수 있다는 추측입니다. 작업은 다음과 같습니다.\n",
    "\n",
    "        - 1-1. 입력된 수가 짝수라면 2로 나눕니다. \n",
    "        - 1-2. 입력된 수가 홀수라면 3을 곱하고 1을 더합니다.\n",
    "        - 2. 결과로 나온 수에 같은 작업을 1이 될 때까지 반복합니다.\n",
    "    - 예를 들어, 입력된 수가 6이라면 6→3→10→5→16→8→4→2→1 이 되어 총 8번 만에 1이 됩니다. 위 작업을 몇 번이나 반복해야하는지 반환하는 함수, solution을 완성해 주세요. 단, 작업을 500번을 반복해도 1이 되지 않는다면 –1을 반환해 주세요.\n",
    "\n",
    "- 제한 사항\n",
    "    - 입력된 수, num은 1 이상 8000000 미만인 정수입니다."
   ]
  },
  {
   "cell_type": "code",
   "execution_count": 17,
   "metadata": {
    "execution": {
     "iopub.execute_input": "2020-06-26T06:24:38.835924Z",
     "iopub.status.busy": "2020-06-26T06:24:38.835924Z",
     "iopub.status.idle": "2020-06-26T06:24:38.841907Z",
     "shell.execute_reply": "2020-06-26T06:24:38.841907Z",
     "shell.execute_reply.started": "2020-06-26T06:24:38.835924Z"
    }
   },
   "outputs": [
    {
     "name": "stdout",
     "output_type": "stream",
     "text": [
      "8\n"
     ]
    }
   ],
   "source": [
    "num = 6\n",
    "cycle = 0\n",
    "while True:\n",
    "    if cycle == 500:\n",
    "        break\n",
    "        print(-1)\n",
    "    if num == 1:\n",
    "        break\n",
    "    if num % 2 ==0:\n",
    "        num = num //2\n",
    "        cycle += 1\n",
    "    else:\n",
    "        num = num * 3 + 1\n",
    "        cycle += 1\n",
    "print(cycle)"
   ]
  },
  {
   "cell_type": "code",
   "execution_count": 19,
   "metadata": {
    "execution": {
     "iopub.execute_input": "2020-06-26T06:25:15.475982Z",
     "iopub.status.busy": "2020-06-26T06:25:15.474980Z",
     "iopub.status.idle": "2020-06-26T06:25:15.480964Z",
     "shell.execute_reply": "2020-06-26T06:25:15.480964Z",
     "shell.execute_reply.started": "2020-06-26T06:25:15.475982Z"
    }
   },
   "outputs": [
    {
     "name": "stdout",
     "output_type": "stream",
     "text": [
      "-1\n",
      "500\n"
     ]
    }
   ],
   "source": [
    "num = 626331\n",
    "cycle = 0\n",
    "while True:\n",
    "    if cycle == 500:\n",
    "        print(-1)\n",
    "        break\n",
    "    if num == 1:\n",
    "        break\n",
    "    if num % 2 ==0:\n",
    "        num = num //2\n",
    "        cycle += 1\n",
    "    else:\n",
    "        num = num * 3 + 1\n",
    "        cycle += 1\n",
    "print(cycle)"
   ]
  },
  {
   "cell_type": "code",
   "execution_count": 23,
   "metadata": {
    "execution": {
     "iopub.execute_input": "2020-06-26T06:26:24.682271Z",
     "iopub.status.busy": "2020-06-26T06:26:24.682271Z",
     "iopub.status.idle": "2020-06-26T06:26:24.687257Z",
     "shell.execute_reply": "2020-06-26T06:26:24.687257Z",
     "shell.execute_reply.started": "2020-06-26T06:26:24.682271Z"
    }
   },
   "outputs": [],
   "source": [
    "def solution(num):\n",
    "    cycle = 0\n",
    "    while True:\n",
    "        if cycle == 500:\n",
    "            return -1\n",
    "            break\n",
    "        if num == 1:\n",
    "            break\n",
    "        if num % 2 ==0:\n",
    "            num = num //2\n",
    "            cycle += 1\n",
    "        else:\n",
    "            num = num * 3 + 1\n",
    "            cycle += 1\n",
    "    return cycle"
   ]
  },
  {
   "cell_type": "code",
   "execution_count": 24,
   "metadata": {
    "execution": {
     "iopub.execute_input": "2020-06-26T06:29:00.127857Z",
     "iopub.status.busy": "2020-06-26T06:29:00.127857Z",
     "iopub.status.idle": "2020-06-26T06:29:00.132841Z",
     "shell.execute_reply": "2020-06-26T06:29:00.132841Z",
     "shell.execute_reply.started": "2020-06-26T06:29:00.127857Z"
    }
   },
   "outputs": [
    {
     "data": {
      "text/plain": [
       "8"
      ]
     },
     "execution_count": 24,
     "metadata": {},
     "output_type": "execute_result"
    }
   ],
   "source": [
    "num = 6\n",
    "solution(num)"
   ]
  },
  {
   "cell_type": "code",
   "execution_count": 27,
   "metadata": {
    "execution": {
     "iopub.execute_input": "2020-06-26T06:29:11.460607Z",
     "iopub.status.busy": "2020-06-26T06:29:11.460607Z",
     "iopub.status.idle": "2020-06-26T06:29:11.465594Z",
     "shell.execute_reply": "2020-06-26T06:29:11.465594Z",
     "shell.execute_reply.started": "2020-06-26T06:29:11.460607Z"
    }
   },
   "outputs": [
    {
     "data": {
      "text/plain": [
       "-1"
      ]
     },
     "execution_count": 27,
     "metadata": {},
     "output_type": "execute_result"
    }
   ],
   "source": [
    "num = 626331\n",
    "solution(num)"
   ]
  },
  {
   "cell_type": "code",
   "execution_count": null,
   "metadata": {},
   "outputs": [],
   "source": []
  }
 ],
 "metadata": {
  "kernelspec": {
   "display_name": "Python 3",
   "language": "python",
   "name": "python3"
  },
  "language_info": {
   "codemirror_mode": {
    "name": "ipython",
    "version": 3
   },
   "file_extension": ".py",
   "mimetype": "text/x-python",
   "name": "python",
   "nbconvert_exporter": "python",
   "pygments_lexer": "ipython3",
   "version": "3.8.3"
  }
 },
 "nbformat": 4,
 "nbformat_minor": 4
}
