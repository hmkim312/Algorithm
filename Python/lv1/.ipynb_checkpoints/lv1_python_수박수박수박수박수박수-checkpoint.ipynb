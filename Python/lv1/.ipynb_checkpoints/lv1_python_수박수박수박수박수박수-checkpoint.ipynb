{
 "cells": [
  {
   "cell_type": "markdown",
   "metadata": {},
   "source": [
    "### 수박수박수박수박수박수?\n",
    "- 문제 설명\n",
    "    - 길이가 n이고, 수박수박수박수....와 같은 패턴을 유지하는 문자열을 리턴하는 함수, solution을 완성하세요. \n",
    "    - 예를들어 n이 4이면 수박수박을 리턴하고 3이라면 수박수를 리턴하면 됩니다.\n",
    "\n",
    "- 제한 조건\n",
    "    - n은 길이 10,000이하인 자연수입니다."
   ]
  },
  {
   "cell_type": "code",
   "execution_count": 1,
   "metadata": {
    "execution": {
     "iopub.execute_input": "2020-06-24T08:10:55.511374Z",
     "iopub.status.busy": "2020-06-24T08:10:55.510376Z",
     "iopub.status.idle": "2020-06-24T08:10:55.533314Z",
     "shell.execute_reply": "2020-06-24T08:10:55.531319Z",
     "shell.execute_reply.started": "2020-06-24T08:10:55.511374Z"
    }
   },
   "outputs": [
    {
     "data": {
      "text/plain": [
       "'수박수박수'"
      ]
     },
     "execution_count": 1,
     "metadata": {},
     "output_type": "execute_result"
    }
   ],
   "source": [
    "def solution(n):\n",
    "    answer = []\n",
    "    for i in range(1, n + 1):\n",
    "        if i % 2 == 0:\n",
    "            answer.append('박')\n",
    "        else :\n",
    "            answer.append('수')\n",
    "    return ''.join(answer)\n",
    "solution(5)"
   ]
  },
  {
   "cell_type": "code",
   "execution_count": 1,
   "metadata": {
    "execution": {
     "iopub.execute_input": "2020-06-24T08:12:37.666392Z",
     "iopub.status.busy": "2020-06-24T08:12:37.665395Z",
     "iopub.status.idle": "2020-06-24T08:12:37.673374Z",
     "shell.execute_reply": "2020-06-24T08:12:37.673374Z",
     "shell.execute_reply.started": "2020-06-24T08:12:37.666392Z"
    }
   },
   "outputs": [
    {
     "data": {
      "text/plain": [
       "'수박수박수박수'"
      ]
     },
     "execution_count": 1,
     "metadata": {},
     "output_type": "execute_result"
    }
   ],
   "source": [
    "# 더 간단 풀이\n",
    "n = 7\n",
    "s = '수박'* n\n",
    "s[:n]"
   ]
  },
  {
   "cell_type": "code",
   "execution_count": null,
   "metadata": {},
   "outputs": [],
   "source": []
  }
 ],
 "metadata": {
  "kernelspec": {
   "display_name": "Python 3",
   "language": "python",
   "name": "python3"
  },
  "language_info": {
   "codemirror_mode": {
    "name": "ipython",
    "version": 3
   },
   "file_extension": ".py",
   "mimetype": "text/x-python",
   "name": "python",
   "nbconvert_exporter": "python",
   "pygments_lexer": "ipython3",
   "version": "3.7.6"
  }
 },
 "nbformat": 4,
 "nbformat_minor": 4
}
