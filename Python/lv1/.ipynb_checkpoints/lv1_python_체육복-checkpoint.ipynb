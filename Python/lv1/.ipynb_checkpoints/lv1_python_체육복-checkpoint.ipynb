{
 "cells": [
  {
   "cell_type": "markdown",
   "metadata": {},
   "source": [
    "#### 체육복\n",
    "- 문제 설명\n",
    "    - 점심시간에 도둑이 들어, 일부 학생이 체육복을 도난당했습니다. 다행히 여벌 체육복이 있는 학생이 이들에게 체육복을 빌려주려 합니다. 학생들의 번호는 체격 순으로 매겨져 있어, 바로 앞번호의 학생이나 바로 뒷번호의 학생에게만 체육복을 빌려줄 수 있습니다. 예를 들어, 4번 학생은 3번 학생이나 5번 학생에게만 체육복을 빌려줄 수 있습니다. 체육복이 없으면 수업을 들을 수 없기 때문에 체육복을 적절히 빌려 최대한 많은 학생이 체육수업을 들어야 합니다.\n",
    "\n",
    "    - 전체 학생의 수 n, 체육복을 도난당한 학생들의 번호가 담긴 배열 lost, 여벌의 체육복을 가져온 학생들의 번호가 담긴 배열 reserve가 매개변수로 주어질 때, 체육수업을 들을 수 있는 학생의 최댓값을 return 하도록 solution 함수를 작성해주세요.\n",
    "\n",
    "- 제한사항\n",
    "    - 전체 학생의 수는 2명 이상 30명 이하입니다.\n",
    "    - 체육복을 도난당한 학생의 수는 1명 이상 n명 이하이고 중복되는 번호는 없습니다.\n",
    "    - 여벌의 체육복을 가져온 학생의 수는 1명 이상 n명 이하이고 중복되는 번호는 없습니다.\n",
    "    - 여벌 체육복이 있는 학생만 다른 학생에게 체육복을 빌려줄 수 있습니다.\n",
    "    - 여벌 체육복을 가져온 학생이 체육복을 도난당했을 수 있습니다. 이때 이 학생은 체육복을 하나만 도난당했다고 가정하며, 남은 체육복이 하나이기에 다른 학생에게는 체육복을 빌려줄 수 없습니다."
   ]
  },
  {
   "cell_type": "code",
   "execution_count": 146,
   "metadata": {
    "execution": {
     "iopub.execute_input": "2020-06-25T12:38:07.966635Z",
     "iopub.status.busy": "2020-06-25T12:38:07.966635Z",
     "iopub.status.idle": "2020-06-25T12:38:07.972604Z",
     "shell.execute_reply": "2020-06-25T12:38:07.972604Z",
     "shell.execute_reply.started": "2020-06-25T12:38:07.966635Z"
    }
   },
   "outputs": [
    {
     "data": {
      "text/plain": [
       "[1, 3, 5]"
      ]
     },
     "execution_count": 146,
     "metadata": {},
     "output_type": "execute_result"
    }
   ],
   "source": [
    "# 체육복 안잃어 버린애\n",
    "nolost = list(set(a) - set(lost))\n",
    "nolost\n",
    "\n",
    "# 잃어버렸지만 2개 가져와서 괜찮은애를 안잃어버린애에 넣음\n",
    "for i in lost:\n",
    "    if i in reserve:\n",
    "        nolost.append(i)\n",
    "nolost = list(set(nolost))\n",
    "nolost"
   ]
  },
  {
   "cell_type": "code",
   "execution_count": 147,
   "metadata": {
    "execution": {
     "iopub.execute_input": "2020-06-25T12:38:18.439264Z",
     "iopub.status.busy": "2020-06-25T12:38:18.439264Z",
     "iopub.status.idle": "2020-06-25T12:38:18.444190Z",
     "shell.execute_reply": "2020-06-25T12:38:18.444190Z",
     "shell.execute_reply.started": "2020-06-25T12:38:18.439264Z"
    }
   },
   "outputs": [
    {
     "data": {
      "text/plain": [
       "[1, 5]"
      ]
     },
     "execution_count": 147,
     "metadata": {},
     "output_type": "execute_result"
    }
   ],
   "source": [
    "# 실제로 빌려줄수 있는애\n",
    "posi = list(set(reserve) - set(lost))\n",
    "posi"
   ]
  },
  {
   "cell_type": "code",
   "execution_count": 148,
   "metadata": {
    "execution": {
     "iopub.execute_input": "2020-06-25T12:38:18.779890Z",
     "iopub.status.busy": "2020-06-25T12:38:18.778858Z",
     "iopub.status.idle": "2020-06-25T12:38:18.784842Z",
     "shell.execute_reply": "2020-06-25T12:38:18.783879Z",
     "shell.execute_reply.started": "2020-06-25T12:38:18.779890Z"
    }
   },
   "outputs": [
    {
     "data": {
      "text/plain": [
       "[2, 4]"
      ]
     },
     "execution_count": 148,
     "metadata": {},
     "output_type": "execute_result"
    }
   ],
   "source": [
    "# 진짜 잃어버린애\n",
    "reallost = list(set(lost) - set(reserve))\n",
    "reallost"
   ]
  },
  {
   "cell_type": "code",
   "execution_count": 150,
   "metadata": {
    "execution": {
     "iopub.execute_input": "2020-06-25T12:38:46.172710Z",
     "iopub.status.busy": "2020-06-25T12:38:46.172710Z",
     "iopub.status.idle": "2020-06-25T12:38:46.178754Z",
     "shell.execute_reply": "2020-06-25T12:38:46.178754Z",
     "shell.execute_reply.started": "2020-06-25T12:38:46.172710Z"
    }
   },
   "outputs": [
    {
     "data": {
      "text/plain": [
       "5"
      ]
     },
     "execution_count": 150,
     "metadata": {},
     "output_type": "execute_result"
    }
   ],
   "source": [
    "# 빌려주기\n",
    "for i in posi:\n",
    "    if i - 1 in reallost:\n",
    "        nolost.append(i)\n",
    "        nolost.append(i - 1)\n",
    "    elif i + 1 in reallost:\n",
    "        nolost.append(i)\n",
    "        nolost.append(i + 1)\n",
    "len(list(set(nolost)))"
   ]
  },
  {
   "cell_type": "code",
   "execution_count": 157,
   "metadata": {
    "execution": {
     "iopub.execute_input": "2020-06-25T12:39:59.950950Z",
     "iopub.status.busy": "2020-06-25T12:39:59.950950Z",
     "iopub.status.idle": "2020-06-25T12:39:59.957961Z",
     "shell.execute_reply": "2020-06-25T12:39:59.957961Z",
     "shell.execute_reply.started": "2020-06-25T12:39:59.950950Z"
    }
   },
   "outputs": [],
   "source": [
    "def solution(n, lost, reserve):\n",
    "    # 인원수를 리스트화\n",
    "    a = range(1, n+1)\n",
    "    a = list(a)\n",
    "\n",
    "    # 체육복 안잃어 버린애\n",
    "    nolost = list(set(a) - set(lost))\n",
    "\n",
    "    # 잃어버렸지만 2개 가져와서 괜찮은애를 안잃어버린애에 넣음\n",
    "    for i in lost:\n",
    "        if i in reserve:\n",
    "            nolost.append(i)\n",
    "    nolost = list(set(nolost))\n",
    "\n",
    "    # 실제로 빌려줄수 있는애\n",
    "    posi = list(set(reserve) - set(lost))\n",
    "    # 진짜 잃어버린애\n",
    "    reallost = list(set(lost) - set(reserve))\n",
    "    \n",
    "    if len(posi) == 0:\n",
    "        return len(nolost)\n",
    "    \n",
    "    # 빌려주기\n",
    "    for i in posi:\n",
    "        if i - 1 in reallost:\n",
    "            nolost.append(i)\n",
    "            nolost.append(i - 1)\n",
    "        elif i + 1 in reallost:\n",
    "            nolost.append(i)\n",
    "            nolost.append(i + 1)\n",
    "    return len(list(set(nolost)))"
   ]
  },
  {
   "cell_type": "code",
   "execution_count": 159,
   "metadata": {
    "execution": {
     "iopub.execute_input": "2020-06-25T12:40:40.446861Z",
     "iopub.status.busy": "2020-06-25T12:40:40.445864Z",
     "iopub.status.idle": "2020-06-25T12:40:40.450850Z",
     "shell.execute_reply": "2020-06-25T12:40:40.450850Z",
     "shell.execute_reply.started": "2020-06-25T12:40:40.445864Z"
    }
   },
   "outputs": [
    {
     "data": {
      "text/plain": [
       "6"
      ]
     },
     "execution_count": 159,
     "metadata": {},
     "output_type": "execute_result"
    }
   ],
   "source": [
    "n = 7\n",
    "lost =[2,3,4]\n",
    "reserve = [1,2,3,6]\n",
    "solution(n, lost, reserve)"
   ]
  },
  {
   "cell_type": "code",
   "execution_count": 160,
   "metadata": {
    "execution": {
     "iopub.execute_input": "2020-06-25T12:40:52.123120Z",
     "iopub.status.busy": "2020-06-25T12:40:52.123120Z",
     "iopub.status.idle": "2020-06-25T12:40:52.134093Z",
     "shell.execute_reply": "2020-06-25T12:40:52.133130Z",
     "shell.execute_reply.started": "2020-06-25T12:40:52.123120Z"
    }
   },
   "outputs": [
    {
     "data": {
      "text/plain": [
       "5"
      ]
     },
     "execution_count": 160,
     "metadata": {},
     "output_type": "execute_result"
    }
   ],
   "source": [
    "n = 5\n",
    "lost = [2, 3, 4]\n",
    "reserve = [1, 3, 5]\n",
    "solution(n, lost, reserve)"
   ]
  },
  {
   "cell_type": "code",
   "execution_count": null,
   "metadata": {},
   "outputs": [],
   "source": []
  }
 ],
 "metadata": {
  "kernelspec": {
   "display_name": "Python 3",
   "language": "python",
   "name": "python3"
  },
  "language_info": {
   "codemirror_mode": {
    "name": "ipython",
    "version": 3
   },
   "file_extension": ".py",
   "mimetype": "text/x-python",
   "name": "python",
   "nbconvert_exporter": "python",
   "pygments_lexer": "ipython3",
   "version": "3.7.6"
  }
 },
 "nbformat": 4,
 "nbformat_minor": 4
}
