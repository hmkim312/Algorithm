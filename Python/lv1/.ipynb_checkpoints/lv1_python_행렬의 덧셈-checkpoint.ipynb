{
 "cells": [
  {
   "cell_type": "markdown",
   "metadata": {},
   "source": [
    "#### 행렬의 덧셈\n",
    "- 문제 설명\n",
    "    - 행렬의 덧셈은 행과 열의 크기가 같은 두 행렬의 같은 행, 같은 열의 값을 서로 더한 결과가 됩니다. 2개의 행렬 arr1과 arr2를 입력받아, 행렬 덧셈의 결과를 반환하는 함수, solution을 완성해주세요.\n",
    "\n",
    "- 제한 조건\n",
    "    - 행렬 arr1, arr2의 행과 열의 길이는 500을 넘지 않습니다."
   ]
  },
  {
   "cell_type": "code",
   "execution_count": 15,
   "metadata": {
    "execution": {
     "iopub.execute_input": "2020-06-25T13:36:10.338447Z",
     "iopub.status.busy": "2020-06-25T13:36:10.338447Z",
     "iopub.status.idle": "2020-06-25T13:36:10.342435Z",
     "shell.execute_reply": "2020-06-25T13:36:10.342435Z",
     "shell.execute_reply.started": "2020-06-25T13:36:10.338447Z"
    }
   },
   "outputs": [],
   "source": [
    "arr1 = [[1,2],[2,3]]\t\n",
    "arr2 = [[3,4],[5,6]]"
   ]
  },
  {
   "cell_type": "code",
   "execution_count": 16,
   "metadata": {
    "execution": {
     "iopub.execute_input": "2020-06-25T13:36:10.511670Z",
     "iopub.status.busy": "2020-06-25T13:36:10.511670Z",
     "iopub.status.idle": "2020-06-25T13:36:10.517652Z",
     "shell.execute_reply": "2020-06-25T13:36:10.516669Z",
     "shell.execute_reply.started": "2020-06-25T13:36:10.511670Z"
    }
   },
   "outputs": [
    {
     "data": {
      "text/plain": [
       "[[4, 6], [7, 9]]"
      ]
     },
     "execution_count": 16,
     "metadata": {},
     "output_type": "execute_result"
    }
   ],
   "source": [
    "import operator\n",
    "answer = []\n",
    "for i in range(0,len(arr1)):\n",
    "    answer.append(list(map(operator.add, arr1[i], arr2[i])))\n",
    "answer"
   ]
  },
  {
   "cell_type": "code",
   "execution_count": 17,
   "metadata": {
    "execution": {
     "iopub.execute_input": "2020-06-25T13:36:24.114213Z",
     "iopub.status.busy": "2020-06-25T13:36:24.114213Z",
     "iopub.status.idle": "2020-06-25T13:36:24.119164Z",
     "shell.execute_reply": "2020-06-25T13:36:24.119164Z",
     "shell.execute_reply.started": "2020-06-25T13:36:24.114213Z"
    }
   },
   "outputs": [],
   "source": [
    "import operator\n",
    "def solution(arr1, arr2):\n",
    "    answer = []\n",
    "    for i in range(0,len(arr1)):\n",
    "        answer.append(list(map(operator.add, arr1[i], arr2[i])))\n",
    "    return answer"
   ]
  },
  {
   "cell_type": "code",
   "execution_count": null,
   "metadata": {},
   "outputs": [],
   "source": []
  }
 ],
 "metadata": {
  "kernelspec": {
   "display_name": "Python 3",
   "language": "python",
   "name": "python3"
  },
  "language_info": {
   "codemirror_mode": {
    "name": "ipython",
    "version": 3
   },
   "file_extension": ".py",
   "mimetype": "text/x-python",
   "name": "python",
   "nbconvert_exporter": "python",
   "pygments_lexer": "ipython3",
   "version": "3.7.6"
  }
 },
 "nbformat": 4,
 "nbformat_minor": 4
}
