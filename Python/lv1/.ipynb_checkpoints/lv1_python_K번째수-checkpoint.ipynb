{
 "cells": [
  {
   "cell_type": "markdown",
   "metadata": {},
   "source": [
    "### K 번째 수\n",
    "- 문제 설명\n",
    "    - 배열 array의 i번째 숫자부터 j번째 숫자까지 자르고 정렬했을 때, k번째에 있는 수를 구하려 합니다.\n",
    "    - 예를 들어 array가 [1, 5, 2, 6, 3, 7, 4], i = 2, j = 5, k = 3이라면 array의 2번째부터 5번째까지 자르면 [5, 2, 6, 3]입니다.\n",
    "    - 1에서 나온 배열을 정렬하면 [2, 3, 5, 6]입니다.\n",
    "    - 2에서 나온 배열의 3번째 숫자는 5입니다.\n",
    "    - 배열 array, [i, j, k]를 원소로 가진 2차원 배열 commands가 매개변수로 주어질 때, commands의 모든 원소에 대해 앞서 설명한 연산을 적용했을 때 나온 결과를 배열에 담아 return 하도록 solution 함수를 작성해주세요.\n",
    "\n",
    "- 제한사항\n",
    "    - array의 길이는 1 이상 100 이하입니다.\n",
    "    - array의 각 원소는 1 이상 100 이하입니다.\n",
    "    - commands의 길이는 1 이상 50 이하입니다.\n",
    "    - commands의 각 원소는 길이가 3입니다."
   ]
  },
  {
   "cell_type": "code",
   "execution_count": 1,
   "metadata": {
    "execution": {
     "iopub.execute_input": "2020-06-24T08:09:00.826249Z",
     "iopub.status.busy": "2020-06-24T08:09:00.826249Z",
     "iopub.status.idle": "2020-06-24T08:09:00.837179Z",
     "shell.execute_reply": "2020-06-24T08:09:00.835226Z",
     "shell.execute_reply.started": "2020-06-24T08:09:00.826249Z"
    }
   },
   "outputs": [],
   "source": [
    "array = [1, 5, 2, 6, 3, 7, 4]\n",
    "commands = [[2,5,3],[2,5,4],[2,5,2]]"
   ]
  },
  {
   "cell_type": "code",
   "execution_count": 2,
   "metadata": {
    "execution": {
     "iopub.execute_input": "2020-06-24T08:09:01.794413Z",
     "iopub.status.busy": "2020-06-24T08:09:01.793416Z",
     "iopub.status.idle": "2020-06-24T08:09:01.810328Z",
     "shell.execute_reply": "2020-06-24T08:09:01.808333Z",
     "shell.execute_reply.started": "2020-06-24T08:09:01.794413Z"
    }
   },
   "outputs": [],
   "source": [
    "def solution(array, commands):\n",
    "    answers = []\n",
    "    for command in commands:\n",
    "        i, j, k = command\n",
    "        answer = array[i-1:j]\n",
    "        answer.sort()\n",
    "        i = answer[k-1]\n",
    "        answers.append(i)\n",
    "    return answers"
   ]
  },
  {
   "cell_type": "code",
   "execution_count": 3,
   "metadata": {
    "execution": {
     "iopub.execute_input": "2020-06-24T08:09:01.815315Z",
     "iopub.status.busy": "2020-06-24T08:09:01.814318Z",
     "iopub.status.idle": "2020-06-24T08:09:01.827276Z",
     "shell.execute_reply": "2020-06-24T08:09:01.826279Z",
     "shell.execute_reply.started": "2020-06-24T08:09:01.815315Z"
    }
   },
   "outputs": [
    {
     "data": {
      "text/plain": [
       "[5, 6, 3]"
      ]
     },
     "execution_count": 3,
     "metadata": {},
     "output_type": "execute_result"
    }
   ],
   "source": [
    "solution(array, commands)"
   ]
  },
  {
   "cell_type": "code",
   "execution_count": null,
   "metadata": {},
   "outputs": [],
   "source": []
  }
 ],
 "metadata": {
  "kernelspec": {
   "display_name": "Python 3",
   "language": "python",
   "name": "python3"
  },
  "language_info": {
   "codemirror_mode": {
    "name": "ipython",
    "version": 3
   },
   "file_extension": ".py",
   "mimetype": "text/x-python",
   "name": "python",
   "nbconvert_exporter": "python",
   "pygments_lexer": "ipython3",
   "version": "3.7.6"
  }
 },
 "nbformat": 4,
 "nbformat_minor": 4
}
