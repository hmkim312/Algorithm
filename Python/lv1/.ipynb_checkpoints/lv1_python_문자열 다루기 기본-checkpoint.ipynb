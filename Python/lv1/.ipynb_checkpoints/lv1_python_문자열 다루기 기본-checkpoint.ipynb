{
 "cells": [
  {
   "cell_type": "markdown",
   "metadata": {},
   "source": [
    "### 문자열 다루기 기본\n",
    "- 문제 설명\n",
    "    - 문자열 s의 길이가 4 혹은 6이고, 숫자로만 구성돼있는지 확인해주는 함수, solution을 완성하세요. \n",
    "    - 예를 들어 s가 a234이면 False를 리턴하고 1234라면 True를 리턴하면 됩니다.\n",
    "\n",
    "- 제한 사항\n",
    "    - s는 길이 1 이상, 길이 8 이하인 문자열입니다."
   ]
  },
  {
   "cell_type": "code",
   "execution_count": 1,
   "metadata": {
    "execution": {
     "iopub.execute_input": "2020-06-24T08:06:47.688054Z",
     "iopub.status.busy": "2020-06-24T08:06:47.687018Z",
     "iopub.status.idle": "2020-06-24T08:06:47.702998Z",
     "shell.execute_reply": "2020-06-24T08:06:47.701011Z",
     "shell.execute_reply.started": "2020-06-24T08:06:47.687018Z"
    }
   },
   "outputs": [],
   "source": [
    "def solution(s):\n",
    "    import re\n",
    "    import string\n",
    "\n",
    "    a = (re.findall('[0-9]', s))\n",
    "    if len(s) >= 8:\n",
    "        return False\n",
    "    elif len(s) < 1:\n",
    "        return False\n",
    "    elif len(a) != len(s):\n",
    "        return False\n",
    "    elif len(a) == 4:\n",
    "        return True\n",
    "    elif len(a) == 6:\n",
    "        return True\n",
    "    else:\n",
    "        return False"
   ]
  },
  {
   "cell_type": "code",
   "execution_count": 2,
   "metadata": {
    "execution": {
     "iopub.execute_input": "2020-06-24T08:07:46.722140Z",
     "iopub.status.busy": "2020-06-24T08:07:46.721143Z",
     "iopub.status.idle": "2020-06-24T08:07:46.738098Z",
     "shell.execute_reply": "2020-06-24T08:07:46.736107Z",
     "shell.execute_reply.started": "2020-06-24T08:07:46.722140Z"
    }
   },
   "outputs": [
    {
     "data": {
      "text/plain": [
       "False"
      ]
     },
     "execution_count": 2,
     "metadata": {},
     "output_type": "execute_result"
    }
   ],
   "source": [
    "s = \"a234\"\n",
    "solution(s)"
   ]
  },
  {
   "cell_type": "code",
   "execution_count": null,
   "metadata": {},
   "outputs": [],
   "source": []
  }
 ],
 "metadata": {
  "kernelspec": {
   "display_name": "Python 3",
   "language": "python",
   "name": "python3"
  },
  "language_info": {
   "codemirror_mode": {
    "name": "ipython",
    "version": 3
   },
   "file_extension": ".py",
   "mimetype": "text/x-python",
   "name": "python",
   "nbconvert_exporter": "python",
   "pygments_lexer": "ipython3",
   "version": "3.7.6"
  }
 },
 "nbformat": 4,
 "nbformat_minor": 4
}
