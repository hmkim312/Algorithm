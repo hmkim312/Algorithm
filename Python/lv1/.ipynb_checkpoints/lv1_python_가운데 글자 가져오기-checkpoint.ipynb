{
 "cells": [
  {
   "cell_type": "markdown",
   "metadata": {},
   "source": [
    "### 가운데 글자 가져오기\n",
    "\n",
    "- 문제설명\n",
    "    - 단어 s의 가운데 글자를 반환하는 함수, solution을 만들어 보세요. 단어의 길이가 짝수라면 가운데 두글자를 반환하면 됩니다.\n",
    "\n",
    "- 제한사항\n",
    "    - s는 길이가 1 이상, 100이하인 스트링입니다"
   ]
  },
  {
   "cell_type": "code",
   "execution_count": 1,
   "metadata": {
    "execution": {
     "iopub.execute_input": "2020-06-24T07:59:01.346693Z",
     "iopub.status.busy": "2020-06-24T07:59:01.345745Z",
     "iopub.status.idle": "2020-06-24T07:59:01.370678Z",
     "shell.execute_reply": "2020-06-24T07:59:01.369681Z",
     "shell.execute_reply.started": "2020-06-24T07:59:01.346693Z"
    }
   },
   "outputs": [
    {
     "data": {
      "text/plain": [
       "'de'"
      ]
     },
     "execution_count": 1,
     "metadata": {},
     "output_type": "execute_result"
    }
   ],
   "source": [
    "import math\n",
    "answer = ''\n",
    "\n",
    "def solution(s):\n",
    "    if len(s) % 2 == 0:\n",
    "        answer = s[math.trunc(len(s)/2)-1:math.trunc(len(s)/2)+1]\n",
    "        return answer\n",
    "    if len(s) % 2 != 0:\n",
    "        answer = s[math.trunc(len(s)/2)]\n",
    "        return answer\n",
    "    return answer\n",
    "s = 'abcdefgh'\n",
    "solution(s)"
   ]
  },
  {
   "cell_type": "code",
   "execution_count": null,
   "metadata": {},
   "outputs": [],
   "source": []
  }
 ],
 "metadata": {
  "kernelspec": {
   "display_name": "Python 3",
   "language": "python",
   "name": "python3"
  },
  "language_info": {
   "codemirror_mode": {
    "name": "ipython",
    "version": 3
   },
   "file_extension": ".py",
   "mimetype": "text/x-python",
   "name": "python",
   "nbconvert_exporter": "python",
   "pygments_lexer": "ipython3",
   "version": "3.7.6"
  }
 },
 "nbformat": 4,
 "nbformat_minor": 4
}
