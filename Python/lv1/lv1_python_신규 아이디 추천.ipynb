{
 "cells": [
  {
   "cell_type": "markdown",
   "metadata": {},
   "source": [
    "#### 문제 설명\n",
    "- 카카오에 입사한 신입 개발자 네오는 카카오계정개발팀에 배치되어, 카카오 서비스에 가입하는 유저들의 아이디를 생성하는 업무를 담당하게 되었습니다. 네오에게 주어진 첫 업무는 새로 가입하는 유저들이 카카오 아이디 규칙에 맞지 않는 아이디를 입력했을 때, 입력된 아이디와 유사하면서 규칙에 맞는 아이디를 추천해주는 프로그램을 개발하는 것입니다.\n",
    "- 다음은 카카오 아이디의 규칙입니다.\n",
    "- 아이디의 길이는 3자 이상 15자 이하여야 합니다.\n",
    "- 아이디는 알파벳 소문자, 숫자, 빼기(-), 밑줄(_), 마침표(.) 문자만 사용할 수 있습니다.\n",
    "- 단, 마침표(.)는 처음과 끝에 사용할 수 없으며 또한 연속으로 사용할 수 없습니다.\n",
    "- 네오는 다음과 같이 7단계의 순차적인 처리 과정을 통해 신규 유저가 입력한 아이디가 카카오 아이디 규칙에 맞는 지 검사하고 규칙에 맞지 않은 경우 규칙에 맞는 새로운 아이디를 추천해 주려고 합니다.\n",
    "- 신규 유저가 입력한 아이디가 new_id 라고 한다면,\n",
    "\n",
    "   - 1단계 new_id의 모든 대문자를 대응되는 소문자로 치환합니다.\n",
    "   - 2단계 new_id에서 알파벳 소문자, 숫자, 빼기(-), 밑줄(_), 마침표(.)를 제외한 모든 문자를 제거합니다.\n",
    "   - 3단계 new_id에서 마침표(.)가 2번 이상 연속된 부분을 하나의 마침표(.)로 치환합니다.\n",
    "   - 4단계 new_id에서 마침표(.)가 처음이나 끝에 위치한다면 제거합니다.\n",
    "   - 5단계 new_id가 빈 문자열이라면, new_id에 \"a\"를 대입합니다.\n",
    "   - 6단계 new_id의 길이가 16자 이상이면, new_id의 첫 15개의 문자를 제외한 나머지 문자들을 모두 제거합니다.\n",
    "         만약 제거 후 마침표(.)가 new_id의 끝에 위치한다면 끝에 위치한 마침표(.) 문자를 제거합니다.\n",
    "   - 7단계 new_id의 길이가 2자 이하라면, new_id의 마지막 문자를 new_id의 길이가 3이 될 때까지 반복해서 끝에 붙입니다.\n",
    "\n",
    "\n",
    "- 예를 들어, new_id 값이 ...!@BaT#*..y.abcdefghijklm 라면, 위 7단계를 거치고 나면 new_id는 아래와 같이 변경됩니다.\n",
    "\n",
    "   - 1단계 대문자 'B'와 'T'가 소문자 'b'와 't'로 바뀌었습니다.\n",
    "   - \"...!@BaT#*..y.abcdefghijklm\" → \"...!@bat#*..y.abcdefghijklm\"\n",
    "\n",
    "   - 2단계 '!', '@', '#', '*' 문자가 제거되었습니다.\n",
    "   - \"...!@bat#*..y.abcdefghijklm\" → \"...bat..y.abcdefghijklm\"\n",
    "\n",
    "   - 3단계 '...'와 '..' 가 '.'로 바뀌었습니다.\n",
    "   - \"...bat..y.abcdefghijklm\" → \".bat.y.abcdefghijklm\"\n",
    "\n",
    "   - 4단계 아이디의 처음에 위치한 '.'가 제거되었습니다.\n",
    "   - \".bat.y.abcdefghijklm\" → \"bat.y.abcdefghijklm\"\n",
    "\n",
    "   - 5단계 아이디가 빈 문자열이 아니므로 변화가 없습니다.\n",
    "   - \"bat.y.abcdefghijklm\" → \"bat.y.abcdefghijklm\"\n",
    "\n",
    "   - 6단계 아이디의 길이가 16자 이상이므로, 처음 15자를 제외한 나머지 문자들이 제거되었습니다.\n",
    "   - \"bat.y.abcdefghijklm\" → \"bat.y.abcdefghi\"\n",
    "\n",
    "   - 7단계 아이디의 길이가 2자 이하가 아니므로 변화가 없습니다.\n",
    "   - \"bat.y.abcdefghi\" → \"bat.y.abcdefghi\"\n",
    "\n",
    "- 따라서 신규 유저가 입력한 new_id가 ...!@BaT#*..y.abcdefghijklm일 때, 네오의 프로그램이 추천하는 새로운 아이디는 bat.y.abcdefghi 입니다.\n",
    "\n",
    "#### 문제\n",
    "- 신규 유저가 입력한 아이디를 나타내는 new_id가 매개변수로 주어질 때, 네오가 설계한 7단계의 처리 과정을 거친 후의 추천 아이디를 return 하도록 solution 함수를 완성해 주세요.\n",
    "\n",
    "#### 제한 사항 \n",
    "- new_id는 길이 1 이상 1,000 이하인 문자열입니다.\n",
    "- new_id는 알파벳 대문자, 알파벳 소문자, 숫자, 특수문자로 구성되어 있습니다.\n",
    "- new_id에 나타날 수 있는 특수문자는 -_.~!@#\\$%^&*()=+[{]}:?,<>/ 로 한정됩니다.\n",
    "\n",
    "#### 문제 풀이\n",
    "- 정규표현식과 문자열의 join, sptrip 등을 사용해서 풀었음\n",
    "- 단계별로 하나씩 진행한거라 파이써닉 하진 못함, 체인을 이용하거나 해서 조금더 간결하게 만들순 있을듯"
   ]
  },
  {
   "cell_type": "code",
   "execution_count": 6,
   "metadata": {
    "execution": {
     "iopub.execute_input": "2021-02-05T00:28:03.372183Z",
     "iopub.status.busy": "2021-02-05T00:28:03.371958Z",
     "iopub.status.idle": "2021-02-05T00:28:03.375042Z",
     "shell.execute_reply": "2021-02-05T00:28:03.374450Z",
     "shell.execute_reply.started": "2021-02-05T00:28:03.372160Z"
    }
   },
   "outputs": [],
   "source": [
    "import re"
   ]
  },
  {
   "cell_type": "code",
   "execution_count": 48,
   "metadata": {
    "execution": {
     "iopub.execute_input": "2021-02-05T00:40:38.871600Z",
     "iopub.status.busy": "2021-02-05T00:40:38.871389Z",
     "iopub.status.idle": "2021-02-05T00:40:38.874364Z",
     "shell.execute_reply": "2021-02-05T00:40:38.873751Z",
     "shell.execute_reply.started": "2021-02-05T00:40:38.871578Z"
    }
   },
   "outputs": [],
   "source": [
    "new_id = \"...!@Ba-T_#*..y.abcdefghijkl3m\""
   ]
  },
  {
   "cell_type": "code",
   "execution_count": 49,
   "metadata": {
    "execution": {
     "iopub.execute_input": "2021-02-05T00:40:39.454154Z",
     "iopub.status.busy": "2021-02-05T00:40:39.453944Z",
     "iopub.status.idle": "2021-02-05T00:40:39.457849Z",
     "shell.execute_reply": "2021-02-05T00:40:39.457242Z",
     "shell.execute_reply.started": "2021-02-05T00:40:39.454132Z"
    }
   },
   "outputs": [],
   "source": [
    "# 1단계 new_id의 모든 대문자를 대응되는 소문자로 치환합니다.\n",
    "new_id = new_id.lower()\n",
    "\n",
    "# 2단계 new_id에서 알파벳 소문자, 숫자, 빼기(-), 밑줄(_), 마침표(.)를 제외한 모든 문자를 제거합니다.\n",
    "new_id = ''.join(re.findall('[a-z0-9-_.]+', new_id))\n",
    "\n",
    "# 3단계 new_id에서 마침표(.)가 2번 이상 연속된 부분을 하나의 마침표(.)로 치환합니다.\n",
    "new_id = re.sub('[..]+', '.', new_id)\n",
    "\n",
    "# 4단계 new_id에서 마침표(.)가 처음이나 끝에 위치한다면 제거합니다.\n",
    "new_id = new_id.strip('.')\n",
    "\n",
    "# 5단계 new_id가 빈 문자열이라면, new_id에 \"a\"를 대입합니다.\n",
    "if len(new_id) ==0:\n",
    "    new_id = 'a'\n",
    "\n",
    "# 6단계 new_id의 길이가 16자 이상이면, new_id의 첫 15개의 문자를 제외한 나머지 문자들을 모두 제거합니다. \n",
    "# 만약 제거 후 마침표(.)가 new_id의 끝에 위치한다면 끝에 위치한 마침표(.) 문자를 제거합니다.\n",
    "if len(new_id) > 16:\n",
    "    new_id = new_id[:15]\n",
    "    new_id = new_id.strip('.')\n",
    "\n",
    "# 7단계 new_id의 길이가 2자 이하라면, new_id의 마지막 문자를 new_id의 길이가 3이 될 때까지 반복해서 끝에 붙입니다.\n",
    "if len(new_id) <= 2:\n",
    "    i = 3 - len(id_)\n",
    "    new_id = new_id + new_id[-1] * i"
   ]
  },
  {
   "cell_type": "code",
   "execution_count": 108,
   "metadata": {
    "execution": {
     "iopub.execute_input": "2021-02-05T01:01:27.905837Z",
     "iopub.status.busy": "2021-02-05T01:01:27.905620Z",
     "iopub.status.idle": "2021-02-05T01:01:27.911059Z",
     "shell.execute_reply": "2021-02-05T01:01:27.910403Z",
     "shell.execute_reply.started": "2021-02-05T01:01:27.905814Z"
    }
   },
   "outputs": [],
   "source": [
    "import re\n",
    "\n",
    "def solution(new_id):\n",
    "    # 1단계 new_id의 모든 대문자를 대응되는 소문자로 치환합니다.\n",
    "    new_id = new_id.lower()\n",
    "    \n",
    "    # 2단계 new_id에서 알파벳 소문자, 숫자, 빼기(-), 밑줄(_), 마침표(.)를 제외한 모든 문자를 제거합니다.\n",
    "    new_id = ''.join(re.findall('[a-z0-9-_.]+', new_id))\n",
    "\n",
    "    # 3단계 new_id에서 마침표(.)가 2번 이상 연속된 부분을 하나의 마침표(.)로 치환합니다.\n",
    "    new_id = re.sub('[..]+', '.', new_id)\n",
    "    \n",
    "    # 4단계 new_id에서 마침표(.)가 처음이나 끝에 위치한다면 제거합니다.\n",
    "    new_id = new_id.strip('.')\n",
    "    \n",
    "    # 5단계 new_id가 빈 문자열이라면, new_id에 \"a\"를 대입합니다. + 7단계\n",
    "    if len(new_id) == 0:\n",
    "        new_id = 'a'\n",
    "        \n",
    "    # 6단계 new_id의 길이가 16자 이상이면, new_id의 첫 15개의 문자를 제외한 나머지 문자들을 모두 제거합니다. \n",
    "    # 만약 제거 후 마침표(.)가 new_id의 끝에 위치한다면 끝에 위치한 마침표(.) 문자를 제거합니다.\n",
    "    if len(new_id) >= 16:\n",
    "        new_id = new_id[:15]\n",
    "        new_id = new_id.strip('.')\n",
    "\n",
    "    # 7단계 new_id의 길이가 2자 이하라면, new_id의 마지막 문자를 new_id의 길이가 3이 될 때까지 반복해서 끝에 붙입니다.\n",
    "    if len(new_id) <= 2:\n",
    "        i = 3 - len(new_id)\n",
    "        new_id = new_id + new_id[-1] * i\n",
    "    \n",
    "    return new_id"
   ]
  },
  {
   "cell_type": "code",
   "execution_count": 109,
   "metadata": {
    "execution": {
     "iopub.execute_input": "2021-02-05T01:01:28.071866Z",
     "iopub.status.busy": "2021-02-05T01:01:28.071660Z",
     "iopub.status.idle": "2021-02-05T01:01:28.076141Z",
     "shell.execute_reply": "2021-02-05T01:01:28.075440Z",
     "shell.execute_reply.started": "2021-02-05T01:01:28.071844Z"
    }
   },
   "outputs": [
    {
     "data": {
      "text/plain": [
       "'bat.y.abcdefghi'"
      ]
     },
     "execution_count": 109,
     "metadata": {},
     "output_type": "execute_result"
    }
   ],
   "source": [
    "new_id = '...!@BaT#*..y.abcdefghijklm'\n",
    "solution(new_id)"
   ]
  },
  {
   "cell_type": "code",
   "execution_count": 110,
   "metadata": {
    "execution": {
     "iopub.execute_input": "2021-02-05T01:01:28.249092Z",
     "iopub.status.busy": "2021-02-05T01:01:28.248882Z",
     "iopub.status.idle": "2021-02-05T01:01:28.252978Z",
     "shell.execute_reply": "2021-02-05T01:01:28.252451Z",
     "shell.execute_reply.started": "2021-02-05T01:01:28.249070Z"
    }
   },
   "outputs": [
    {
     "data": {
      "text/plain": [
       "'aaa'"
      ]
     },
     "execution_count": 110,
     "metadata": {},
     "output_type": "execute_result"
    }
   ],
   "source": [
    "new_id = '=.='\n",
    "solution(new_id)"
   ]
  },
  {
   "cell_type": "code",
   "execution_count": 111,
   "metadata": {
    "execution": {
     "iopub.execute_input": "2021-02-05T01:01:28.420058Z",
     "iopub.status.busy": "2021-02-05T01:01:28.419850Z",
     "iopub.status.idle": "2021-02-05T01:01:28.424004Z",
     "shell.execute_reply": "2021-02-05T01:01:28.423410Z",
     "shell.execute_reply.started": "2021-02-05T01:01:28.420036Z"
    }
   },
   "outputs": [
    {
     "data": {
      "text/plain": [
       "'bbb'"
      ]
     },
     "execution_count": 111,
     "metadata": {},
     "output_type": "execute_result"
    }
   ],
   "source": [
    "new_id = 'b'\n",
    "solution(new_id)"
   ]
  },
  {
   "cell_type": "code",
   "execution_count": 112,
   "metadata": {
    "execution": {
     "iopub.execute_input": "2021-02-05T01:01:28.599712Z",
     "iopub.status.busy": "2021-02-05T01:01:28.599502Z",
     "iopub.status.idle": "2021-02-05T01:01:28.603422Z",
     "shell.execute_reply": "2021-02-05T01:01:28.602771Z",
     "shell.execute_reply.started": "2021-02-05T01:01:28.599690Z"
    }
   },
   "outputs": [
    {
     "data": {
      "text/plain": [
       "'abcdefghijklmn'"
      ]
     },
     "execution_count": 112,
     "metadata": {},
     "output_type": "execute_result"
    }
   ],
   "source": [
    "new_id = 'abcdefghijklmn.p'\n",
    "solution(new_id)"
   ]
  }
 ],
 "metadata": {
  "kernelspec": {
   "display_name": "Python 3",
   "language": "python",
   "name": "python3"
  },
  "language_info": {
   "codemirror_mode": {
    "name": "ipython",
    "version": 3
   },
   "file_extension": ".py",
   "mimetype": "text/x-python",
   "name": "python",
   "nbconvert_exporter": "python",
   "pygments_lexer": "ipython3",
   "version": "3.8.3"
  }
 },
 "nbformat": 4,
 "nbformat_minor": 4
}
