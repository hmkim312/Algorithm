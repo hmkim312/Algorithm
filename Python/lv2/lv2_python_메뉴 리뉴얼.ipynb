{
 "cells": [
  {
   "cell_type": "markdown",
   "metadata": {},
   "source": [
    "URL <https://programmers.co.kr/learn/courses/30/lessons/72411>{:target=\"_blank\"}\n",
    "\n",
    "### 문제 설명\n",
    "- 레스토랑을 운영하던 스카피는 코로나19로 인한 불경기를 극복하고자 메뉴를 새로 구성하려고 고민하고 있습니다.\n",
    "- 기존에는 단품으로만 제공하던 메뉴를 조합해서 코스요리 형태로 재구성해서 새로운 메뉴를 제공하기로 결정했습니다. 어떤 단품메뉴들을 조합해서 코스요리 메뉴로 구성하면 좋을 지 고민하던 \"스카피\"는 이전에 각 손님들이 주문할 때 가장 많이 함께 주문한 단품메뉴들을 코스요리 메뉴로 구성하기로 했습니다.\n",
    "- 단, 코스요리 메뉴는 최소 2가지 이상의 단품메뉴로 구성하려고 합니다. 또한, 최소 2명 이상의 손님으로부터 주문된 단품메뉴 조합에 대해서만 코스요리 메뉴 후보에 포함하기로 했습니다.\n",
    "\n",
    "- 예를 들어, 손님 6명이 주문한 단품메뉴들의 조합이 다음과 같다면,\n",
    "- (각 손님은 단품메뉴를 2개 이상 주문해야 하며, 각 단품메뉴는 A ~ Z의 알파벳 대문자로 표기합니다.)\n",
    "\n",
    "|손님 번호|\t주문한 단품메뉴 조합|\n",
    "|---|---|\n",
    "|1번 손님|\tA, B, C, F, G|\n",
    "|2번 손님|\tA, C|\n",
    "|3번 손님|\tC, D, E|\n",
    "|4번 손님|\tA, C, D, E|\n",
    "|5번 손님|\tB, C, F, G|\n",
    "|6번 손님|\tA, C, D, E, H|\n",
    "\n",
    "- 가장 많이 함께 주문된 단품메뉴 조합에 따라 \"스카피\"가 만들게 될 코스요리 메뉴 구성 후보는 다음과 같습니다.\n",
    "\n",
    "|코스 종류|메뉴 구성|설명|\n",
    "|---|---|---|\n",
    "|요리 2개 코스|\tA, C|\t1번, 2번, 4번, 6번 손님으로부터 총 4번 주문됐습니다.|\n",
    "|요리 3개 코스|\tC, D, E|\t3번, 4번, 6번 손님으로부터 총 3번 주문됐습니다.|\n",
    "|요리 4개 코스|\tB, C, F, G|\t1번, 5번 손님으로부터 총 2번 주문됐습니다.|\n",
    "|요리 4개 코스|\tA, C, D, E|\t4번, 6번 손님으로부터 총 2번 주문됐습니다.|\n",
    "\n",
    "### 문제\n",
    "- 각 손님들이 주문한 단품메뉴들이 문자열 형식으로 담긴 배열 orders, \"스카피\"가 추가하고 싶어하는 코스요리를 구성하는 단품메뉴들의 갯수가 담긴 배열 course가 매개변수로 주어질 때, \"스카피\"가 새로 추가하게 될 코스요리의 메뉴 구성을 문자열 형태로 배열에 담아 return 하도록 solution 함수를 완성해 주세요.\n",
    "\n",
    "### 제한사항\n",
    "- orders 배열의 크기는 2 이상 20 이하입니다.\n",
    "- orders 배열의 각 원소는 크기가 2 이상 10 이하인 문자열입니다.\n",
    "- 각 문자열은 알파벳 대문자로만 이루어져 있습니다.\n",
    "- 각 문자열에는 같은 알파벳이 중복해서 들어있지 않습니다.\n",
    "- course 배열의 크기는 1 이상 10 이하입니다.\n",
    "- course 배열의 각 원소는 2 이상 10 이하인 자연수가 오름차순으로 정렬되어 있습니다.\n",
    "- course 배열에는 같은 값이 중복해서 들어있지 않습니다.\n",
    "- 정답은 각 코스요리 메뉴의 구성을 문자열 형식으로 배열에 담아 사전 순으로 오름차순 정렬해서 return 해주세요.\n",
    "- 배열의 각 원소에 저장된 문자열 또한 알파벳 오름차순으로 정렬되어야 합니다.\n",
    "- 만약 가장 많이 함께 주문된 메뉴 구성이 여러 개라면, 모두 배열에 담아 return 하면 됩니다.\n",
    "- orders와 course 매개변수는 return 하는 배열의 길이가 1 이상이 되도록 주어집니다.\n",
    "\n",
    "### 문제풀이\n",
    "- count_order 함수는 python의 내장함수인 itertools의 combinations를 사용해서 orders에서 주어진 숫자의 경우의 수를 구한다 (중복 허용하지 않음)\n",
    "    - 다만 위처럼 하면 XY와 YX는 다른 문자로 인식하지만 문제에선 XY와 YX를 같게 보기 떄문에, orders를 sort 해준다.\n",
    "    - 이후 map과 list를 사용하여 join을 해서 (X, Y), (W, Y)로 되어있는 값을 [XY, WY] 형태로 변환한다.\n",
    "- soultion은 count_order로 구한 경우의 수를 python 내장함수인 Counter로 갯수를 세서 answer에 저장한다.\n",
    "    - 가장 많은 갯수를 가진 경우의 수를 answer에 저장한다.\n",
    "    - 만약 경우의 수가 1개도 없거나, 모든 조합이 1개일 경우에는 셋트메뉴 구성이 안되므로 넘긴다.\n",
    "    - 위의 경우가 아니라면 answer에 가장 많은 조합을 answer에 저장한다.\n",
    "    - 마지막으로 answer를 알파벳순으로 정렬하고 return 한다."
   ]
  },
  {
   "cell_type": "code",
   "execution_count": 19,
   "metadata": {
    "execution": {
     "iopub.execute_input": "2021-11-12T00:10:43.252677Z",
     "iopub.status.busy": "2021-11-12T00:10:43.252459Z",
     "iopub.status.idle": "2021-11-12T00:10:43.258935Z",
     "shell.execute_reply": "2021-11-12T00:10:43.258290Z",
     "shell.execute_reply.started": "2021-11-12T00:10:43.252654Z"
    }
   },
   "outputs": [],
   "source": [
    "import itertools\n",
    "from collections import Counter\n",
    "\n",
    "def count_order(orders, n):\n",
    "    answer = []\n",
    "    for order in orders:\n",
    "        order = sorted(order)\n",
    "        answer.extend(list(map(''.join, itertools.combinations(order, n))))\n",
    "    return answer\n",
    "\n",
    "def solution(orders, course):\n",
    "    answer = []\n",
    "\n",
    "    for n in course:\n",
    "        results = []\n",
    "        results.extend(count_order(orders, n))\n",
    "\n",
    "        cnt = Counter(results)\n",
    "        \n",
    "        if len(cnt) !=0 and max(cnt.values())>1:\n",
    "            answer += [key for key, value in cnt.items() if value == max(cnt.values())]\n",
    "    return sorted(answer)"
   ]
  },
  {
   "cell_type": "code",
   "execution_count": 20,
   "metadata": {
    "execution": {
     "iopub.execute_input": "2021-11-12T00:10:43.806745Z",
     "iopub.status.busy": "2021-11-12T00:10:43.806527Z",
     "iopub.status.idle": "2021-11-12T00:10:43.810926Z",
     "shell.execute_reply": "2021-11-12T00:10:43.810344Z",
     "shell.execute_reply.started": "2021-11-12T00:10:43.806723Z"
    }
   },
   "outputs": [
    {
     "data": {
      "text/plain": [
       "['AC', 'ACDE', 'BCFG', 'CDE']"
      ]
     },
     "execution_count": 20,
     "metadata": {},
     "output_type": "execute_result"
    }
   ],
   "source": [
    "orders = [\"ABCFG\", \"AC\", \"CDE\", \"ACDE\", \"BCFG\", \"ACDEH\"]\n",
    "course = [2,3,4]\n",
    "solution(orders, course)"
   ]
  },
  {
   "cell_type": "code",
   "execution_count": 21,
   "metadata": {
    "execution": {
     "iopub.execute_input": "2021-11-12T00:10:44.062737Z",
     "iopub.status.busy": "2021-11-12T00:10:44.062485Z",
     "iopub.status.idle": "2021-11-12T00:10:44.067881Z",
     "shell.execute_reply": "2021-11-12T00:10:44.067189Z",
     "shell.execute_reply.started": "2021-11-12T00:10:44.062711Z"
    }
   },
   "outputs": [
    {
     "data": {
      "text/plain": [
       "['ACD', 'AD', 'ADE', 'CD', 'XYZ']"
      ]
     },
     "execution_count": 21,
     "metadata": {},
     "output_type": "execute_result"
    }
   ],
   "source": [
    "orders = [\"ABCDE\", \"AB\", \"CD\", \"ADE\", \"XYZ\", \"XYZ\", \"ACD\"]\n",
    "course = [2,3,5]\n",
    "solution(orders, course)"
   ]
  },
  {
   "cell_type": "code",
   "execution_count": 22,
   "metadata": {
    "execution": {
     "iopub.execute_input": "2021-11-12T00:10:44.293479Z",
     "iopub.status.busy": "2021-11-12T00:10:44.293265Z",
     "iopub.status.idle": "2021-11-12T00:10:44.297803Z",
     "shell.execute_reply": "2021-11-12T00:10:44.297006Z",
     "shell.execute_reply.started": "2021-11-12T00:10:44.293456Z"
    }
   },
   "outputs": [
    {
     "data": {
      "text/plain": [
       "['WX', 'XY']"
      ]
     },
     "execution_count": 22,
     "metadata": {},
     "output_type": "execute_result"
    }
   ],
   "source": [
    "orders = [\"XYZ\", \"XWY\", \"WXA\"]\n",
    "course = [2,3,4]\n",
    "solution(orders, course)"
   ]
  },
  {
   "cell_type": "code",
   "execution_count": 23,
   "metadata": {
    "execution": {
     "iopub.execute_input": "2021-11-12T00:10:44.514565Z",
     "iopub.status.busy": "2021-11-12T00:10:44.514256Z",
     "iopub.status.idle": "2021-11-12T00:10:44.519305Z",
     "shell.execute_reply": "2021-11-12T00:10:44.518714Z",
     "shell.execute_reply.started": "2021-11-12T00:10:44.514520Z"
    }
   },
   "outputs": [
    {
     "data": {
      "text/plain": [
       "['AB', 'ABC', 'ABCD', 'ABD', 'AC', 'ACD', 'AD', 'BC', 'BCD', 'BD', 'CD']"
      ]
     },
     "execution_count": 23,
     "metadata": {},
     "output_type": "execute_result"
    }
   ],
   "source": [
    "orders = [\"ABCD\", \"ABCD\", \"ABCD\"]\n",
    "course = [2,3,4]\n",
    "solution(orders, course)"
   ]
  },
  {
   "cell_type": "code",
   "execution_count": 17,
   "metadata": {
    "execution": {
     "iopub.execute_input": "2021-11-12T00:10:23.552159Z",
     "iopub.status.busy": "2021-11-12T00:10:23.551954Z",
     "iopub.status.idle": "2021-11-12T00:10:23.556689Z",
     "shell.execute_reply": "2021-11-12T00:10:23.556081Z",
     "shell.execute_reply.started": "2021-11-12T00:10:23.552138Z"
    }
   },
   "outputs": [
    {
     "data": {
      "text/plain": [
       "['AB']"
      ]
     },
     "execution_count": 17,
     "metadata": {},
     "output_type": "execute_result"
    }
   ],
   "source": [
    "orders = [\"ABCDE\", \"AB\", \"CDAB\", \"ABDE\", \"XABYZ\", \"ABXYZ\", \"ABCD\", \"ABCDE\", \"ABCDE\", \"ABCDE\", \"AB\", \"AB\", \"AB\", \"AB\", \"AB\", \"AB\", \"AB\", \"AB\", \"AB\", \"AB\"]\n",
    "course = [2]\n",
    "solution(orders, course)"
   ]
  },
  {
   "cell_type": "code",
   "execution_count": 18,
   "metadata": {
    "execution": {
     "iopub.execute_input": "2021-11-12T00:10:24.084709Z",
     "iopub.status.busy": "2021-11-12T00:10:24.084496Z",
     "iopub.status.idle": "2021-11-12T00:10:24.088957Z",
     "shell.execute_reply": "2021-11-12T00:10:24.088313Z",
     "shell.execute_reply.started": "2021-11-12T00:10:24.084687Z"
    }
   },
   "outputs": [
    {
     "data": {
      "text/plain": [
       "['AB', 'ABC', 'ABCD', 'ABD', 'AC', 'ACD', 'AD', 'BC', 'BCD', 'BD', 'CD']"
      ]
     },
     "execution_count": 18,
     "metadata": {},
     "output_type": "execute_result"
    }
   ],
   "source": [
    "orders = [\"ABCD\", \"ABCD\", \"ABCD\"]\n",
    "course = [2,3,4]\n",
    "solution(orders, course)"
   ]
  }
 ],
 "metadata": {
  "kernelspec": {
   "display_name": "Python 3",
   "language": "python",
   "name": "python3"
  },
  "language_info": {
   "codemirror_mode": {
    "name": "ipython",
    "version": 3
   },
   "file_extension": ".py",
   "mimetype": "text/x-python",
   "name": "python",
   "nbconvert_exporter": "python",
   "pygments_lexer": "ipython3",
   "version": "3.8.3"
  }
 },
 "nbformat": 4,
 "nbformat_minor": 4
}
