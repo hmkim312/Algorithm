{
 "cells": [
  {
   "cell_type": "markdown",
   "metadata": {},
   "source": [
    "### 올바른 괄호\n",
    "- 문제 설명\n",
    "    - 괄호가 바르게 짝지어졌다는 것은 '(' 문자로 열렸으면 반드시 짝지어서 ')' 문자로 닫혀야 한다는 뜻입니다. 예를 들어 \n",
    "    - ()() 또는 (())() 는 올바른 괄호입니다.\n",
    "    - )()( 또는 (()( 는 올바르지 않은 괄호입니다.\n",
    "    - '(' 또는 ')' 로만 이루어진 문자열 s가 주어졌을 때, 문자열 s가 올바른 괄호이면 true를 return 하고, 올바르지 않은 괄호이면 false를 return 하는 solution 함수를 완성해 주세요.\n",
    "\n",
    "- 제한사항\n",
    "    - 문자열 s의 길이 : 100,000 이하의 자연수\n",
    "    - 문자열 s는 '(' 또는 ')' 로만 이루어져 있습니다."
   ]
  },
  {
   "cell_type": "markdown",
   "metadata": {},
   "source": [
    "#### 풀이설명\n",
    "- '('가 있다면 ')'를 지우는 형식으로 작성 - 시간 초과\n",
    "- '()'를 ''로 바꾸는 형식으로 작성 - 시간 초과\n",
    "- '('를 list에 넣고, )가 있다면 list를 초기화시키는 형식으로 작성 - 통과"
   ]
  },
  {
   "cell_type": "code",
   "execution_count": 222,
   "metadata": {
    "execution": {
     "iopub.execute_input": "2020-06-29T11:54:20.653537Z",
     "iopub.status.busy": "2020-06-29T11:54:20.652539Z",
     "iopub.status.idle": "2020-06-29T11:54:20.658522Z",
     "shell.execute_reply": "2020-06-29T11:54:20.658522Z",
     "shell.execute_reply.started": "2020-06-29T11:54:20.653537Z"
    }
   },
   "outputs": [],
   "source": [
    "# 시간초과\n",
    "def solution(s):\n",
    "    s_list = list(s)\n",
    "    for i in range(len(s_list)//2):\n",
    "        if s_list[0] == ')':\n",
    "            return False\n",
    "        s_list.remove('(')\n",
    "        if ')' in s_list:\n",
    "            s_list.pop(s_list.index(')'))\n",
    "        else :\n",
    "            return False\n",
    "    if len(s_list) ==0:\n",
    "        return True\n",
    "    else:\n",
    "        return False"
   ]
  },
  {
   "cell_type": "code",
   "execution_count": 223,
   "metadata": {
    "execution": {
     "iopub.execute_input": "2020-06-29T11:54:20.791917Z",
     "iopub.status.busy": "2020-06-29T11:54:20.791917Z",
     "iopub.status.idle": "2020-06-29T11:54:20.796911Z",
     "shell.execute_reply": "2020-06-29T11:54:20.796911Z",
     "shell.execute_reply.started": "2020-06-29T11:54:20.791917Z"
    }
   },
   "outputs": [
    {
     "data": {
      "text/plain": [
       "True"
      ]
     },
     "execution_count": 223,
     "metadata": {},
     "output_type": "execute_result"
    }
   ],
   "source": [
    "s = '()()()()()()'\n",
    "solution(s)"
   ]
  },
  {
   "cell_type": "code",
   "execution_count": 224,
   "metadata": {
    "execution": {
     "iopub.execute_input": "2020-06-29T11:54:20.997024Z",
     "iopub.status.busy": "2020-06-29T11:54:20.997024Z",
     "iopub.status.idle": "2020-06-29T11:54:21.002973Z",
     "shell.execute_reply": "2020-06-29T11:54:21.001974Z",
     "shell.execute_reply.started": "2020-06-29T11:54:20.997024Z"
    }
   },
   "outputs": [
    {
     "data": {
      "text/plain": [
       "False"
      ]
     },
     "execution_count": 224,
     "metadata": {},
     "output_type": "execute_result"
    }
   ],
   "source": [
    "s = ')()('\n",
    "solution(s)"
   ]
  },
  {
   "cell_type": "code",
   "execution_count": 225,
   "metadata": {
    "execution": {
     "iopub.execute_input": "2020-06-29T11:54:21.092124Z",
     "iopub.status.busy": "2020-06-29T11:54:21.092124Z",
     "iopub.status.idle": "2020-06-29T11:54:21.097082Z",
     "shell.execute_reply": "2020-06-29T11:54:21.097082Z",
     "shell.execute_reply.started": "2020-06-29T11:54:21.092124Z"
    }
   },
   "outputs": [
    {
     "data": {
      "text/plain": [
       "False"
      ]
     },
     "execution_count": 225,
     "metadata": {},
     "output_type": "execute_result"
    }
   ],
   "source": [
    "s = '(()('\n",
    "solution(s)"
   ]
  },
  {
   "cell_type": "code",
   "execution_count": 226,
   "metadata": {
    "execution": {
     "iopub.execute_input": "2020-06-29T11:54:21.269115Z",
     "iopub.status.busy": "2020-06-29T11:54:21.268117Z",
     "iopub.status.idle": "2020-06-29T11:54:21.275098Z",
     "shell.execute_reply": "2020-06-29T11:54:21.275098Z",
     "shell.execute_reply.started": "2020-06-29T11:54:21.269115Z"
    }
   },
   "outputs": [],
   "source": [
    "# 시간초과\n",
    "def solution(s):\n",
    "    while True:\n",
    "        if '()' in s:\n",
    "            s = s.replace('()', '')\n",
    "        else :\n",
    "            if len(s) == 0:\n",
    "                return True\n",
    "            else:\n",
    "                return False "
   ]
  },
  {
   "cell_type": "code",
   "execution_count": 227,
   "metadata": {
    "execution": {
     "iopub.execute_input": "2020-06-29T11:54:21.468483Z",
     "iopub.status.busy": "2020-06-29T11:54:21.468483Z",
     "iopub.status.idle": "2020-06-29T11:54:21.473490Z",
     "shell.execute_reply": "2020-06-29T11:54:21.473490Z",
     "shell.execute_reply.started": "2020-06-29T11:54:21.468483Z"
    }
   },
   "outputs": [
    {
     "data": {
      "text/plain": [
       "False"
      ]
     },
     "execution_count": 227,
     "metadata": {},
     "output_type": "execute_result"
    }
   ],
   "source": [
    "s = '(()('\n",
    "solution(s)"
   ]
  },
  {
   "cell_type": "code",
   "execution_count": 228,
   "metadata": {
    "execution": {
     "iopub.execute_input": "2020-06-29T11:54:21.987870Z",
     "iopub.status.busy": "2020-06-29T11:54:21.987870Z",
     "iopub.status.idle": "2020-06-29T11:54:21.994819Z",
     "shell.execute_reply": "2020-06-29T11:54:21.993844Z",
     "shell.execute_reply.started": "2020-06-29T11:54:21.987870Z"
    }
   },
   "outputs": [
    {
     "data": {
      "text/plain": [
       "False"
      ]
     },
     "execution_count": 228,
     "metadata": {},
     "output_type": "execute_result"
    }
   ],
   "source": [
    "s = ')()('\n",
    "solution(s)"
   ]
  },
  {
   "cell_type": "code",
   "execution_count": 229,
   "metadata": {
    "execution": {
     "iopub.execute_input": "2020-06-29T11:54:22.046686Z",
     "iopub.status.busy": "2020-06-29T11:54:22.046686Z",
     "iopub.status.idle": "2020-06-29T11:54:22.051672Z",
     "shell.execute_reply": "2020-06-29T11:54:22.051672Z",
     "shell.execute_reply.started": "2020-06-29T11:54:22.046686Z"
    }
   },
   "outputs": [
    {
     "data": {
      "text/plain": [
       "True"
      ]
     },
     "execution_count": 229,
     "metadata": {},
     "output_type": "execute_result"
    }
   ],
   "source": [
    "s = '()()()()()()'\n",
    "solution(s)"
   ]
  },
  {
   "cell_type": "code",
   "execution_count": 230,
   "metadata": {
    "execution": {
     "iopub.execute_input": "2020-06-29T11:54:22.245319Z",
     "iopub.status.busy": "2020-06-29T11:54:22.245319Z",
     "iopub.status.idle": "2020-06-29T11:54:22.251276Z",
     "shell.execute_reply": "2020-06-29T11:54:22.251276Z",
     "shell.execute_reply.started": "2020-06-29T11:54:22.245319Z"
    }
   },
   "outputs": [],
   "source": [
    "# 이걸로 통과\n",
    "def solution(s):\n",
    "    ls = []\n",
    "\n",
    "    for i in range(len(s)):\n",
    "        if s[i] == '(':\n",
    "            ls.append(i)\n",
    "        elif s[i] == ')':\n",
    "            if len(ls) == 0:\n",
    "                return False\n",
    "            ls.pop()\n",
    "    if len(ls) != 0:\n",
    "        return False\n",
    "    return True"
   ]
  },
  {
   "cell_type": "code",
   "execution_count": 231,
   "metadata": {
    "execution": {
     "iopub.execute_input": "2020-06-29T11:54:22.474790Z",
     "iopub.status.busy": "2020-06-29T11:54:22.474790Z",
     "iopub.status.idle": "2020-06-29T11:54:22.479828Z",
     "shell.execute_reply": "2020-06-29T11:54:22.479828Z",
     "shell.execute_reply.started": "2020-06-29T11:54:22.474790Z"
    }
   },
   "outputs": [
    {
     "data": {
      "text/plain": [
       "True"
      ]
     },
     "execution_count": 231,
     "metadata": {},
     "output_type": "execute_result"
    }
   ],
   "source": [
    "s = '()()()()()()'\n",
    "solution(s)"
   ]
  },
  {
   "cell_type": "code",
   "execution_count": 232,
   "metadata": {
    "execution": {
     "iopub.execute_input": "2020-06-29T11:54:23.010445Z",
     "iopub.status.busy": "2020-06-29T11:54:23.010445Z",
     "iopub.status.idle": "2020-06-29T11:54:23.023360Z",
     "shell.execute_reply": "2020-06-29T11:54:23.021365Z",
     "shell.execute_reply.started": "2020-06-29T11:54:23.010445Z"
    }
   },
   "outputs": [
    {
     "data": {
      "text/plain": [
       "False"
      ]
     },
     "execution_count": 232,
     "metadata": {},
     "output_type": "execute_result"
    }
   ],
   "source": [
    "s = ')()('\n",
    "solution(s)"
   ]
  },
  {
   "cell_type": "code",
   "execution_count": 233,
   "metadata": {
    "execution": {
     "iopub.execute_input": "2020-06-29T11:54:23.084215Z",
     "iopub.status.busy": "2020-06-29T11:54:23.084215Z",
     "iopub.status.idle": "2020-06-29T11:54:23.089181Z",
     "shell.execute_reply": "2020-06-29T11:54:23.089181Z",
     "shell.execute_reply.started": "2020-06-29T11:54:23.084215Z"
    }
   },
   "outputs": [
    {
     "data": {
      "text/plain": [
       "False"
      ]
     },
     "execution_count": 233,
     "metadata": {},
     "output_type": "execute_result"
    }
   ],
   "source": [
    "s = '(()('\n",
    "solution(s)"
   ]
  },
  {
   "cell_type": "code",
   "execution_count": null,
   "metadata": {},
   "outputs": [],
   "source": []
  },
  {
   "cell_type": "code",
   "execution_count": null,
   "metadata": {},
   "outputs": [],
   "source": []
  }
 ],
 "metadata": {
  "kernelspec": {
   "display_name": "Python 3",
   "language": "python",
   "name": "python3"
  },
  "language_info": {
   "codemirror_mode": {
    "name": "ipython",
    "version": 3
   },
   "file_extension": ".py",
   "mimetype": "text/x-python",
   "name": "python",
   "nbconvert_exporter": "python",
   "pygments_lexer": "ipython3",
   "version": "3.7.6"
  }
 },
 "nbformat": 4,
 "nbformat_minor": 4
}
