{
 "cells": [
  {
   "cell_type": "markdown",
   "metadata": {},
   "source": [
    "URL <https://programmers.co.kr/learn/courses/30/lessons/42583>{:target=\"_blank\"}\n",
    "\n",
    "### 문제 설명\n",
    "- 트럭 여러 대가 강을 가로지르는 일차선 다리를 정해진 순으로 건너려 합니다. 모든 트럭이 다리를 건너려면 최소 몇 초가 걸리는지 알아내야 합니다. 다리에는 트럭이 최대 bridge_length대 올라갈 수 있으며, 다리는 weight 이하까지의 무게를 견딜 수 있습니다. 단, 다리에 완전히 오르지 않은 트럭의 무게는 무시합니다.\n",
    "- 예를 들어, 트럭 2대가 올라갈 수 있고 무게를 10kg까지 견디는 다리가 있습니다. 무게가 [7, 4, 5, 6]kg인 트럭이 순서대로 최단 시간 안에 다리를 건너려면 다음과 같이 건너야 합니다.\n",
    "\n",
    "|경과 시간|다리를 지난 트럭|다리를 건너는 트럭|대기 트럭|\n",
    "|---|---|---|---|\n",
    "|0|[]|[]|[7,4,5,6]|\n",
    "|1~2|[]|[7]|[4,5,6]|\n",
    "|3|[7]|[4]|[5,6]|\n",
    "|4|[7]|[4,5]|[6]|\n",
    "|5|[7,4]|[5]|[6]|\n",
    "|6~7|[7,4,5]|[6]|[]|\n",
    "|8|[7,4,5,6]|[]|[]|\n",
    "\n",
    "- 따라서, 모든 트럭이 다리를 지나려면 최소 8초가 걸립니다.\n",
    "- solution 함수의 매개변수로 다리에 올라갈 수 있는 트럭 수 bridge_length, 다리가 견딜 수 있는 무게 weight, 트럭 별 무게 truck_weights가 주어집니다. 이때 모든 트럭이 다리를 건너려면 최소 몇 초가 걸리는지 return 하도록 solution 함수를 완성하세요.\n",
    "\n",
    "### 제한 조건\n",
    "- bridge_length는 1 이상 10,000 이하입니다.\n",
    "- weight는 1 이상 10,000 이하입니다.\n",
    "- truck_weights의 길이는 1 이상 10,000 이하입니다.\n",
    "- 모든 트럭의 무게는 1 이상 weight 이하입니다.\n",
    "\n",
    "### 문제풀이\n",
    "- 스택/큐 에서의 가장 기본으로 생각했다.\n",
    "- bridge라는 하나의 리스트를 만드는데 처음엔 빈 리스트를 생각했지만, 그냥 전체 다리의 길이를 가지는 리스트를 만드는게 더 쉬워보였다.\n",
    "- bridge에 트럭(원소)가 있는동안 while문이 진행된다.\n",
    "- answer는 지나가는 시간으로 1초가 지나면 맨앞에 트럭이 빠지게 된다.\n",
    "- 이후 truck_weights에서 첫번째 트럭이 다리에 진입해야하는데 다리에 있는 전체 무게와 대기하는 첫번쨰 트럭의 무게 합이 다리가 버티는 무게보다 작거나 같으면 트럭은 다리로 올라간다\n",
    "- 만약 아니라면 다리에는 0을 넣어 전체 다리의 길이는 맞춰주고 트럭은 들어가지않는다.\n",
    "- 이것을 len(truck_weights)으로 truck weights의 원소가 있을때까지만 진행한다.\n",
    "- len(truck_weights) 값이 0이되면 더이상 다리에 새로 진입하는 트럭은 없고 while문에서 answer+=1이 실행되며 계속 맨 앞의 트럭이 다리를 지나가게 된다.\n",
    "- 해당 while문까지 끝나면 총 소요된 시간을인 answer를 return한다."
   ]
  },
  {
   "cell_type": "code",
   "execution_count": 139,
   "metadata": {
    "execution": {
     "iopub.execute_input": "2021-11-03T00:45:19.619372Z",
     "iopub.status.busy": "2021-11-03T00:45:19.619121Z",
     "iopub.status.idle": "2021-11-03T00:45:19.624373Z",
     "shell.execute_reply": "2021-11-03T00:45:19.623629Z",
     "shell.execute_reply.started": "2021-11-03T00:45:19.619347Z"
    }
   },
   "outputs": [],
   "source": [
    "def solution(bridge_length, weight, truck_weights):\n",
    "    bridge = [0] * bridge_length\n",
    "    answer = 0\n",
    "    while len(bridge):\n",
    "        answer +=1\n",
    "        bridge.pop(0)\n",
    "\n",
    "        if len(truck_weights):\n",
    "            if sum(bridge) + truck_weights[0] <= weight:\n",
    "                bridge.append(truck_weights[0])\n",
    "                truck_weights.pop(0)\n",
    "            else:\n",
    "                bridge.append(0)\n",
    "                \n",
    "    return answer"
   ]
  },
  {
   "cell_type": "code",
   "execution_count": 140,
   "metadata": {
    "execution": {
     "iopub.execute_input": "2021-11-03T01:00:07.442961Z",
     "iopub.status.busy": "2021-11-03T01:00:07.442750Z",
     "iopub.status.idle": "2021-11-03T01:00:07.447054Z",
     "shell.execute_reply": "2021-11-03T01:00:07.446465Z",
     "shell.execute_reply.started": "2021-11-03T01:00:07.442939Z"
    }
   },
   "outputs": [
    {
     "data": {
      "text/plain": [
       "8"
      ]
     },
     "execution_count": 140,
     "metadata": {},
     "output_type": "execute_result"
    }
   ],
   "source": [
    "bridge_length = 2\n",
    "weight = 10\n",
    "truck_weights = [7,4,5,6]\n",
    "solution(bridge_length, weight, truck_weights)"
   ]
  },
  {
   "cell_type": "code",
   "execution_count": 141,
   "metadata": {
    "execution": {
     "iopub.execute_input": "2021-11-03T01:00:07.858104Z",
     "iopub.status.busy": "2021-11-03T01:00:07.857885Z",
     "iopub.status.idle": "2021-11-03T01:00:07.861933Z",
     "shell.execute_reply": "2021-11-03T01:00:07.861409Z",
     "shell.execute_reply.started": "2021-11-03T01:00:07.858080Z"
    }
   },
   "outputs": [
    {
     "data": {
      "text/plain": [
       "101"
      ]
     },
     "execution_count": 141,
     "metadata": {},
     "output_type": "execute_result"
    }
   ],
   "source": [
    "bridge_length = 100\n",
    "weight = 100\n",
    "truck_weights = [10]\n",
    "solution(bridge_length, weight, truck_weights)"
   ]
  },
  {
   "cell_type": "code",
   "execution_count": 142,
   "metadata": {
    "execution": {
     "iopub.execute_input": "2021-11-03T01:00:08.177448Z",
     "iopub.status.busy": "2021-11-03T01:00:08.177235Z",
     "iopub.status.idle": "2021-11-03T01:00:08.182449Z",
     "shell.execute_reply": "2021-11-03T01:00:08.181580Z",
     "shell.execute_reply.started": "2021-11-03T01:00:08.177426Z"
    }
   },
   "outputs": [
    {
     "data": {
      "text/plain": [
       "110"
      ]
     },
     "execution_count": 142,
     "metadata": {},
     "output_type": "execute_result"
    }
   ],
   "source": [
    "bridge_length = 100\n",
    "weight = 100\n",
    "truck_weights = [10,10,10,10,10,10,10,10,10,10]\n",
    "solution(bridge_length, weight, truck_weights)"
   ]
  }
 ],
 "metadata": {
  "kernelspec": {
   "display_name": "Python 3",
   "language": "python",
   "name": "python3"
  },
  "language_info": {
   "codemirror_mode": {
    "name": "ipython",
    "version": 3
   },
   "file_extension": ".py",
   "mimetype": "text/x-python",
   "name": "python",
   "nbconvert_exporter": "python",
   "pygments_lexer": "ipython3",
   "version": "3.8.3"
  }
 },
 "nbformat": 4,
 "nbformat_minor": 4
}
