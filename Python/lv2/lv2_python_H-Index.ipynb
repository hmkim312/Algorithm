{
 "cells": [
  {
   "cell_type": "markdown",
   "metadata": {},
   "source": [
    "URL <https://programmers.co.kr/learn/courses/30/lessons/42747#>{:target=\"_blank\"}\n",
    "\n",
    "#### 문제설명\n",
    "- H-Index는 과학자의 생산성과 영향력을 나타내는 지표입니다. 어느 과학자의 H-Index를 나타내는 값인 h를 구하려고 합니다. 위키백과1에 따르면, H-Index는 다음과 같이 구합니다.\n",
    "- 어떤 과학자가 발표한 논문 n편 중, h번 이상 인용된 논문이 h편 이상이고 나머지 논문이 h번 이하 인용되었다면 h의 최댓값이 이 과학자의 H-Index입니다.\n",
    "- 어떤 과학자가 발표한 논문의 인용 횟수를 담은 배열 citations가 매개변수로 주어질 때, 이 과학자의 H-Index를 return 하도록 solution 함수를 작성해주세요.\n",
    "\n",
    "#### 제한사항\n",
    "- 과학자가 발표한 논문의 수는 1편 이상 1,000편 이하입니다.\n",
    "- 논문별 인용 횟수는 0회 이상 10,000회 이하입니다.\n",
    "\n",
    "#### 문제풀이\n",
    "- 일단 H-Index의 이해가 필요함\n",
    "- 주어진 배열 citations = [3, 0, 6, 1, 5]는 각 논문에 인용된 h값임, 그리고 citations의 갯수가 논문의 갯수임\n",
    "- 전체 논문중 많이 인용된 순으로 정렬 후 논문의 수가 인용된수 보다 크거나 같아지면 해당 논문의 숫자가 H-index임 아래의 표에서는 10번째 논문의 수가 H-Index로 답은 10임\n",
    "\n",
    "\n",
    "|인용수|논문수|\n",
    "|---|---|\n",
    "|35|1|\n",
    "|34|2|\n",
    "|32|3|\n",
    "|28|4|\n",
    "|22|5|\n",
    "|21|6|\n",
    "|12|7|\n",
    "|13|8|\n",
    "|11|9|\n",
    "|10|10|\n",
    "|7|11|\n",
    "\n",
    "- 위의 내용을 정리하자면 인용된 수를 큰 수부터 sorting한 뒤 논문의 갯수를 세다가, 논문의 수가 인용의 수보다 크거나 같아지는 논문 수를 찾으면 됨\n",
    "- citations의 배열안에 있는 수를 리턴하는 것이 아님.\n",
    "- 마지막에 [2, 2] 와 같은 예외는 해당 논문의 수를 리턴하게 하면 됩니다.\n",
    "\n",
    "#### H-Index 추가 설명 \n",
    "- https://www.ibric.org/myboard/read.php?Board=news&id=270333\n",
    "- https://m.blog.naver.com/PostView.nhn?blogId=promarketyj&logNo=221434899288&categoryNo=22&proxyReferer=https:%2F%2Fwww.google.com%2F"
   ]
  },
  {
   "cell_type": "code",
   "execution_count": 59,
   "metadata": {
    "execution": {
     "iopub.execute_input": "2021-01-20T00:55:01.104266Z",
     "iopub.status.busy": "2021-01-20T00:55:01.104052Z",
     "iopub.status.idle": "2021-01-20T00:55:01.108239Z",
     "shell.execute_reply": "2021-01-20T00:55:01.107574Z",
     "shell.execute_reply.started": "2021-01-20T00:55:01.104243Z"
    }
   },
   "outputs": [],
   "source": [
    "def solution(citations):\n",
    "    citations.sort(reverse = True)\n",
    "    \n",
    "    flag = False\n",
    "    \n",
    "    for i in range(0,len(citations)):\n",
    "\n",
    "        if i >= citations[i]:\n",
    "            flag = True\n",
    "            return i\n",
    "        \n",
    "    if flag == False:\n",
    "        return len(citations)"
   ]
  },
  {
   "cell_type": "code",
   "execution_count": 60,
   "metadata": {
    "execution": {
     "iopub.execute_input": "2021-01-20T00:55:02.517166Z",
     "iopub.status.busy": "2021-01-20T00:55:02.516945Z",
     "iopub.status.idle": "2021-01-20T00:55:02.521353Z",
     "shell.execute_reply": "2021-01-20T00:55:02.520616Z",
     "shell.execute_reply.started": "2021-01-20T00:55:02.517142Z"
    }
   },
   "outputs": [
    {
     "data": {
      "text/plain": [
       "3"
      ]
     },
     "execution_count": 60,
     "metadata": {},
     "output_type": "execute_result"
    }
   ],
   "source": [
    "citations = [3, 0, 6, 1, 5]\n",
    "solution(citations)"
   ]
  },
  {
   "cell_type": "code",
   "execution_count": 61,
   "metadata": {
    "execution": {
     "iopub.execute_input": "2021-01-20T00:55:02.737549Z",
     "iopub.status.busy": "2021-01-20T00:55:02.737305Z",
     "iopub.status.idle": "2021-01-20T00:55:02.741590Z",
     "shell.execute_reply": "2021-01-20T00:55:02.741020Z",
     "shell.execute_reply.started": "2021-01-20T00:55:02.737522Z"
    }
   },
   "outputs": [
    {
     "data": {
      "text/plain": [
       "10"
      ]
     },
     "execution_count": 61,
     "metadata": {},
     "output_type": "execute_result"
    }
   ],
   "source": [
    "citations = [47, 8, 10, 10, 15, 17, 22, 24, 28, 32, 42, 11]\n",
    "solution(citations)"
   ]
  },
  {
   "cell_type": "code",
   "execution_count": 62,
   "metadata": {
    "execution": {
     "iopub.execute_input": "2021-01-20T00:55:02.988043Z",
     "iopub.status.busy": "2021-01-20T00:55:02.987796Z",
     "iopub.status.idle": "2021-01-20T00:55:02.992194Z",
     "shell.execute_reply": "2021-01-20T00:55:02.991519Z",
     "shell.execute_reply.started": "2021-01-20T00:55:02.988016Z"
    }
   },
   "outputs": [
    {
     "data": {
      "text/plain": [
       "3"
      ]
     },
     "execution_count": 62,
     "metadata": {},
     "output_type": "execute_result"
    }
   ],
   "source": [
    "citations = [1, 7, 0, 6, 4, 1]\n",
    "solution(citations)"
   ]
  },
  {
   "cell_type": "code",
   "execution_count": 63,
   "metadata": {
    "execution": {
     "iopub.execute_input": "2021-01-20T00:55:04.035014Z",
     "iopub.status.busy": "2021-01-20T00:55:04.034715Z",
     "iopub.status.idle": "2021-01-20T00:55:04.039121Z",
     "shell.execute_reply": "2021-01-20T00:55:04.038461Z",
     "shell.execute_reply.started": "2021-01-20T00:55:04.034947Z"
    }
   },
   "outputs": [
    {
     "data": {
      "text/plain": [
       "2"
      ]
     },
     "execution_count": 63,
     "metadata": {},
     "output_type": "execute_result"
    }
   ],
   "source": [
    "citations = [2, 2]\n",
    "solution(citations)"
   ]
  },
  {
   "cell_type": "code",
   "execution_count": null,
   "metadata": {},
   "outputs": [],
   "source": []
  }
 ],
 "metadata": {
  "kernelspec": {
   "display_name": "Python 3",
   "language": "python",
   "name": "python3"
  },
  "language_info": {
   "codemirror_mode": {
    "name": "ipython",
    "version": 3
   },
   "file_extension": ".py",
   "mimetype": "text/x-python",
   "name": "python",
   "nbconvert_exporter": "python",
   "pygments_lexer": "ipython3",
   "version": "3.8.3"
  }
 },
 "nbformat": 4,
 "nbformat_minor": 4
}
