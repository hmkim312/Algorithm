{
 "cells": [
  {
   "cell_type": "markdown",
   "metadata": {},
   "source": [
    "URL <https://programmers.co.kr/learn/courses/30/lessons/43165>{:target=\"_blank\"}\n",
    "\n",
    "#### 문제 설명\n",
    "- n개의 음이 아닌 정수가 있습니다. 이 수를 적절히 더하거나 빼서 타겟 넘버를 만들려고 합니다. 예를 들어 [1, 1, 1, 1, 1]로 숫자 3을 만들려면 다음 다섯 방법을 쓸 수 있습니다.\n",
    "\n",
    "```\n",
    "-1+1+1+1+1 = 3\n",
    "+1-1+1+1+1 = 3\n",
    "+1+1-1+1+1 = 3\n",
    "+1+1+1-1+1 = 3\n",
    "+1+1+1+1-1 = 3\n",
    "```\n",
    "\n",
    "- 사용할 수 있는 숫자가 담긴 배열 numbers, 타겟 넘버 target이 매개변수로 주어질 때 숫자를 적절히 더하고 빼서 타겟 넘버를 만드는 방법의 수를 return 하도록 solution 함수를 작성해주세요.\n",
    "\n",
    "#### 제한 사항\n",
    "- 주어지는 숫자의 개수는 2개 이상 20개 이하입니다.\n",
    "- 각 숫자는 1 이상 50 이하인 자연수입니다.\n",
    "- 타겟 넘버는 1 이상 1000 이하인 자연수입니다.\n",
    "\n",
    "#### 문제 풀이\n",
    "- 주어진 넘버에서 +와 -를 가지는 전체 경우의 수를 가정 - temp1\n",
    "- proudct를 사용하여 전체 경우의 수를 생성함 -temp2\n",
    "- 전체 경우의 수를 map을 이용하여 sum을 함. -temp3\n",
    "- 전체 경우의 수에서 target인 값만 count를 사용하여 return 시킴\n",
    "- 이 방법은 완전 탐색이라 사실 효율성인 면에서는 별로임.."
   ]
  },
  {
   "cell_type": "code",
   "execution_count": 41,
   "metadata": {
    "execution": {
     "iopub.execute_input": "2021-03-04T01:11:40.743185Z",
     "iopub.status.busy": "2021-03-04T01:11:40.742972Z",
     "iopub.status.idle": "2021-03-04T01:11:40.747224Z",
     "shell.execute_reply": "2021-03-04T01:11:40.746441Z",
     "shell.execute_reply.started": "2021-03-04T01:11:40.743164Z"
    }
   },
   "outputs": [],
   "source": [
    "import itertools\n",
    "def solution(numbers, target):\n",
    "    temp = [(x, -x) for x in numbers]\n",
    "    temp2 = itertools.product(*temp)\n",
    "    temp3 = list(map(sum, temp2))\n",
    "    return temp3.count(target)"
   ]
  },
  {
   "cell_type": "code",
   "execution_count": 42,
   "metadata": {
    "execution": {
     "iopub.execute_input": "2021-03-04T01:11:41.079379Z",
     "iopub.status.busy": "2021-03-04T01:11:41.079201Z",
     "iopub.status.idle": "2021-03-04T01:11:41.082747Z",
     "shell.execute_reply": "2021-03-04T01:11:41.082270Z",
     "shell.execute_reply.started": "2021-03-04T01:11:41.079360Z"
    }
   },
   "outputs": [
    {
     "data": {
      "text/plain": [
       "5"
      ]
     },
     "execution_count": 42,
     "metadata": {},
     "output_type": "execute_result"
    }
   ],
   "source": [
    "numbers = [1,1,1,1,1]\n",
    "target = 3\n",
    "solution(numbers, target)"
   ]
  },
  {
   "cell_type": "code",
   "execution_count": 47,
   "metadata": {
    "execution": {
     "iopub.execute_input": "2021-03-04T01:13:52.336584Z",
     "iopub.status.busy": "2021-03-04T01:13:52.336372Z",
     "iopub.status.idle": "2021-03-04T01:13:52.341312Z",
     "shell.execute_reply": "2021-03-04T01:13:52.340596Z",
     "shell.execute_reply.started": "2021-03-04T01:13:52.336561Z"
    }
   },
   "outputs": [
    {
     "data": {
      "text/plain": [
       "[(1, -1), (1, -1), (1, -1), (1, -1), (1, -1)]"
      ]
     },
     "execution_count": 47,
     "metadata": {},
     "output_type": "execute_result"
    }
   ],
   "source": [
    "temp = [(x, -x) for x in numbers]\n",
    "temp"
   ]
  },
  {
   "cell_type": "code",
   "execution_count": 50,
   "metadata": {
    "execution": {
     "iopub.execute_input": "2021-03-04T01:14:14.889030Z",
     "iopub.status.busy": "2021-03-04T01:14:14.888813Z",
     "iopub.status.idle": "2021-03-04T01:14:14.895891Z",
     "shell.execute_reply": "2021-03-04T01:14:14.895328Z",
     "shell.execute_reply.started": "2021-03-04T01:14:14.889007Z"
    }
   },
   "outputs": [
    {
     "data": {
      "text/plain": [
       "[(1, 1, 1, 1, 1),\n",
       " (1, 1, 1, 1, -1),\n",
       " (1, 1, 1, -1, 1),\n",
       " (1, 1, 1, -1, -1),\n",
       " (1, 1, -1, 1, 1),\n",
       " (1, 1, -1, 1, -1),\n",
       " (1, 1, -1, -1, 1),\n",
       " (1, 1, -1, -1, -1),\n",
       " (1, -1, 1, 1, 1),\n",
       " (1, -1, 1, 1, -1),\n",
       " (1, -1, 1, -1, 1),\n",
       " (1, -1, 1, -1, -1),\n",
       " (1, -1, -1, 1, 1),\n",
       " (1, -1, -1, 1, -1),\n",
       " (1, -1, -1, -1, 1),\n",
       " (1, -1, -1, -1, -1),\n",
       " (-1, 1, 1, 1, 1),\n",
       " (-1, 1, 1, 1, -1),\n",
       " (-1, 1, 1, -1, 1),\n",
       " (-1, 1, 1, -1, -1),\n",
       " (-1, 1, -1, 1, 1),\n",
       " (-1, 1, -1, 1, -1),\n",
       " (-1, 1, -1, -1, 1),\n",
       " (-1, 1, -1, -1, -1),\n",
       " (-1, -1, 1, 1, 1),\n",
       " (-1, -1, 1, 1, -1),\n",
       " (-1, -1, 1, -1, 1),\n",
       " (-1, -1, 1, -1, -1),\n",
       " (-1, -1, -1, 1, 1),\n",
       " (-1, -1, -1, 1, -1),\n",
       " (-1, -1, -1, -1, 1),\n",
       " (-1, -1, -1, -1, -1)]"
      ]
     },
     "execution_count": 50,
     "metadata": {},
     "output_type": "execute_result"
    }
   ],
   "source": [
    "temp2 = itertools.product(*temp)\n",
    "list(temp2)"
   ]
  },
  {
   "cell_type": "code",
   "execution_count": 49,
   "metadata": {
    "execution": {
     "iopub.execute_input": "2021-03-04T01:14:10.373479Z",
     "iopub.status.busy": "2021-03-04T01:14:10.373268Z",
     "iopub.status.idle": "2021-03-04T01:14:10.378119Z",
     "shell.execute_reply": "2021-03-04T01:14:10.377427Z",
     "shell.execute_reply.started": "2021-03-04T01:14:10.373457Z"
    }
   },
   "outputs": [
    {
     "data": {
      "text/plain": [
       "[5,\n",
       " 3,\n",
       " 3,\n",
       " 1,\n",
       " 3,\n",
       " 1,\n",
       " 1,\n",
       " -1,\n",
       " 3,\n",
       " 1,\n",
       " 1,\n",
       " -1,\n",
       " 1,\n",
       " -1,\n",
       " -1,\n",
       " -3,\n",
       " 3,\n",
       " 1,\n",
       " 1,\n",
       " -1,\n",
       " 1,\n",
       " -1,\n",
       " -1,\n",
       " -3,\n",
       " 1,\n",
       " -1,\n",
       " -1,\n",
       " -3,\n",
       " -1,\n",
       " -3,\n",
       " -3,\n",
       " -5]"
      ]
     },
     "execution_count": 49,
     "metadata": {},
     "output_type": "execute_result"
    }
   ],
   "source": [
    "temp3 = list(map(sum, temp2))\n",
    "temp3"
   ]
  },
  {
   "cell_type": "code",
   "execution_count": null,
   "metadata": {},
   "outputs": [],
   "source": []
  }
 ],
 "metadata": {
  "kernelspec": {
   "display_name": "Python 3",
   "language": "python",
   "name": "python3"
  },
  "language_info": {
   "codemirror_mode": {
    "name": "ipython",
    "version": 3
   },
   "file_extension": ".py",
   "mimetype": "text/x-python",
   "name": "python",
   "nbconvert_exporter": "python",
   "pygments_lexer": "ipython3",
   "version": "3.8.3"
  }
 },
 "nbformat": 4,
 "nbformat_minor": 4
}
