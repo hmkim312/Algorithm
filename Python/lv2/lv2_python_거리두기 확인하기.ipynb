{
 "cells": [
  {
   "cell_type": "markdown",
   "metadata": {},
   "source": [
    "URL <https://programmers.co.kr/learn/courses/30/lessons/81302>{:taget=\"_blank\"}\n",
    "\n",
    "### 문제 설명\n",
    "- 개발자를 희망하는 죠르디가 카카오에 면접을 보러 왔습니다.\n",
    "- 코로나 바이러스 감염 예방을 위해 응시자들은 거리를 둬서 대기를 해야하는데 개발 직군 면접인 만큼\n",
    "- 아래와 같은 규칙으로 대기실에 거리를 두고 앉도록 안내하고 있습니다.\n",
    "    - 대기실은 5개이며, 각 대기실은 5x5 크기입니다.\n",
    "    - 거리두기를 위하여 응시자들 끼리는 맨해튼 거리1가 2 이하로 앉지 말아 주세요.\n",
    "    - 단 응시자가 앉아있는 자리 사이가 파티션으로 막혀 있을 경우에는 허용합니다.\n",
    "- 5개의 대기실을 본 죠르디는 각 대기실에서 응시자들이 거리두기를 잘 기키고 있는지 알고 싶어졌습니다. \n",
    "- 자리에 앉아있는 응시자들의 정보와 대기실 구조를 대기실별로 담은 2차원 문자열 배열 places가 매개변수로 주어집니다. \n",
    "- 각 대기실별로 거리두기를 지키고 있으면 1을, 한 명이라도 지키지 않고 있으면 0을 배열에 담아 return 하도록 solution 함수를 완성해 주세요.\n",
    "\n",
    "\n",
    "    \n",
    "### 제한 사항\n",
    "- places의 행 길이(대기실 개수) = 5\n",
    "    - places의 각 행은 하나의 대기실 구조를 나타냅니다.\n",
    "- places의 열 길이(대기실 세로 길이) = 5\n",
    "- places의 원소는 P,O,X로 이루어진 문자열입니다.\n",
    "    - places 원소의 길이(대기실 가로 길이) = 5\n",
    "    - P는 응시자가 앉아있는 자리를 의미합니다.\n",
    "    - O는 빈 테이블을 의미합니다.\n",
    "    - X는 파티션을 의미합니다.\n",
    "- 입력으로 주어지는 5개 대기실의 크기는 모두 5x5 입니다.\n",
    "- return 값 형식\n",
    "    - 1차원 정수 배열에 5개의 원소를 담아서 return 합니다.\n",
    "    - places에 담겨 있는 5개 대기실의 순서대로, 거리두기 준수 여부를 차례대로 배열에 담습니다.\n",
    "    - 각 대기실 별로 모든 응시자가 거리두기를 지키고 있으면 1을, 한 명이라도 지키지 않고 있으면 0을 담습니다.\n",
    "    \n",
    "### 문제 풀이\n",
    "- check_p 함수로 place에서 P의 위치를 가져옴\n",
    "- manhattan_distance로 거리를 구함\n",
    "    - 거리가 만약 1이라면 P와 P가 서로 붙어있는것이기 때문에 무조건 0을 리턴\n",
    "    - 거리가 2라면 P와 P는 한칸 떨어져있고, 떨어진 중간에 파티션이 있는지 체크해야함\n",
    "- check_middle 함수로 거리가 2인것들에 대해서만 사이에 X가 있는지 확인함\n",
    "    - x,y 좌표를 잘 구해야함 (0, 0), (0, 2) -> (0, 1)을 체크, (0, 0), (2, 0) 일때 (1, 0)을 체크해서 X가 있는지 확인\n",
    "- check_cross 함수로 파티션이 대각선에 모두 있는지 확인\n",
    "- 3개중에 하나라도 걸리면 0을 리턴해서 answer에 0을 append, 모두 통과하면 거리두기를 잘 지키는것으로 1을 append함\n",
    "\n",
    "- 이 문제푸는데 2일걸림.. 알고리즘 공부가 시급한듯"
   ]
  },
  {
   "cell_type": "code",
   "execution_count": 305,
   "metadata": {
    "execution": {
     "iopub.execute_input": "2021-07-23T03:23:31.487004Z",
     "iopub.status.busy": "2021-07-23T03:23:31.486837Z",
     "iopub.status.idle": "2021-07-23T03:23:31.498277Z",
     "shell.execute_reply": "2021-07-23T03:23:31.497380Z",
     "shell.execute_reply.started": "2021-07-23T03:23:31.486988Z"
    }
   },
   "outputs": [],
   "source": [
    "import itertools\n",
    "\n",
    "def manhattan_distance(a,b):\n",
    "    return abs(a[0]-b[0]) + abs(a[1]-b[1])\n",
    "\n",
    "def check_p(place):\n",
    "    p=[]\n",
    "    for i in range(5):\n",
    "        for j in range(5):\n",
    "            if place[i][j] == 'P':\n",
    "                p.append((i,j))\n",
    "    return p\n",
    "\n",
    "def check_middle(c, d, place):\n",
    "    # 같은 행일때 x\n",
    "    if c[0] == d[0]:\n",
    "        x = c[0]\n",
    "    # 다른 행일때 x\n",
    "    else :\n",
    "        x = int((c[0] + d[0])/ 2)\n",
    "    # 같은 열일때 y\n",
    "    if c[1] == d[1]:\n",
    "        y = d[1]\n",
    "    # 다른 열일떄 y\n",
    "    else :\n",
    "        y = int((c[1] + d[1] )/ 2)\n",
    "        \n",
    "    if place[x][y] != 'X':\n",
    "        return 0\n",
    "\n",
    "def check_cross(c, d, place):\n",
    "    if place[c[0]][d[1]] != 'X' or place[d[0]][c[1]] != 'X':\n",
    "        return(0) \n",
    "    \n",
    "def check_distance(place):\n",
    "    p = check_p(place)\n",
    "    distance1 = []\n",
    "    distance2 = []\n",
    "    \n",
    "    for a, b in itertools.combinations(p, 2):\n",
    "        # 맨하튼 거리가 1이면 상하좌우 어딘가에 있단 이야기이므로 무조건 거리두기가 지켜지지않음\n",
    "        if manhattan_distance(a, b) == 1:\n",
    "            distance1.append((a, b))\n",
    "        # 맨하튼 거리가 2이면 한칸띄어서 혹은 대각선에 P가 있음\n",
    "        elif manhattan_distance(a, b) == 2:\n",
    "            distance2.append((a, b))\n",
    "    if len(distance1) > 0:\n",
    "        return 0\n",
    "\n",
    "    for c, d in distance2:\n",
    "        # 거리가 2인 조합에서 middle에 파티션이 있는지 확인\n",
    "        if abs(c[0] - d[0]) ==0 or abs(c[1] - d[1]) == 0:\n",
    "            if check_middle(c, d, place) == 0:\n",
    "                return 0\n",
    "        # 거리가 2인 조합에서 대각선에 파티션이 있는지 확인\n",
    "        elif check_cross(c, d, place) == 0:\n",
    "            return 0\n",
    "    return 1\n",
    "\n",
    "def solution(places):\n",
    "    answer = []\n",
    "    for place in places:\n",
    "        y = check_distance(place)\n",
    "        answer.append(y)\n",
    "    return answer"
   ]
  },
  {
   "cell_type": "code",
   "execution_count": 307,
   "metadata": {
    "execution": {
     "iopub.execute_input": "2021-07-23T03:23:34.841211Z",
     "iopub.status.busy": "2021-07-23T03:23:34.841029Z",
     "iopub.status.idle": "2021-07-23T03:23:34.846006Z",
     "shell.execute_reply": "2021-07-23T03:23:34.845436Z",
     "shell.execute_reply.started": "2021-07-23T03:23:34.841192Z"
    }
   },
   "outputs": [
    {
     "data": {
      "text/plain": [
       "[1, 0, 1, 1, 1]"
      ]
     },
     "execution_count": 307,
     "metadata": {},
     "output_type": "execute_result"
    }
   ],
   "source": [
    "places = [[\"POOOP\", \"OXXOX\", \"OPXPX\", \"OOXOX\", \"POXXP\"], \n",
    "          [\"POOPX\", \"OXPXP\", \"PXXXO\", \"OXXXO\", \"OOOPP\"], \n",
    "          [\"PXOPX\", \"OXOXP\", \"OXPOX\", \"OXXOP\", \"PXPOX\"], \n",
    "          [\"OOOXX\", \"XOOOX\", \"OOOXX\", \"OXOOX\", \"OOOOO\"], \n",
    "          [\"PXPXP\", \"XPXPX\", \"PXPXP\", \"XPXPX\", \"PXPXP\"]]\n",
    "solution(places)"
   ]
  },
  {
   "cell_type": "code",
   "execution_count": 308,
   "metadata": {
    "execution": {
     "iopub.execute_input": "2021-07-23T03:23:35.368393Z",
     "iopub.status.busy": "2021-07-23T03:23:35.368207Z",
     "iopub.status.idle": "2021-07-23T03:23:35.372000Z",
     "shell.execute_reply": "2021-07-23T03:23:35.371467Z",
     "shell.execute_reply.started": "2021-07-23T03:23:35.368373Z"
    }
   },
   "outputs": [
    {
     "data": {
      "text/plain": [
       "[1]"
      ]
     },
     "execution_count": 308,
     "metadata": {},
     "output_type": "execute_result"
    }
   ],
   "source": [
    "places = [[\"OXPOO\", \"OPXOO\", \"OOOOO\", \"OOOOO\", \"OOOOO\"]]\n",
    "solution(places)"
   ]
  },
  {
   "cell_type": "code",
   "execution_count": 309,
   "metadata": {
    "execution": {
     "iopub.execute_input": "2021-07-23T03:23:35.697561Z",
     "iopub.status.busy": "2021-07-23T03:23:35.697381Z",
     "iopub.status.idle": "2021-07-23T03:23:35.700659Z",
     "shell.execute_reply": "2021-07-23T03:23:35.700223Z",
     "shell.execute_reply.started": "2021-07-23T03:23:35.697541Z"
    }
   },
   "outputs": [
    {
     "data": {
      "text/plain": [
       "[1]"
      ]
     },
     "execution_count": 309,
     "metadata": {},
     "output_type": "execute_result"
    }
   ],
   "source": [
    "places = [[\"OOOOO\", \"OOOOO\", \"OOOOO\", \"OOOOO\", \"OOOOO\"]]\n",
    "solution(places)"
   ]
  },
  {
   "cell_type": "code",
   "execution_count": 310,
   "metadata": {
    "execution": {
     "iopub.execute_input": "2021-07-23T03:23:35.947834Z",
     "iopub.status.busy": "2021-07-23T03:23:35.947641Z",
     "iopub.status.idle": "2021-07-23T03:23:35.951214Z",
     "shell.execute_reply": "2021-07-23T03:23:35.950756Z",
     "shell.execute_reply.started": "2021-07-23T03:23:35.947812Z"
    }
   },
   "outputs": [
    {
     "data": {
      "text/plain": [
       "[0]"
      ]
     },
     "execution_count": 310,
     "metadata": {},
     "output_type": "execute_result"
    }
   ],
   "source": [
    "places = [[\"OPPOO\", \"OOOOO\", \"OOOOO\", \"OOOOO\", \"OOOOO\"]]\n",
    "solution(places)"
   ]
  },
  {
   "cell_type": "code",
   "execution_count": 311,
   "metadata": {
    "execution": {
     "iopub.execute_input": "2021-07-23T03:23:36.144092Z",
     "iopub.status.busy": "2021-07-23T03:23:36.143839Z",
     "iopub.status.idle": "2021-07-23T03:23:36.148620Z",
     "shell.execute_reply": "2021-07-23T03:23:36.147949Z",
     "shell.execute_reply.started": "2021-07-23T03:23:36.144020Z"
    }
   },
   "outputs": [
    {
     "data": {
      "text/plain": [
       "[0]"
      ]
     },
     "execution_count": 311,
     "metadata": {},
     "output_type": "execute_result"
    }
   ],
   "source": [
    "places = [[\"OPOPO\", \"OOOOO\", \"OOOOO\", \"OOOOO\", \"OOOOO\"]]\n",
    "solution(places)"
   ]
  },
  {
   "cell_type": "code",
   "execution_count": 312,
   "metadata": {
    "execution": {
     "iopub.execute_input": "2021-07-23T03:23:36.352808Z",
     "iopub.status.busy": "2021-07-23T03:23:36.352581Z",
     "iopub.status.idle": "2021-07-23T03:23:36.356881Z",
     "shell.execute_reply": "2021-07-23T03:23:36.356380Z",
     "shell.execute_reply.started": "2021-07-23T03:23:36.352781Z"
    }
   },
   "outputs": [
    {
     "data": {
      "text/plain": [
       "[0]"
      ]
     },
     "execution_count": 312,
     "metadata": {},
     "output_type": "execute_result"
    }
   ],
   "source": [
    "places = [[\"OOPOO\", \"OPOOO\", \"OOOOO\", \"OOOOO\", \"OOOOO\"]]\n",
    "solution(places)"
   ]
  }
 ],
 "metadata": {
  "kernelspec": {
   "display_name": "Python 3",
   "language": "python",
   "name": "python3"
  },
  "language_info": {
   "codemirror_mode": {
    "name": "ipython",
    "version": 3
   },
   "file_extension": ".py",
   "mimetype": "text/x-python",
   "name": "python",
   "nbconvert_exporter": "python",
   "pygments_lexer": "ipython3",
   "version": "3.8.3"
  }
 },
 "nbformat": 4,
 "nbformat_minor": 4
}
