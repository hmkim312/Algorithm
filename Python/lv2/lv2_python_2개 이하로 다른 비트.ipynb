{
 "cells": [
  {
   "cell_type": "markdown",
   "metadata": {},
   "source": [
    "URL : <https://programmers.co.kr/learn/courses/30/lessons/77885>{:target=\"_blank\"}\n",
    "\n",
    "### 문제 설명\n",
    "- 양의 정수 x에 대한 함수 f(x)를 다음과 같이 정의합니다.\n",
    "- x보다 크고 x와 비트가 1~2개 다른 수들 중에서 제일 작은 수\n",
    "- 예를 들어,\n",
    "- f(2) = 3 입니다. 다음 표와 같이 2보다 큰 수들 중에서 비트가 다른 지점이 2개 이하이면서 제일 작은 수가 3이기 때문입니다.\n",
    "|수|비트|다른 비트의 개수|\n",
    "|---|---|---|\n",
    "|2|000...0010||\n",
    "|3|000...0011|1|\n",
    "\n",
    "- f(7) = 11 입니다. 다음 표와 같이 7보다 큰 수들 중에서 비트가 다른 지점이 2개 이하이면서 제일 작은 수가 11이기 때문입니다.\n",
    "\n",
    "|수|비트|다른 비트의 개수|\n",
    "|---|---|---|\n",
    "|7|000...0111|\n",
    "|8|000...1000|4|\n",
    "|9|000...1001|3|\n",
    "|10|000...1010|3|\n",
    "|11|000...1011|2|\n",
    "\n",
    "- 정수들이 담긴 배열 numbers가 매개변수로 주어집니다. numbers의 모든 수들에 대하여 각 수의 f 값을 배열에 차례대로 담아 return 하도록 solution 함수를 완성해주세요.\n",
    "\n",
    "### 제한 사항\n",
    "- 1 ≤ numbers의 길이 ≤ 100,000\n",
    "- 0 ≤ numbers의 모든 수 ≤ 1015\n",
    "\n",
    "### 문제 풀이\n",
    "- 1) 일단 10진수를 2진수로 변환한다면 짝수라면 맨뒤가 무조건 0으로 끝난다. 그리고 그 수보다 1이 더 큰수라면 마지막 0이 1로 바뀌기 떄문에 numbers가 짝수라면 무조건 +1을 해주면 된다. (다른 위치는 1개)\n",
    "- 2) 문제는 홀수인데 맨 끝에서 0을 1로 바뀌고 그 다음의 위치의 1을 0으로 바꾸면 2개의 위치가 다른 2진법이 완성되고 이를 다시 10진법으로 변환시키면 된다.\n",
    "    - 해당 팁은 프로그래머스 질문하기에서 찾을수 있었다.\n",
    "- 3) solution 함수 : \n",
    "    - numbers의 요소 number가 짝수라면 answer list에 +1을 해서 append해주는 방식으로 했다.\n",
    "    - number가 홀수라면 format함수를 이용해서 2진법으로 변환하여 temp 변수에 선언해준다. \n",
    "        - 만일 temp에 0이 없다면 맨 앞에 0을 더 해주었다. (conver_odd에서 맨 뒤의 0을 1로 바꿔야 하기때문)\n",
    "- 4) conver_odd 함수:\n",
    "    - 2진법으로 변환된 temp를 파라미터로 받는다.\n",
    "    - temp의 제일 뒤에있는 0을 찾기위해 temp의 역순으로 list형태로 변환시킨다.\n",
    "    - list로 바꾸는 이유는 str 형태 일때는 0을 1로 바꾸는 요소변환이 안되서 이다. (replace를 사용하면 가능하긴 하나, 하나씩 0을 1로 1을 0으로 바꾸는건 쉽지않음)\n",
    "    - ls_temp를 for문을 돌면서 원소가 1이라면 idx를 1씩 더하고 만일 0이라면 중단한다.\n",
    "    - 이후 ls_temp의 index를 사용하여 0인 위치는 1로 변환하고 그보다 한칸 앞을 0으로 변환한다.\n",
    "    - ls_temp는 처음에 역순으로 저장한것이기 떄문에 다시 역순으로 변환하며 int를 사용하여 2진법을 10진법으로 변환한 값을 리턴한다.\n",
    "- 5) 홀수는 위의 conver_odd 함수를 적용한 10진법을 answer에 저장후 최종 answer list를 리턴한다."
   ]
  },
  {
   "cell_type": "code",
   "execution_count": 176,
   "metadata": {
    "execution": {
     "iopub.execute_input": "2021-10-07T01:40:42.372593Z",
     "iopub.status.busy": "2021-10-07T01:40:42.372372Z",
     "iopub.status.idle": "2021-10-07T01:40:42.378878Z",
     "shell.execute_reply": "2021-10-07T01:40:42.378194Z",
     "shell.execute_reply.started": "2021-10-07T01:40:42.372569Z"
    }
   },
   "outputs": [],
   "source": [
    "# 홀수일때 0과 1의 위치를 바꿔주는 함수\n",
    "def convert_odd(temp):\n",
    "    ls_temp = list(temp[::-1])\n",
    "    idx = 0\n",
    "    for i in ls_temp:\n",
    "        if i == '1':\n",
    "            idx += 1\n",
    "        else :\n",
    "            break\n",
    "\n",
    "    ls_temp[idx] = '1'\n",
    "    ls_temp[idx-1] = '0'\n",
    "    return int(''.join(ls_temp)[::-1], 2)\n",
    "\n",
    "def solution(numbers):\n",
    "    answer=[]\n",
    "    for number in numbers:\n",
    "        if number % 2 == 0:\n",
    "            answer.append(number+1)\n",
    "        else:\n",
    "            temp = format(number, 'b')\n",
    "            if '0' not in temp:\n",
    "                temp = '0' + temp\n",
    "            temp = convert_odd(temp)\n",
    "            answer.append(temp)\n",
    "    return answer"
   ]
  },
  {
   "cell_type": "code",
   "execution_count": 192,
   "metadata": {
    "execution": {
     "iopub.execute_input": "2021-10-07T01:43:40.438454Z",
     "iopub.status.busy": "2021-10-07T01:43:40.438246Z",
     "iopub.status.idle": "2021-10-07T01:43:40.442647Z",
     "shell.execute_reply": "2021-10-07T01:43:40.441992Z",
     "shell.execute_reply.started": "2021-10-07T01:43:40.438431Z"
    }
   },
   "outputs": [
    {
     "data": {
      "text/plain": [
       "[3, 11]"
      ]
     },
     "execution_count": 192,
     "metadata": {},
     "output_type": "execute_result"
    }
   ],
   "source": [
    "numbers = [2,7]\n",
    "solution(numbers)"
   ]
  },
  {
   "cell_type": "code",
   "execution_count": 194,
   "metadata": {
    "execution": {
     "iopub.execute_input": "2021-10-07T01:57:59.167096Z",
     "iopub.status.busy": "2021-10-07T01:57:59.166829Z",
     "iopub.status.idle": "2021-10-07T01:57:59.173957Z",
     "shell.execute_reply": "2021-10-07T01:57:59.173050Z",
     "shell.execute_reply.started": "2021-10-07T01:57:59.167051Z"
    }
   },
   "outputs": [
    {
     "data": {
      "text/plain": [
       "[1002,\n",
       " 338,\n",
       " 1,\n",
       " 2,\n",
       " 334,\n",
       " 674,\n",
       " 347,\n",
       " 222,\n",
       " 899,\n",
       " 998,\n",
       " 122,\n",
       " 1019,\n",
       " 666,\n",
       " 781,\n",
       " 893,\n",
       " 422,\n",
       " 223,\n",
       " 257,\n",
       " 513,\n",
       " 129,\n",
       " 101]"
      ]
     },
     "execution_count": 194,
     "metadata": {},
     "output_type": "execute_result"
    }
   ],
   "source": [
    "# 추가 테스트 케이스\n",
    "numbers = [1001, 337, 0, 1, 333, 673, 343, 221, 898, 997, 121, 1015, 665, 779, 891,421,222,256,512,128,100]\n",
    "solution(numbers)"
   ]
  },
  {
   "cell_type": "code",
   "execution_count": null,
   "metadata": {},
   "outputs": [],
   "source": []
  }
 ],
 "metadata": {
  "kernelspec": {
   "display_name": "Python 3",
   "language": "python",
   "name": "python3"
  },
  "language_info": {
   "codemirror_mode": {
    "name": "ipython",
    "version": 3
   },
   "file_extension": ".py",
   "mimetype": "text/x-python",
   "name": "python",
   "nbconvert_exporter": "python",
   "pygments_lexer": "ipython3",
   "version": "3.8.3"
  }
 },
 "nbformat": 4,
 "nbformat_minor": 4
}
