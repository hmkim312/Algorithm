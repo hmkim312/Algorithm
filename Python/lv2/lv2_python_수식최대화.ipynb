{
 "cells": [
  {
   "cell_type": "markdown",
   "metadata": {},
   "source": [
    "URL : <https://programmers.co.kr/learn/courses/30/lessons/67257>{:target=\"_blank\"}\n",
    "\n",
    "#### 문제 설명\n",
    "- IT 벤처 회사를 운영하고 있는 라이언은 매년 사내 해커톤 대회를 개최하여 우승자에게 상금을 지급하고 있습니다.\n",
    "- 이번 대회에서는 우승자에게 지급되는 상금을 이전 대회와는 다르게 다음과 같은 방식으로 결정하려고 합니다.\n",
    "- 해커톤 대회에 참가하는 모든 참가자들에게는 숫자들과 3가지의 연산문자(\\+, \\-, \\*) 만으로 이루어진 연산 수식이 전달되며, 참가자의 미션은 전달받은 수식에 포함된 연산자의 우선순위를 자유롭게 재정의하여 만들 수 있는 가장 큰 숫자를 제출하는 것입니다.\n",
    "- 단, 연산자의 우선순위를 새로 정의할 때, 같은 순위의 연산자는 없어야 합니다. 즉, + > - > * 또는 - > * > + 등과 같이 연산자 우선순위를 정의할 수 있으나 +,* > - 또는 * > +,-처럼 2개 이상의 연산자가 동일한 순위를 가지도록 연산자 우선순위를 정의할 수는 없습니다. 수식에 포함된 연산자가 2개라면 정의할 수 있는 연산자 우선순위 조합은 2! = 2가지이며, 연산자가 3개라면 3! = 6가지 조합이 가능합니다.\n",
    "- 만약 계산된 결과가 음수라면 해당 숫자의 절댓값으로 변환하여 제출하며 제출한 숫자가 가장 큰 참가자를 우승자로 선정하며, 우승자가 제출한 숫자를 우승상금으로 지급하게 됩니다.\n",
    "- 예를 들어, 참가자 중 네오가 아래와 같은 수식을 전달받았다고 가정합니다.\n",
    "- \"100-200*300-500+20\"\n",
    "- 일반적으로 수학 및 전산학에서 약속된 연산자 우선순위에 따르면 더하기와 빼기는 서로 동등하며 곱하기는 더하기, 빼기에 비해 우선순위가 높아 * > +,- 로 우선순위가 정의되어 있습니다.\n",
    "- 대회 규칙에 따라 + > - > * 또는 - > * > + 등과 같이 연산자 우선순위를 정의할 수 있으나 +,* > - 또는 * > +,- 처럼 2개 이상의 연산자가 동일한 순위를 가지도록 연산자 우선순위를 정의할 수는 없습니다.\n",
    "- 수식에 연산자가 3개 주어졌으므로 가능한 연산자 우선순위 조합은 3! = 6가지이며, 그 중 + > - > * 로 연산자 우선순위를 정한다면 결괏값은 22,000원이 됩니다.\n",
    "- 반면에 * > + > - 로 연산자 우선순위를 정한다면 수식의 결괏값은 -60,420 이지만, 규칙에 따라 우승 시 상금은 절댓값인 60,420원이 됩니다.\n",
    "- 참가자에게 주어진 연산 수식이 담긴 문자열 expression이 매개변수로 주어질 때, 우승 시 받을 수 있는 가장 큰 상금 금액을 return 하도록 solution 함수를 완성해주세요.\n",
    "\n",
    "#### 제한사항\n",
    "- expression은 길이가 3 이상 100 이하인 문자열입니다.\n",
    "- expression은 공백문자, 괄호문자 없이 오로지 숫자와 3가지의 연산자(+, -, *) 만으로 이루어진 올바른 중위표기법(연산의 두 대상 사이에 연산기호를 사용하는 방식)으로 표현된 연산식입니다. 잘못된 연산식은 입력으로 주어지지 않습니다.\n",
    "- 즉, \"402+-561*\"처럼 잘못된 수식은 올바른 중위표기법이 아니므로 주어지지 않습니다.\n",
    "- expression의 피연산자(operand)는 0 이상 999 이하의 숫자입니다.\n",
    "- 즉, \"100-2145*458+12\"처럼 999를 초과하는 피연산자가 포함된 수식은 입력으로 주어지지 않습니다.\n",
    "- \"-56+100\"처럼 피연산자가 음수인 수식도 입력으로 주어지지 않습니다.\n",
    "- expression은 적어도 1개 이상의 연산자를 포함하고 있습니다.\n",
    "- 연산자 우선순위를 어떻게 적용하더라도, expression의 중간 계산값과 최종 결괏값은 절댓값이 263 - 1 이하가 되도록 입력이 주어집니다.\n",
    "- 같은 연산자끼리는 앞에 있는 것의 우선순위가 더 높습니다.\n",
    "\n",
    "#### 문제풀이\n",
    "- expression의 숫자와 연산자를 우선순위에 맞게 for문을 돌면서 계산합니다.\n",
    "- 주어진 expression에서 숫자와 연산자만 나눕니다.\n",
    "- 연산자에서 경우의 수를 계산합니다.\n",
    "- 경우의 수 조합만큼 for문을 돌립니다.\n",
    "- 아래의 코드를 참조하세요."
   ]
  },
  {
   "cell_type": "code",
   "execution_count": 1,
   "metadata": {
    "execution": {
     "iopub.execute_input": "2021-04-20T03:02:13.235871Z",
     "iopub.status.busy": "2021-04-20T03:02:13.235646Z",
     "iopub.status.idle": "2021-04-20T03:02:13.266525Z",
     "shell.execute_reply": "2021-04-20T03:02:13.265911Z",
     "shell.execute_reply.started": "2021-04-20T03:02:13.235847Z"
    }
   },
   "outputs": [],
   "source": [
    "import itertools\n",
    "\n",
    "# 계산기\n",
    "def calculator(num1, num2, operator):\n",
    "    if operator == '*':\n",
    "        return num1 * num2\n",
    "    elif operator == '-':\n",
    "        return num1 - num2\n",
    "    else:\n",
    "        return num1 + num2\n",
    "\n",
    "def solution(expression):\n",
    "\n",
    "    # 연산자 모음\n",
    "    operators = [temp for temp in expression if not temp.isdecimal()]\n",
    "\n",
    "    # 숫자 모음\n",
    "    temp = expression.replace('*', ' ').replace('-', ' ').replace('+', ' ').split()\n",
    "    nums = [int(num) for num in temp]\n",
    "    del temp\n",
    "    \n",
    "    # 경우의 수 모음\n",
    "    comps = list(itertools.permutations(operators, len(operators)))\n",
    "\n",
    "\n",
    "    # 정답이 저장될 answer\n",
    "    answer = 0\n",
    "\n",
    "    # 경우의 수 조합에서 계산, 조합만큼 for문이 돌아갈것 (max 6번)\n",
    "    for comp in comps:\n",
    "        comp = list(comp)\n",
    "\n",
    "        # 계산할 nums을 nums로 초기셋팅, \n",
    "        calc_nums = nums\n",
    "\n",
    "        # 연산해야할 연산자를 연산자모음으로 초기 셋팅\n",
    "        calc_operators = operators\n",
    "\n",
    "        # 경우의 수에서 우선의 연산자들 순서대로 계산\n",
    "        for i in comp:\n",
    "            \n",
    "            # 우선 연산자들이 계산될 results를 설정\n",
    "            results = []\n",
    "            # 연산자 모음을 저장할 results operator를 설정\n",
    "            results_operator = []\n",
    "            # results에 가장 첫 숫자 저장\n",
    "            results.append(calc_nums[0])\n",
    "\n",
    "            # 계산해야할 연산자를 results operator에 저장하고, 해당 순서인지 확인\n",
    "            for idx, operator in enumerate(calc_operators):\n",
    "                results_operator.append(operator)\n",
    "                results.append(calc_nums[idx + 1])\n",
    "\n",
    "                # results operator에서 나온 연산자가 지금 우선순위에 맞는 연산자라면 results의 마지막과 그 앞에 것을 계산함\n",
    "                if results_operator[-1] == i:\n",
    "                    num2 = results.pop(-1) # 맨 뒤\n",
    "                    num1 = results.pop(-1) # 그 앞\n",
    "                    results_operator.pop(-1) # 맨 뒤의 연산자\n",
    "                    results.append(calculator(num1, num2, operator))\n",
    "\n",
    "            # calc_num과 calcs_operators를 계산된 상태로 업데이트.\n",
    "            calc_nums = results\n",
    "            calc_operators = results_operator\n",
    "\n",
    "        # 이전 answer와 이번에 계산한 answer중에 더 큰값을 answer로 저장\n",
    "        answer = max(answer, abs(results[0]))\n",
    "    # 모든 계산이 끝난 answer 리턴\n",
    "    return answer"
   ]
  },
  {
   "cell_type": "code",
   "execution_count": 2,
   "metadata": {
    "execution": {
     "iopub.execute_input": "2021-04-20T03:02:13.972491Z",
     "iopub.status.busy": "2021-04-20T03:02:13.972279Z",
     "iopub.status.idle": "2021-04-20T03:02:13.981369Z",
     "shell.execute_reply": "2021-04-20T03:02:13.980742Z",
     "shell.execute_reply.started": "2021-04-20T03:02:13.972469Z"
    }
   },
   "outputs": [
    {
     "data": {
      "text/plain": [
       "60420"
      ]
     },
     "execution_count": 2,
     "metadata": {},
     "output_type": "execute_result"
    }
   ],
   "source": [
    "expression = '100-200*300-500+20'\n",
    "solution(expression)"
   ]
  },
  {
   "cell_type": "code",
   "execution_count": 3,
   "metadata": {
    "execution": {
     "iopub.execute_input": "2021-04-20T03:02:14.216789Z",
     "iopub.status.busy": "2021-04-20T03:02:14.216561Z",
     "iopub.status.idle": "2021-04-20T03:02:14.220371Z",
     "shell.execute_reply": "2021-04-20T03:02:14.219815Z",
     "shell.execute_reply.started": "2021-04-20T03:02:14.216766Z"
    }
   },
   "outputs": [
    {
     "data": {
      "text/plain": [
       "300"
      ]
     },
     "execution_count": 3,
     "metadata": {},
     "output_type": "execute_result"
    }
   ],
   "source": [
    "expression = \"50*6-3*2\"\n",
    "solution(expression)"
   ]
  },
  {
   "cell_type": "code",
   "execution_count": null,
   "metadata": {},
   "outputs": [],
   "source": []
  }
 ],
 "metadata": {
  "kernelspec": {
   "display_name": "Python 3",
   "language": "python",
   "name": "python3"
  },
  "language_info": {
   "codemirror_mode": {
    "name": "ipython",
    "version": 3
   },
   "file_extension": ".py",
   "mimetype": "text/x-python",
   "name": "python",
   "nbconvert_exporter": "python",
   "pygments_lexer": "ipython3",
   "version": "3.8.3"
  }
 },
 "nbformat": 4,
 "nbformat_minor": 4
}
