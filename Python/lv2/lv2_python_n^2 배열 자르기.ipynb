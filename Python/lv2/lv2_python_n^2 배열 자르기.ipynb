{
 "cells": [
  {
   "cell_type": "markdown",
   "metadata": {},
   "source": [
    "URL : <https://programmers.co.kr/learn/courses/30/lessons/87390>{:target=\"_blank\"}\n",
    "\n",
    "### 문제 설명\n",
    "- 정수 n, left, right가 주어집니다. 다음 과정을 거쳐서 1차원 배열을 만들고자 합니다.\n",
    "- n행 n열 크기의 비어있는 2차원 배열을 만듭니다.\n",
    "    - i = 1, 2, 3, ..., n에 대해서, 다음 과정을 반복합니다.\n",
    "    - 1행 1열부터 i행 i열까지의 영역 내의 모든 빈 칸을 숫자 i로 채웁니다.\n",
    "    - 1행, 2행, ..., n행을 잘라내어 모두 이어붙인 새로운 1차원 배열을 만듭니다.\n",
    "- 새로운 1차원 배열을 arr이라 할 때, arr[left], arr[left+1], ..., arr[right]만 남기고 나머지는 지웁니다.\n",
    "- 정수 n, left, right가 매개변수로 주어집니다. 주어진 과정대로 만들어진 1차원 배열을 return 하도록 solution 함수를 완성해주세요.\n",
    "\n",
    "### 제한 사항\n",
    "- 1 ≤ n ≤ 107\n",
    "- 0 ≤ left ≤ right < n2\n",
    "- right - left < 105\n",
    "\n",
    "### 문제 풀이\n",
    "#### 1) 전체 배열을 만든뒤 left와 right의 범위 값을 index하는 방식\n",
    "- 문제에서 말한것처럼 처음 1차원 배열을 만들고, 1차원 배열에서 +1씩 하는 코드를 작성하였다.\n",
    "- 하지만 input의 길이가 너무길어서 위의 solution은 시간 초과가 된다.\n",
    "\n",
    "\n",
    "#### 2) 좌표의 규칙을 이용한 정답\n",
    "\n",
    "||col1|col2|col3|\n",
    "|---|---|---|---|\n",
    "|row1|1|2|3|\n",
    "|row2|2|2|3|\n",
    "|row3|3|3|3|\n",
    "\n",
    "- 1 2 3으로 만드는 행렬을 보게 되면 각 좌표(row, col)에 해당되는 값이 좌표의 max값 +1인걸 알수있다.\n",
    "- (1,0)의 값은 max 1의 + 1인 2로 되고, (2,2)의 값은 max 2의 + 1인 3이 된다. \n",
    "- 그럼 left와 right의 값을 각 좌표로 치환을 하고, 해당 좌표의 max + 1을 하게된다면 굳이 모든 배열을 만들지 않아도 결과값을 볼수 있다.\n",
    "- 해당 좌표값은 python의 divmod를 활용하여 주어진 n을 left와 right의 범위 x로 나누면 몫은 row, 나머지는 col로 나오게 된다.\n",
    "    - 4 * 4 (n=4)의 정방행렬에서 x=7인 좌표를 구하자면 divmod(7, 4)를 사용하여 좌표값 (1,3)을 구하게 되고, 해당 위치의 값은 max(1,3) + 1 인 4가 된다.\n",
    "- 위의 방법을 left와 right의 범위만큼 (python의 range는 설정 범위의 하나 아래까지 보이니 right는 +1를 해줘야함) 값을 구하면 된다.\n"
   ]
  },
  {
   "cell_type": "code",
   "execution_count": 172,
   "metadata": {
    "execution": {
     "iopub.execute_input": "2021-10-18T00:46:29.592864Z",
     "iopub.status.busy": "2021-10-18T00:46:29.592635Z",
     "iopub.status.idle": "2021-10-18T00:46:29.597731Z",
     "shell.execute_reply": "2021-10-18T00:46:29.597040Z",
     "shell.execute_reply.started": "2021-10-18T00:46:29.592839Z"
    }
   },
   "outputs": [],
   "source": [
    "# 시간초과\n",
    "\n",
    "def plusone(x):\n",
    "     return x + 1\n",
    "\n",
    "def solution(n, left, right):\n",
    "    arrs = []\n",
    "    arr = [i for i in range(1, n +1)]\n",
    "    arrs.extend(arr)\n",
    "        \n",
    "    \n",
    "    for j in range(1,n):\n",
    "        arr[:j] = list(map(plusone ,arr[:j]))\n",
    "        arrs.extend(arr)\n",
    "    \n",
    "    return arrs[left:right+1]"
   ]
  },
  {
   "cell_type": "code",
   "execution_count": 173,
   "metadata": {
    "execution": {
     "iopub.execute_input": "2021-10-18T00:46:30.336545Z",
     "iopub.status.busy": "2021-10-18T00:46:30.336329Z",
     "iopub.status.idle": "2021-10-18T00:46:30.340519Z",
     "shell.execute_reply": "2021-10-18T00:46:30.339942Z",
     "shell.execute_reply.started": "2021-10-18T00:46:30.336522Z"
    }
   },
   "outputs": [
    {
     "data": {
      "text/plain": [
       "[3, 2, 2, 3]"
      ]
     },
     "execution_count": 173,
     "metadata": {},
     "output_type": "execute_result"
    }
   ],
   "source": [
    "n = 3\n",
    "left = 2\n",
    "right = 5\n",
    "solution(n, left, right)"
   ]
  },
  {
   "cell_type": "code",
   "execution_count": 174,
   "metadata": {
    "execution": {
     "iopub.execute_input": "2021-10-18T00:46:30.501332Z",
     "iopub.status.busy": "2021-10-18T00:46:30.501120Z",
     "iopub.status.idle": "2021-10-18T00:46:30.505281Z",
     "shell.execute_reply": "2021-10-18T00:46:30.504708Z",
     "shell.execute_reply.started": "2021-10-18T00:46:30.501309Z"
    }
   },
   "outputs": [
    {
     "data": {
      "text/plain": [
       "[4, 3, 3, 3, 4, 4, 4, 4]"
      ]
     },
     "execution_count": 174,
     "metadata": {},
     "output_type": "execute_result"
    }
   ],
   "source": [
    "n = 4\n",
    "left = 7\n",
    "right = 14\n",
    "solution(n, left, right)"
   ]
  },
  {
   "cell_type": "code",
   "execution_count": 198,
   "metadata": {
    "execution": {
     "iopub.execute_input": "2021-10-18T02:46:56.930259Z",
     "iopub.status.busy": "2021-10-18T02:46:56.930031Z",
     "iopub.status.idle": "2021-10-18T02:46:56.934056Z",
     "shell.execute_reply": "2021-10-18T02:46:56.933387Z",
     "shell.execute_reply.started": "2021-10-18T02:46:56.930235Z"
    }
   },
   "outputs": [],
   "source": [
    "# 좌표로 생각\n",
    "\n",
    "def solution(n, left, right):\n",
    "    results = []\n",
    "    for x in range(left, right+1):\n",
    "        results.append(max(divmod(x, n)) + 1)\n",
    "    return results"
   ]
  },
  {
   "cell_type": "code",
   "execution_count": 199,
   "metadata": {
    "execution": {
     "iopub.execute_input": "2021-10-18T02:46:57.068069Z",
     "iopub.status.busy": "2021-10-18T02:46:57.067815Z",
     "iopub.status.idle": "2021-10-18T02:46:57.072008Z",
     "shell.execute_reply": "2021-10-18T02:46:57.071279Z",
     "shell.execute_reply.started": "2021-10-18T02:46:57.068040Z"
    }
   },
   "outputs": [
    {
     "data": {
      "text/plain": [
       "(1, 3)"
      ]
     },
     "execution_count": 199,
     "metadata": {},
     "output_type": "execute_result"
    }
   ],
   "source": [
    "divmod(7,4)"
   ]
  },
  {
   "cell_type": "code",
   "execution_count": 200,
   "metadata": {
    "execution": {
     "iopub.execute_input": "2021-10-18T02:46:57.247752Z",
     "iopub.status.busy": "2021-10-18T02:46:57.247543Z",
     "iopub.status.idle": "2021-10-18T02:46:57.251418Z",
     "shell.execute_reply": "2021-10-18T02:46:57.250962Z",
     "shell.execute_reply.started": "2021-10-18T02:46:57.247720Z"
    }
   },
   "outputs": [
    {
     "data": {
      "text/plain": [
       "[3, 2, 2, 3]"
      ]
     },
     "execution_count": 200,
     "metadata": {},
     "output_type": "execute_result"
    }
   ],
   "source": [
    "n = 3\n",
    "left = 2\n",
    "right = 5\n",
    "solution(n, left, right)"
   ]
  },
  {
   "cell_type": "code",
   "execution_count": 201,
   "metadata": {
    "execution": {
     "iopub.execute_input": "2021-10-18T02:46:57.478239Z",
     "iopub.status.busy": "2021-10-18T02:46:57.478020Z",
     "iopub.status.idle": "2021-10-18T02:46:57.482627Z",
     "shell.execute_reply": "2021-10-18T02:46:57.482000Z",
     "shell.execute_reply.started": "2021-10-18T02:46:57.478215Z"
    }
   },
   "outputs": [
    {
     "data": {
      "text/plain": [
       "[4, 3, 3, 3, 4, 4, 4, 4]"
      ]
     },
     "execution_count": 201,
     "metadata": {},
     "output_type": "execute_result"
    }
   ],
   "source": [
    "n = 4\n",
    "left = 7\n",
    "right = 14\n",
    "solution(n, left, right)"
   ]
  }
 ],
 "metadata": {
  "kernelspec": {
   "display_name": "Python 3",
   "language": "python",
   "name": "python3"
  },
  "language_info": {
   "codemirror_mode": {
    "name": "ipython",
    "version": 3
   },
   "file_extension": ".py",
   "mimetype": "text/x-python",
   "name": "python",
   "nbconvert_exporter": "python",
   "pygments_lexer": "ipython3",
   "version": "3.8.3"
  }
 },
 "nbformat": 4,
 "nbformat_minor": 4
}
