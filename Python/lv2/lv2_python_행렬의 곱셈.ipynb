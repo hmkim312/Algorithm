{
 "cells": [
  {
   "cell_type": "markdown",
   "metadata": {
    "execution": {
     "iopub.execute_input": "2021-03-29T05:06:11.695795Z",
     "iopub.status.busy": "2021-03-29T05:06:11.695583Z",
     "iopub.status.idle": "2021-03-29T05:06:11.702048Z",
     "shell.execute_reply": "2021-03-29T05:06:11.700963Z",
     "shell.execute_reply.started": "2021-03-29T05:06:11.695772Z"
    }
   },
   "source": []
  },
  {
   "cell_type": "markdown",
   "metadata": {},
   "source": [
    "URL <https://programmers.co.kr/learn/courses/30/lessons/12949>{:target=\"_blank\"}\n",
    "\n",
    "\n",
    "#### 문제 설명\n",
    "- 2차원 행렬 arr1과 arr2를 입력받아, arr1에 arr2를 곱한 결과를 반환하는 함수, solution을 완성해주세요.\n",
    "\n",
    "#### 제한 조건\n",
    "- 행렬 arr1, arr2의 행과 열의 길이는 2 이상 100 이하입니다.\n",
    "- 행렬 arr1, arr2의 원소는 -10 이상 20 이하인 자연수입니다.\n",
    "- 곱할 수 있는 배열만 주어집니다.\n",
    "\n",
    "#### 문제 풀이\n",
    "\n",
    "- 행렬의 곱셈은\n",
    "\n",
    "\\begin{align}\n",
    "\\begin{bmatrix}\n",
    "a11 & a12\\\\\n",
    "a21 & a22\\\\\n",
    "a31 & a32\\\\\n",
    "\\end{bmatrix}\n",
    "*\n",
    "\\begin{bmatrix}\n",
    "b11 & b12\\\\\n",
    "b21 & b22\\\\\n",
    "\\end{bmatrix}\n",
    "=\n",
    "\\begin{bmatrix}\n",
    "a11 * b11 + a12 * b21 & a11 * b12 + a12 * b22 \\\\\n",
    "a21 * b11 + a21 * b21 & a21 * b12 + a22 * b22 \\\\\n",
    "a31 * b11 + a12 * b21 & a31 * b12 + a32 * b22 \\\\\n",
    "\\end{bmatrix}\n",
    "\\end{align}\n",
    "\n",
    "- 위의 예제는 3 x 2 * 2 x 2 = 3 x 2의 행렬이 생김\n",
    "- arr1의 row가 answer의 row arr2의 col이 answer의 col이 됨\n",
    "- 3중 for문으로 원소의 위치를 잡아서 행렬을 곱하고 answer의 해당 위치에 더하게 함"
   ]
  },
  {
   "cell_type": "code",
   "execution_count": 98,
   "metadata": {
    "execution": {
     "iopub.execute_input": "2021-03-29T05:15:30.155756Z",
     "iopub.status.busy": "2021-03-29T05:15:30.155546Z",
     "iopub.status.idle": "2021-03-29T05:15:30.160800Z",
     "shell.execute_reply": "2021-03-29T05:15:30.160179Z",
     "shell.execute_reply.started": "2021-03-29T05:15:30.155734Z"
    }
   },
   "outputs": [],
   "source": [
    "import numpy as np\n",
    "\n",
    "def solution(arr1, arr2):\n",
    "    \n",
    "    # 곱 매트릭스의 행\n",
    "    row = len(arr1)\n",
    "    \n",
    "    # 곱 매트릭스의 열\n",
    "    col = len(arr2[0])\n",
    "    \n",
    "    # 계산을 위한 \n",
    "    temp = len(arr2)\n",
    "    \n",
    "    # row x col 형태의 매트릭스 생성\n",
    "    answer = np.zeros((row, col))\n",
    "    \n",
    "    for i in range(row):\n",
    "        for j in range(col):\n",
    "            for k in range(temp):\n",
    "                answer[i][j] += arr1[i][k] * arr2[k][j]\n",
    "    return answer.tolist()"
   ]
  },
  {
   "cell_type": "code",
   "execution_count": 100,
   "metadata": {
    "execution": {
     "iopub.execute_input": "2021-03-29T05:15:48.750201Z",
     "iopub.status.busy": "2021-03-29T05:15:48.749984Z",
     "iopub.status.idle": "2021-03-29T05:15:48.755041Z",
     "shell.execute_reply": "2021-03-29T05:15:48.754353Z",
     "shell.execute_reply.started": "2021-03-29T05:15:48.750178Z"
    }
   },
   "outputs": [
    {
     "data": {
      "text/plain": [
       "[[15.0, 15.0], [15.0, 15.0], [15.0, 15.0]]"
      ]
     },
     "execution_count": 100,
     "metadata": {},
     "output_type": "execute_result"
    }
   ],
   "source": [
    "arr1 = [[1, 4], [3, 2], [4, 1]]\n",
    "arr2 = [[3, 3], [3, 3]]\n",
    "solution(arr1, arr2)"
   ]
  },
  {
   "cell_type": "code",
   "execution_count": 99,
   "metadata": {
    "execution": {
     "iopub.execute_input": "2021-03-29T05:15:30.307855Z",
     "iopub.status.busy": "2021-03-29T05:15:30.307651Z",
     "iopub.status.idle": "2021-03-29T05:15:30.312406Z",
     "shell.execute_reply": "2021-03-29T05:15:30.311914Z",
     "shell.execute_reply.started": "2021-03-29T05:15:30.307834Z"
    }
   },
   "outputs": [
    {
     "data": {
      "text/plain": [
       "[[22.0, 22.0, 11.0], [36.0, 28.0, 18.0], [29.0, 20.0, 14.0]]"
      ]
     },
     "execution_count": 99,
     "metadata": {},
     "output_type": "execute_result"
    }
   ],
   "source": [
    "arr1 = [[2, 3, 2], [4, 2, 4], [3, 1, 4]]\n",
    "arr2 = [[5, 4, 3], [2, 4, 1], [3, 1, 1]]\n",
    "solution(arr1, arr2)"
   ]
  }
 ],
 "metadata": {
  "kernelspec": {
   "display_name": "Python 3",
   "language": "python",
   "name": "python3"
  },
  "language_info": {
   "codemirror_mode": {
    "name": "ipython",
    "version": 3
   },
   "file_extension": ".py",
   "mimetype": "text/x-python",
   "name": "python",
   "nbconvert_exporter": "python",
   "pygments_lexer": "ipython3",
   "version": "3.8.3"
  }
 },
 "nbformat": 4,
 "nbformat_minor": 4
}
